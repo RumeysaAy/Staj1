{
 "cells": [
  {
   "cell_type": "markdown",
   "id": "37758f73",
   "metadata": {},
   "source": [
    "# Temel String İşlemleri"
   ]
  },
  {
   "cell_type": "markdown",
   "id": "a7902198",
   "metadata": {},
   "source": [
    "## Oluşturma ve Biçimlendirme"
   ]
  },
  {
   "cell_type": "code",
   "execution_count": 4,
   "id": "30859d96",
   "metadata": {},
   "outputs": [],
   "source": [
    "isim = \"rumeysa\""
   ]
  },
  {
   "cell_type": "code",
   "execution_count": 5,
   "id": "626f9358",
   "metadata": {},
   "outputs": [
    {
     "data": {
      "text/plain": [
       "'rumeysarumeysarumeysa'"
      ]
     },
     "execution_count": 5,
     "metadata": {},
     "output_type": "execute_result"
    }
   ],
   "source": [
    "3*isim"
   ]
  },
  {
   "cell_type": "code",
   "execution_count": 6,
   "id": "d9645562",
   "metadata": {},
   "outputs": [
    {
     "data": {
      "text/plain": [
       "'rumeysaay'"
      ]
     },
     "execution_count": 6,
     "metadata": {},
     "output_type": "execute_result"
    }
   ],
   "source": [
    "isim+\"ay\""
   ]
  },
  {
   "cell_type": "code",
   "execution_count": 7,
   "id": "e5bf9b42",
   "metadata": {},
   "outputs": [
    {
     "data": {
      "text/plain": [
       "'Rumeysa'"
      ]
     },
     "execution_count": 7,
     "metadata": {},
     "output_type": "execute_result"
    }
   ],
   "source": [
    "\"R\" + isim[1:] # 1. indeksten başla"
   ]
  },
  {
   "cell_type": "code",
   "execution_count": null,
   "id": "fd472c6f",
   "metadata": {},
   "outputs": [],
   "source": []
  },
  {
   "cell_type": "code",
   "execution_count": 8,
   "id": "0b2a670a",
   "metadata": {},
   "outputs": [],
   "source": [
    "isimler = [\"ali\",\"ceren\",\"rumeysa\"]"
   ]
  },
  {
   "cell_type": "code",
   "execution_count": 9,
   "id": "cc2879e7",
   "metadata": {},
   "outputs": [
    {
     "name": "stdout",
     "output_type": "stream",
     "text": [
      "İsim: ali\n",
      "İsim: ceren\n",
      "İsim: rumeysa\n"
     ]
    }
   ],
   "source": [
    "# isimleri gezelim\n",
    "for isim in isimler:\n",
    "    print(\"İsim\", isim, sep=\": \") # arada \": \" olacak "
   ]
  },
  {
   "cell_type": "code",
   "execution_count": null,
   "id": "f7bdd10c",
   "metadata": {},
   "outputs": [],
   "source": []
  },
  {
   "cell_type": "code",
   "execution_count": 10,
   "id": "b225e383",
   "metadata": {},
   "outputs": [
    {
     "name": "stdout",
     "output_type": "stream",
     "text": [
      "_ali\n",
      "_ceren\n",
      "_rumeysa\n"
     ]
    }
   ],
   "source": [
    "for isim in isimler:\n",
    "    print(\"_\",isim[0:],sep=\"\")"
   ]
  },
  {
   "cell_type": "code",
   "execution_count": null,
   "id": "c3873330",
   "metadata": {},
   "outputs": [],
   "source": []
  },
  {
   "cell_type": "code",
   "execution_count": 12,
   "id": "7ae7e70e",
   "metadata": {},
   "outputs": [
    {
     "name": "stdout",
     "output_type": "stream",
     "text": [
      "<enumerate object at 0x7fa40985b6c0>\n"
     ]
    }
   ],
   "source": [
    "print(enumerate(isimler))"
   ]
  },
  {
   "cell_type": "code",
   "execution_count": 11,
   "id": "8bdf33f2",
   "metadata": {},
   "outputs": [
    {
     "name": "stdout",
     "output_type": "stream",
     "text": [
      "(0, 'ali') (1, 'ceren') (2, 'rumeysa')\n"
     ]
    }
   ],
   "source": [
    "# * işareti, bir iterable'ın içindeki öğeleri ayrı ayrı işlem yapmak için kullanılır.\n",
    "print(*enumerate(isimler))"
   ]
  },
  {
   "cell_type": "code",
   "execution_count": null,
   "id": "711dc53b",
   "metadata": {},
   "outputs": [],
   "source": []
  },
  {
   "cell_type": "code",
   "execution_count": 15,
   "id": "07d85ea8",
   "metadata": {},
   "outputs": [
    {
     "name": "stdout",
     "output_type": "stream",
     "text": [
      "(0, 'ali')\n",
      "(1, 'ceren')\n",
      "(2, 'rumeysa')\n"
     ]
    }
   ],
   "source": [
    "for isim in enumerate(isimler):\n",
    "    print(isim)"
   ]
  },
  {
   "cell_type": "code",
   "execution_count": 14,
   "id": "44791349",
   "metadata": {},
   "outputs": [
    {
     "name": "stdout",
     "output_type": "stream",
     "text": [
      "0 ali\n",
      "1 ceren\n",
      "2 rumeysa\n"
     ]
    }
   ],
   "source": [
    "for i, isim in enumerate(isimler):\n",
    "    print(i,isim)"
   ]
  },
  {
   "cell_type": "code",
   "execution_count": null,
   "id": "53f18ed5",
   "metadata": {},
   "outputs": [],
   "source": []
  },
  {
   "cell_type": "code",
   "execution_count": 16,
   "id": "9aad9c9f",
   "metadata": {},
   "outputs": [
    {
     "name": "stdout",
     "output_type": "stream",
     "text": [
      "(0, 'r')\n",
      "(1, 'u')\n",
      "(2, 'm')\n",
      "(3, 'e')\n",
      "(4, 'y')\n",
      "(5, 's')\n",
      "(6, 'a')\n"
     ]
    }
   ],
   "source": [
    "for i in enumerate(\"rumeysa\"):\n",
    "    print(i)"
   ]
  },
  {
   "cell_type": "code",
   "execution_count": null,
   "id": "5d54a1bc",
   "metadata": {},
   "outputs": [],
   "source": []
  },
  {
   "cell_type": "code",
   "execution_count": 18,
   "id": "949d6959",
   "metadata": {},
   "outputs": [
    {
     "name": "stdout",
     "output_type": "stream",
     "text": [
      "(17, 'ali')\n",
      "(18, 'ceren')\n",
      "(19, 'rumeysa')\n"
     ]
    }
   ],
   "source": [
    "# numaralandırmayı başka bir sayıdan başlatmak\n",
    "for i in enumerate(isimler,17):\n",
    "    print(i)"
   ]
  },
  {
   "cell_type": "code",
   "execution_count": null,
   "id": "15e36feb",
   "metadata": {},
   "outputs": [],
   "source": []
  },
  {
   "cell_type": "markdown",
   "id": "022546dc",
   "metadata": {},
   "source": [
    "## Dizi İçi Tip Sorgulamaları"
   ]
  },
  {
   "cell_type": "code",
   "execution_count": null,
   "id": "7fb3dbdd",
   "metadata": {},
   "outputs": [],
   "source": [
    "# alfebetik mi?, sayısal mı? yoksa hem alfabetik hem nümerik mi?"
   ]
  },
  {
   "cell_type": "code",
   "execution_count": 19,
   "id": "45bf40cd",
   "metadata": {},
   "outputs": [
    {
     "data": {
      "text/plain": [
       "True"
      ]
     },
     "execution_count": 19,
     "metadata": {},
     "output_type": "execute_result"
    }
   ],
   "source": [
    "# alfebetik mi?\n",
    "\"rumeysa\".isalpha()"
   ]
  },
  {
   "cell_type": "code",
   "execution_count": 20,
   "id": "d90f1759",
   "metadata": {},
   "outputs": [
    {
     "data": {
      "text/plain": [
       "False"
      ]
     },
     "execution_count": 20,
     "metadata": {},
     "output_type": "execute_result"
    }
   ],
   "source": [
    "# alfebetik mi?\n",
    "\"rumeysa2023\".isalpha()"
   ]
  },
  {
   "cell_type": "code",
   "execution_count": null,
   "id": "e63cba64",
   "metadata": {},
   "outputs": [],
   "source": []
  },
  {
   "cell_type": "code",
   "execution_count": 21,
   "id": "a32d1e0f",
   "metadata": {},
   "outputs": [
    {
     "data": {
      "text/plain": [
       "True"
      ]
     },
     "execution_count": 21,
     "metadata": {},
     "output_type": "execute_result"
    }
   ],
   "source": [
    "# nümerik mi?\n",
    "\"2023\".isnumeric()"
   ]
  },
  {
   "cell_type": "code",
   "execution_count": 23,
   "id": "8ecb7f1d",
   "metadata": {},
   "outputs": [
    {
     "data": {
      "text/plain": [
       "False"
      ]
     },
     "execution_count": 23,
     "metadata": {},
     "output_type": "execute_result"
    }
   ],
   "source": [
    "# nümerik mi?\n",
    "\"rumeysa2023\".isnumeric()"
   ]
  },
  {
   "cell_type": "code",
   "execution_count": null,
   "id": "39263264",
   "metadata": {},
   "outputs": [],
   "source": []
  },
  {
   "cell_type": "code",
   "execution_count": 39,
   "id": "4a54fa23",
   "metadata": {},
   "outputs": [
    {
     "data": {
      "text/plain": [
       "True"
      ]
     },
     "execution_count": 39,
     "metadata": {},
     "output_type": "execute_result"
    }
   ],
   "source": [
    "# nümerik mi?\n",
    "\"2023\".isdigit()"
   ]
  },
  {
   "cell_type": "code",
   "execution_count": 37,
   "id": "3b846070",
   "metadata": {},
   "outputs": [
    {
     "data": {
      "text/plain": [
       "False"
      ]
     },
     "execution_count": 37,
     "metadata": {},
     "output_type": "execute_result"
    }
   ],
   "source": [
    "# nümerik mi?\n",
    "\"rumeysa2023\".isdigit()"
   ]
  },
  {
   "cell_type": "code",
   "execution_count": null,
   "id": "a60d0240",
   "metadata": {},
   "outputs": [],
   "source": []
  },
  {
   "cell_type": "code",
   "execution_count": 33,
   "id": "f3cd6bc9",
   "metadata": {},
   "outputs": [
    {
     "data": {
      "text/plain": [
       "True"
      ]
     },
     "execution_count": 33,
     "metadata": {},
     "output_type": "execute_result"
    }
   ],
   "source": [
    "# hem alfabetik hem nümerik mi?\n",
    "\"rumeysa2023\".isalnum()"
   ]
  },
  {
   "cell_type": "code",
   "execution_count": 34,
   "id": "1a1c725b",
   "metadata": {},
   "outputs": [
    {
     "data": {
      "text/plain": [
       "True"
      ]
     },
     "execution_count": 34,
     "metadata": {},
     "output_type": "execute_result"
    }
   ],
   "source": [
    "# hem alfabetik hem nümerik mi?\n",
    "\"rumeysa\".isalnum()"
   ]
  },
  {
   "cell_type": "code",
   "execution_count": 40,
   "id": "e18d1047",
   "metadata": {},
   "outputs": [
    {
     "data": {
      "text/plain": [
       "True"
      ]
     },
     "execution_count": 40,
     "metadata": {},
     "output_type": "execute_result"
    }
   ],
   "source": [
    "# hem alfabetik hem nümerik mi?\n",
    "\"2023\".isalnum()"
   ]
  },
  {
   "cell_type": "code",
   "execution_count": 41,
   "id": "b8a0eb50",
   "metadata": {},
   "outputs": [
    {
     "data": {
      "text/plain": [
       "False"
      ]
     },
     "execution_count": 41,
     "metadata": {},
     "output_type": "execute_result"
    }
   ],
   "source": [
    "# hem alfabetik hem nümerik mi?\n",
    "\"rumeysa2023,,,,,,\".isalnum()"
   ]
  },
  {
   "cell_type": "code",
   "execution_count": null,
   "id": "04880482",
   "metadata": {},
   "outputs": [],
   "source": []
  },
  {
   "cell_type": "markdown",
   "id": "05edcb94",
   "metadata": {},
   "source": [
    "## Elemanlarına ve Eleman İndekslerine Erişmek"
   ]
  },
  {
   "cell_type": "code",
   "execution_count": 47,
   "id": "b870a451",
   "metadata": {},
   "outputs": [
    {
     "data": {
      "text/plain": [
       "'rumeysaay'"
      ]
     },
     "execution_count": 47,
     "metadata": {},
     "output_type": "execute_result"
    }
   ],
   "source": [
    "isim=\"rumeysaay\"\n",
    "isim"
   ]
  },
  {
   "cell_type": "code",
   "execution_count": 48,
   "id": "e36202bb",
   "metadata": {},
   "outputs": [
    {
     "data": {
      "text/plain": [
       "'r'"
      ]
     },
     "execution_count": 48,
     "metadata": {},
     "output_type": "execute_result"
    }
   ],
   "source": [
    "isim[:1]"
   ]
  },
  {
   "cell_type": "code",
   "execution_count": 49,
   "id": "cd3ba229",
   "metadata": {},
   "outputs": [
    {
     "data": {
      "text/plain": [
       "3"
      ]
     },
     "execution_count": 49,
     "metadata": {},
     "output_type": "execute_result"
    }
   ],
   "source": [
    "# belirli bir harfin indeksi?\n",
    "isim.index(\"e\")"
   ]
  },
  {
   "cell_type": "code",
   "execution_count": 50,
   "id": "708f6e3f",
   "metadata": {},
   "outputs": [
    {
     "data": {
      "text/plain": [
       "4"
      ]
     },
     "execution_count": 50,
     "metadata": {},
     "output_type": "execute_result"
    }
   ],
   "source": [
    "# soldan sağa ilerler ilk bulduğu harfin indeksini dönderir\n",
    "isim.index(\"y\")"
   ]
  },
  {
   "cell_type": "code",
   "execution_count": 52,
   "id": "ac551cb2",
   "metadata": {},
   "outputs": [
    {
     "data": {
      "text/plain": [
       "8"
      ]
     },
     "execution_count": 52,
     "metadata": {},
     "output_type": "execute_result"
    }
   ],
   "source": [
    "# 2. y harfini ise\n",
    "isim.index(\"y\",isim.index(\"y\")+1)"
   ]
  },
  {
   "cell_type": "code",
   "execution_count": null,
   "id": "71a3ce84",
   "metadata": {},
   "outputs": [],
   "source": []
  },
  {
   "cell_type": "markdown",
   "id": "81254a1e",
   "metadata": {},
   "source": [
    "## Başlangıç ve Bitiş Karakterlerini Sorgulamak: startswith() & endswith()"
   ]
  },
  {
   "cell_type": "code",
   "execution_count": 56,
   "id": "81950761",
   "metadata": {},
   "outputs": [],
   "source": [
    "cumle = \"Python bir programlama dilidir.\""
   ]
  },
  {
   "cell_type": "code",
   "execution_count": 57,
   "id": "0132f1fd",
   "metadata": {},
   "outputs": [
    {
     "data": {
      "text/plain": [
       "False"
      ]
     },
     "execution_count": 57,
     "metadata": {},
     "output_type": "execute_result"
    }
   ],
   "source": [
    "cumle.startswith(\"python\")"
   ]
  },
  {
   "cell_type": "code",
   "execution_count": 58,
   "id": "e46783ac",
   "metadata": {},
   "outputs": [
    {
     "data": {
      "text/plain": [
       "True"
      ]
     },
     "execution_count": 58,
     "metadata": {},
     "output_type": "execute_result"
    }
   ],
   "source": [
    "cumle.startswith(\"Py\")"
   ]
  },
  {
   "cell_type": "code",
   "execution_count": 59,
   "id": "49fc9589",
   "metadata": {},
   "outputs": [
    {
     "data": {
      "text/plain": [
       "False"
      ]
     },
     "execution_count": 59,
     "metadata": {},
     "output_type": "execute_result"
    }
   ],
   "source": [
    "cumle.endswith(\"dir\")"
   ]
  },
  {
   "cell_type": "code",
   "execution_count": 61,
   "id": "3bbf5cdd",
   "metadata": {},
   "outputs": [
    {
     "data": {
      "text/plain": [
       "True"
      ]
     },
     "execution_count": 61,
     "metadata": {},
     "output_type": "execute_result"
    }
   ],
   "source": [
    "cumle.endswith(\"ir.\")"
   ]
  },
  {
   "cell_type": "code",
   "execution_count": null,
   "id": "d8b37999",
   "metadata": {},
   "outputs": [],
   "source": []
  },
  {
   "cell_type": "code",
   "execution_count": null,
   "id": "5380e815",
   "metadata": {},
   "outputs": [],
   "source": []
  },
  {
   "cell_type": "code",
   "execution_count": 56,
   "id": "268bab19",
   "metadata": {},
   "outputs": [],
   "source": [
    "cumle = \"Python bir programlama dilidir.\""
   ]
  },
  {
   "cell_type": "code",
   "execution_count": 62,
   "id": "cacb2f18",
   "metadata": {},
   "outputs": [
    {
     "data": {
      "text/plain": [
       "4"
      ]
     },
     "execution_count": 62,
     "metadata": {},
     "output_type": "execute_result"
    }
   ],
   "source": [
    "# count\n",
    "cumle.count(\"i\")"
   ]
  },
  {
   "cell_type": "code",
   "execution_count": 64,
   "id": "780b9dd0",
   "metadata": {},
   "outputs": [
    {
     "data": {
      "text/plain": [
       "[' ',\n",
       " ' ',\n",
       " ' ',\n",
       " '.',\n",
       " 'P',\n",
       " 'a',\n",
       " 'a',\n",
       " 'a',\n",
       " 'b',\n",
       " 'd',\n",
       " 'd',\n",
       " 'g',\n",
       " 'h',\n",
       " 'i',\n",
       " 'i',\n",
       " 'i',\n",
       " 'i',\n",
       " 'l',\n",
       " 'l',\n",
       " 'm',\n",
       " 'm',\n",
       " 'n',\n",
       " 'o',\n",
       " 'o',\n",
       " 'p',\n",
       " 'r',\n",
       " 'r',\n",
       " 'r',\n",
       " 'r',\n",
       " 't',\n",
       " 'y']"
      ]
     },
     "execution_count": 64,
     "metadata": {},
     "output_type": "execute_result"
    }
   ],
   "source": [
    "# sorted: alfabetik sıralama yapar\n",
    "sorted(cumle)"
   ]
  },
  {
   "cell_type": "code",
   "execution_count": 66,
   "id": "7028195e",
   "metadata": {},
   "outputs": [
    {
     "name": "stdout",
     "output_type": "stream",
     "text": [
      "   .Paaabddghiiiillmmnooprrrrty\n"
     ]
    }
   ],
   "source": [
    "print(*sorted(cumle), sep=\"\")"
   ]
  },
  {
   "cell_type": "code",
   "execution_count": 67,
   "id": "4da7ec36",
   "metadata": {},
   "outputs": [
    {
     "name": "stdout",
     "output_type": "stream",
     "text": [
      " & & &.&P&a&a&a&b&d&d&g&h&i&i&i&i&l&l&m&m&n&o&o&p&r&r&r&r&t&y\n"
     ]
    }
   ],
   "source": [
    "print(*sorted(cumle), sep=\"&\")"
   ]
  },
  {
   "cell_type": "code",
   "execution_count": null,
   "id": "c01f5464",
   "metadata": {},
   "outputs": [],
   "source": []
  },
  {
   "cell_type": "code",
   "execution_count": null,
   "id": "94b97810",
   "metadata": {},
   "outputs": [],
   "source": []
  },
  {
   "cell_type": "markdown",
   "id": "eef69ed7",
   "metadata": {},
   "source": [
    "## Karakterleri Bölmek"
   ]
  },
  {
   "cell_type": "code",
   "execution_count": 68,
   "id": "a1d631df",
   "metadata": {},
   "outputs": [
    {
     "data": {
      "text/plain": [
       "'Python bir programlama dilidir.'"
      ]
     },
     "execution_count": 68,
     "metadata": {},
     "output_type": "execute_result"
    }
   ],
   "source": [
    "cumle"
   ]
  },
  {
   "cell_type": "code",
   "execution_count": 69,
   "id": "8ff75234",
   "metadata": {},
   "outputs": [
    {
     "data": {
      "text/plain": [
       "['Python', 'bir', 'programlama', 'dilidir.']"
      ]
     },
     "execution_count": 69,
     "metadata": {},
     "output_type": "execute_result"
    }
   ],
   "source": [
    "cumle.split()"
   ]
  },
  {
   "cell_type": "code",
   "execution_count": 70,
   "id": "5d7bd162",
   "metadata": {},
   "outputs": [
    {
     "data": {
      "text/plain": [
       "['Python b', 'r programlama d', 'l', 'd', 'r.']"
      ]
     },
     "execution_count": 70,
     "metadata": {},
     "output_type": "execute_result"
    }
   ],
   "source": [
    "cumle.split(\"i\")"
   ]
  },
  {
   "cell_type": "code",
   "execution_count": 71,
   "id": "4509cc76",
   "metadata": {},
   "outputs": [
    {
     "data": {
      "text/plain": [
       "['Python bir programlama dilidir.']"
      ]
     },
     "execution_count": 71,
     "metadata": {},
     "output_type": "execute_result"
    }
   ],
   "source": [
    "cumle.split(\";\")"
   ]
  },
  {
   "cell_type": "code",
   "execution_count": 73,
   "id": "f3f5480a",
   "metadata": {},
   "outputs": [],
   "source": [
    "f = \"Fırat_Üniversitesi\""
   ]
  },
  {
   "cell_type": "code",
   "execution_count": 74,
   "id": "3e9a3c2a",
   "metadata": {},
   "outputs": [
    {
     "data": {
      "text/plain": [
       "['Fırat_Üniversitesi']"
      ]
     },
     "execution_count": 74,
     "metadata": {},
     "output_type": "execute_result"
    }
   ],
   "source": [
    "f.split()"
   ]
  },
  {
   "cell_type": "code",
   "execution_count": 75,
   "id": "955c2972",
   "metadata": {},
   "outputs": [
    {
     "data": {
      "text/plain": [
       "['Fırat', 'Üniversitesi']"
      ]
     },
     "execution_count": 75,
     "metadata": {},
     "output_type": "execute_result"
    }
   ],
   "source": [
    "f.split(\"_\")"
   ]
  },
  {
   "cell_type": "code",
   "execution_count": null,
   "id": "70cf7e20",
   "metadata": {},
   "outputs": [],
   "source": []
  },
  {
   "cell_type": "markdown",
   "id": "0e07cb1c",
   "metadata": {},
   "source": [
    "## Büyük Küçük Harf İşlemleri"
   ]
  },
  {
   "cell_type": "code",
   "execution_count": 82,
   "id": "96279c74",
   "metadata": {},
   "outputs": [],
   "source": [
    "isim = \"Rumeysa Ay\""
   ]
  },
  {
   "cell_type": "code",
   "execution_count": 83,
   "id": "450c9be6",
   "metadata": {},
   "outputs": [
    {
     "data": {
      "text/plain": [
       "'RUMEYSA AY'"
      ]
     },
     "execution_count": 83,
     "metadata": {},
     "output_type": "execute_result"
    }
   ],
   "source": [
    "isim_b = isim.upper()\n",
    "isim_b"
   ]
  },
  {
   "cell_type": "code",
   "execution_count": 84,
   "id": "fb3708e8",
   "metadata": {},
   "outputs": [
    {
     "data": {
      "text/plain": [
       "'rumeysa ay'"
      ]
     },
     "execution_count": 84,
     "metadata": {},
     "output_type": "execute_result"
    }
   ],
   "source": [
    "isim_k = isim.lower()\n",
    "isim_k"
   ]
  },
  {
   "cell_type": "code",
   "execution_count": 85,
   "id": "92baf4b1",
   "metadata": {},
   "outputs": [
    {
     "data": {
      "text/plain": [
       "'rumeysa ay'"
      ]
     },
     "execution_count": 85,
     "metadata": {},
     "output_type": "execute_result"
    }
   ],
   "source": [
    "isim.upper().lower()"
   ]
  },
  {
   "cell_type": "code",
   "execution_count": 86,
   "id": "997f4088",
   "metadata": {},
   "outputs": [
    {
     "data": {
      "text/plain": [
       "'rumeysa ay'"
      ]
     },
     "execution_count": 86,
     "metadata": {},
     "output_type": "execute_result"
    }
   ],
   "source": [
    "isim_b.lower()"
   ]
  },
  {
   "cell_type": "code",
   "execution_count": null,
   "id": "e26e5fc7",
   "metadata": {},
   "outputs": [],
   "source": []
  },
  {
   "cell_type": "markdown",
   "id": "062c5de5",
   "metadata": {},
   "source": [
    "### islower()"
   ]
  },
  {
   "cell_type": "code",
   "execution_count": 91,
   "id": "6ece19b1",
   "metadata": {},
   "outputs": [
    {
     "data": {
      "text/plain": [
       "'Rumeysa Ay'"
      ]
     },
     "execution_count": 91,
     "metadata": {},
     "output_type": "execute_result"
    }
   ],
   "source": [
    "isim"
   ]
  },
  {
   "cell_type": "code",
   "execution_count": 92,
   "id": "4e46065b",
   "metadata": {},
   "outputs": [
    {
     "data": {
      "text/plain": [
       "False"
      ]
     },
     "execution_count": 92,
     "metadata": {},
     "output_type": "execute_result"
    }
   ],
   "source": [
    "isim.islower()"
   ]
  },
  {
   "cell_type": "code",
   "execution_count": 93,
   "id": "cebaf10e",
   "metadata": {},
   "outputs": [
    {
     "data": {
      "text/plain": [
       "'RUMEYSA AY'"
      ]
     },
     "execution_count": 93,
     "metadata": {},
     "output_type": "execute_result"
    }
   ],
   "source": [
    "isim_b"
   ]
  },
  {
   "cell_type": "code",
   "execution_count": 94,
   "id": "b0bcea00",
   "metadata": {},
   "outputs": [
    {
     "data": {
      "text/plain": [
       "False"
      ]
     },
     "execution_count": 94,
     "metadata": {},
     "output_type": "execute_result"
    }
   ],
   "source": [
    "# Küçük mü?\n",
    "isim_b.islower()"
   ]
  },
  {
   "cell_type": "code",
   "execution_count": 95,
   "id": "34b513a9",
   "metadata": {},
   "outputs": [
    {
     "data": {
      "text/plain": [
       "'rumeysa ay'"
      ]
     },
     "execution_count": 95,
     "metadata": {},
     "output_type": "execute_result"
    }
   ],
   "source": [
    "isim_k"
   ]
  },
  {
   "cell_type": "code",
   "execution_count": 96,
   "id": "fb5f03d4",
   "metadata": {},
   "outputs": [
    {
     "data": {
      "text/plain": [
       "True"
      ]
     },
     "execution_count": 96,
     "metadata": {},
     "output_type": "execute_result"
    }
   ],
   "source": [
    "isim_k.islower()"
   ]
  },
  {
   "cell_type": "markdown",
   "id": "278e0937",
   "metadata": {},
   "source": [
    "### isupper()"
   ]
  },
  {
   "cell_type": "code",
   "execution_count": 97,
   "id": "de8c6e74",
   "metadata": {},
   "outputs": [
    {
     "data": {
      "text/plain": [
       "'Rumeysa Ay'"
      ]
     },
     "execution_count": 97,
     "metadata": {},
     "output_type": "execute_result"
    }
   ],
   "source": [
    "isim"
   ]
  },
  {
   "cell_type": "code",
   "execution_count": 98,
   "id": "717cc2f5",
   "metadata": {},
   "outputs": [
    {
     "data": {
      "text/plain": [
       "False"
      ]
     },
     "execution_count": 98,
     "metadata": {},
     "output_type": "execute_result"
    }
   ],
   "source": [
    "isim.isupper()"
   ]
  },
  {
   "cell_type": "code",
   "execution_count": 99,
   "id": "6ebbce5c",
   "metadata": {},
   "outputs": [
    {
     "data": {
      "text/plain": [
       "'rumeysa ay'"
      ]
     },
     "execution_count": 99,
     "metadata": {},
     "output_type": "execute_result"
    }
   ],
   "source": [
    "isim_k"
   ]
  },
  {
   "cell_type": "code",
   "execution_count": 100,
   "id": "655251d9",
   "metadata": {},
   "outputs": [
    {
     "data": {
      "text/plain": [
       "False"
      ]
     },
     "execution_count": 100,
     "metadata": {},
     "output_type": "execute_result"
    }
   ],
   "source": [
    "isim_k.isupper()"
   ]
  },
  {
   "cell_type": "code",
   "execution_count": 101,
   "id": "4ac4d506",
   "metadata": {},
   "outputs": [
    {
     "data": {
      "text/plain": [
       "'RUMEYSA AY'"
      ]
     },
     "execution_count": 101,
     "metadata": {},
     "output_type": "execute_result"
    }
   ],
   "source": [
    "isim_b"
   ]
  },
  {
   "cell_type": "code",
   "execution_count": 102,
   "id": "3943afd4",
   "metadata": {},
   "outputs": [
    {
     "data": {
      "text/plain": [
       "True"
      ]
     },
     "execution_count": 102,
     "metadata": {},
     "output_type": "execute_result"
    }
   ],
   "source": [
    "isim_b.isupper()"
   ]
  },
  {
   "cell_type": "code",
   "execution_count": null,
   "id": "869840c7",
   "metadata": {},
   "outputs": [],
   "source": []
  },
  {
   "cell_type": "code",
   "execution_count": null,
   "id": "4e28bf86",
   "metadata": {},
   "outputs": [],
   "source": []
  },
  {
   "cell_type": "markdown",
   "id": "ceebedf2",
   "metadata": {},
   "source": [
    "### capitalize() & title() & swapcase()"
   ]
  },
  {
   "cell_type": "code",
   "execution_count": 111,
   "id": "91ac9d17",
   "metadata": {},
   "outputs": [],
   "source": [
    "isim=\"ruMeysA aY\""
   ]
  },
  {
   "cell_type": "code",
   "execution_count": 112,
   "id": "ec1ae53e",
   "metadata": {},
   "outputs": [
    {
     "data": {
      "text/plain": [
       "'Rumeysa ay'"
      ]
     },
     "execution_count": 112,
     "metadata": {},
     "output_type": "execute_result"
    }
   ],
   "source": [
    "# sadece ilk sözcüğün ilk harfi büyür (diğerleri küçük)\n",
    "isim.capitalize()"
   ]
  },
  {
   "cell_type": "code",
   "execution_count": 113,
   "id": "f943af8c",
   "metadata": {},
   "outputs": [
    {
     "data": {
      "text/plain": [
       "'Rumeysa Ay'"
      ]
     },
     "execution_count": 113,
     "metadata": {},
     "output_type": "execute_result"
    }
   ],
   "source": [
    "# cümledeki bütün sözcüklerin ilk harfi büyür (diğerleri küçük)\n",
    "isim.title()"
   ]
  },
  {
   "cell_type": "code",
   "execution_count": 114,
   "id": "511b2507",
   "metadata": {},
   "outputs": [
    {
     "data": {
      "text/plain": [
       "'RUmEYSa Ay'"
      ]
     },
     "execution_count": 114,
     "metadata": {},
     "output_type": "execute_result"
    }
   ],
   "source": [
    "# büyük harfleri küçük, küçük harfleri büyük yapmak\n",
    "isim.swapcase()"
   ]
  },
  {
   "cell_type": "code",
   "execution_count": null,
   "id": "85477b37",
   "metadata": {},
   "outputs": [],
   "source": []
  },
  {
   "cell_type": "code",
   "execution_count": null,
   "id": "fa72619f",
   "metadata": {},
   "outputs": [],
   "source": []
  },
  {
   "cell_type": "markdown",
   "id": "0cf96930",
   "metadata": {},
   "source": [
    "## İstenmeyen Karakterleri Kırpmak: strip(), lstrip(), rstrip()"
   ]
  },
  {
   "cell_type": "code",
   "execution_count": 119,
   "id": "c7177517",
   "metadata": {},
   "outputs": [],
   "source": [
    "selam = \"          Merhaba Rumeysa     \""
   ]
  },
  {
   "cell_type": "code",
   "execution_count": 120,
   "id": "ccf5ebba",
   "metadata": {},
   "outputs": [
    {
     "data": {
      "text/plain": [
       "'Merhaba Rumeysa'"
      ]
     },
     "execution_count": 120,
     "metadata": {},
     "output_type": "execute_result"
    }
   ],
   "source": [
    "selam.strip()"
   ]
  },
  {
   "cell_type": "code",
   "execution_count": 121,
   "id": "2ba1a1bb",
   "metadata": {},
   "outputs": [],
   "source": [
    "selam = \"*********Merhaba Rumeysa     \""
   ]
  },
  {
   "cell_type": "code",
   "execution_count": 122,
   "id": "6357ca0a",
   "metadata": {},
   "outputs": [
    {
     "data": {
      "text/plain": [
       "'*********Merhaba Rumeysa'"
      ]
     },
     "execution_count": 122,
     "metadata": {},
     "output_type": "execute_result"
    }
   ],
   "source": [
    "selam.strip()"
   ]
  },
  {
   "cell_type": "code",
   "execution_count": 123,
   "id": "161d0abd",
   "metadata": {},
   "outputs": [
    {
     "data": {
      "text/plain": [
       "'Merhaba Rumeysa     '"
      ]
     },
     "execution_count": 123,
     "metadata": {},
     "output_type": "execute_result"
    }
   ],
   "source": [
    "selam.strip(\"*\")"
   ]
  },
  {
   "cell_type": "code",
   "execution_count": 124,
   "id": "42679a2e",
   "metadata": {},
   "outputs": [
    {
     "data": {
      "text/plain": [
       "'Merhaba Rumeysa'"
      ]
     },
     "execution_count": 124,
     "metadata": {},
     "output_type": "execute_result"
    }
   ],
   "source": [
    "selam.strip(\"*\").strip()"
   ]
  },
  {
   "cell_type": "code",
   "execution_count": 125,
   "id": "0bb19931",
   "metadata": {},
   "outputs": [],
   "source": [
    "selam=\"####Merhaba####\""
   ]
  },
  {
   "cell_type": "code",
   "execution_count": 128,
   "id": "28fd6c27",
   "metadata": {},
   "outputs": [
    {
     "data": {
      "text/plain": [
       "'Merhaba####'"
      ]
     },
     "execution_count": 128,
     "metadata": {},
     "output_type": "execute_result"
    }
   ],
   "source": [
    "# sadece sol taraf için\n",
    "selam.lstrip(\"#\")"
   ]
  },
  {
   "cell_type": "code",
   "execution_count": 127,
   "id": "442f30ba",
   "metadata": {},
   "outputs": [
    {
     "data": {
      "text/plain": [
       "'####Merhaba'"
      ]
     },
     "execution_count": 127,
     "metadata": {},
     "output_type": "execute_result"
    }
   ],
   "source": [
    "selam.rstrip(\"#\")"
   ]
  },
  {
   "cell_type": "code",
   "execution_count": null,
   "id": "c96e0117",
   "metadata": {},
   "outputs": [],
   "source": []
  },
  {
   "cell_type": "code",
   "execution_count": null,
   "id": "80d7d667",
   "metadata": {},
   "outputs": [],
   "source": []
  },
  {
   "cell_type": "markdown",
   "id": "6c8c1e51",
   "metadata": {},
   "source": [
    "## join: bölünmüş ya da zaten bölük olan ifadelerin birleştirilmesi"
   ]
  },
  {
   "cell_type": "code",
   "execution_count": 132,
   "id": "d2047746",
   "metadata": {},
   "outputs": [
    {
     "data": {
      "text/plain": [
       "'Python bir programlama dilidir.'"
      ]
     },
     "execution_count": 132,
     "metadata": {},
     "output_type": "execute_result"
    }
   ],
   "source": [
    "cumle"
   ]
  },
  {
   "cell_type": "code",
   "execution_count": 133,
   "id": "94d89cec",
   "metadata": {},
   "outputs": [
    {
     "data": {
      "text/plain": [
       "['Python', 'bir', 'programlama', 'dilidir.']"
      ]
     },
     "execution_count": 133,
     "metadata": {},
     "output_type": "execute_result"
    }
   ],
   "source": [
    "ayrik = cumle.split()\n",
    "ayrik"
   ]
  },
  {
   "cell_type": "code",
   "execution_count": 139,
   "id": "c9b224c8",
   "metadata": {},
   "outputs": [],
   "source": [
    "joiner=\" \""
   ]
  },
  {
   "cell_type": "code",
   "execution_count": 140,
   "id": "2f0ef572",
   "metadata": {},
   "outputs": [
    {
     "data": {
      "text/plain": [
       "'Python bir programlama dilidir.'"
      ]
     },
     "execution_count": 140,
     "metadata": {},
     "output_type": "execute_result"
    }
   ],
   "source": [
    "joiner.join(ayrik)"
   ]
  },
  {
   "cell_type": "code",
   "execution_count": 141,
   "id": "0c82c39a",
   "metadata": {},
   "outputs": [],
   "source": [
    "joiner=\"777\""
   ]
  },
  {
   "cell_type": "code",
   "execution_count": 142,
   "id": "f7296513",
   "metadata": {},
   "outputs": [
    {
     "data": {
      "text/plain": [
       "'Python777bir777programlama777dilidir.'"
      ]
     },
     "execution_count": 142,
     "metadata": {},
     "output_type": "execute_result"
    }
   ],
   "source": [
    "joiner.join(ayrik)"
   ]
  },
  {
   "cell_type": "code",
   "execution_count": null,
   "id": "5c6c16d8",
   "metadata": {},
   "outputs": [],
   "source": []
  },
  {
   "cell_type": "code",
   "execution_count": null,
   "id": "6d4086c0",
   "metadata": {},
   "outputs": [],
   "source": []
  },
  {
   "cell_type": "markdown",
   "id": "eafc84bd",
   "metadata": {},
   "source": [
    "## Eleman Değiştirme: replace(), str.maketrans(), translate()"
   ]
  },
  {
   "cell_type": "code",
   "execution_count": 147,
   "id": "6b23cbc4",
   "metadata": {},
   "outputs": [
    {
     "data": {
      "text/plain": [
       "'ruMeysA aY'"
      ]
     },
     "execution_count": 147,
     "metadata": {},
     "output_type": "execute_result"
    }
   ],
   "source": [
    "isim"
   ]
  },
  {
   "cell_type": "code",
   "execution_count": 148,
   "id": "a914cf90",
   "metadata": {},
   "outputs": [
    {
     "data": {
      "text/plain": [
       "'rumeysA aY'"
      ]
     },
     "execution_count": 148,
     "metadata": {},
     "output_type": "execute_result"
    }
   ],
   "source": [
    "isim.replace(\"M\",\"m\")"
   ]
  },
  {
   "cell_type": "code",
   "execution_count": 149,
   "id": "4c923906",
   "metadata": {},
   "outputs": [
    {
     "data": {
      "text/plain": [
       "'ruMeysa AY'"
      ]
     },
     "execution_count": 149,
     "metadata": {},
     "output_type": "execute_result"
    }
   ],
   "source": [
    "isim.replace(\"A a\",\"a A\")"
   ]
  },
  {
   "cell_type": "code",
   "execution_count": null,
   "id": "6fc86091",
   "metadata": {},
   "outputs": [],
   "source": []
  },
  {
   "cell_type": "code",
   "execution_count": 150,
   "id": "e9b059a1",
   "metadata": {},
   "outputs": [],
   "source": [
    "ifade = \"Bu ifade İçerisinde bazı TÜrkÇe karakterler vardır.\""
   ]
  },
  {
   "cell_type": "code",
   "execution_count": 151,
   "id": "03d56401",
   "metadata": {},
   "outputs": [],
   "source": [
    "duzeltilecek_harfler = \"çÇğĞıİöÖşŞüÜ\""
   ]
  },
  {
   "cell_type": "code",
   "execution_count": 152,
   "id": "7be28881",
   "metadata": {},
   "outputs": [],
   "source": [
    "duzeltilmis_harfler = \"cCgGiIoOsSuU\""
   ]
  },
  {
   "cell_type": "code",
   "execution_count": 153,
   "id": "7fec5268",
   "metadata": {},
   "outputs": [],
   "source": [
    "# hangi harfleri yakaladığımda düzeltmemi istersin?, bu harfleri neyle değiştireyim?\n",
    "alfabe_duzeltme = str.maketrans(duzeltilecek_harfler, duzeltilmis_harfler)\n",
    "# düzeltme işlemi yapacak bir fonksiyon oluşturdum"
   ]
  },
  {
   "cell_type": "code",
   "execution_count": 154,
   "id": "482f5d68",
   "metadata": {},
   "outputs": [
    {
     "data": {
      "text/plain": [
       "'Bu ifade Icerisinde bazi TUrkCe karakterler vardir.'"
      ]
     },
     "execution_count": 154,
     "metadata": {},
     "output_type": "execute_result"
    }
   ],
   "source": [
    "ifade.translate(alfabe_duzeltme)"
   ]
  },
  {
   "cell_type": "code",
   "execution_count": null,
   "id": "a657e33b",
   "metadata": {},
   "outputs": [],
   "source": []
  },
  {
   "cell_type": "markdown",
   "id": "ebcc95ce",
   "metadata": {},
   "source": [
    "## contains"
   ]
  },
  {
   "cell_type": "code",
   "execution_count": 157,
   "id": "43659125",
   "metadata": {},
   "outputs": [],
   "source": [
    "import pandas as pd"
   ]
  },
  {
   "cell_type": "code",
   "execution_count": 163,
   "id": "415502a4",
   "metadata": {},
   "outputs": [],
   "source": [
    "isimler = [\"ayse\",\"Ayşe\",\"ali\",\"aali\",\"Ali\",\"veli\",\"mehmet\",\"berkcan\",\"asdfal\"]"
   ]
  },
  {
   "cell_type": "code",
   "execution_count": 164,
   "id": "c5f42346",
   "metadata": {},
   "outputs": [
    {
     "data": {
      "text/plain": [
       "0       ayse\n",
       "1       Ayşe\n",
       "2        ali\n",
       "3       aali\n",
       "4        Ali\n",
       "5       veli\n",
       "6     mehmet\n",
       "7    berkcan\n",
       "8     asdfal\n",
       "dtype: object"
      ]
     },
     "execution_count": 164,
     "metadata": {},
     "output_type": "execute_result"
    }
   ],
   "source": [
    "v = pd.Series(isimler)\n",
    "v"
   ]
  },
  {
   "cell_type": "code",
   "execution_count": null,
   "id": "bc4ffb31",
   "metadata": {},
   "outputs": [],
   "source": []
  },
  {
   "cell_type": "code",
   "execution_count": 165,
   "id": "1ae14366",
   "metadata": {},
   "outputs": [],
   "source": [
    "# bu seri içerisinde, vektör içerisinde all ifadesini barındıran değerlere true - false ile erişelim\n",
    "# true - false ile erişmek koşula eriştik bu koşulları vektörlerin içerisine saldığımızda\n",
    "# orijinal değerlere erişebiliriz"
   ]
  },
  {
   "cell_type": "code",
   "execution_count": 166,
   "id": "5f64a67f",
   "metadata": {},
   "outputs": [
    {
     "data": {
      "text/plain": [
       "0    False\n",
       "1    False\n",
       "2     True\n",
       "3     True\n",
       "4    False\n",
       "5    False\n",
       "6    False\n",
       "7    False\n",
       "8     True\n",
       "dtype: bool"
      ]
     },
     "execution_count": 166,
     "metadata": {},
     "output_type": "execute_result"
    }
   ],
   "source": [
    "v.str.contains(\"al\")"
   ]
  },
  {
   "cell_type": "code",
   "execution_count": 167,
   "id": "55598f92",
   "metadata": {},
   "outputs": [
    {
     "data": {
      "text/plain": [
       "2       ali\n",
       "3      aali\n",
       "8    asdfal\n",
       "dtype: object"
      ]
     },
     "execution_count": 167,
     "metadata": {},
     "output_type": "execute_result"
    }
   ],
   "source": [
    "v[v.str.contains(\"al\")]"
   ]
  },
  {
   "cell_type": "code",
   "execution_count": 168,
   "id": "87f8d1d4",
   "metadata": {},
   "outputs": [
    {
     "data": {
      "text/plain": [
       "3"
      ]
     },
     "execution_count": 168,
     "metadata": {},
     "output_type": "execute_result"
    }
   ],
   "source": [
    "v.str.contains(\"al\").sum()"
   ]
  },
  {
   "cell_type": "code",
   "execution_count": 171,
   "id": "f4439626",
   "metadata": {},
   "outputs": [
    {
     "data": {
      "text/plain": [
       "3"
      ]
     },
     "execution_count": 171,
     "metadata": {},
     "output_type": "execute_result"
    }
   ],
   "source": [
    "# büyük a ve küçük a dahil\n",
    "v.str.contains(\"[Aa]li\").sum()"
   ]
  },
  {
   "cell_type": "code",
   "execution_count": 173,
   "id": "356372fd",
   "metadata": {},
   "outputs": [
    {
     "data": {
      "text/plain": [
       "2     ali\n",
       "3    aali\n",
       "4     Ali\n",
       "dtype: object"
      ]
     },
     "execution_count": 173,
     "metadata": {},
     "output_type": "execute_result"
    }
   ],
   "source": [
    "v[v.str.contains(\"[Aa]li\")]"
   ]
  },
  {
   "cell_type": "code",
   "execution_count": null,
   "id": "b4ea7dc8",
   "metadata": {},
   "outputs": [],
   "source": []
  },
  {
   "cell_type": "code",
   "execution_count": null,
   "id": "b2e8aec1",
   "metadata": {},
   "outputs": [],
   "source": []
  },
  {
   "cell_type": "code",
   "execution_count": null,
   "id": "fe7ae112",
   "metadata": {},
   "outputs": [],
   "source": []
  },
  {
   "cell_type": "code",
   "execution_count": null,
   "id": "7e8b52fd",
   "metadata": {},
   "outputs": [],
   "source": []
  },
  {
   "cell_type": "code",
   "execution_count": null,
   "id": "749a2df2",
   "metadata": {},
   "outputs": [],
   "source": []
  },
  {
   "cell_type": "code",
   "execution_count": null,
   "id": "531be038",
   "metadata": {},
   "outputs": [],
   "source": []
  },
  {
   "cell_type": "code",
   "execution_count": null,
   "id": "ce937c9e",
   "metadata": {},
   "outputs": [],
   "source": []
  },
  {
   "cell_type": "code",
   "execution_count": null,
   "id": "74df2e64",
   "metadata": {},
   "outputs": [],
   "source": []
  },
  {
   "cell_type": "code",
   "execution_count": null,
   "id": "8a274ded",
   "metadata": {},
   "outputs": [],
   "source": []
  },
  {
   "cell_type": "code",
   "execution_count": null,
   "id": "2e8b9e74",
   "metadata": {},
   "outputs": [],
   "source": []
  },
  {
   "cell_type": "code",
   "execution_count": null,
   "id": "67e49f4a",
   "metadata": {},
   "outputs": [],
   "source": []
  },
  {
   "cell_type": "code",
   "execution_count": null,
   "id": "e945f1ed",
   "metadata": {},
   "outputs": [],
   "source": []
  },
  {
   "cell_type": "code",
   "execution_count": null,
   "id": "ff77cd51",
   "metadata": {},
   "outputs": [],
   "source": []
  }
 ],
 "metadata": {
  "kernelspec": {
   "display_name": "Python 3 (ipykernel)",
   "language": "python",
   "name": "python3"
  },
  "language_info": {
   "codemirror_mode": {
    "name": "ipython",
    "version": 3
   },
   "file_extension": ".py",
   "mimetype": "text/x-python",
   "name": "python",
   "nbconvert_exporter": "python",
   "pygments_lexer": "ipython3",
   "version": "3.9.7"
  }
 },
 "nbformat": 4,
 "nbformat_minor": 5
}
