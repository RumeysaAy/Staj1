{
 "cells": [
  {
   "cell_type": "markdown",
   "id": "d91ae466",
   "metadata": {},
   "source": [
    "# Veri Ön İşleme (Data Preprocessing)"
   ]
  },
  {
   "cell_type": "markdown",
   "id": "c25b6145",
   "metadata": {},
   "source": [
    "- Veri Ön İşleme Genel Bakış\n",
    "- Aykırı Gözlem Analizi\n",
    "- Eksik Veri Analizi\n",
    "- Standartlaştırma\n",
    "- Değişken Dönüşümleri\n",
    "\n",
    "makine öğrenmesi modelleri öncesinde veri setimiz üzerinde gerçekleştirmemiz gereken bazı işlemleri ve dönüşümleri ifade etmektedir."
   ]
  },
  {
   "cell_type": "markdown",
   "id": "ac97f7ee",
   "metadata": {},
   "source": [
    "## Veri Ön İşlemeye Genel Bakış\n",
    "\n",
    "### Veri mi? Model mi?\n",
    "\n",
    "* Veri, kullanacak olduğumuz veriyi ifade eder. Model ise kuracak olduğumuz makine öğrenmesi modellerini ifade eder, yapay zeka modellerini ifade eder.\n",
    "* Makine öğrenmesi modelinin amacı, genellenebilir yapılar ortaya koymaktır. Belirli olaylar gözlendiğinde, belirli tahmin sonuçları vermektir.\n",
    "* Makine öğrenmesi modeli, veriden beslenir.\n",
    "* Eğer verileriniz kötüyse, makine öğrenmesi araçlarınız kullanışsız olacaktır.\n",
    "* Makine öğrenmesi modellerinin veriyi kullandığını ve verinin ne kadar iyi olursa modelleri o kadar iyi olabilir."
   ]
  },
  {
   "cell_type": "code",
   "execution_count": null,
   "id": "05f5ff45",
   "metadata": {},
   "outputs": [],
   "source": []
  },
  {
   "cell_type": "markdown",
   "id": "d7be9b39",
   "metadata": {},
   "source": [
    "- _**Veri Temizleme (Data Cleaning / Cleasing)**_\n",
    "    - Gürültülü Veri (Noisy Data): Yanlış veri\n",
    "    - Eksik Veri Analizi (Missing Data Analysis)\n",
    "    - Aykırı Gözlem Analizi (Outlier Analysis)"
   ]
  },
  {
   "cell_type": "markdown",
   "id": "792b9968",
   "metadata": {},
   "source": [
    "- _**Veri Standardizasyonu (Data Standardization, Feature Scaling)**_\n",
    "    - 0-1 Dönüşümü (Normalization)\n",
    "    - z-skoruna Dönüştürme (Standardization)\n",
    "    - Logaritmik Dönüşüm (Log Transformation)"
   ]
  },
  {
   "cell_type": "markdown",
   "id": "89834730",
   "metadata": {},
   "source": [
    "- _**Veri İndirgeme (Data Reduction)**_\n",
    "    - Gözlem (Observation) Sayısının Azaltılması\n",
    "    - Değişken (Variable) Sayısının Azaltılması"
   ]
  },
  {
   "cell_type": "markdown",
   "id": "071a79e7",
   "metadata": {},
   "source": [
    "- _**Değişken Dönüşümleri (Variable Transformation)**_\n",
    "    - Sürekli değişkenlerde dönüşümler\n",
    "    - Kategorik değişkenlerde dönüşümler"
   ]
  },
  {
   "cell_type": "code",
   "execution_count": null,
   "id": "87878033",
   "metadata": {},
   "outputs": [],
   "source": []
  }
 ],
 "metadata": {
  "kernelspec": {
   "display_name": "Python 3 (ipykernel)",
   "language": "python",
   "name": "python3"
  },
  "language_info": {
   "codemirror_mode": {
    "name": "ipython",
    "version": 3
   },
   "file_extension": ".py",
   "mimetype": "text/x-python",
   "name": "python",
   "nbconvert_exporter": "python",
   "pygments_lexer": "ipython3",
   "version": "3.11.4"
  }
 },
 "nbformat": 4,
 "nbformat_minor": 5
}
