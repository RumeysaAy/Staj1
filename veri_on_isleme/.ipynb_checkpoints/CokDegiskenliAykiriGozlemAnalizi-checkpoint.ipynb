{
 "cells": [
  {
   "cell_type": "markdown",
   "id": "f8720f72",
   "metadata": {},
   "source": [
    "## Çok Değişkenli Aykırı Gözlem Analizi\n",
    "\n",
    "### Local Outlier Factor\n",
    "\n",
    "Gözlemleri bulundukları konumda yoğunluk tabanlı skorlayarak buna göre aykırı değer olabilecek değerleri tanımlayabilmemize imkan sağlıyor.\n",
    "\n",
    "Bir noktanın local yoğunluğu bu noktanın komşuları ile karşılaştırılıyor. Eğer bir nokta komşularınının yoğunluğundan anlamlı şekilde düşük ise bu nokta komşularından daha seyrek bir bölgede bulunuyordur yorumu yapılabiliyor. Dolayısıyla burada bir komşuluk yapısı söz konusu. Bir değerin çevresi yoğun değilse demek ki bu değer aykırı değerdir şeklinde değerlendiriliyor."
   ]
  },
  {
   "cell_type": "markdown",
   "id": "02e34aac",
   "metadata": {},
   "source": [
    "değişkenler tek başınayken aykırı değer şeklinde algılanamayacak olan durumlarda değişkenler çok değişkenli olarak eş zamanlıca göz önünde bulundurulduğunda ortaya hesapta olmayan aykırı gözlemler ortaya çıkabilmektedir.\n",
    "\n",
    "bundan dolayı çok değişkenli bir şekilde aykırı gözlemleri göz önünde bulundurmalıyız.\n",
    "\n",
    "bunlardan birisi LOF yöntemidir."
   ]
  },
  {
   "cell_type": "code",
   "execution_count": 1,
   "id": "e79db79a",
   "metadata": {},
   "outputs": [],
   "source": [
    "import seaborn as sns"
   ]
  },
  {
   "cell_type": "code",
   "execution_count": 2,
   "id": "ea9bcd6d",
   "metadata": {},
   "outputs": [],
   "source": [
    "diamonds = sns.load_dataset(\"diamonds\")"
   ]
  },
  {
   "cell_type": "code",
   "execution_count": 3,
   "id": "a0f19cb4",
   "metadata": {},
   "outputs": [],
   "source": [
    "diamonds = diamonds.select_dtypes(include=[\"float64\",\"int64\"])"
   ]
  },
  {
   "cell_type": "code",
   "execution_count": 4,
   "id": "3f3fa573",
   "metadata": {},
   "outputs": [],
   "source": [
    "df=diamonds.copy()"
   ]
  },
  {
   "cell_type": "code",
   "execution_count": 5,
   "id": "ee13d260",
   "metadata": {},
   "outputs": [],
   "source": [
    "df=df.dropna()"
   ]
  },
  {
   "cell_type": "code",
   "execution_count": 6,
   "id": "748f4e28",
   "metadata": {},
   "outputs": [
    {
     "data": {
      "text/html": [
       "<div>\n",
       "<style scoped>\n",
       "    .dataframe tbody tr th:only-of-type {\n",
       "        vertical-align: middle;\n",
       "    }\n",
       "\n",
       "    .dataframe tbody tr th {\n",
       "        vertical-align: top;\n",
       "    }\n",
       "\n",
       "    .dataframe thead th {\n",
       "        text-align: right;\n",
       "    }\n",
       "</style>\n",
       "<table border=\"1\" class=\"dataframe\">\n",
       "  <thead>\n",
       "    <tr style=\"text-align: right;\">\n",
       "      <th></th>\n",
       "      <th>carat</th>\n",
       "      <th>depth</th>\n",
       "      <th>table</th>\n",
       "      <th>price</th>\n",
       "      <th>x</th>\n",
       "      <th>y</th>\n",
       "      <th>z</th>\n",
       "    </tr>\n",
       "  </thead>\n",
       "  <tbody>\n",
       "    <tr>\n",
       "      <th>0</th>\n",
       "      <td>0.23</td>\n",
       "      <td>61.5</td>\n",
       "      <td>55.0</td>\n",
       "      <td>326</td>\n",
       "      <td>3.95</td>\n",
       "      <td>3.98</td>\n",
       "      <td>2.43</td>\n",
       "    </tr>\n",
       "    <tr>\n",
       "      <th>1</th>\n",
       "      <td>0.21</td>\n",
       "      <td>59.8</td>\n",
       "      <td>61.0</td>\n",
       "      <td>326</td>\n",
       "      <td>3.89</td>\n",
       "      <td>3.84</td>\n",
       "      <td>2.31</td>\n",
       "    </tr>\n",
       "    <tr>\n",
       "      <th>2</th>\n",
       "      <td>0.23</td>\n",
       "      <td>56.9</td>\n",
       "      <td>65.0</td>\n",
       "      <td>327</td>\n",
       "      <td>4.05</td>\n",
       "      <td>4.07</td>\n",
       "      <td>2.31</td>\n",
       "    </tr>\n",
       "    <tr>\n",
       "      <th>3</th>\n",
       "      <td>0.29</td>\n",
       "      <td>62.4</td>\n",
       "      <td>58.0</td>\n",
       "      <td>334</td>\n",
       "      <td>4.20</td>\n",
       "      <td>4.23</td>\n",
       "      <td>2.63</td>\n",
       "    </tr>\n",
       "    <tr>\n",
       "      <th>4</th>\n",
       "      <td>0.31</td>\n",
       "      <td>63.3</td>\n",
       "      <td>58.0</td>\n",
       "      <td>335</td>\n",
       "      <td>4.34</td>\n",
       "      <td>4.35</td>\n",
       "      <td>2.75</td>\n",
       "    </tr>\n",
       "  </tbody>\n",
       "</table>\n",
       "</div>"
      ],
      "text/plain": [
       "   carat  depth  table  price     x     y     z\n",
       "0   0.23   61.5   55.0    326  3.95  3.98  2.43\n",
       "1   0.21   59.8   61.0    326  3.89  3.84  2.31\n",
       "2   0.23   56.9   65.0    327  4.05  4.07  2.31\n",
       "3   0.29   62.4   58.0    334  4.20  4.23  2.63\n",
       "4   0.31   63.3   58.0    335  4.34  4.35  2.75"
      ]
     },
     "execution_count": 6,
     "metadata": {},
     "output_type": "execute_result"
    }
   ],
   "source": [
    "df.head()"
   ]
  },
  {
   "cell_type": "markdown",
   "id": "d9a83cfd",
   "metadata": {},
   "source": [
    "Neden veri setine çok değişkenli olarak bakmamız lazım?\n",
    "\n",
    "Elimizde iki tane değişken olsun. Birisi yaş değişkeni diğeri evlilik sayısı değişkeni  olsun.\n",
    "\n",
    "yaş değişkenine tek başına bakarsak,\n",
    "- yaş: 17, 18, 70, 80\n",
    "yaş değişkeninin değerlerine baktığımızda aykırı bir değer yoktur. yaş söz konusu olduğunda gözlemlenebilecek olan değerlerdir.\n",
    "\n",
    "evlilik sayısı isimli bir değişken,\n",
    "- evlilik sayısı: 3, 2, 3, 1\n",
    "evlilik sayısı göz önünde bulunduğunda aykırı değerler değillerdir.\n",
    "\n",
    "iki değişkeni ayrı ayrı göz önünde bulundurduğumuzda iki değişken için aykırı bir durum söz konusu değildir.\n",
    "\n",
    "iki değişkeni aynı anda göz önünde bulundurursak\n",
    "- yaş: 17, 18, 70, 80\n",
    "- evlilik sayısı: 3, 2, 3, 1\n",
    "yaşı 17 olup evlilik sayısı 3 olan bir gözlem biriminde bu uygun bir durum değildir. bir kişi 17 yaşında ve 3 defa evlenmiş olamaz. bu bir aykırı durumdur."
   ]
  },
  {
   "cell_type": "code",
   "execution_count": null,
   "id": "73312a78",
   "metadata": {},
   "outputs": [],
   "source": []
  },
  {
   "attachments": {
    "555ba807-f405-4c6b-9fe5-88d2157ec889.png": {
     "image/png": "[encoded data removed]"
    }
   },
   "cell_type": "markdown",
   "id": "b5e764dc",
   "metadata": {},
   "source": [
    "![500px-LOF-idea.svg_.png](attachment:555ba807-f405-4c6b-9fe5-88d2157ec889.png)"
   ]
  },
  {
   "cell_type": "markdown",
   "id": "b7bab8f5",
   "metadata": {},
   "source": [
    "- her noktanın belirli uzaklıklarında noktalar var. A için en yakın 3 tane komşuya gittiğimizde aradaki mesafe diğer noktalara göre çok fazla dolayısıyla A'nın yoğunluğu diğer noktalara göre çok düşük\n",
    "- bu yaklaşımla LOF yönteminin çalışma prensibinin gösterimidir.\n",
    "- LOF, bu şekilde her bir gözlem birimi için bir yoğunluk skoru veriyor. bu skorları daha sonra eşik değer skoru olarak kullanarak bu skorun üzerinde veya aşağısında kalan değerlere göre bir aykırı gözlem inceleme işlemi gerçekleştirilir."
   ]
  },
  {
   "cell_type": "code",
   "execution_count": null,
   "id": "07e440de",
   "metadata": {},
   "outputs": [],
   "source": []
  },
  {
   "cell_type": "code",
   "execution_count": 7,
   "id": "40c82b68",
   "metadata": {},
   "outputs": [],
   "source": [
    "import numpy as np\n",
    "from sklearn.neighbors import LocalOutlierFactor"
   ]
  },
  {
   "cell_type": "code",
   "execution_count": 8,
   "id": "b948f049",
   "metadata": {},
   "outputs": [],
   "source": [
    "# LOF ile bir skorlama işlemi gerçekleştireceğiz\n",
    "# komşuluk sayısı 20, yoğunluk 0.1\n",
    "clf = LocalOutlierFactor(n_neighbors=20, contamination=0.1)"
   ]
  },
  {
   "cell_type": "code",
   "execution_count": 9,
   "id": "b4d1b2cd",
   "metadata": {},
   "outputs": [
    {
     "data": {
      "text/plain": [
       "array([-1, -1, -1, ...,  1,  1,  1])"
      ]
     },
     "execution_count": 9,
     "metadata": {},
     "output_type": "execute_result"
    }
   ],
   "source": [
    "# clf, LOF'un biçimsel özelliklerini barındırır.\n",
    "# bunları kullanarak fit etme işlemini, algoritmayı çalıştırma işlemini gerçekleştirelim.\n",
    "clf.fit_predict(df) # veri setimiz df, artık çok değişkenli çalışıyoruz."
   ]
  },
  {
   "cell_type": "code",
   "execution_count": 10,
   "id": "7acf065a",
   "metadata": {},
   "outputs": [
    {
     "data": {
      "text/plain": [
       "array([-1.58352526, -1.59732899, -1.62278873, -1.33002541, -1.30712521,\n",
       "       -1.28408436, -1.28428162, -1.26458706, -1.28422952, -1.27351342])"
      ]
     },
     "execution_count": 10,
     "metadata": {},
     "output_type": "execute_result"
    }
   ],
   "source": [
    "# şu anda elimizde her bir gözlem birimi için elde edilmiş skorlar olacak\n",
    "df_scores = clf.negative_outlier_factor_ # numpy array\n",
    "df_scores[0:10] # head(), pandas dataframe"
   ]
  },
  {
   "cell_type": "markdown",
   "id": "df0f34d7",
   "metadata": {},
   "source": [
    "Elimizde şu anda bütün gözlem değerleri için bir skor değerleri var, eşik değerleri var. buradaki bu skorlar ifade edildiği üzere elimizdeki her bir gözlem değerinin skoru, yani yoğunluk skoru, LOF skoru."
   ]
  },
  {
   "cell_type": "code",
   "execution_count": 11,
   "id": "f1a265e0",
   "metadata": {},
   "outputs": [
    {
     "data": {
      "text/plain": [
       "array([-8.60430658, -8.20889984, -5.86084355, -4.98415175, -4.81502092,\n",
       "       -4.81502092, -4.61522833, -4.37081214, -4.29842288, -4.10492387,\n",
       "       -4.0566648 , -4.01831733, -3.94882806, -3.82378797, -3.80135297,\n",
       "       -3.75680919, -3.65947378, -3.59249261, -3.55564138, -3.47157375])"
      ]
     },
     "execution_count": 11,
     "metadata": {},
     "output_type": "execute_result"
    }
   ],
   "source": [
    "# sort, sıralar\n",
    "np.sort(df_scores)[0:20]"
   ]
  },
  {
   "cell_type": "markdown",
   "id": "1a0afab9",
   "metadata": {},
   "source": [
    "burada - yönlü en büyük olan, mutlak değeri en yüksek olan, skoru en yüksek olan demektir. incelendiğinde değerlerin birbirine yakın olduğu görülür. burada belirleyecek olduğumuz bir eşik değere göre bu işlemi sürdürmemiz gerekiyor.\n",
    "\n",
    "örneğin burada 13. değer skorunu, eşik değer skoru olsun. bu skordan daha farklı olan bu skorun aşağısında kalan değerleri aykırı değer olarak tanımlayacağız. "
   ]
  },
  {
   "cell_type": "code",
   "execution_count": 12,
   "id": "5aef0161",
   "metadata": {},
   "outputs": [
    {
     "data": {
      "text/plain": [
       "-3.823787967755565"
      ]
     },
     "execution_count": 12,
     "metadata": {},
     "output_type": "execute_result"
    }
   ],
   "source": [
    "# 13. indeksdeki değeri, eşik değer olarak kabul edelim.\n",
    "esik_deger = np.sort(df_scores)[13]\n",
    "esik_deger"
   ]
  },
  {
   "cell_type": "code",
   "execution_count": 13,
   "id": "86d94473",
   "metadata": {},
   "outputs": [
    {
     "data": {
      "text/plain": [
       "array([ True,  True,  True, ...,  True,  True,  True])"
      ]
     },
     "execution_count": 13,
     "metadata": {},
     "output_type": "execute_result"
    }
   ],
   "source": [
    "# bu skorun aşağısında kalan değerleri aykırı değer olarak tanımlayacağız.\n",
    "# mutlak değerleri küçük olanlar\n",
    "aykiri_tf = df_scores > esik_deger\n",
    "aykiri_tf"
   ]
  },
  {
   "cell_type": "markdown",
   "id": "755a6a10",
   "metadata": {},
   "source": [
    "## Çok Değişenli: Silme Yöntemi"
   ]
  },
  {
   "cell_type": "code",
   "execution_count": 14,
   "id": "916062ca",
   "metadata": {},
   "outputs": [
    {
     "data": {
      "text/html": [
       "<div>\n",
       "<style scoped>\n",
       "    .dataframe tbody tr th:only-of-type {\n",
       "        vertical-align: middle;\n",
       "    }\n",
       "\n",
       "    .dataframe tbody tr th {\n",
       "        vertical-align: top;\n",
       "    }\n",
       "\n",
       "    .dataframe thead th {\n",
       "        text-align: right;\n",
       "    }\n",
       "</style>\n",
       "<table border=\"1\" class=\"dataframe\">\n",
       "  <thead>\n",
       "    <tr style=\"text-align: right;\">\n",
       "      <th></th>\n",
       "      <th>carat</th>\n",
       "      <th>depth</th>\n",
       "      <th>table</th>\n",
       "      <th>price</th>\n",
       "      <th>x</th>\n",
       "      <th>y</th>\n",
       "      <th>z</th>\n",
       "    </tr>\n",
       "  </thead>\n",
       "  <tbody>\n",
       "    <tr>\n",
       "      <th>6341</th>\n",
       "      <td>1.00</td>\n",
       "      <td>44.0</td>\n",
       "      <td>53.0</td>\n",
       "      <td>4032</td>\n",
       "      <td>6.31</td>\n",
       "      <td>6.24</td>\n",
       "      <td>4.12</td>\n",
       "    </tr>\n",
       "    <tr>\n",
       "      <th>10377</th>\n",
       "      <td>1.09</td>\n",
       "      <td>43.0</td>\n",
       "      <td>54.0</td>\n",
       "      <td>4778</td>\n",
       "      <td>6.53</td>\n",
       "      <td>6.55</td>\n",
       "      <td>4.12</td>\n",
       "    </tr>\n",
       "    <tr>\n",
       "      <th>24067</th>\n",
       "      <td>2.00</td>\n",
       "      <td>58.9</td>\n",
       "      <td>57.0</td>\n",
       "      <td>12210</td>\n",
       "      <td>8.09</td>\n",
       "      <td>58.90</td>\n",
       "      <td>8.06</td>\n",
       "    </tr>\n",
       "    <tr>\n",
       "      <th>35633</th>\n",
       "      <td>0.29</td>\n",
       "      <td>62.8</td>\n",
       "      <td>44.0</td>\n",
       "      <td>474</td>\n",
       "      <td>4.20</td>\n",
       "      <td>4.24</td>\n",
       "      <td>2.65</td>\n",
       "    </tr>\n",
       "    <tr>\n",
       "      <th>36503</th>\n",
       "      <td>0.30</td>\n",
       "      <td>51.0</td>\n",
       "      <td>67.0</td>\n",
       "      <td>945</td>\n",
       "      <td>4.67</td>\n",
       "      <td>4.62</td>\n",
       "      <td>2.37</td>\n",
       "    </tr>\n",
       "  </tbody>\n",
       "</table>\n",
       "</div>"
      ],
      "text/plain": [
       "       carat  depth  table  price     x      y     z\n",
       "6341    1.00   44.0   53.0   4032  6.31   6.24  4.12\n",
       "10377   1.09   43.0   54.0   4778  6.53   6.55  4.12\n",
       "24067   2.00   58.9   57.0  12210  8.09  58.90  8.06\n",
       "35633   0.29   62.8   44.0    474  4.20   4.24  2.65\n",
       "36503   0.30   51.0   67.0    945  4.67   4.62  2.37"
      ]
     },
     "execution_count": 14,
     "metadata": {},
     "output_type": "execute_result"
    }
   ],
   "source": [
    "# eşik değerin üzerinde olan bütün değerleri aldık.\n",
    "# aykırı olmayan değerlere eriştik\n",
    "# aykırı değerleri sildik\n",
    "yeni_df = df[df_scores < esik_deger]\n",
    "yeni_df.head() # aykırı olmayan değerler"
   ]
  },
  {
   "cell_type": "code",
   "execution_count": 15,
   "id": "5e2392ff",
   "metadata": {},
   "outputs": [
    {
     "data": {
      "text/html": [
       "<div>\n",
       "<style scoped>\n",
       "    .dataframe tbody tr th:only-of-type {\n",
       "        vertical-align: middle;\n",
       "    }\n",
       "\n",
       "    .dataframe tbody tr th {\n",
       "        vertical-align: top;\n",
       "    }\n",
       "\n",
       "    .dataframe thead th {\n",
       "        text-align: right;\n",
       "    }\n",
       "</style>\n",
       "<table border=\"1\" class=\"dataframe\">\n",
       "  <thead>\n",
       "    <tr style=\"text-align: right;\">\n",
       "      <th></th>\n",
       "      <th>carat</th>\n",
       "      <th>depth</th>\n",
       "      <th>table</th>\n",
       "      <th>price</th>\n",
       "      <th>x</th>\n",
       "      <th>y</th>\n",
       "      <th>z</th>\n",
       "    </tr>\n",
       "  </thead>\n",
       "  <tbody>\n",
       "    <tr>\n",
       "      <th>0</th>\n",
       "      <td>0.23</td>\n",
       "      <td>61.5</td>\n",
       "      <td>55.0</td>\n",
       "      <td>326</td>\n",
       "      <td>3.95</td>\n",
       "      <td>3.98</td>\n",
       "      <td>2.43</td>\n",
       "    </tr>\n",
       "    <tr>\n",
       "      <th>1</th>\n",
       "      <td>0.21</td>\n",
       "      <td>59.8</td>\n",
       "      <td>61.0</td>\n",
       "      <td>326</td>\n",
       "      <td>3.89</td>\n",
       "      <td>3.84</td>\n",
       "      <td>2.31</td>\n",
       "    </tr>\n",
       "    <tr>\n",
       "      <th>2</th>\n",
       "      <td>0.23</td>\n",
       "      <td>56.9</td>\n",
       "      <td>65.0</td>\n",
       "      <td>327</td>\n",
       "      <td>4.05</td>\n",
       "      <td>4.07</td>\n",
       "      <td>2.31</td>\n",
       "    </tr>\n",
       "    <tr>\n",
       "      <th>3</th>\n",
       "      <td>0.29</td>\n",
       "      <td>62.4</td>\n",
       "      <td>58.0</td>\n",
       "      <td>334</td>\n",
       "      <td>4.20</td>\n",
       "      <td>4.23</td>\n",
       "      <td>2.63</td>\n",
       "    </tr>\n",
       "    <tr>\n",
       "      <th>4</th>\n",
       "      <td>0.31</td>\n",
       "      <td>63.3</td>\n",
       "      <td>58.0</td>\n",
       "      <td>335</td>\n",
       "      <td>4.34</td>\n",
       "      <td>4.35</td>\n",
       "      <td>2.75</td>\n",
       "    </tr>\n",
       "    <tr>\n",
       "      <th>...</th>\n",
       "      <td>...</td>\n",
       "      <td>...</td>\n",
       "      <td>...</td>\n",
       "      <td>...</td>\n",
       "      <td>...</td>\n",
       "      <td>...</td>\n",
       "      <td>...</td>\n",
       "    </tr>\n",
       "    <tr>\n",
       "      <th>53935</th>\n",
       "      <td>0.72</td>\n",
       "      <td>60.8</td>\n",
       "      <td>57.0</td>\n",
       "      <td>2757</td>\n",
       "      <td>5.75</td>\n",
       "      <td>5.76</td>\n",
       "      <td>3.50</td>\n",
       "    </tr>\n",
       "    <tr>\n",
       "      <th>53936</th>\n",
       "      <td>0.72</td>\n",
       "      <td>63.1</td>\n",
       "      <td>55.0</td>\n",
       "      <td>2757</td>\n",
       "      <td>5.69</td>\n",
       "      <td>5.75</td>\n",
       "      <td>3.61</td>\n",
       "    </tr>\n",
       "    <tr>\n",
       "      <th>53937</th>\n",
       "      <td>0.70</td>\n",
       "      <td>62.8</td>\n",
       "      <td>60.0</td>\n",
       "      <td>2757</td>\n",
       "      <td>5.66</td>\n",
       "      <td>5.68</td>\n",
       "      <td>3.56</td>\n",
       "    </tr>\n",
       "    <tr>\n",
       "      <th>53938</th>\n",
       "      <td>0.86</td>\n",
       "      <td>61.0</td>\n",
       "      <td>58.0</td>\n",
       "      <td>2757</td>\n",
       "      <td>6.15</td>\n",
       "      <td>6.12</td>\n",
       "      <td>3.74</td>\n",
       "    </tr>\n",
       "    <tr>\n",
       "      <th>53939</th>\n",
       "      <td>0.75</td>\n",
       "      <td>62.2</td>\n",
       "      <td>55.0</td>\n",
       "      <td>2757</td>\n",
       "      <td>5.83</td>\n",
       "      <td>5.87</td>\n",
       "      <td>3.64</td>\n",
       "    </tr>\n",
       "  </tbody>\n",
       "</table>\n",
       "<p>53926 rows × 7 columns</p>\n",
       "</div>"
      ],
      "text/plain": [
       "       carat  depth  table  price     x     y     z\n",
       "0       0.23   61.5   55.0    326  3.95  3.98  2.43\n",
       "1       0.21   59.8   61.0    326  3.89  3.84  2.31\n",
       "2       0.23   56.9   65.0    327  4.05  4.07  2.31\n",
       "3       0.29   62.4   58.0    334  4.20  4.23  2.63\n",
       "4       0.31   63.3   58.0    335  4.34  4.35  2.75\n",
       "...      ...    ...    ...    ...   ...   ...   ...\n",
       "53935   0.72   60.8   57.0   2757  5.75  5.76  3.50\n",
       "53936   0.72   63.1   55.0   2757  5.69  5.75  3.61\n",
       "53937   0.70   62.8   60.0   2757  5.66  5.68  3.56\n",
       "53938   0.86   61.0   58.0   2757  6.15  6.12  3.74\n",
       "53939   0.75   62.2   55.0   2757  5.83  5.87  3.64\n",
       "\n",
       "[53926 rows x 7 columns]"
      ]
     },
     "execution_count": 15,
     "metadata": {},
     "output_type": "execute_result"
    }
   ],
   "source": [
    "# aykırı değerlere erişmek istersek\n",
    "df[df_scores > esik_deger]"
   ]
  },
  {
   "cell_type": "markdown",
   "id": "ffaf71c7",
   "metadata": {},
   "source": [
    "boxplot yönteminde örneğin table değişkenine göre tüm aykırılığı incelediğimizde yukarı ve aşağı yönlü olacak şekilde aykırı koşulunu çalıştırdığımızda çok daha fazla gözlem birimi gelmişti. çok değişkenli bir şekilde aykırı değerleri incelediğimizde burada çok daha az sayıda gözlemin geldiği görülür. "
   ]
  },
  {
   "cell_type": "markdown",
   "id": "63a3d9d0",
   "metadata": {},
   "source": [
    "## Baskılama"
   ]
  },
  {
   "cell_type": "markdown",
   "id": "e746495a",
   "metadata": {},
   "source": [
    "ortalamaları atamak istersek burada yakalamış olduğumuz bu df'in değerlerine ortalama değerlerini atayabiliriz. ya da belirlemiş olduğumuz eşik değerine göre atama işlemini gerçekleştirebiliriz.\n",
    "\n",
    "ortalama için her bir değişken için aykırılıklara gidip ortalamayı atamak gerekir. fakat baskılamada eşik değerin indeksinde olan değerin değerini atamak çok değişkenlide en mantıklı yaklaşımdır."
   ]
  },
  {
   "cell_type": "code",
   "execution_count": 16,
   "id": "62877569",
   "metadata": {},
   "outputs": [
    {
     "data": {
      "text/plain": [
       "array([False, False, False, ..., False, False, False])"
      ]
     },
     "execution_count": 16,
     "metadata": {},
     "output_type": "execute_result"
    }
   ],
   "source": [
    "df_scores == esik_deger"
   ]
  },
  {
   "cell_type": "code",
   "execution_count": 17,
   "id": "91021adf",
   "metadata": {},
   "outputs": [
    {
     "data": {
      "text/html": [
       "<div>\n",
       "<style scoped>\n",
       "    .dataframe tbody tr th:only-of-type {\n",
       "        vertical-align: middle;\n",
       "    }\n",
       "\n",
       "    .dataframe tbody tr th {\n",
       "        vertical-align: top;\n",
       "    }\n",
       "\n",
       "    .dataframe thead th {\n",
       "        text-align: right;\n",
       "    }\n",
       "</style>\n",
       "<table border=\"1\" class=\"dataframe\">\n",
       "  <thead>\n",
       "    <tr style=\"text-align: right;\">\n",
       "      <th></th>\n",
       "      <th>carat</th>\n",
       "      <th>depth</th>\n",
       "      <th>table</th>\n",
       "      <th>price</th>\n",
       "      <th>x</th>\n",
       "      <th>y</th>\n",
       "      <th>z</th>\n",
       "    </tr>\n",
       "  </thead>\n",
       "  <tbody>\n",
       "    <tr>\n",
       "      <th>31230</th>\n",
       "      <td>0.45</td>\n",
       "      <td>68.6</td>\n",
       "      <td>57.0</td>\n",
       "      <td>756</td>\n",
       "      <td>4.73</td>\n",
       "      <td>4.5</td>\n",
       "      <td>3.19</td>\n",
       "    </tr>\n",
       "  </tbody>\n",
       "</table>\n",
       "</div>"
      ],
      "text/plain": [
       "       carat  depth  table  price     x    y     z\n",
       "31230   0.45   68.6   57.0    756  4.73  4.5  3.19"
      ]
     },
     "execution_count": 17,
     "metadata": {},
     "output_type": "execute_result"
    }
   ],
   "source": [
    "df[df_scores == esik_deger] # belirlemiş olduğumuz eşik değer"
   ]
  },
  {
   "cell_type": "markdown",
   "id": "2b8a9e1a",
   "metadata": {},
   "source": [
    "eşik değeri, LOF skoru dediğimiz yoğunluk tabanlı bir skor oluşturmuştuk. bu skorların içerisinden 13. indeksteki değeri eşik değer olarak belirlemiştik. bu eşik değerin yani belirlemiş olduğumuz skorun karşılığı olan numerik gözlem birimi : 31230\t0.45\t68.6\t57.0\t756\t4.73\t4.5\t3.19"
   ]
  },
  {
   "cell_type": "markdown",
   "id": "6c4ff014",
   "metadata": {},
   "source": [
    "**Belirlemiş olduğumuz bu gözlem biriminin değerlerini, aykırı gözlemlerin yerine atıyabiliriz.**"
   ]
  },
  {
   "cell_type": "code",
   "execution_count": 18,
   "id": "f5768618",
   "metadata": {},
   "outputs": [
    {
     "data": {
      "text/html": [
       "<div>\n",
       "<style scoped>\n",
       "    .dataframe tbody tr th:only-of-type {\n",
       "        vertical-align: middle;\n",
       "    }\n",
       "\n",
       "    .dataframe tbody tr th {\n",
       "        vertical-align: top;\n",
       "    }\n",
       "\n",
       "    .dataframe thead th {\n",
       "        text-align: right;\n",
       "    }\n",
       "</style>\n",
       "<table border=\"1\" class=\"dataframe\">\n",
       "  <thead>\n",
       "    <tr style=\"text-align: right;\">\n",
       "      <th></th>\n",
       "      <th>carat</th>\n",
       "      <th>depth</th>\n",
       "      <th>table</th>\n",
       "      <th>price</th>\n",
       "      <th>x</th>\n",
       "      <th>y</th>\n",
       "      <th>z</th>\n",
       "    </tr>\n",
       "  </thead>\n",
       "  <tbody>\n",
       "    <tr>\n",
       "      <th>31230</th>\n",
       "      <td>0.45</td>\n",
       "      <td>68.6</td>\n",
       "      <td>57.0</td>\n",
       "      <td>756</td>\n",
       "      <td>4.73</td>\n",
       "      <td>4.5</td>\n",
       "      <td>3.19</td>\n",
       "    </tr>\n",
       "  </tbody>\n",
       "</table>\n",
       "</div>"
      ],
      "text/plain": [
       "       carat  depth  table  price     x    y     z\n",
       "31230   0.45   68.6   57.0    756  4.73  4.5  3.19"
      ]
     },
     "execution_count": 18,
     "metadata": {},
     "output_type": "execute_result"
    }
   ],
   "source": [
    "# Belirlemiş olduğumuz bu gözlem biriminin değerlerini, aykırı gözlemlerin yerine atıyabiliriz.\n",
    "baski_degeri=df[df_scores == esik_deger]\n",
    "baski_degeri"
   ]
  },
  {
   "cell_type": "code",
   "execution_count": 19,
   "id": "3c7a4ef9",
   "metadata": {},
   "outputs": [
    {
     "data": {
      "text/html": [
       "<div>\n",
       "<style scoped>\n",
       "    .dataframe tbody tr th:only-of-type {\n",
       "        vertical-align: middle;\n",
       "    }\n",
       "\n",
       "    .dataframe tbody tr th {\n",
       "        vertical-align: top;\n",
       "    }\n",
       "\n",
       "    .dataframe thead th {\n",
       "        text-align: right;\n",
       "    }\n",
       "</style>\n",
       "<table border=\"1\" class=\"dataframe\">\n",
       "  <thead>\n",
       "    <tr style=\"text-align: right;\">\n",
       "      <th></th>\n",
       "      <th>carat</th>\n",
       "      <th>depth</th>\n",
       "      <th>table</th>\n",
       "      <th>price</th>\n",
       "      <th>x</th>\n",
       "      <th>y</th>\n",
       "      <th>z</th>\n",
       "    </tr>\n",
       "  </thead>\n",
       "  <tbody>\n",
       "    <tr>\n",
       "      <th>0</th>\n",
       "      <td>0.23</td>\n",
       "      <td>61.5</td>\n",
       "      <td>55.0</td>\n",
       "      <td>326</td>\n",
       "      <td>3.95</td>\n",
       "      <td>3.98</td>\n",
       "      <td>2.43</td>\n",
       "    </tr>\n",
       "    <tr>\n",
       "      <th>1</th>\n",
       "      <td>0.21</td>\n",
       "      <td>59.8</td>\n",
       "      <td>61.0</td>\n",
       "      <td>326</td>\n",
       "      <td>3.89</td>\n",
       "      <td>3.84</td>\n",
       "      <td>2.31</td>\n",
       "    </tr>\n",
       "    <tr>\n",
       "      <th>2</th>\n",
       "      <td>0.23</td>\n",
       "      <td>56.9</td>\n",
       "      <td>65.0</td>\n",
       "      <td>327</td>\n",
       "      <td>4.05</td>\n",
       "      <td>4.07</td>\n",
       "      <td>2.31</td>\n",
       "    </tr>\n",
       "    <tr>\n",
       "      <th>3</th>\n",
       "      <td>0.29</td>\n",
       "      <td>62.4</td>\n",
       "      <td>58.0</td>\n",
       "      <td>334</td>\n",
       "      <td>4.20</td>\n",
       "      <td>4.23</td>\n",
       "      <td>2.63</td>\n",
       "    </tr>\n",
       "    <tr>\n",
       "      <th>4</th>\n",
       "      <td>0.31</td>\n",
       "      <td>63.3</td>\n",
       "      <td>58.0</td>\n",
       "      <td>335</td>\n",
       "      <td>4.34</td>\n",
       "      <td>4.35</td>\n",
       "      <td>2.75</td>\n",
       "    </tr>\n",
       "    <tr>\n",
       "      <th>...</th>\n",
       "      <td>...</td>\n",
       "      <td>...</td>\n",
       "      <td>...</td>\n",
       "      <td>...</td>\n",
       "      <td>...</td>\n",
       "      <td>...</td>\n",
       "      <td>...</td>\n",
       "    </tr>\n",
       "    <tr>\n",
       "      <th>53935</th>\n",
       "      <td>0.72</td>\n",
       "      <td>60.8</td>\n",
       "      <td>57.0</td>\n",
       "      <td>2757</td>\n",
       "      <td>5.75</td>\n",
       "      <td>5.76</td>\n",
       "      <td>3.50</td>\n",
       "    </tr>\n",
       "    <tr>\n",
       "      <th>53936</th>\n",
       "      <td>0.72</td>\n",
       "      <td>63.1</td>\n",
       "      <td>55.0</td>\n",
       "      <td>2757</td>\n",
       "      <td>5.69</td>\n",
       "      <td>5.75</td>\n",
       "      <td>3.61</td>\n",
       "    </tr>\n",
       "    <tr>\n",
       "      <th>53937</th>\n",
       "      <td>0.70</td>\n",
       "      <td>62.8</td>\n",
       "      <td>60.0</td>\n",
       "      <td>2757</td>\n",
       "      <td>5.66</td>\n",
       "      <td>5.68</td>\n",
       "      <td>3.56</td>\n",
       "    </tr>\n",
       "    <tr>\n",
       "      <th>53938</th>\n",
       "      <td>0.86</td>\n",
       "      <td>61.0</td>\n",
       "      <td>58.0</td>\n",
       "      <td>2757</td>\n",
       "      <td>6.15</td>\n",
       "      <td>6.12</td>\n",
       "      <td>3.74</td>\n",
       "    </tr>\n",
       "    <tr>\n",
       "      <th>53939</th>\n",
       "      <td>0.75</td>\n",
       "      <td>62.2</td>\n",
       "      <td>55.0</td>\n",
       "      <td>2757</td>\n",
       "      <td>5.83</td>\n",
       "      <td>5.87</td>\n",
       "      <td>3.64</td>\n",
       "    </tr>\n",
       "  </tbody>\n",
       "</table>\n",
       "<p>53926 rows × 7 columns</p>\n",
       "</div>"
      ],
      "text/plain": [
       "       carat  depth  table  price     x     y     z\n",
       "0       0.23   61.5   55.0    326  3.95  3.98  2.43\n",
       "1       0.21   59.8   61.0    326  3.89  3.84  2.31\n",
       "2       0.23   56.9   65.0    327  4.05  4.07  2.31\n",
       "3       0.29   62.4   58.0    334  4.20  4.23  2.63\n",
       "4       0.31   63.3   58.0    335  4.34  4.35  2.75\n",
       "...      ...    ...    ...    ...   ...   ...   ...\n",
       "53935   0.72   60.8   57.0   2757  5.75  5.76  3.50\n",
       "53936   0.72   63.1   55.0   2757  5.69  5.75  3.61\n",
       "53937   0.70   62.8   60.0   2757  5.66  5.68  3.56\n",
       "53938   0.86   61.0   58.0   2757  6.15  6.12  3.74\n",
       "53939   0.75   62.2   55.0   2757  5.83  5.87  3.64\n",
       "\n",
       "[53926 rows x 7 columns]"
      ]
     },
     "execution_count": 19,
     "metadata": {},
     "output_type": "execute_result"
    }
   ],
   "source": [
    "# Aykırı değerler\n",
    "aykirilar = df[aykiri_tf]\n",
    "aykirilar"
   ]
  },
  {
   "cell_type": "markdown",
   "id": "8494df21",
   "metadata": {},
   "source": [
    "#### Bu aykırılar yerine baskı değerini yerleştireceğiz.\n",
    "\n",
    "bu işlemi yaparken indeks problemi ortaya çıkabilir. bu indeks problemlerini gidermek için peş peşe birkaç işlem yapacağız.\n",
    "- aykirilar df'ini, indekssiz bir array'e çevireceğiz.\n",
    "- baski_degeri'ni array yapacağız. atama işlemi \n",
    "- aykırılar yerine baskı değerini yerleştireceğiz.\n",
    "\n",
    "to_records fonksiyonu, dateframe'i array'e dönüştürür."
   ]
  },
  {
   "cell_type": "code",
   "execution_count": 20,
   "id": "0aa6e7ee",
   "metadata": {},
   "outputs": [
    {
     "data": {
      "text/plain": [
       "rec.array([(0.23, 61.5, 55.,  326, 3.95, 3.98, 2.43),\n",
       "           (0.21, 59.8, 61.,  326, 3.89, 3.84, 2.31),\n",
       "           (0.23, 56.9, 65.,  327, 4.05, 4.07, 2.31), ...,\n",
       "           (0.7 , 62.8, 60., 2757, 5.66, 5.68, 3.56),\n",
       "           (0.86, 61. , 58., 2757, 6.15, 6.12, 3.74),\n",
       "           (0.75, 62.2, 55., 2757, 5.83, 5.87, 3.64)],\n",
       "          dtype=[('carat', '<f8'), ('depth', '<f8'), ('table', '<f8'), ('price', '<i8'), ('x', '<f8'), ('y', '<f8'), ('z', '<f8')])"
      ]
     },
     "execution_count": 20,
     "metadata": {},
     "output_type": "execute_result"
    }
   ],
   "source": [
    "# dataframe'i numpy array'ine dönüştürür ve indekslerinden kurtulduk.\n",
    "res = aykirilar.to_records(index=False)\n",
    "res"
   ]
  },
  {
   "cell_type": "code",
   "execution_count": 21,
   "id": "b8ba6c70",
   "metadata": {},
   "outputs": [
    {
     "data": {
      "text/plain": [
       "rec.array([(0.45, 68.6, 57., 756, 4.73, 4.5, 3.19),\n",
       "           (0.45, 68.6, 57., 756, 4.73, 4.5, 3.19),\n",
       "           (0.45, 68.6, 57., 756, 4.73, 4.5, 3.19), ...,\n",
       "           (0.45, 68.6, 57., 756, 4.73, 4.5, 3.19),\n",
       "           (0.45, 68.6, 57., 756, 4.73, 4.5, 3.19),\n",
       "           (0.45, 68.6, 57., 756, 4.73, 4.5, 3.19)],\n",
       "          dtype=[('carat', '<f8'), ('depth', '<f8'), ('table', '<f8'), ('price', '<i8'), ('x', '<f8'), ('y', '<f8'), ('z', '<f8')])"
      ]
     },
     "execution_count": 21,
     "metadata": {},
     "output_type": "execute_result"
    }
   ],
   "source": [
    "# aykırı değerleri, baskı değeri yapmış olduk.\n",
    "res[:]=baski_degeri.to_records(index=False)\n",
    "res"
   ]
  },
  {
   "cell_type": "code",
   "execution_count": 22,
   "id": "d7258f9c",
   "metadata": {},
   "outputs": [
    {
     "data": {
      "text/html": [
       "<div>\n",
       "<style scoped>\n",
       "    .dataframe tbody tr th:only-of-type {\n",
       "        vertical-align: middle;\n",
       "    }\n",
       "\n",
       "    .dataframe tbody tr th {\n",
       "        vertical-align: top;\n",
       "    }\n",
       "\n",
       "    .dataframe thead th {\n",
       "        text-align: right;\n",
       "    }\n",
       "</style>\n",
       "<table border=\"1\" class=\"dataframe\">\n",
       "  <thead>\n",
       "    <tr style=\"text-align: right;\">\n",
       "      <th></th>\n",
       "      <th>carat</th>\n",
       "      <th>depth</th>\n",
       "      <th>table</th>\n",
       "      <th>price</th>\n",
       "      <th>x</th>\n",
       "      <th>y</th>\n",
       "      <th>z</th>\n",
       "    </tr>\n",
       "  </thead>\n",
       "  <tbody>\n",
       "    <tr>\n",
       "      <th>0</th>\n",
       "      <td>0.23</td>\n",
       "      <td>61.5</td>\n",
       "      <td>55.0</td>\n",
       "      <td>326</td>\n",
       "      <td>3.95</td>\n",
       "      <td>3.98</td>\n",
       "      <td>2.43</td>\n",
       "    </tr>\n",
       "    <tr>\n",
       "      <th>1</th>\n",
       "      <td>0.21</td>\n",
       "      <td>59.8</td>\n",
       "      <td>61.0</td>\n",
       "      <td>326</td>\n",
       "      <td>3.89</td>\n",
       "      <td>3.84</td>\n",
       "      <td>2.31</td>\n",
       "    </tr>\n",
       "    <tr>\n",
       "      <th>2</th>\n",
       "      <td>0.23</td>\n",
       "      <td>56.9</td>\n",
       "      <td>65.0</td>\n",
       "      <td>327</td>\n",
       "      <td>4.05</td>\n",
       "      <td>4.07</td>\n",
       "      <td>2.31</td>\n",
       "    </tr>\n",
       "    <tr>\n",
       "      <th>3</th>\n",
       "      <td>0.29</td>\n",
       "      <td>62.4</td>\n",
       "      <td>58.0</td>\n",
       "      <td>334</td>\n",
       "      <td>4.20</td>\n",
       "      <td>4.23</td>\n",
       "      <td>2.63</td>\n",
       "    </tr>\n",
       "    <tr>\n",
       "      <th>4</th>\n",
       "      <td>0.31</td>\n",
       "      <td>63.3</td>\n",
       "      <td>58.0</td>\n",
       "      <td>335</td>\n",
       "      <td>4.34</td>\n",
       "      <td>4.35</td>\n",
       "      <td>2.75</td>\n",
       "    </tr>\n",
       "  </tbody>\n",
       "</table>\n",
       "</div>"
      ],
      "text/plain": [
       "   carat  depth  table  price     x     y     z\n",
       "0   0.23   61.5   55.0    326  3.95  3.98  2.43\n",
       "1   0.21   59.8   61.0    326  3.89  3.84  2.31\n",
       "2   0.23   56.9   65.0    327  4.05  4.07  2.31\n",
       "3   0.29   62.4   58.0    334  4.20  4.23  2.63\n",
       "4   0.31   63.3   58.0    335  4.34  4.35  2.75"
      ]
     },
     "execution_count": 22,
     "metadata": {},
     "output_type": "execute_result"
    }
   ],
   "source": [
    "# gerçek veri setinde herhangi bir değişiklik olmaz.\n",
    "# res'i, gerçek veri setine yerleştirmeliyiz.\n",
    "df[aykiri_tf].head()"
   ]
  },
  {
   "cell_type": "code",
   "execution_count": 23,
   "id": "54dc6eb6",
   "metadata": {},
   "outputs": [],
   "source": [
    "import pandas as pd"
   ]
  },
  {
   "cell_type": "code",
   "execution_count": 24,
   "id": "4592c8c2",
   "metadata": {},
   "outputs": [
    {
     "data": {
      "text/html": [
       "<div>\n",
       "<style scoped>\n",
       "    .dataframe tbody tr th:only-of-type {\n",
       "        vertical-align: middle;\n",
       "    }\n",
       "\n",
       "    .dataframe tbody tr th {\n",
       "        vertical-align: top;\n",
       "    }\n",
       "\n",
       "    .dataframe thead th {\n",
       "        text-align: right;\n",
       "    }\n",
       "</style>\n",
       "<table border=\"1\" class=\"dataframe\">\n",
       "  <thead>\n",
       "    <tr style=\"text-align: right;\">\n",
       "      <th></th>\n",
       "      <th>carat</th>\n",
       "      <th>depth</th>\n",
       "      <th>table</th>\n",
       "      <th>price</th>\n",
       "      <th>x</th>\n",
       "      <th>y</th>\n",
       "      <th>z</th>\n",
       "    </tr>\n",
       "  </thead>\n",
       "  <tbody>\n",
       "    <tr>\n",
       "      <th>0</th>\n",
       "      <td>0.45</td>\n",
       "      <td>68.6</td>\n",
       "      <td>57.0</td>\n",
       "      <td>756</td>\n",
       "      <td>4.73</td>\n",
       "      <td>4.5</td>\n",
       "      <td>3.19</td>\n",
       "    </tr>\n",
       "    <tr>\n",
       "      <th>1</th>\n",
       "      <td>0.45</td>\n",
       "      <td>68.6</td>\n",
       "      <td>57.0</td>\n",
       "      <td>756</td>\n",
       "      <td>4.73</td>\n",
       "      <td>4.5</td>\n",
       "      <td>3.19</td>\n",
       "    </tr>\n",
       "    <tr>\n",
       "      <th>2</th>\n",
       "      <td>0.45</td>\n",
       "      <td>68.6</td>\n",
       "      <td>57.0</td>\n",
       "      <td>756</td>\n",
       "      <td>4.73</td>\n",
       "      <td>4.5</td>\n",
       "      <td>3.19</td>\n",
       "    </tr>\n",
       "    <tr>\n",
       "      <th>3</th>\n",
       "      <td>0.45</td>\n",
       "      <td>68.6</td>\n",
       "      <td>57.0</td>\n",
       "      <td>756</td>\n",
       "      <td>4.73</td>\n",
       "      <td>4.5</td>\n",
       "      <td>3.19</td>\n",
       "    </tr>\n",
       "    <tr>\n",
       "      <th>4</th>\n",
       "      <td>0.45</td>\n",
       "      <td>68.6</td>\n",
       "      <td>57.0</td>\n",
       "      <td>756</td>\n",
       "      <td>4.73</td>\n",
       "      <td>4.5</td>\n",
       "      <td>3.19</td>\n",
       "    </tr>\n",
       "  </tbody>\n",
       "</table>\n",
       "</div>"
      ],
      "text/plain": [
       "   carat  depth  table  price     x    y     z\n",
       "0   0.45   68.6   57.0    756  4.73  4.5  3.19\n",
       "1   0.45   68.6   57.0    756  4.73  4.5  3.19\n",
       "2   0.45   68.6   57.0    756  4.73  4.5  3.19\n",
       "3   0.45   68.6   57.0    756  4.73  4.5  3.19\n",
       "4   0.45   68.6   57.0    756  4.73  4.5  3.19"
      ]
     },
     "execution_count": 24,
     "metadata": {},
     "output_type": "execute_result"
    }
   ],
   "source": [
    "# res'i DataFrame'e çevirmeliyiz ve indeks değerlerini atamalıyız.\n",
    "df[aykiri_tf] = pd.DataFrame(res, index = df[aykiri_tf].index)\n",
    "df[aykiri_tf].head() # orijinal veri setimizin içerisindeki aykırı değerleri, baskı değeri ile değiştirdirk."
   ]
  },
  {
   "cell_type": "markdown",
   "id": "972d0d0a",
   "metadata": {},
   "source": [
    "bütün aykırı değerlere, LOF yardımıyla eşik değer olarak belirlediğimiz değerleri atadık."
   ]
  },
  {
   "cell_type": "code",
   "execution_count": null,
   "id": "2c124d16",
   "metadata": {},
   "outputs": [],
   "source": []
  },
  {
   "cell_type": "markdown",
   "id": "88152b2c",
   "metadata": {},
   "source": [
    "özetle,\n",
    "- çok değişkenli bir şekilde aykırı gözlem analizi yaptık\n",
    "- bunun üzerinden her bir gözlem birimi için bir skor oluşturduk\n",
    "- belirlemiş olduğumuz bir skora karşılık gelen gözlem birimini eşik değer olarak seçtik\n",
    "- önce silme yaklaşımıyla bu değerleri elde etmiş olduk\n",
    "- baskılama"
   ]
  },
  {
   "cell_type": "markdown",
   "id": "8e9a1e86",
   "metadata": {},
   "source": [
    "- çok değişkenli yöntemce aykırıları tespit ettik\n",
    "- tespit ettiğimiz bu değerlere seçmiş olduğumuz skora karşılık gelen gözlem birimini atadık."
   ]
  },
  {
   "cell_type": "code",
   "execution_count": null,
   "id": "b568d16e",
   "metadata": {},
   "outputs": [],
   "source": []
  },
  {
   "cell_type": "markdown",
   "id": "617563f3",
   "metadata": {},
   "source": [
    "clf = LocalOutlierFactor(n_neighbors=20, contamination=0.1)\n",
    "\n",
    "Bu değerleri biz kendimiz veri setine ya da talebimize göre belirliyoruz.\n",
    "LOF'ta hayati değer taşıyan bu 2 parametrenin en en iyi halini bulmamız için literatürde henüz bir çalışma yok.(Bunları tune eden bir yöntemden bahsediyorum.) Ama genel olarak,\n",
    "\n",
    "- K max değeri için; potansiyel outlier sayımızdan küçük olmalı..\n",
    "Örneğin veri setimizde muhtemel 30 outlier varsa,15 yukarıdan 15 aşağıdan örneğin,  k değerini bu potansiyel outlier sayısından küçük seçmeliyiz ki, bu değerler birbirine komşu olarak görünmesin..\n",
    "Ancak bunları pratikte saptamak kolay olmayacağı için, sckit-learn genel olarak k'ya 20 değeri verildiğinde iyi çalıştığını belirtiyor.\n",
    "\n",
    "- Contamination ise data seti içindeki outlier oranını belirtiyor. 0.1 çok kullanılan değer olmakla birlikte az önce de belirttiğim gibi, kesin bir değer verilmiyor. Contamination için bir kaç değer deneyerek sonuçları kıyaslayabilirsiniz..(0.1,0.01,0.05 vs)\n",
    "\n",
    "en sık kullanılan parametrelerle işlem yapıyor."
   ]
  },
  {
   "cell_type": "code",
   "execution_count": null,
   "id": "a7987d52",
   "metadata": {},
   "outputs": [],
   "source": []
  },
  {
   "cell_type": "code",
   "execution_count": null,
   "id": "ea880483",
   "metadata": {},
   "outputs": [],
   "source": []
  },
  {
   "cell_type": "code",
   "execution_count": null,
   "id": "5161378c",
   "metadata": {},
   "outputs": [],
   "source": []
  },
  {
   "cell_type": "code",
   "execution_count": null,
   "id": "e9b043bf",
   "metadata": {},
   "outputs": [],
   "source": []
  },
  {
   "cell_type": "code",
   "execution_count": null,
   "id": "28cb4e27",
   "metadata": {},
   "outputs": [],
   "source": []
  },
  {
   "cell_type": "code",
   "execution_count": null,
   "id": "42084903",
   "metadata": {},
   "outputs": [],
   "source": []
  },
  {
   "cell_type": "code",
   "execution_count": null,
   "id": "030ebbdb",
   "metadata": {},
   "outputs": [],
   "source": []
  }
 ],
 "metadata": {
  "kernelspec": {
   "display_name": "Python 3 (ipykernel)",
   "language": "python",
   "name": "python3"
  },
  "language_info": {
   "codemirror_mode": {
    "name": "ipython",
    "version": 3
   },
   "file_extension": ".py",
   "mimetype": "text/x-python",
   "name": "python",
   "nbconvert_exporter": "python",
   "pygments_lexer": "ipython3",
   "version": "3.9.7"
  }
 },
 "nbformat": 4,
 "nbformat_minor": 5
}
