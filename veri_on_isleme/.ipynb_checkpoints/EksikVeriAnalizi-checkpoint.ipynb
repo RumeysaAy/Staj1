{
 "cells": [
  {
   "cell_type": "markdown",
   "id": "2f5f990e",
   "metadata": {},
   "source": [
    "# Eksik Veri Analizi (Missing Data Analysis)"
   ]
  },
  {
   "cell_type": "markdown",
   "id": "2fa96ba2",
   "metadata": {},
   "source": [
    "### Eksik Veri Nedir?\n",
    "İncelenen veri setindeki gözlemlerde eksiklik olması durumunu ifade etmektedir.\n",
    "\n",
    "### Eksik Veriyi Direk Silmenin Zararları\n",
    "- Eksik değere sahip gözlemlerin veri setinden direk çıkarılması ve rassallığının incelenmemesi yapılacak istatistiksel çıkarımların, modelleme çalışmalarının güvenilirliğini düşürecektir.\n",
    "- Eksik gözlemlerin veri setinden direk çıkarılabilmesi için veri setindeki eksikliğin bazı durumlarda kısmen bazı durumlarda tamamen rastlantısal olarak oluşmuş olması gerekmektedir. Eğer eksiklikler değişkenler ile ilişkili olarak ortaya çıkan yapısal problemler ile meydana gelmiş ise bu durumda yapılacak silme işlemleri ciddi yanlılıklara sebep olabilecektir."
   ]
  },
  {
   "cell_type": "markdown",
   "id": "defab7b4",
   "metadata": {},
   "source": [
    "#### 1. Veri setindeki eksikliğin yapısal bir eksiklik olup olmadığının bilinmesi gerekir!\n",
    "\n",
    "bu eksiklik rastgele mi oluştu? yoksa yapısal bir problemden dolayı mı oluştu?\n",
    "\n",
    "bir veri setinde müşterilere ilişkin toplam kredi kartı harcaması değişkeni bulunmaktadır. bazı gözlem birimlerinin, müşterilerin toplam kredi kartı harcaması sütununda boşluklar var. bu eksiklikler toplam kredi kartı harcaması değişkeninin ortalamasıyla doldurulabilir. ya da bu gözlemleri silebiliz. fakat problem bu gözlemler rastgele mi oluştu? veri aktarımı sırasında olabilir. veri girişleri sırasında olabilir. rastlantısal bir şekilde ortaya bir eksiklik mi çıktı yoksa yapısal bir problemden mi çıktı \n",
    "\n",
    "yapısal bir problemden çıkmak ne demek? aynı veri setimizin içerisinde bir de müşterilerimiz kredi kartı olması ya da olmamasını ifade eden bir başka değişken olduğunu düşünelim bu değişken, kredi kartı var mı? değişkeni olsun. 1 var, 0 yok olsun. bu veri setinde rassallığı incellemek için görselleştirdiğimizde, yapıları anlamaya çalıştığımızda gözlemlemiş olacağız ki zaten toplam kredi kartı harcaması değişkeninde NA olan, eksik olan değerler muhtemelen kredi kartı olmayan müşteriler olacaktır.\n",
    "\n",
    "buradaki toplam kredi kartı harcaması değişkeninde olan eksiklikler aslında başka bir değişkenle ilişkili yani yapısal durumdan dolayı bunlar eksik zaten kredi kartı olmayan bir kişinin toplam kredi kartı harcaması değişeninde değeri olmayacaktır.\n",
    "\n",
    "tek başına bakıldığında eksiklik gibi gözükebilir. fakat çok değişkenli bir şekilde diğer değişkenlerle mantıksal sebep sonuç bağlamında bir değerlendirme yapıldığında gözlemleniyor ki bu senaryoda kullanıcılarımızın kredi kartı yok bundan dolayı toplam kredi kartı harcaması değişkeninde boşluk var \n",
    "\n",
    "bunu bir ortalamayla doldurmak mantıksızdır. aksine veri setinin içerisinde eskisinden çok daha fazla problemli bir durum ortaya çıkaracaktır. veri setinde biz kendimiz gürültü oluşturacağız, yanlılığa sebep olacağız."
   ]
  },
  {
   "cell_type": "markdown",
   "id": "8a1c83e6",
   "metadata": {},
   "source": [
    "#### 2. NA her zaman eksiklik anlamına gelmez!\n",
    "\n",
    "bazen bir gözlem Na gördüğümüzde Na olması her zaman eksikliği ifade etmez. kredi kartına sahip olan bir kişi toplam kredi kartı harcaması değişkenindeki değeri NA olsun, eksik değer. burada da kredi kartı var ama toplam kredi kartı harcaması değişkeninde NA var. belki kişi bu ay kredi kartı harcaması yapmadı veya sisteme kaydoldu kredi kartı var ama harcama yapmadı. bu durumda ortaya çıkan NA aslında NA'i ifade etmez. toplam kredi kartı harcaması gibi bir değişkenin değerinin sıfır olduğunu ifade ediyor. NA her zaman eksiklik anlamına gelmez. bazen NA gördüğümüz durumlarda ilgili olayla ilgili ölçüm yapılmadığı ya da 0 olduğundan NA düşer. kredi kartı var ama toplam kredi kartı harcamasında örneğin aylık olabilir NA var bu durumda bu NA her zaman eksiklik anlamına gelmez oraya 0 yazmak gerekir. ölçülebilir bir değere dönüştürülebilir. "
   ]
  },
  {
   "cell_type": "markdown",
   "id": "497727c7",
   "metadata": {},
   "source": [
    "#### 3. Bilgi kaybı!\n",
    "\n",
    "eksik veriyi silmek ya da doldurmayı düşündüğümüzde aklımızda tutmamız gereken \"**bilgi kaybı**\".\n",
    "\n",
    "elimizde bir veri seti olsun. veri setimizin içerisinde 100 tane değişken var. 100 değişkenli bir veri seti gözlemliyoruz ki örneğin bir değişkende 1 tane eksiklik var. yani bir gözlem biriminde 100 tane değişkenden 1 tanesinde boşluk var. eksik değerden direk kurtulayım düşüncesiyle o gözlem birimini sildiğimizde 99 tane farklı bilgiyi kaybederiz. çok ciddi bir bilgi kaybına sebep oluruz."
   ]
  },
  {
   "cell_type": "markdown",
   "id": "31497ad9",
   "metadata": {},
   "source": [
    "Eksik veriyi silmeden önce bu üç durum göz önünde bulundurulmalıdır. "
   ]
  },
  {
   "cell_type": "code",
   "execution_count": null,
   "id": "8604409a",
   "metadata": {},
   "outputs": [],
   "source": []
  },
  {
   "cell_type": "markdown",
   "id": "b54ee611",
   "metadata": {},
   "source": [
    "### Eksik Veri Türleri Nelerdir?\n",
    "birbirinden farklı türlerde eksik veriler var. eksik veri probleminin çözümünde en önemli aşama bu eksik veri türünün ne olduğunun belirlenmesidir çünkü hangi çözüm ve atama yöntemine geçeceğimizi hangi yöntemi kullanacağımızı buna göre karar veriyoruz.\n",
    "\n",
    "- **Tümüyle Raslantısal Kayıp**: Diğer değişkenlerden ya da yapısal bir problemden kaynaklanmayan tamamen rastgele oluşan gözlemler.\n",
    "\n",
    "- **Raslantısal Kayıp**: Diğer değişkenlere bağlı olarak oluşabilen eksiklik türü.\n",
    "\n",
    "- **Raslantısal Olmayan Kayıp**: Göz ardı edilmeyecek olan ve yapısal problemler ile ortaya çıkan eksiklik türü.\n",
    "\n",
    "yani buradaki eksiklik hem diğer değişkenlere bağımlılık ile ortaya çıkmış olabilir. hemde mantıksal anlamda bazı problemlerle de ortaya çıkmış olabilir. "
   ]
  },
  {
   "cell_type": "markdown",
   "id": "aeb37e56",
   "metadata": {},
   "source": [
    "bir eksiklik var. bu eksiklikle ilgili bir işlem yapmak istiyoruz. silebiliriz ya da doldurabiliriz. silmek ya da doldurmayı ancak rassallıkla ilgili bir inceleme yaptıktan sonra yapabiliyoruz. rassallığı incelemenin yöntemleri:"
   ]
  },
  {
   "cell_type": "markdown",
   "id": "e2f9584d",
   "metadata": {},
   "source": [
    "### Eksik Veri Rassallığının Testi\n",
    "- Görsel Teknikler\n",
    "- Bağımsız İki Örneklem T Testi\n",
    "- Korelasyon Testi\n",
    "- Little'nin MCAR Testi\n",
    "\n",
    "Görsel teknikler ile aykırı gözlemlerin eksik gözlemlerin oluşma paternlerini, oluşma yapılarının rassallığını değerlendirmiş olacağız.\n",
    "\n",
    "eksik verinin doldurulması için rassallığının incelenmesi gerektiğini ve bunu hangi yöntemlerle yapabileceğimizi değerlendirdik."
   ]
  },
  {
   "cell_type": "markdown",
   "id": "a7f951b0",
   "metadata": {},
   "source": [
    "eksik gözlemleri doldurmaya çalışacağız bu doldurma atama işlemleri için hem çekici hemde tehlikelidir. çünkü veri setinin kendi içerisindeki yapı ve değişkenliğe uygun bir şekilde eksik değerler doldurulmazsa bu durumda ortaya ilk durumdan daha rahatsız edici daha yanlı daha gürültülü veri yapısı bozulmuş durumlar ortaya çıkabilmektedir."
   ]
  },
  {
   "cell_type": "markdown",
   "id": "f718c89c",
   "metadata": {},
   "source": [
    "### Eksik Veri Problemi Nasıl Giderilir?\n",
    "- **Silme Yöntemleri**\n",
    "    - Gözlem ya da değişken silme yöntemi\n",
    "    - Liste bazında silme yöntemi (Listwise Method)\n",
    "    - Çiftler bazında silme yöntemi (Pairwise Method)\n",
    "    \n",
    "- **Değer Atama Yöntemleri**\n",
    "    - Ortanca, Ortalama, Medyan\n",
    "    - En Benzer Birime Atama (hot deck)\n",
    "    - Dış Kaynaklı Atama\n",
    "\n",
    "- **Tahmine Dayalı Yöntemler**:\n",
    "    - Makine Öğrenmesi\n",
    "    - EM\n",
    "    - Çoklu Atama Yöntemi"
   ]
  },
  {
   "cell_type": "markdown",
   "id": "cc7e73a2",
   "metadata": {},
   "source": [
    "- Tahmine Dayalı Yöntemler\n",
    "\n",
    "bu yöntemlerde eksikliğe sahip olan değerler bağımlı değişkenmişcesine kabul görüp daha sonra bir modelleme çalışması yapılıp diğer değişkenlerle arasındaki ilişkiler modellenip bir tahmin etme işlemi gerçekleştirilir. "
   ]
  },
  {
   "cell_type": "markdown",
   "id": "6151b945",
   "metadata": {},
   "source": [
    "- En Benzer Birime Atama (hot deck)\n",
    "\n",
    "gözlem biriminin birbirlerine olan benzerlikleri uzaklık hesaplarıyla hesaplanıp eksikliğe sahip olan gözlem birimi en yakın gözleme yakınsa onun değerleriyle doldurma işlemi gerçekleştiriliyor."
   ]
  },
  {
   "cell_type": "markdown",
   "id": "74d7e703",
   "metadata": {},
   "source": [
    "- Dış Kaynaklı Atama\n",
    "\n",
    "eğer daha öncesinden bilinen bir sabit değerin buraya atanması uygun görülüyorsa bu değerin atanması şeklindedir"
   ]
  },
  {
   "cell_type": "markdown",
   "id": "68596574",
   "metadata": {},
   "source": [
    "- Silme Yöntemleri\n",
    "\n",
    "Eksikliğini saptamış olduğumuz bir değişkenin eğer içerisinde %70 civarında eksiklik varsa bu değişkeni komple silmiş olacağız. ya da bir gözlem biriminin içerisinde belirli bir orandan daha fazla bir eksiklik varsa %50, %60 olabilir. bu durumda bu gözlemi de direkt silmiş olacağız. neden çünkü ilgili gözlem birimi örneğin diğer değişkenlerin %50, %60'ında hiçbir bilgiye sahip değil dolayısıyla bu gözlem biriminin çalışmada tutulmasının hiçbir anlamı yok. benzer şekilde bir değişkenin değerleri incelendiğinde bununda içerisinde %50 %60 lık bir eksiklik varsa bu durumda bu değişkeninde veri setinde durmasının bir anlamı yoktur. bu değişken ya da gözlem birimlerini silmiş olacağız."
   ]
  },
  {
   "cell_type": "code",
   "execution_count": null,
   "id": "794e5ab7",
   "metadata": {},
   "outputs": [],
   "source": []
  },
  {
   "cell_type": "code",
   "execution_count": null,
   "id": "b6e58a4d",
   "metadata": {},
   "outputs": [],
   "source": []
  },
  {
   "cell_type": "code",
   "execution_count": null,
   "id": "654e9aca",
   "metadata": {},
   "outputs": [],
   "source": []
  },
  {
   "cell_type": "code",
   "execution_count": null,
   "id": "14a3ac7a",
   "metadata": {},
   "outputs": [],
   "source": []
  },
  {
   "cell_type": "code",
   "execution_count": null,
   "id": "1be58589",
   "metadata": {},
   "outputs": [],
   "source": []
  },
  {
   "cell_type": "code",
   "execution_count": null,
   "id": "c8dc9e79",
   "metadata": {},
   "outputs": [],
   "source": []
  },
  {
   "cell_type": "code",
   "execution_count": null,
   "id": "d25af236",
   "metadata": {},
   "outputs": [],
   "source": []
  },
  {
   "cell_type": "code",
   "execution_count": null,
   "id": "0d0bd85e",
   "metadata": {},
   "outputs": [],
   "source": []
  },
  {
   "cell_type": "code",
   "execution_count": null,
   "id": "04998292",
   "metadata": {},
   "outputs": [],
   "source": []
  },
  {
   "cell_type": "code",
   "execution_count": null,
   "id": "997ff170",
   "metadata": {},
   "outputs": [],
   "source": []
  },
  {
   "cell_type": "code",
   "execution_count": null,
   "id": "ef7050bf",
   "metadata": {},
   "outputs": [],
   "source": []
  },
  {
   "cell_type": "code",
   "execution_count": null,
   "id": "9f062cf8",
   "metadata": {},
   "outputs": [],
   "source": []
  },
  {
   "cell_type": "code",
   "execution_count": null,
   "id": "587cdc16",
   "metadata": {},
   "outputs": [],
   "source": []
  },
  {
   "cell_type": "code",
   "execution_count": null,
   "id": "940ae896",
   "metadata": {},
   "outputs": [],
   "source": []
  },
  {
   "cell_type": "code",
   "execution_count": null,
   "id": "532246ed",
   "metadata": {},
   "outputs": [],
   "source": []
  },
  {
   "cell_type": "code",
   "execution_count": null,
   "id": "d52a456e",
   "metadata": {},
   "outputs": [],
   "source": []
  },
  {
   "cell_type": "code",
   "execution_count": null,
   "id": "69243c06",
   "metadata": {},
   "outputs": [],
   "source": []
  },
  {
   "cell_type": "code",
   "execution_count": null,
   "id": "cd39058f",
   "metadata": {},
   "outputs": [],
   "source": []
  },
  {
   "cell_type": "code",
   "execution_count": null,
   "id": "372e8390",
   "metadata": {},
   "outputs": [],
   "source": []
  },
  {
   "cell_type": "code",
   "execution_count": null,
   "id": "6dfa85bc",
   "metadata": {},
   "outputs": [],
   "source": []
  },
  {
   "cell_type": "code",
   "execution_count": null,
   "id": "eed56bce",
   "metadata": {},
   "outputs": [],
   "source": []
  },
  {
   "cell_type": "code",
   "execution_count": null,
   "id": "6370d768",
   "metadata": {},
   "outputs": [],
   "source": []
  },
  {
   "cell_type": "code",
   "execution_count": null,
   "id": "83c05994",
   "metadata": {},
   "outputs": [],
   "source": []
  },
  {
   "cell_type": "code",
   "execution_count": null,
   "id": "d80c70bf",
   "metadata": {},
   "outputs": [],
   "source": []
  },
  {
   "cell_type": "code",
   "execution_count": null,
   "id": "99bd13e6",
   "metadata": {},
   "outputs": [],
   "source": []
  },
  {
   "cell_type": "code",
   "execution_count": null,
   "id": "d913e368",
   "metadata": {},
   "outputs": [],
   "source": []
  },
  {
   "cell_type": "code",
   "execution_count": null,
   "id": "e2e3bed4",
   "metadata": {},
   "outputs": [],
   "source": []
  },
  {
   "cell_type": "code",
   "execution_count": null,
   "id": "4e7a4658",
   "metadata": {},
   "outputs": [],
   "source": []
  }
 ],
 "metadata": {
  "kernelspec": {
   "display_name": "Python 3 (ipykernel)",
   "language": "python",
   "name": "python3"
  },
  "language_info": {
   "codemirror_mode": {
    "name": "ipython",
    "version": 3
   },
   "file_extension": ".py",
   "mimetype": "text/x-python",
   "name": "python",
   "nbconvert_exporter": "python",
   "pygments_lexer": "ipython3",
   "version": "3.9.7"
  }
 },
 "nbformat": 4,
 "nbformat_minor": 5
}
