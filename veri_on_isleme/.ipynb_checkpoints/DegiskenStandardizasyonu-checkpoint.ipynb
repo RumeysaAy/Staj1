{
 "cells": [
  {
   "cell_type": "markdown",
   "id": "c601c209",
   "metadata": {},
   "source": [
    "# Değişken Standardizasyonu (Veri Standardizasyonu)"
   ]
  },
  {
   "cell_type": "markdown",
   "id": "5aa6cef5",
   "metadata": {},
   "source": [
    "- \"Standardizasyon\" ve \"dönüşüm\" kavramlarını veriyle ilgili sıkça duyarsınız. Değişken dönüşümü ve değişken standardizasyonu gibi. Değişken dönüşümü ve değişken standardizasyonu, değişken üzerinde yapılan bir dönüşüm işlemine işaret eder.\n",
    "- Aralarındaki fark, değişken standardizasyonunda değişkenin kendi içindeki varyans yapısının ve bilgi yapısının bozulmamasıdır. Belirli bir standarta oturtulur.\n",
    "- Örneğin, değişkenin orijinal hali 10 değerine sahipse ve veri küçükten büyüğe sıralandığında 80. sıradaysa, bu değişkenin standardlaştırılmış hali 10 değeri yerine 0 ile 1 arasında bir değer alır. Ancak, veri seti yine küçükten büyüğe sıralandığında bu değer yine 80. sıraya denk gelir.\n",
    "- Dolayısıyla bir değişken standartlaştırıldığında, değişkenin değerleri değişecektir ve belirli bir formata sokulacaktır. Ancak taşımış olduğu yayılım ve dağılım bilgisi özü mevcutta kalacaktır, yani değişmeyecektir. Değişkenin ortalama, varyans gibi değerleri değişebilir, ancak taşıdığı bilginin yayılımı ve dağılımı değişmeyecektir. Bu işlem, standartlaştırma işlemidir.\n",
    "- Değişken dönüştürme ise, dönüştürülen bir değişkenin taşıdığı bilginin, orijinal haliyle korunmaması, değiştirilmesi anlamına gelir. Örneğin, cinsiyet değişkenini ele alalım. \"Kız\" ve \"Erkek\" olarak temsil edildiğinde, bu dönüştürme işlemi 0 ve 1 olarak yapılır ve değişkenin yapısı tamamen değişir. Bu, standartlaştırma gibi bir işlem değildir.\n",
    "- Bir yaş değişkeni düşünelim. Bu yaş değişkenini dönüştürmeye çalışalım. 0 ile 10 yaş arası \"Çocuk\", 10 ile 20 yaş arası \"Genç\" şeklinde dönüştürdüğümüzde yaşın içsel yapısı tamamen değişir. Eğer yaş değişkeni 0 ile 80 arasında değerlerden oluşuyorsa, bu dönüştürme sonucunda yaş değişkeni \"Çocuk\", \"Genç\", \"Yaşlı\" gibi sınıflara ayrılmış olur. Bu, değişkeni dönüştürmektir.\n",
    "- Genellikle dönüştürme işlemleri, veri setinin taşıdığı bilginin özünü bozar veya amaçlara yönelik olarak verileri sayısal olarak ifade etmek gerekebilir.\n",
    "- Nümerik temsiller oluşturur. Cinsiyet örneğinde olduğu gibi, \"Kız\" ve \"Erkek\" gibi metinsel değerleri, bazı fonksiyonların beklentilerine uygun hale getirmek için 1 ve 0 gibi nümerik değerlere dönüştürerek taşıdığı bilgiyi bir açıdan koruyabiliriz. Ancak, değişkenin yapısı değişmiş olur."
   ]
  },
  {
   "cell_type": "markdown",
   "id": "bd75ef41",
   "metadata": {},
   "source": [
    "Standartlaştırmak, veri setinin taşıdığı bilgiyi bozmadan belirli bir standarta getirir, ancak bilgiyi değiştirir. Özütünü bozmadan belirli bir standarda getirir. Dönüştürme işlemi ise veri setinin taşıdığı bilgiyi bazen bozar, bazen de temsil şeklini değiştirir."
   ]
  },
  {
   "cell_type": "code",
   "execution_count": 1,
   "id": "248e0457",
   "metadata": {},
   "outputs": [],
   "source": [
    "import numpy as np\n",
    "import pandas as pd"
   ]
  },
  {
   "cell_type": "code",
   "execution_count": 2,
   "id": "19d0c0f8",
   "metadata": {},
   "outputs": [],
   "source": [
    "V1 = np.array([1,3,6,5,7])\n",
    "V2 = np.array([7,7,5,8,12])\n",
    "V3 = np.array([6,12,5,6,14])"
   ]
  },
  {
   "cell_type": "code",
   "execution_count": 3,
   "id": "304b9081",
   "metadata": {},
   "outputs": [],
   "source": [
    "df = pd.DataFrame({\n",
    "    \"V1\":V1,\n",
    "    \"V2\":V2,\n",
    "    \"V3\":V3\n",
    "})"
   ]
  },
  {
   "cell_type": "code",
   "execution_count": 4,
   "id": "d459462d",
   "metadata": {},
   "outputs": [
    {
     "data": {
      "text/html": [
       "<div>\n",
       "<style scoped>\n",
       "    .dataframe tbody tr th:only-of-type {\n",
       "        vertical-align: middle;\n",
       "    }\n",
       "\n",
       "    .dataframe tbody tr th {\n",
       "        vertical-align: top;\n",
       "    }\n",
       "\n",
       "    .dataframe thead th {\n",
       "        text-align: right;\n",
       "    }\n",
       "</style>\n",
       "<table border=\"1\" class=\"dataframe\">\n",
       "  <thead>\n",
       "    <tr style=\"text-align: right;\">\n",
       "      <th></th>\n",
       "      <th>V1</th>\n",
       "      <th>V2</th>\n",
       "      <th>V3</th>\n",
       "    </tr>\n",
       "  </thead>\n",
       "  <tbody>\n",
       "    <tr>\n",
       "      <th>0</th>\n",
       "      <td>1.0</td>\n",
       "      <td>7.0</td>\n",
       "      <td>6.0</td>\n",
       "    </tr>\n",
       "    <tr>\n",
       "      <th>1</th>\n",
       "      <td>3.0</td>\n",
       "      <td>7.0</td>\n",
       "      <td>12.0</td>\n",
       "    </tr>\n",
       "    <tr>\n",
       "      <th>2</th>\n",
       "      <td>6.0</td>\n",
       "      <td>5.0</td>\n",
       "      <td>5.0</td>\n",
       "    </tr>\n",
       "    <tr>\n",
       "      <th>3</th>\n",
       "      <td>5.0</td>\n",
       "      <td>8.0</td>\n",
       "      <td>6.0</td>\n",
       "    </tr>\n",
       "    <tr>\n",
       "      <th>4</th>\n",
       "      <td>7.0</td>\n",
       "      <td>12.0</td>\n",
       "      <td>14.0</td>\n",
       "    </tr>\n",
       "  </tbody>\n",
       "</table>\n",
       "</div>"
      ],
      "text/plain": [
       "    V1    V2    V3\n",
       "0  1.0   7.0   6.0\n",
       "1  3.0   7.0  12.0\n",
       "2  6.0   5.0   5.0\n",
       "3  5.0   8.0   6.0\n",
       "4  7.0  12.0  14.0"
      ]
     },
     "execution_count": 4,
     "metadata": {},
     "output_type": "execute_result"
    }
   ],
   "source": [
    "# bütün veriler float'a dönüştü.\n",
    "df = df.astype(float)\n",
    "df"
   ]
  },
  {
   "cell_type": "markdown",
   "id": "90c02fbc",
   "metadata": {},
   "source": [
    "## Standardizasyon"
   ]
  },
  {
   "cell_type": "markdown",
   "id": "a75951df",
   "metadata": {},
   "source": [
    "Standardizasyon, normal dağılım bölümünde görmüştük, değerleri -3 ile 3 gibi bir aralıkta standart normal dağılım şeklinde dönüştürmeyi ifade eder.\n",
    "\n",
    "makine öğrenmesi algoritmalarının kullanacak olduğu veri setlerinde birbirinden çok farklı ölçek tiplerinde, birbirinden çok farklı türlerde değişkenler olması genel itibariyle algoritmanın çok sevmediği bir durum.\n",
    "\n",
    "eğer veri setinin içerisinde kullanılmış olan değişken ne kadar standart olursa o kadar algoritmaları zorlamıyor. bu sebeple bazı algoritmaları kullanmadan önce değişkenleri dönüştürmemiz gerekmekte, bazıları içinse gerekmemekte. dolayısıyla o bölümler geldiğinde burada öğrenmiş olduğumuz dönüştürme işlemlerini sık sık kullanıyor olacağız."
   ]
  },
  {
   "cell_type": "code",
   "execution_count": 5,
   "id": "79be5701",
   "metadata": {},
   "outputs": [],
   "source": [
    "from sklearn import preprocessing"
   ]
  },
  {
   "cell_type": "code",
   "execution_count": 6,
   "id": "ae7f8fa6",
   "metadata": {},
   "outputs": [
    {
     "data": {
      "text/plain": [
       "array([[-1.57841037, -0.34554737, -0.70920814],\n",
       "       [-0.64993368, -0.34554737,  0.92742603],\n",
       "       [ 0.74278135, -1.2094158 , -0.98198051],\n",
       "       [ 0.27854301,  0.08638684, -0.70920814],\n",
       "       [ 1.2070197 ,  1.81412369,  1.47297076]])"
      ]
     },
     "execution_count": 6,
     "metadata": {},
     "output_type": "execute_result"
    }
   ],
   "source": [
    "# veri seti içerisindeki bütün değişkenleri standartlaştırır.\n",
    "# veri seti içerisindeki örneğin bir 80 değeri artık 1.57 gibi bir değer olmuş oldu\n",
    "# ama bu işlemi bütün değişkenlere uyguladığından dolayı hepsinde standart bir dönüşüm\n",
    "# uyguladığından dolayı yapılarının birbirleriyle kıyaslanabilirliği bozulmamış oldu.\n",
    "preprocessing.scale(df)\n",
    "# scale gibi fonksiyonlarda copy True, inplace False'dır.\n",
    "# bu şu anlama gelir değişkenlerin orijinal yapısını bozmaz."
   ]
  },
  {
   "cell_type": "code",
   "execution_count": 7,
   "id": "2fa4f5bc",
   "metadata": {},
   "outputs": [
    {
     "data": {
      "text/html": [
       "<div>\n",
       "<style scoped>\n",
       "    .dataframe tbody tr th:only-of-type {\n",
       "        vertical-align: middle;\n",
       "    }\n",
       "\n",
       "    .dataframe tbody tr th {\n",
       "        vertical-align: top;\n",
       "    }\n",
       "\n",
       "    .dataframe thead th {\n",
       "        text-align: right;\n",
       "    }\n",
       "</style>\n",
       "<table border=\"1\" class=\"dataframe\">\n",
       "  <thead>\n",
       "    <tr style=\"text-align: right;\">\n",
       "      <th></th>\n",
       "      <th>V1</th>\n",
       "      <th>V2</th>\n",
       "      <th>V3</th>\n",
       "    </tr>\n",
       "  </thead>\n",
       "  <tbody>\n",
       "    <tr>\n",
       "      <th>0</th>\n",
       "      <td>1.0</td>\n",
       "      <td>7.0</td>\n",
       "      <td>6.0</td>\n",
       "    </tr>\n",
       "    <tr>\n",
       "      <th>1</th>\n",
       "      <td>3.0</td>\n",
       "      <td>7.0</td>\n",
       "      <td>12.0</td>\n",
       "    </tr>\n",
       "    <tr>\n",
       "      <th>2</th>\n",
       "      <td>6.0</td>\n",
       "      <td>5.0</td>\n",
       "      <td>5.0</td>\n",
       "    </tr>\n",
       "    <tr>\n",
       "      <th>3</th>\n",
       "      <td>5.0</td>\n",
       "      <td>8.0</td>\n",
       "      <td>6.0</td>\n",
       "    </tr>\n",
       "    <tr>\n",
       "      <th>4</th>\n",
       "      <td>7.0</td>\n",
       "      <td>12.0</td>\n",
       "      <td>14.0</td>\n",
       "    </tr>\n",
       "  </tbody>\n",
       "</table>\n",
       "</div>"
      ],
      "text/plain": [
       "    V1    V2    V3\n",
       "0  1.0   7.0   6.0\n",
       "1  3.0   7.0  12.0\n",
       "2  6.0   5.0   5.0\n",
       "3  5.0   8.0   6.0\n",
       "4  7.0  12.0  14.0"
      ]
     },
     "execution_count": 7,
     "metadata": {},
     "output_type": "execute_result"
    }
   ],
   "source": [
    "df # bir değişiklik olmadığı görülür."
   ]
  },
  {
   "cell_type": "code",
   "execution_count": 8,
   "id": "b670e9e2",
   "metadata": {},
   "outputs": [
    {
     "data": {
      "text/plain": [
       "V1    4.4\n",
       "V2    7.8\n",
       "V3    8.6\n",
       "dtype: float64"
      ]
     },
     "execution_count": 8,
     "metadata": {},
     "output_type": "execute_result"
    }
   ],
   "source": [
    "df.mean() # dönüştürme yapılmamıştır"
   ]
  },
  {
   "cell_type": "code",
   "execution_count": null,
   "id": "4ddeb996",
   "metadata": {},
   "outputs": [],
   "source": []
  },
  {
   "cell_type": "markdown",
   "id": "ab8a0eae",
   "metadata": {},
   "source": [
    "## Normalizasyon"
   ]
  },
  {
   "cell_type": "markdown",
   "id": "6106e7bc",
   "metadata": {},
   "source": [
    "Değerleri 0 ile 1 arasına dönüştürür."
   ]
  },
  {
   "cell_type": "code",
   "execution_count": 9,
   "id": "ef764b83",
   "metadata": {},
   "outputs": [
    {
     "data": {
      "text/plain": [
       "array([[0.10783277, 0.75482941, 0.64699664],\n",
       "       [0.21107926, 0.49251828, 0.84431705],\n",
       "       [0.64699664, 0.53916387, 0.53916387],\n",
       "       [0.4472136 , 0.71554175, 0.53665631],\n",
       "       [0.35491409, 0.60842415, 0.70982818]])"
      ]
     },
     "execution_count": 9,
     "metadata": {},
     "output_type": "execute_result"
    }
   ],
   "source": [
    "preprocessing.normalize(df)"
   ]
  },
  {
   "cell_type": "code",
   "execution_count": null,
   "id": "6dac60e8",
   "metadata": {},
   "outputs": [],
   "source": []
  },
  {
   "cell_type": "markdown",
   "id": "59ec0f92",
   "metadata": {},
   "source": [
    "## Min-Max Dönüşümü"
   ]
  },
  {
   "cell_type": "markdown",
   "id": "fb5a3aec",
   "metadata": {},
   "source": [
    "istemiş olduğumuz iki tane aralığın arasına değerleri dönüştürmek istersek bu durumda da min-max dönüşümünü uyguluyoruz. bu uygulamış olduğumuz değişkeni bizim belirlemiş olduğumuz min ve max değerleri arasına dönüştürmek için kullanılır.\n",
    "\n",
    "normalizasyon 0 ile 1 arasındaydı. eğer 0 ile 1 arasına değilde farklı iki değerin arasına dönüştürmek istiyoruz. bu iki değer veri setimizin içerisinde olmayan değerlerde olabilir.\n",
    "\n",
    "min 0, max 80 olsun. böyle olduğu halde min 1000, max 3000 olacak şekilde değişkenleri dönüştürme işlemine tabi tutabiliyoruz. "
   ]
  },
  {
   "cell_type": "code",
   "execution_count": 10,
   "id": "5ad8cd04",
   "metadata": {},
   "outputs": [
    {
     "data": {
      "text/plain": [
       "MinMaxScaler(feature_range=(10, 20))"
      ]
     },
     "execution_count": 10,
     "metadata": {},
     "output_type": "execute_result"
    }
   ],
   "source": [
    "# feature_range, değişkenin dönüşmesini istediğimiz aralığını belirtiriz.\n",
    "# bir dönüştürücü nesnesi oluşturduk\n",
    "# preprocessing içerisinden MinMaxScaler fonksiyonu\n",
    "scaler = preprocessing.MinMaxScaler(feature_range = (10,20))\n",
    "scaler"
   ]
  },
  {
   "cell_type": "code",
   "execution_count": 11,
   "id": "4145e5db",
   "metadata": {},
   "outputs": [
    {
     "data": {
      "text/plain": [
       "array([[10.        , 12.85714286, 11.11111111],\n",
       "       [13.33333333, 12.85714286, 17.77777778],\n",
       "       [18.33333333, 10.        , 10.        ],\n",
       "       [16.66666667, 14.28571429, 11.11111111],\n",
       "       [20.        , 20.        , 20.        ]])"
      ]
     },
     "execution_count": 11,
     "metadata": {},
     "output_type": "execute_result"
    }
   ],
   "source": [
    "# değerleri istemiş olduğumuz bir aralığa dönüştürmüş oldu\n",
    "scaler.fit_transform(df)\n",
    "# bu dönüştürücü nesnesini(scaler) fit_transform fonksiyonunu \n",
    "# kullanarak df'in üzerine uygulamış olduk."
   ]
  },
  {
   "cell_type": "code",
   "execution_count": null,
   "id": "a3dd31ee",
   "metadata": {},
   "outputs": [],
   "source": []
  },
  {
   "cell_type": "code",
   "execution_count": null,
   "id": "0ae4c5cd",
   "metadata": {},
   "outputs": [],
   "source": []
  },
  {
   "cell_type": "code",
   "execution_count": null,
   "id": "6a227ec2",
   "metadata": {},
   "outputs": [],
   "source": []
  },
  {
   "cell_type": "code",
   "execution_count": null,
   "id": "1578fc56",
   "metadata": {},
   "outputs": [],
   "source": []
  },
  {
   "cell_type": "code",
   "execution_count": null,
   "id": "9a360a5b",
   "metadata": {},
   "outputs": [],
   "source": []
  },
  {
   "cell_type": "code",
   "execution_count": null,
   "id": "a1c86e4a",
   "metadata": {},
   "outputs": [],
   "source": []
  },
  {
   "cell_type": "code",
   "execution_count": null,
   "id": "f9e6a927",
   "metadata": {},
   "outputs": [],
   "source": []
  },
  {
   "cell_type": "code",
   "execution_count": null,
   "id": "eb62baa4",
   "metadata": {},
   "outputs": [],
   "source": []
  },
  {
   "cell_type": "code",
   "execution_count": null,
   "id": "eafb8fa1",
   "metadata": {},
   "outputs": [],
   "source": []
  },
  {
   "cell_type": "code",
   "execution_count": null,
   "id": "d221ce2e",
   "metadata": {},
   "outputs": [],
   "source": []
  },
  {
   "cell_type": "code",
   "execution_count": null,
   "id": "75d8bd9d",
   "metadata": {},
   "outputs": [],
   "source": []
  },
  {
   "cell_type": "code",
   "execution_count": null,
   "id": "5a1320a4",
   "metadata": {},
   "outputs": [],
   "source": []
  },
  {
   "cell_type": "code",
   "execution_count": null,
   "id": "eb7a272d",
   "metadata": {},
   "outputs": [],
   "source": []
  },
  {
   "cell_type": "code",
   "execution_count": null,
   "id": "a3908f64",
   "metadata": {},
   "outputs": [],
   "source": []
  }
 ],
 "metadata": {
  "kernelspec": {
   "display_name": "Python 3 (ipykernel)",
   "language": "python",
   "name": "python3"
  },
  "language_info": {
   "codemirror_mode": {
    "name": "ipython",
    "version": 3
   },
   "file_extension": ".py",
   "mimetype": "text/x-python",
   "name": "python",
   "nbconvert_exporter": "python",
   "pygments_lexer": "ipython3",
   "version": "3.9.7"
  }
 },
 "nbformat": 4,
 "nbformat_minor": 5
}
