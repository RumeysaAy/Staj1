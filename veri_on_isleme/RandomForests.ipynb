{
 "cells": [
  {
   "cell_type": "markdown",
   "id": "abf2849f",
   "metadata": {},
   "source": [
    "# Makine öğrenmesi tekniği ile"
   ]
  },
  {
   "cell_type": "code",
   "execution_count": 1,
   "id": "6d7f924a",
   "metadata": {},
   "outputs": [],
   "source": [
    "import missingno as msno\n",
    "import pandas as pd\n",
    "import seaborn as sns\n",
    "import numpy as np"
   ]
  },
  {
   "cell_type": "code",
   "execution_count": 2,
   "id": "b44ba9cc",
   "metadata": {},
   "outputs": [],
   "source": [
    "df=sns.load_dataset(\"titanic\").copy()"
   ]
  },
  {
   "cell_type": "code",
   "execution_count": 3,
   "id": "e5f6669a",
   "metadata": {},
   "outputs": [],
   "source": [
    "df=df.select_dtypes(include = [\"float64\",\"int64\"])"
   ]
  },
  {
   "cell_type": "code",
   "execution_count": 4,
   "id": "d6b024e1",
   "metadata": {},
   "outputs": [
    {
     "data": {
      "text/plain": [
       "survived      0\n",
       "pclass        0\n",
       "age         177\n",
       "sibsp         0\n",
       "parch         0\n",
       "fare          0\n",
       "dtype: int64"
      ]
     },
     "execution_count": 4,
     "metadata": {},
     "output_type": "execute_result"
    }
   ],
   "source": [
    "df.isnull().sum()"
   ]
  },
  {
   "cell_type": "code",
   "execution_count": null,
   "id": "e2ffe1f4",
   "metadata": {},
   "outputs": [],
   "source": []
  },
  {
   "cell_type": "code",
   "execution_count": 5,
   "id": "8fa6a1a2",
   "metadata": {},
   "outputs": [],
   "source": [
    "bagimli_degiskenler = [\"pclass\",\"sibsp\",\"parch\",\"fare\"]"
   ]
  },
  {
   "cell_type": "code",
   "execution_count": 6,
   "id": "26979116",
   "metadata": {},
   "outputs": [],
   "source": [
    "from sklearn.ensemble import RandomForestRegressor"
   ]
  },
  {
   "cell_type": "code",
   "execution_count": 7,
   "id": "c56ffc15",
   "metadata": {},
   "outputs": [],
   "source": [
    "yas_verisi_var = df[pd.isnull(df[\"age\"]) == False]"
   ]
  },
  {
   "cell_type": "code",
   "execution_count": 8,
   "id": "862c2ac4",
   "metadata": {},
   "outputs": [],
   "source": [
    "yas_verisi_yok = df[pd.isnull(df[\"age\"])]"
   ]
  },
  {
   "cell_type": "code",
   "execution_count": null,
   "id": "55f13312",
   "metadata": {},
   "outputs": [],
   "source": []
  },
  {
   "cell_type": "code",
   "execution_count": 9,
   "id": "6e880e02",
   "metadata": {},
   "outputs": [],
   "source": [
    "rf_yas = RandomForestRegressor()"
   ]
  },
  {
   "cell_type": "code",
   "execution_count": 10,
   "id": "bed61031",
   "metadata": {},
   "outputs": [
    {
     "data": {
      "text/plain": [
       "RandomForestRegressor()"
      ]
     },
     "execution_count": 10,
     "metadata": {},
     "output_type": "execute_result"
    }
   ],
   "source": [
    "rf_yas.fit(yas_verisi_var[bagimli_degiskenler], yas_verisi_var[\"age\"])"
   ]
  },
  {
   "cell_type": "code",
   "execution_count": 11,
   "id": "8fd8efe9",
   "metadata": {},
   "outputs": [],
   "source": [
    "yeni_yas_verileri = rf_yas.predict(X=yas_verisi_yok[bagimli_degiskenler])"
   ]
  },
  {
   "cell_type": "code",
   "execution_count": null,
   "id": "1d864877",
   "metadata": {},
   "outputs": [],
   "source": []
  },
  {
   "cell_type": "code",
   "execution_count": 12,
   "id": "ef5b227d",
   "metadata": {},
   "outputs": [
    {
     "name": "stderr",
     "output_type": "stream",
     "text": [
      "/var/folders/x8/nnk_zbps5d547d0lzb19x0s80000gn/T/ipykernel_10745/4019587763.py:1: SettingWithCopyWarning: \n",
      "A value is trying to be set on a copy of a slice from a DataFrame.\n",
      "Try using .loc[row_indexer,col_indexer] = value instead\n",
      "\n",
      "See the caveats in the documentation: https://pandas.pydata.org/pandas-docs/stable/user_guide/indexing.html#returning-a-view-versus-a-copy\n",
      "  yas_verisi_yok[\"age\"] = yeni_yas_verileri.astype(int)\n"
     ]
    }
   ],
   "source": [
    "yas_verisi_yok[\"age\"] = yeni_yas_verileri.astype(int)"
   ]
  },
  {
   "cell_type": "code",
   "execution_count": 13,
   "id": "09576e39",
   "metadata": {},
   "outputs": [],
   "source": [
    "df=yas_verisi_var.append(yas_verisi_yok)\n"
   ]
  },
  {
   "cell_type": "code",
   "execution_count": 14,
   "id": "732d0265",
   "metadata": {},
   "outputs": [
    {
     "data": {
      "text/plain": [
       "survived    0\n",
       "pclass      0\n",
       "age         0\n",
       "sibsp       0\n",
       "parch       0\n",
       "fare        0\n",
       "dtype: int64"
      ]
     },
     "execution_count": 14,
     "metadata": {},
     "output_type": "execute_result"
    }
   ],
   "source": [
    "df.isnull().sum()"
   ]
  },
  {
   "cell_type": "code",
   "execution_count": null,
   "id": "92c5a5a8",
   "metadata": {},
   "outputs": [],
   "source": []
  },
  {
   "cell_type": "code",
   "execution_count": null,
   "id": "07336ac2",
   "metadata": {},
   "outputs": [],
   "source": []
  }
 ],
 "metadata": {
  "kernelspec": {
   "display_name": "Python 3 (ipykernel)",
   "language": "python",
   "name": "python3"
  },
  "language_info": {
   "codemirror_mode": {
    "name": "ipython",
    "version": 3
   },
   "file_extension": ".py",
   "mimetype": "text/x-python",
   "name": "python",
   "nbconvert_exporter": "python",
   "pygments_lexer": "ipython3",
   "version": "3.11.4"
  }
 },
 "nbformat": 4,
 "nbformat_minor": 5
}
