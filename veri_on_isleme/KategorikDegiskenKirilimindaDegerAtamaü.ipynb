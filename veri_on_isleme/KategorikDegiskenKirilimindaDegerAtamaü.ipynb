{
 "cells": [
  {
   "cell_type": "markdown",
   "id": "379c80b9",
   "metadata": {},
   "source": [
    "# Kategorik Değişken Kırılımında Değer Atama"
   ]
  },
  {
   "cell_type": "markdown",
   "id": "2be43a34",
   "metadata": {},
   "source": [
    "bir şirket olduğunu düşünelim. bu şirketin çalışanlarının çeşitli bilgilerini içeren demografik ve uzmanlığı ile ilgili maaşı ve benzeri ile ilgili değerleri içeren bir veri seti olduğunu düşünelim elimizde, gözlem birimlerimiz bütün çalışanlar ve bu çalışanlar ilişkin değişkenler yaş, maaş, departman vs.\n",
    "\n",
    "- bir çalışanımızın maaş değişkeninde bir eksiklik var buraya kadar öğrendiklerimizle 2 şey yapabiliriz. bu eksik değere sahip kişiyi silmek. ikincisi ise eksik değere sahip olan kişinin ilgili değişkendeki eksik değeri ortalamayla veya medyanla doldurmak.\n",
    "\n",
    "- bunu ortalamayla doldurduğumuzda ya bu çalışan maaş skalası yüksek olan bir departmanda çalışıyorsa ya da tam tersi olarak bu kişi maaş skalası daha düşük olan bir departmanda çalışıyorsa bu durumda şirketin bütün çalışanlarını bir arada düşünüp şirketin genel maaş ortalamasını bu kişinin maaşıymışcasına atamak mantıklı değildir.\n",
    "\n",
    "- aksine çok ciddi ve yanıltıcı olacaktır. neden çünkü örneğin kişinin çalışmış olduğu departman maaş skalasında alt taraftaysa veya çok üst taraftaysa ortalamayı atadığımızda tüm kitleyi temsil eden bir değer atadığımızdan merkezi eğilimini temsil eden değer atamış olduğumuzdan o kişinin gerçek maaşını yansıtmaz."
   ]
  },
  {
   "cell_type": "markdown",
   "id": "32fa4ac3",
   "metadata": {},
   "source": [
    "eğer veri setimizi var olan bazı kategorik değişkenler özeline kırarsak yani indirgersek örneğin pazarlama departmanının maaş ortalamasını ata ya da arge departmanının maaş ortalamasını ata. şeklinde bir kırılıma sokulursa veri seti bu durumda çok çok daha doğru bir değer atama işlemi gerçekleştirilmiş olacaktır. "
   ]
  },
  {
   "cell_type": "markdown",
   "id": "c84dd9fd",
   "metadata": {},
   "source": [
    "dolayısıyla buradan şöyle bir ders çıkarmamız lazım eğer elimizde eksikliğini doldurmak üzere bir değişken varsa öncelikle bu değişkeni kategorik başka değişkenlerce indirgeyebiliyor muyuz bakmalıyız. "
   ]
  },
  {
   "cell_type": "markdown",
   "id": "a4fca541",
   "metadata": {},
   "source": [
    "arge departmanın çalışanların ortalama maaşını atamakla, pazarlama departmanın çalışanlarının ortalama maaşını atamak karşılaştırıldığında her iki senaryoda şirketin bütün kişilerinin maaşlarının ortalaması atamaya göre çok çok daha başarılı olacaktır. çünkü departman kendi içerisinde zaten biraz daha homojendir. diğer departmanlara göre\n",
    "\n",
    "- bir adım daha ilerisine gidilebilir departmanın içerisindeki uzmanlığına göre 5 yıl uzmanlığı olanların maaşı belirli bir seviyededir, yeni girenlerin maaşı farklı bir seviyededir. \n",
    "\n",
    "- uzmanlıklar gibi bir kırılım daha ekleyebilirsek, çok daha doğru bir eksik değer atama işlemi gerçekleşmiş olacak"
   ]
  },
  {
   "cell_type": "code",
   "execution_count": null,
   "id": "5fb739fd",
   "metadata": {},
   "outputs": [],
   "source": []
  },
  {
   "cell_type": "markdown",
   "id": "fa418e62",
   "metadata": {},
   "source": [
    "## Kategorik Değişken Kırılımında Değer Atama"
   ]
  },
  {
   "cell_type": "code",
   "execution_count": 1,
   "id": "3de48c4a",
   "metadata": {},
   "outputs": [],
   "source": [
    "import numpy as np\n",
    "import pandas as pd"
   ]
  },
  {
   "cell_type": "code",
   "execution_count": 2,
   "id": "e411d067",
   "metadata": {},
   "outputs": [],
   "source": [
    "V1 = np.array([1,3,6,np.NaN,7,1,np.NaN,9,15])\n",
    "V2 = np.array([7,np.NaN,5,8,12,np.NaN,np.NaN,2,3])\n",
    "V3 = np.array([np.NaN,12,5,6,14,7,np.NaN,2,31])\n",
    "V4 = np.array([\"IT\",\"IT\",\"IK\",\"IK\",\"IK\",\"IK\",\"IK\",\"IT\",\"IT\"])"
   ]
  },
  {
   "cell_type": "code",
   "execution_count": 3,
   "id": "ff5fe956",
   "metadata": {},
   "outputs": [],
   "source": [
    "df = pd.DataFrame(\n",
    "        {\"maas\" : V1,\n",
    "         \"V2\" : V2,\n",
    "         \"V3\" : V3,\n",
    "        \"departman\" : V4}        \n",
    ")"
   ]
  },
  {
   "cell_type": "code",
   "execution_count": 4,
   "id": "75deebc4",
   "metadata": {},
   "outputs": [
    {
     "data": {
      "text/html": [
       "<div>\n",
       "<style scoped>\n",
       "    .dataframe tbody tr th:only-of-type {\n",
       "        vertical-align: middle;\n",
       "    }\n",
       "\n",
       "    .dataframe tbody tr th {\n",
       "        vertical-align: top;\n",
       "    }\n",
       "\n",
       "    .dataframe thead th {\n",
       "        text-align: right;\n",
       "    }\n",
       "</style>\n",
       "<table border=\"1\" class=\"dataframe\">\n",
       "  <thead>\n",
       "    <tr style=\"text-align: right;\">\n",
       "      <th></th>\n",
       "      <th>maas</th>\n",
       "      <th>V2</th>\n",
       "      <th>V3</th>\n",
       "      <th>departman</th>\n",
       "    </tr>\n",
       "  </thead>\n",
       "  <tbody>\n",
       "    <tr>\n",
       "      <th>0</th>\n",
       "      <td>1.0</td>\n",
       "      <td>7.0</td>\n",
       "      <td>NaN</td>\n",
       "      <td>IT</td>\n",
       "    </tr>\n",
       "    <tr>\n",
       "      <th>1</th>\n",
       "      <td>3.0</td>\n",
       "      <td>NaN</td>\n",
       "      <td>12.0</td>\n",
       "      <td>IT</td>\n",
       "    </tr>\n",
       "    <tr>\n",
       "      <th>2</th>\n",
       "      <td>6.0</td>\n",
       "      <td>5.0</td>\n",
       "      <td>5.0</td>\n",
       "      <td>IK</td>\n",
       "    </tr>\n",
       "    <tr>\n",
       "      <th>3</th>\n",
       "      <td>NaN</td>\n",
       "      <td>8.0</td>\n",
       "      <td>6.0</td>\n",
       "      <td>IK</td>\n",
       "    </tr>\n",
       "    <tr>\n",
       "      <th>4</th>\n",
       "      <td>7.0</td>\n",
       "      <td>12.0</td>\n",
       "      <td>14.0</td>\n",
       "      <td>IK</td>\n",
       "    </tr>\n",
       "    <tr>\n",
       "      <th>5</th>\n",
       "      <td>1.0</td>\n",
       "      <td>NaN</td>\n",
       "      <td>7.0</td>\n",
       "      <td>IK</td>\n",
       "    </tr>\n",
       "    <tr>\n",
       "      <th>6</th>\n",
       "      <td>NaN</td>\n",
       "      <td>NaN</td>\n",
       "      <td>NaN</td>\n",
       "      <td>IK</td>\n",
       "    </tr>\n",
       "    <tr>\n",
       "      <th>7</th>\n",
       "      <td>9.0</td>\n",
       "      <td>2.0</td>\n",
       "      <td>2.0</td>\n",
       "      <td>IT</td>\n",
       "    </tr>\n",
       "    <tr>\n",
       "      <th>8</th>\n",
       "      <td>15.0</td>\n",
       "      <td>3.0</td>\n",
       "      <td>31.0</td>\n",
       "      <td>IT</td>\n",
       "    </tr>\n",
       "  </tbody>\n",
       "</table>\n",
       "</div>"
      ],
      "text/plain": [
       "   maas    V2    V3 departman\n",
       "0   1.0   7.0   NaN        IT\n",
       "1   3.0   NaN  12.0        IT\n",
       "2   6.0   5.0   5.0        IK\n",
       "3   NaN   8.0   6.0        IK\n",
       "4   7.0  12.0  14.0        IK\n",
       "5   1.0   NaN   7.0        IK\n",
       "6   NaN   NaN   NaN        IK\n",
       "7   9.0   2.0   2.0        IT\n",
       "8  15.0   3.0  31.0        IT"
      ]
     },
     "execution_count": 4,
     "metadata": {},
     "output_type": "execute_result"
    }
   ],
   "source": [
    "df"
   ]
  },
  {
   "cell_type": "markdown",
   "id": "d1acdb7a",
   "metadata": {},
   "source": [
    "### Departmanlara göre maaş ortalamalarına bakalım"
   ]
  },
  {
   "cell_type": "code",
   "execution_count": 5,
   "id": "f01f1904",
   "metadata": {},
   "outputs": [
    {
     "data": {
      "text/plain": [
       "departman\n",
       "IK    4.666667\n",
       "IT    7.000000\n",
       "Name: maas, dtype: float64"
      ]
     },
     "execution_count": 5,
     "metadata": {},
     "output_type": "execute_result"
    }
   ],
   "source": [
    "# departmanların maaş ortalamasının ne olduğunu bulalım\n",
    "# veri setini departmanlara göre gruplayalım sonra maaşların ortalamasını alalım\n",
    "df.groupby(\"departman\")[\"maas\"].mean()"
   ]
  },
  {
   "cell_type": "markdown",
   "id": "3e944550",
   "metadata": {},
   "source": [
    "Bu departman ortalamalarını değişkenlerin içerisinde yer alan eksiklikleri doldurmak için nasıl kullanabiliriz ?"
   ]
  },
  {
   "cell_type": "code",
   "execution_count": null,
   "id": "7bc2ab0c",
   "metadata": {},
   "outputs": [],
   "source": []
  },
  {
   "cell_type": "code",
   "execution_count": 6,
   "id": "530ae2e1",
   "metadata": {},
   "outputs": [
    {
     "data": {
      "text/plain": [
       "0     1.0\n",
       "1     3.0\n",
       "2     6.0\n",
       "3     NaN\n",
       "4     7.0\n",
       "5     1.0\n",
       "6     NaN\n",
       "7     9.0\n",
       "8    15.0\n",
       "Name: maas, dtype: float64"
      ]
     },
     "execution_count": 6,
     "metadata": {},
     "output_type": "execute_result"
    }
   ],
   "source": [
    "df[\"maas\"]"
   ]
  },
  {
   "cell_type": "markdown",
   "id": "78083b26",
   "metadata": {},
   "source": [
    "- df içerisindeki `maas`, değişkeninin içerisindeki eksiklikleri doldurmak istiyoruz. ama bir kategorik değişkenin kırılımına göre doldurmak istiyoruz. \n",
    "\n",
    "- `departman` değişkenini göz önünde bulundurup buradaki NaN ifadelerini ona göre doldurmak istiyoruz. "
   ]
  },
  {
   "cell_type": "code",
   "execution_count": 7,
   "id": "22bf4204",
   "metadata": {},
   "outputs": [
    {
     "data": {
      "text/plain": [
       "0     1.000000\n",
       "1     3.000000\n",
       "2     6.000000\n",
       "3     4.666667\n",
       "4     7.000000\n",
       "5     1.000000\n",
       "6     4.666667\n",
       "7     9.000000\n",
       "8    15.000000\n",
       "Name: maas, dtype: float64"
      ]
     },
     "execution_count": 7,
     "metadata": {},
     "output_type": "execute_result"
    }
   ],
   "source": [
    "# fillna: neyi\n",
    "# groupby: gruplara bölünmüş olduktan sonra hesaplanmış \n",
    "# olan ortalamaları boşluklara doldurmuş olur.\n",
    "df[\"maas\"].fillna(df.groupby(\"departman\")[\"maas\"].transform(\"mean\"))"
   ]
  },
  {
   "cell_type": "markdown",
   "id": "0eb8445f",
   "metadata": {},
   "source": [
    "buradaki maas değişkeninin eksikliklerini departman kategorik değişkenini göz önünde bulundurarak departman özelinde doldurma işlemini gerçekleştirmiş olduk."
   ]
  },
  {
   "cell_type": "code",
   "execution_count": null,
   "id": "f228979b",
   "metadata": {},
   "outputs": [],
   "source": []
  },
  {
   "cell_type": "code",
   "execution_count": null,
   "id": "bf08caf9",
   "metadata": {},
   "outputs": [],
   "source": []
  },
  {
   "cell_type": "code",
   "execution_count": null,
   "id": "6cf8d55f",
   "metadata": {},
   "outputs": [],
   "source": []
  },
  {
   "cell_type": "code",
   "execution_count": null,
   "id": "bc10dc00",
   "metadata": {},
   "outputs": [],
   "source": []
  },
  {
   "cell_type": "code",
   "execution_count": null,
   "id": "acfd3128",
   "metadata": {},
   "outputs": [],
   "source": []
  },
  {
   "cell_type": "code",
   "execution_count": null,
   "id": "fb858870",
   "metadata": {},
   "outputs": [],
   "source": []
  },
  {
   "cell_type": "code",
   "execution_count": null,
   "id": "80ca6df3",
   "metadata": {},
   "outputs": [],
   "source": []
  },
  {
   "cell_type": "code",
   "execution_count": null,
   "id": "a37f6a42",
   "metadata": {},
   "outputs": [],
   "source": []
  },
  {
   "cell_type": "code",
   "execution_count": null,
   "id": "edbb730d",
   "metadata": {},
   "outputs": [],
   "source": []
  },
  {
   "cell_type": "code",
   "execution_count": null,
   "id": "65fd4996",
   "metadata": {},
   "outputs": [],
   "source": []
  }
 ],
 "metadata": {
  "kernelspec": {
   "display_name": "Python 3 (ipykernel)",
   "language": "python",
   "name": "python3"
  },
  "language_info": {
   "codemirror_mode": {
    "name": "ipython",
    "version": 3
   },
   "file_extension": ".py",
   "mimetype": "text/x-python",
   "name": "python",
   "nbconvert_exporter": "python",
   "pygments_lexer": "ipython3",
   "version": "3.11.4"
  }
 },
 "nbformat": 4,
 "nbformat_minor": 5
}
