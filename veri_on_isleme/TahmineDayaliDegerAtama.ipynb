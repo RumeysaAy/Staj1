{
 "cells": [
  {
   "cell_type": "markdown",
   "id": "1964a929",
   "metadata": {},
   "source": [
    "# Tahmine Dayalı Değer Atama Yöntemleri"
   ]
  },
  {
   "cell_type": "markdown",
   "id": "8029484f",
   "metadata": {},
   "source": [
    "### KNN & Random Forests & EM\n",
    "\n",
    "önceki bölümlerde eksik değerleri ya sildik ya da ortalama medyan gibi basit değerlerle doldurduk bunların ötesinde daha ileri seviyede makine öğrenmesi algoritmalarını kullanarak eksik değerleri dolduralım.\n",
    "\n",
    "elimizdeki eksik değere sahip olan değişken diğer değişkenlerce modellenip buna göre değerleri doldurulmuş olur.\n",
    "\n",
    "makine öğrenmesi yöntemleriyle eksik değerlerin nasıl doldurabileceğimizi öğreneceğiz."
   ]
  },
  {
   "cell_type": "code",
   "execution_count": 1,
   "id": "5145229b",
   "metadata": {},
   "outputs": [],
   "source": [
    "import numpy as np\n",
    "import pandas as pd\n",
    "import seaborn as sns\n",
    "import missingno as msno"
   ]
  },
  {
   "cell_type": "code",
   "execution_count": 2,
   "id": "9acb2c8e",
   "metadata": {},
   "outputs": [],
   "source": [
    "# titanic veri setini çektim.\n",
    "df = sns.load_dataset(\"titanic\")"
   ]
  },
  {
   "cell_type": "code",
   "execution_count": 3,
   "id": "3aeecf02",
   "metadata": {},
   "outputs": [],
   "source": [
    "# sadece sayısal değişkenleri aldım\n",
    "df = df.select_dtypes(include=[\"float64\",\"int64\"])"
   ]
  },
  {
   "cell_type": "code",
   "execution_count": 4,
   "id": "cf499f50",
   "metadata": {},
   "outputs": [
    {
     "data": {
      "text/html": [
       "<div>\n",
       "<style scoped>\n",
       "    .dataframe tbody tr th:only-of-type {\n",
       "        vertical-align: middle;\n",
       "    }\n",
       "\n",
       "    .dataframe tbody tr th {\n",
       "        vertical-align: top;\n",
       "    }\n",
       "\n",
       "    .dataframe thead th {\n",
       "        text-align: right;\n",
       "    }\n",
       "</style>\n",
       "<table border=\"1\" class=\"dataframe\">\n",
       "  <thead>\n",
       "    <tr style=\"text-align: right;\">\n",
       "      <th></th>\n",
       "      <th>survived</th>\n",
       "      <th>pclass</th>\n",
       "      <th>age</th>\n",
       "      <th>sibsp</th>\n",
       "      <th>parch</th>\n",
       "      <th>fare</th>\n",
       "    </tr>\n",
       "  </thead>\n",
       "  <tbody>\n",
       "    <tr>\n",
       "      <th>0</th>\n",
       "      <td>0</td>\n",
       "      <td>3</td>\n",
       "      <td>22.0</td>\n",
       "      <td>1</td>\n",
       "      <td>0</td>\n",
       "      <td>7.2500</td>\n",
       "    </tr>\n",
       "    <tr>\n",
       "      <th>1</th>\n",
       "      <td>1</td>\n",
       "      <td>1</td>\n",
       "      <td>38.0</td>\n",
       "      <td>1</td>\n",
       "      <td>0</td>\n",
       "      <td>71.2833</td>\n",
       "    </tr>\n",
       "    <tr>\n",
       "      <th>2</th>\n",
       "      <td>1</td>\n",
       "      <td>3</td>\n",
       "      <td>26.0</td>\n",
       "      <td>0</td>\n",
       "      <td>0</td>\n",
       "      <td>7.9250</td>\n",
       "    </tr>\n",
       "    <tr>\n",
       "      <th>3</th>\n",
       "      <td>1</td>\n",
       "      <td>1</td>\n",
       "      <td>35.0</td>\n",
       "      <td>1</td>\n",
       "      <td>0</td>\n",
       "      <td>53.1000</td>\n",
       "    </tr>\n",
       "    <tr>\n",
       "      <th>4</th>\n",
       "      <td>0</td>\n",
       "      <td>3</td>\n",
       "      <td>35.0</td>\n",
       "      <td>0</td>\n",
       "      <td>0</td>\n",
       "      <td>8.0500</td>\n",
       "    </tr>\n",
       "  </tbody>\n",
       "</table>\n",
       "</div>"
      ],
      "text/plain": [
       "   survived  pclass   age  sibsp  parch     fare\n",
       "0         0       3  22.0      1      0   7.2500\n",
       "1         1       1  38.0      1      0  71.2833\n",
       "2         1       3  26.0      0      0   7.9250\n",
       "3         1       1  35.0      1      0  53.1000\n",
       "4         0       3  35.0      0      0   8.0500"
      ]
     },
     "execution_count": 4,
     "metadata": {},
     "output_type": "execute_result"
    }
   ],
   "source": [
    "df.head()"
   ]
  },
  {
   "cell_type": "code",
   "execution_count": 5,
   "id": "4072a72b",
   "metadata": {},
   "outputs": [
    {
     "data": {
      "text/plain": [
       "survived      0\n",
       "pclass        0\n",
       "age         177\n",
       "sibsp         0\n",
       "parch         0\n",
       "fare          0\n",
       "dtype: int64"
      ]
     },
     "execution_count": 5,
     "metadata": {},
     "output_type": "execute_result"
    }
   ],
   "source": [
    "# her değişkenden kaç tane eksik onu gösterdim\n",
    "df.isnull().sum()"
   ]
  },
  {
   "cell_type": "markdown",
   "id": "1c8640e8",
   "metadata": {},
   "source": [
    "age'de 177 adet eksik değer var. şimdi bunu tahmine dayalı yöntemleri kullanarak nasıl doldurabileceğimizi öğreneceğiz. "
   ]
  },
  {
   "cell_type": "code",
   "execution_count": 6,
   "id": "194e3ac6",
   "metadata": {
    "collapsed": true,
    "jupyter": {
     "outputs_hidden": true
    }
   },
   "outputs": [
    {
     "name": "stdout",
     "output_type": "stream",
     "text": [
      "Requirement already satisfied: ycimpute in /opt/anaconda3/lib/python3.9/site-packages (0.2)\n",
      "Requirement already satisfied: six in /opt/anaconda3/lib/python3.9/site-packages (from ycimpute) (1.16.0)\n",
      "Requirement already satisfied: numpy>=1.10 in /opt/anaconda3/lib/python3.9/site-packages (from ycimpute) (1.20.3)\n",
      "Requirement already satisfied: scipy in /opt/anaconda3/lib/python3.9/site-packages (from ycimpute) (1.7.1)\n",
      "Requirement already satisfied: scikit-learn>=0.17.1 in /opt/anaconda3/lib/python3.9/site-packages (from ycimpute) (0.24.2)\n",
      "Requirement already satisfied: torch>=1.1.0 in /opt/anaconda3/lib/python3.9/site-packages (from ycimpute) (2.0.1)\n",
      "Requirement already satisfied: joblib>=0.11 in /opt/anaconda3/lib/python3.9/site-packages (from scikit-learn>=0.17.1->ycimpute) (1.1.0)\n",
      "Requirement already satisfied: threadpoolctl>=2.0.0 in /opt/anaconda3/lib/python3.9/site-packages (from scikit-learn>=0.17.1->ycimpute) (2.2.0)\n",
      "Requirement already satisfied: filelock in /opt/anaconda3/lib/python3.9/site-packages (from torch>=1.1.0->ycimpute) (3.3.1)\n",
      "Requirement already satisfied: typing-extensions in /opt/anaconda3/lib/python3.9/site-packages (from torch>=1.1.0->ycimpute) (3.10.0.2)\n",
      "Requirement already satisfied: sympy in /opt/anaconda3/lib/python3.9/site-packages (from torch>=1.1.0->ycimpute) (1.9)\n",
      "Requirement already satisfied: networkx in /opt/anaconda3/lib/python3.9/site-packages (from torch>=1.1.0->ycimpute) (2.6.3)\n",
      "Requirement already satisfied: jinja2 in /opt/anaconda3/lib/python3.9/site-packages (from torch>=1.1.0->ycimpute) (2.11.3)\n",
      "Requirement already satisfied: MarkupSafe>=0.23 in /opt/anaconda3/lib/python3.9/site-packages (from jinja2->torch>=1.1.0->ycimpute) (1.1.1)\n",
      "Requirement already satisfied: mpmath>=0.19 in /opt/anaconda3/lib/python3.9/site-packages (from sympy->torch>=1.1.0->ycimpute) (1.2.1)\n",
      "Note: you may need to restart the kernel to use updated packages.\n"
     ]
    }
   ],
   "source": [
    "pip install ycimpute"
   ]
  },
  {
   "cell_type": "markdown",
   "id": "7e61a84d",
   "metadata": {},
   "source": [
    "## KNN\n",
    "\n",
    "KNN(K-En Yakın Komşu) yöntemiyle -bir makine öğrenmesi algoritması- bir doldurma işlemi gerçekleştireceğiz."
   ]
  },
  {
   "cell_type": "code",
   "execution_count": 7,
   "id": "69c0b2db",
   "metadata": {},
   "outputs": [],
   "source": [
    "from ycimpute.imputer import knnimput"
   ]
  },
  {
   "cell_type": "markdown",
   "id": "a4763cc2",
   "metadata": {},
   "source": [
    "değişkenlerin ismini tutmamız gerekiyor. çünkü bu atama işlemini yapabilmek için KNN input fonksiyonu bizden bir numpy array'ı bekliyor.\n",
    "\n",
    "dolayısıyla öncelikle DataFrame'in isimlerini bir yerde saklayıp, daha sonra veri setini numpy array'ine çevireceğiz atama işlemlerinden sonra tekrar isimlendirme işlemlerini gerçekleştireceğiz."
   ]
  },
  {
   "cell_type": "code",
   "execution_count": 8,
   "id": "1a76712d",
   "metadata": {},
   "outputs": [
    {
     "data": {
      "text/plain": [
       "['survived', 'pclass', 'age', 'sibsp', 'parch', 'fare']"
      ]
     },
     "execution_count": 8,
     "metadata": {},
     "output_type": "execute_result"
    }
   ],
   "source": [
    "var_names = list(df)\n",
    "var_names"
   ]
  },
  {
   "cell_type": "code",
   "execution_count": 10,
   "id": "ed26998c",
   "metadata": {},
   "outputs": [
    {
     "data": {
      "text/plain": [
       "array([[ 0.    ,  3.    , 22.    ,  1.    ,  0.    ,  7.25  ],\n",
       "       [ 1.    ,  1.    , 38.    ,  1.    ,  0.    , 71.2833],\n",
       "       [ 1.    ,  3.    , 26.    ,  0.    ,  0.    ,  7.925 ],\n",
       "       [ 1.    ,  1.    , 35.    ,  1.    ,  0.    , 53.1   ],\n",
       "       [ 0.    ,  3.    , 35.    ,  0.    ,  0.    ,  8.05  ],\n",
       "       [ 0.    ,  3.    ,     nan,  0.    ,  0.    ,  8.4583],\n",
       "       [ 0.    ,  1.    , 54.    ,  0.    ,  0.    , 51.8625],\n",
       "       [ 0.    ,  3.    ,  2.    ,  3.    ,  1.    , 21.075 ],\n",
       "       [ 1.    ,  3.    , 27.    ,  0.    ,  2.    , 11.1333],\n",
       "       [ 1.    ,  2.    , 14.    ,  1.    ,  0.    , 30.0708]])"
      ]
     },
     "execution_count": 10,
     "metadata": {},
     "output_type": "execute_result"
    }
   ],
   "source": [
    "# DataFrame'i numpy array'ine çevirelim\n",
    "n_df = np.array(df)\n",
    "n_df[0:10] # DataFrame, numpy array'ine çevrildi."
   ]
  },
  {
   "cell_type": "code",
   "execution_count": 11,
   "id": "30cb3dfe",
   "metadata": {},
   "outputs": [
    {
     "data": {
      "text/plain": [
       "(891, 6)"
      ]
     },
     "execution_count": 11,
     "metadata": {},
     "output_type": "execute_result"
    }
   ],
   "source": [
    "n_df.shape # gözlem birimi sayısı, değişken sayısı"
   ]
  },
  {
   "cell_type": "code",
   "execution_count": 12,
   "id": "bb410d3a",
   "metadata": {},
   "outputs": [
    {
     "name": "stdout",
     "output_type": "stream",
     "text": [
      "Imputing row 1/891 with 0 missing, elapsed time: 0.112\n",
      "Imputing row 101/891 with 0 missing, elapsed time: 0.114\n",
      "Imputing row 201/891 with 0 missing, elapsed time: 0.115\n",
      "Imputing row 301/891 with 1 missing, elapsed time: 0.116\n",
      "Imputing row 401/891 with 0 missing, elapsed time: 0.116\n",
      "Imputing row 501/891 with 0 missing, elapsed time: 0.117\n",
      "Imputing row 601/891 with 0 missing, elapsed time: 0.118\n",
      "Imputing row 701/891 with 0 missing, elapsed time: 0.118\n",
      "Imputing row 801/891 with 0 missing, elapsed time: 0.119\n"
     ]
    }
   ],
   "source": [
    "# k=4: komşuluk sayısını ifade eder.\n",
    "# complete(n_df): n_df'i doldur. (numpy array nesnesi)\n",
    "dff = knnimput.KNN(k = 4).complete(n_df)\n",
    "# eksik olan değerleri doldurur"
   ]
  },
  {
   "cell_type": "code",
   "execution_count": 13,
   "id": "2f858d4c",
   "metadata": {},
   "outputs": [
    {
     "data": {
      "text/plain": [
       "numpy.ndarray"
      ]
     },
     "execution_count": 13,
     "metadata": {},
     "output_type": "execute_result"
    }
   ],
   "source": [
    "type(dff)"
   ]
  },
  {
   "cell_type": "code",
   "execution_count": 16,
   "id": "1d77d50a",
   "metadata": {},
   "outputs": [
    {
     "data": {
      "text/html": [
       "<div>\n",
       "<style scoped>\n",
       "    .dataframe tbody tr th:only-of-type {\n",
       "        vertical-align: middle;\n",
       "    }\n",
       "\n",
       "    .dataframe tbody tr th {\n",
       "        vertical-align: top;\n",
       "    }\n",
       "\n",
       "    .dataframe thead th {\n",
       "        text-align: right;\n",
       "    }\n",
       "</style>\n",
       "<table border=\"1\" class=\"dataframe\">\n",
       "  <thead>\n",
       "    <tr style=\"text-align: right;\">\n",
       "      <th></th>\n",
       "      <th>survived</th>\n",
       "      <th>pclass</th>\n",
       "      <th>age</th>\n",
       "      <th>sibsp</th>\n",
       "      <th>parch</th>\n",
       "      <th>fare</th>\n",
       "    </tr>\n",
       "  </thead>\n",
       "  <tbody>\n",
       "    <tr>\n",
       "      <th>0</th>\n",
       "      <td>0.0</td>\n",
       "      <td>3.0</td>\n",
       "      <td>22.000</td>\n",
       "      <td>1.0</td>\n",
       "      <td>0.0</td>\n",
       "      <td>7.2500</td>\n",
       "    </tr>\n",
       "    <tr>\n",
       "      <th>1</th>\n",
       "      <td>1.0</td>\n",
       "      <td>1.0</td>\n",
       "      <td>38.000</td>\n",
       "      <td>1.0</td>\n",
       "      <td>0.0</td>\n",
       "      <td>71.2833</td>\n",
       "    </tr>\n",
       "    <tr>\n",
       "      <th>2</th>\n",
       "      <td>1.0</td>\n",
       "      <td>3.0</td>\n",
       "      <td>26.000</td>\n",
       "      <td>0.0</td>\n",
       "      <td>0.0</td>\n",
       "      <td>7.9250</td>\n",
       "    </tr>\n",
       "    <tr>\n",
       "      <th>3</th>\n",
       "      <td>1.0</td>\n",
       "      <td>1.0</td>\n",
       "      <td>35.000</td>\n",
       "      <td>1.0</td>\n",
       "      <td>0.0</td>\n",
       "      <td>53.1000</td>\n",
       "    </tr>\n",
       "    <tr>\n",
       "      <th>4</th>\n",
       "      <td>0.0</td>\n",
       "      <td>3.0</td>\n",
       "      <td>35.000</td>\n",
       "      <td>0.0</td>\n",
       "      <td>0.0</td>\n",
       "      <td>8.0500</td>\n",
       "    </tr>\n",
       "    <tr>\n",
       "      <th>5</th>\n",
       "      <td>0.0</td>\n",
       "      <td>3.0</td>\n",
       "      <td>39.375</td>\n",
       "      <td>0.0</td>\n",
       "      <td>0.0</td>\n",
       "      <td>8.4583</td>\n",
       "    </tr>\n",
       "    <tr>\n",
       "      <th>6</th>\n",
       "      <td>0.0</td>\n",
       "      <td>1.0</td>\n",
       "      <td>54.000</td>\n",
       "      <td>0.0</td>\n",
       "      <td>0.0</td>\n",
       "      <td>51.8625</td>\n",
       "    </tr>\n",
       "    <tr>\n",
       "      <th>7</th>\n",
       "      <td>0.0</td>\n",
       "      <td>3.0</td>\n",
       "      <td>2.000</td>\n",
       "      <td>3.0</td>\n",
       "      <td>1.0</td>\n",
       "      <td>21.0750</td>\n",
       "    </tr>\n",
       "    <tr>\n",
       "      <th>8</th>\n",
       "      <td>1.0</td>\n",
       "      <td>3.0</td>\n",
       "      <td>27.000</td>\n",
       "      <td>0.0</td>\n",
       "      <td>2.0</td>\n",
       "      <td>11.1333</td>\n",
       "    </tr>\n",
       "    <tr>\n",
       "      <th>9</th>\n",
       "      <td>1.0</td>\n",
       "      <td>2.0</td>\n",
       "      <td>14.000</td>\n",
       "      <td>1.0</td>\n",
       "      <td>0.0</td>\n",
       "      <td>30.0708</td>\n",
       "    </tr>\n",
       "  </tbody>\n",
       "</table>\n",
       "</div>"
      ],
      "text/plain": [
       "   survived  pclass     age  sibsp  parch     fare\n",
       "0       0.0     3.0  22.000    1.0    0.0   7.2500\n",
       "1       1.0     1.0  38.000    1.0    0.0  71.2833\n",
       "2       1.0     3.0  26.000    0.0    0.0   7.9250\n",
       "3       1.0     1.0  35.000    1.0    0.0  53.1000\n",
       "4       0.0     3.0  35.000    0.0    0.0   8.0500\n",
       "5       0.0     3.0  39.375    0.0    0.0   8.4583\n",
       "6       0.0     1.0  54.000    0.0    0.0  51.8625\n",
       "7       0.0     3.0   2.000    3.0    1.0  21.0750\n",
       "8       1.0     3.0  27.000    0.0    2.0  11.1333\n",
       "9       1.0     2.0  14.000    1.0    0.0  30.0708"
      ]
     },
     "execution_count": 16,
     "metadata": {},
     "output_type": "execute_result"
    }
   ],
   "source": [
    "# dff, bir numpy array'i olduğundan pandas DataFrame'ine çevirmeliyiz.\n",
    "# var_names: değişkenlerin isimleriydi\n",
    "# değişkenin isimlerini dff(numpy array)'e isimlendirme yaparak ekleyerek bunun üzerinden \n",
    "# bir DataFrame oluşturuyoruz\n",
    "dff = pd.DataFrame(dff, columns = var_names)\n",
    "dff.head(10)"
   ]
  },
  {
   "cell_type": "code",
   "execution_count": 17,
   "id": "3ed3261c",
   "metadata": {},
   "outputs": [
    {
     "data": {
      "text/plain": [
       "pandas.core.frame.DataFrame"
      ]
     },
     "execution_count": 17,
     "metadata": {},
     "output_type": "execute_result"
    }
   ],
   "source": [
    "type(dff) # DataFrame"
   ]
  },
  {
   "cell_type": "code",
   "execution_count": 18,
   "id": "aff6b2c6",
   "metadata": {},
   "outputs": [
    {
     "data": {
      "text/plain": [
       "survived    0\n",
       "pclass      0\n",
       "age         0\n",
       "sibsp       0\n",
       "parch       0\n",
       "fare        0\n",
       "dtype: int64"
      ]
     },
     "execution_count": 18,
     "metadata": {},
     "output_type": "execute_result"
    }
   ],
   "source": [
    "# oluşturduğumuz pandas DataFrame üzerinden eksik değerleri sorgulayalım\n",
    "dff.isnull().sum()"
   ]
  },
  {
   "cell_type": "code",
   "execution_count": null,
   "id": "8a48376f",
   "metadata": {},
   "outputs": [],
   "source": []
  },
  {
   "cell_type": "markdown",
   "id": "509f6644",
   "metadata": {},
   "source": [
    "## Random Forests (farklı py dosyasında)"
   ]
  },
  {
   "cell_type": "code",
   "execution_count": 24,
   "id": "34926fc9",
   "metadata": {},
   "outputs": [],
   "source": [
    "df = sns.load_dataset(\"titanic\")"
   ]
  },
  {
   "cell_type": "code",
   "execution_count": 25,
   "id": "ea0939ab",
   "metadata": {},
   "outputs": [],
   "source": [
    "df = df.select_dtypes(include = [\"float64\",\"int64\"])"
   ]
  },
  {
   "cell_type": "code",
   "execution_count": 26,
   "id": "d39ace28",
   "metadata": {},
   "outputs": [
    {
     "data": {
      "text/plain": [
       "survived      0\n",
       "pclass        0\n",
       "age         177\n",
       "sibsp         0\n",
       "parch         0\n",
       "fare          0\n",
       "dtype: int64"
      ]
     },
     "execution_count": 26,
     "metadata": {},
     "output_type": "execute_result"
    }
   ],
   "source": [
    "# DataFrame içerisindeki eksiklikler\n",
    "df.isnull().sum()"
   ]
  },
  {
   "cell_type": "code",
   "execution_count": 27,
   "id": "16cf90fb",
   "metadata": {},
   "outputs": [],
   "source": [
    "# değişkenlerin isimlerini aldım.\n",
    "var_names = list(df)"
   ]
  },
  {
   "cell_type": "code",
   "execution_count": 28,
   "id": "ce8a87b0",
   "metadata": {},
   "outputs": [],
   "source": [
    "# numpy array'ine dönüştürdüm.\n",
    "n_df = np.array(df)"
   ]
  },
  {
   "cell_type": "code",
   "execution_count": 29,
   "id": "28bf045f",
   "metadata": {},
   "outputs": [],
   "source": [
    "from ycimpute.imputer import iterforest"
   ]
  },
  {
   "cell_type": "code",
   "execution_count": 30,
   "id": "67484a04",
   "metadata": {},
   "outputs": [
    {
     "ename": "AttributeError",
     "evalue": "module 'ycimpute.imputer.iterforest' has no attribute 'IterImput'",
     "output_type": "error",
     "traceback": [
      "\u001b[0;31m---------------------------------------------------------------------------\u001b[0m",
      "\u001b[0;31mAttributeError\u001b[0m                            Traceback (most recent call last)",
      "\u001b[0;32m/var/folders/x8/nnk_zbps5d547d0lzb19x0s80000gn/T/ipykernel_5572/110611271.py\u001b[0m in \u001b[0;36m<module>\u001b[0;34m\u001b[0m\n\u001b[1;32m      1\u001b[0m \u001b[0;31m# n_df'in içerisindeki eksik değerleri doldur: complete(n_df)\u001b[0m\u001b[0;34m\u001b[0m\u001b[0;34m\u001b[0m\u001b[0m\n\u001b[0;32m----> 2\u001b[0;31m \u001b[0mdff\u001b[0m \u001b[0;34m=\u001b[0m \u001b[0miterforest\u001b[0m\u001b[0;34m.\u001b[0m\u001b[0mIterImput\u001b[0m\u001b[0;34m(\u001b[0m\u001b[0;34m)\u001b[0m\u001b[0;34m.\u001b[0m\u001b[0mcomplete\u001b[0m\u001b[0;34m(\u001b[0m\u001b[0mn_df\u001b[0m\u001b[0;34m)\u001b[0m\u001b[0;34m\u001b[0m\u001b[0;34m\u001b[0m\u001b[0m\n\u001b[0m",
      "\u001b[0;31mAttributeError\u001b[0m: module 'ycimpute.imputer.iterforest' has no attribute 'IterImput'"
     ]
    }
   ],
   "source": [
    "# n_df'in içerisindeki eksik değerleri doldur: complete(n_df)\n",
    "dff = iterforest.IterImput().complete(n_df)"
   ]
  },
  {
   "cell_type": "code",
   "execution_count": null,
   "id": "c09f890f",
   "metadata": {},
   "outputs": [],
   "source": [
    "# dff'i, var_names(değişkenlerin isimleri) ile DataFrame'e çevirdik\n",
    "dff = pd.DataFrame(dff, columns = var_names)\n",
    "dff.head(10)"
   ]
  },
  {
   "cell_type": "code",
   "execution_count": null,
   "id": "c4db5947",
   "metadata": {},
   "outputs": [],
   "source": [
    "# eksik değerleri sorgulayalım\n",
    "dff.isnull().sum()"
   ]
  },
  {
   "cell_type": "code",
   "execution_count": null,
   "id": "08cbbae0",
   "metadata": {},
   "outputs": [],
   "source": []
  },
  {
   "cell_type": "markdown",
   "id": "9f14e52d",
   "metadata": {},
   "source": [
    "# EM Algoritmasıyla"
   ]
  },
  {
   "cell_type": "code",
   "execution_count": 31,
   "id": "b3284d04",
   "metadata": {},
   "outputs": [],
   "source": [
    "df = sns.load_dataset(\"titanic\")"
   ]
  },
  {
   "cell_type": "code",
   "execution_count": 32,
   "id": "d3da2fa5",
   "metadata": {},
   "outputs": [],
   "source": [
    "df = df.select_dtypes(include = [\"float64\",\"int64\"])"
   ]
  },
  {
   "cell_type": "code",
   "execution_count": 33,
   "id": "336b7166",
   "metadata": {},
   "outputs": [],
   "source": [
    "from ycimpute.imputer import EM"
   ]
  },
  {
   "cell_type": "code",
   "execution_count": 34,
   "id": "9a9e09d3",
   "metadata": {},
   "outputs": [],
   "source": [
    "var_names = list(df)"
   ]
  },
  {
   "cell_type": "code",
   "execution_count": 35,
   "id": "2b7a93ab",
   "metadata": {},
   "outputs": [
    {
     "data": {
      "text/plain": [
       "array([[ 0.    ,  3.    , 22.    ,  1.    ,  0.    ,  7.25  ],\n",
       "       [ 1.    ,  1.    , 38.    ,  1.    ,  0.    , 71.2833],\n",
       "       [ 1.    ,  3.    , 26.    ,  0.    ,  0.    ,  7.925 ],\n",
       "       [ 1.    ,  1.    , 35.    ,  1.    ,  0.    , 53.1   ],\n",
       "       [ 0.    ,  3.    , 35.    ,  0.    ,  0.    ,  8.05  ],\n",
       "       [ 0.    ,  3.    ,     nan,  0.    ,  0.    ,  8.4583],\n",
       "       [ 0.    ,  1.    , 54.    ,  0.    ,  0.    , 51.8625],\n",
       "       [ 0.    ,  3.    ,  2.    ,  3.    ,  1.    , 21.075 ],\n",
       "       [ 1.    ,  3.    , 27.    ,  0.    ,  2.    , 11.1333],\n",
       "       [ 1.    ,  2.    , 14.    ,  1.    ,  0.    , 30.0708]])"
      ]
     },
     "execution_count": 35,
     "metadata": {},
     "output_type": "execute_result"
    }
   ],
   "source": [
    "n_df = np.array(df)\n",
    "n_df[:10]"
   ]
  },
  {
   "cell_type": "code",
   "execution_count": 36,
   "id": "f850fa23",
   "metadata": {},
   "outputs": [],
   "source": [
    "# n_df'deki eksik olan değerleri doldur.\n",
    "dff = EM().complete(n_df)"
   ]
  },
  {
   "cell_type": "code",
   "execution_count": 37,
   "id": "e4ac7cc3",
   "metadata": {},
   "outputs": [
    {
     "data": {
      "text/html": [
       "<div>\n",
       "<style scoped>\n",
       "    .dataframe tbody tr th:only-of-type {\n",
       "        vertical-align: middle;\n",
       "    }\n",
       "\n",
       "    .dataframe tbody tr th {\n",
       "        vertical-align: top;\n",
       "    }\n",
       "\n",
       "    .dataframe thead th {\n",
       "        text-align: right;\n",
       "    }\n",
       "</style>\n",
       "<table border=\"1\" class=\"dataframe\">\n",
       "  <thead>\n",
       "    <tr style=\"text-align: right;\">\n",
       "      <th></th>\n",
       "      <th>survived</th>\n",
       "      <th>pclass</th>\n",
       "      <th>age</th>\n",
       "      <th>sibsp</th>\n",
       "      <th>parch</th>\n",
       "      <th>fare</th>\n",
       "    </tr>\n",
       "  </thead>\n",
       "  <tbody>\n",
       "    <tr>\n",
       "      <th>0</th>\n",
       "      <td>0.0</td>\n",
       "      <td>3.0</td>\n",
       "      <td>22.0</td>\n",
       "      <td>1.0</td>\n",
       "      <td>0.0</td>\n",
       "      <td>7.2500</td>\n",
       "    </tr>\n",
       "    <tr>\n",
       "      <th>1</th>\n",
       "      <td>1.0</td>\n",
       "      <td>1.0</td>\n",
       "      <td>38.0</td>\n",
       "      <td>1.0</td>\n",
       "      <td>0.0</td>\n",
       "      <td>71.2833</td>\n",
       "    </tr>\n",
       "    <tr>\n",
       "      <th>2</th>\n",
       "      <td>1.0</td>\n",
       "      <td>3.0</td>\n",
       "      <td>26.0</td>\n",
       "      <td>0.0</td>\n",
       "      <td>0.0</td>\n",
       "      <td>7.9250</td>\n",
       "    </tr>\n",
       "    <tr>\n",
       "      <th>3</th>\n",
       "      <td>1.0</td>\n",
       "      <td>1.0</td>\n",
       "      <td>35.0</td>\n",
       "      <td>1.0</td>\n",
       "      <td>0.0</td>\n",
       "      <td>53.1000</td>\n",
       "    </tr>\n",
       "    <tr>\n",
       "      <th>4</th>\n",
       "      <td>0.0</td>\n",
       "      <td>3.0</td>\n",
       "      <td>35.0</td>\n",
       "      <td>0.0</td>\n",
       "      <td>0.0</td>\n",
       "      <td>8.0500</td>\n",
       "    </tr>\n",
       "    <tr>\n",
       "      <th>5</th>\n",
       "      <td>0.0</td>\n",
       "      <td>3.0</td>\n",
       "      <td>0.0</td>\n",
       "      <td>0.0</td>\n",
       "      <td>0.0</td>\n",
       "      <td>8.4583</td>\n",
       "    </tr>\n",
       "    <tr>\n",
       "      <th>6</th>\n",
       "      <td>0.0</td>\n",
       "      <td>1.0</td>\n",
       "      <td>54.0</td>\n",
       "      <td>0.0</td>\n",
       "      <td>0.0</td>\n",
       "      <td>51.8625</td>\n",
       "    </tr>\n",
       "  </tbody>\n",
       "</table>\n",
       "</div>"
      ],
      "text/plain": [
       "   survived  pclass   age  sibsp  parch     fare\n",
       "0       0.0     3.0  22.0    1.0    0.0   7.2500\n",
       "1       1.0     1.0  38.0    1.0    0.0  71.2833\n",
       "2       1.0     3.0  26.0    0.0    0.0   7.9250\n",
       "3       1.0     1.0  35.0    1.0    0.0  53.1000\n",
       "4       0.0     3.0  35.0    0.0    0.0   8.0500\n",
       "5       0.0     3.0   0.0    0.0    0.0   8.4583\n",
       "6       0.0     1.0  54.0    0.0    0.0  51.8625"
      ]
     },
     "execution_count": 37,
     "metadata": {},
     "output_type": "execute_result"
    }
   ],
   "source": [
    "dff = pd.DataFrame(dff, columns=var_names)\n",
    "dff.head(7)"
   ]
  },
  {
   "cell_type": "code",
   "execution_count": 38,
   "id": "0e07bc3e",
   "metadata": {},
   "outputs": [
    {
     "data": {
      "text/plain": [
       "survived    0\n",
       "pclass      0\n",
       "age         0\n",
       "sibsp       0\n",
       "parch       0\n",
       "fare        0\n",
       "dtype: int64"
      ]
     },
     "execution_count": 38,
     "metadata": {},
     "output_type": "execute_result"
    }
   ],
   "source": [
    "dff.isnull().sum()"
   ]
  },
  {
   "cell_type": "code",
   "execution_count": null,
   "id": "e5106809",
   "metadata": {},
   "outputs": [],
   "source": []
  },
  {
   "cell_type": "code",
   "execution_count": null,
   "id": "1147481f",
   "metadata": {},
   "outputs": [],
   "source": []
  },
  {
   "cell_type": "markdown",
   "id": "093b2848",
   "metadata": {},
   "source": [
    "eksik gözlemleri doldurmadan önce, öncelikle bir yapısal problem olup olmadığına bakılır. yani, rastgelelik problemi var mı? diğer bir ifadeyle bazı değişkenlerdeki eksiklikler acaba diğer değişkenlere bağlı olarak mı gerçekleşiyor? buna mutlaka dikkat edilmelidir."
   ]
  },
  {
   "cell_type": "code",
   "execution_count": null,
   "id": "1115e748",
   "metadata": {},
   "outputs": [],
   "source": []
  }
 ],
 "metadata": {
  "kernelspec": {
   "display_name": "Python 3 (ipykernel)",
   "language": "python",
   "name": "python3"
  },
  "language_info": {
   "codemirror_mode": {
    "name": "ipython",
    "version": 3
   },
   "file_extension": ".py",
   "mimetype": "text/x-python",
   "name": "python",
   "nbconvert_exporter": "python",
   "pygments_lexer": "ipython3",
   "version": "3.11.4"
  }
 },
 "nbformat": 4,
 "nbformat_minor": 5
}
