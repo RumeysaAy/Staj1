{
 "cells": [
  {
   "cell_type": "markdown",
   "id": "909e1317",
   "metadata": {},
   "source": [
    "# Destek Vektör Regresyonu (SVR)\n",
    "\n",
    "Amaç, bir marjin aralığına maksimum noktayı en küçük hata ile alabilecek şekilde doğru ya da eğriyi belirlemektir."
   ]
  },
  {
   "cell_type": "markdown",
   "id": "e1d69d2e",
   "metadata": {},
   "source": [
    "SVR'ın aykırı gözlemler konusundaki yaklaşımı SVR'ı robust (dayanıklı) regresyon şeklinde anılmasını sağlar"
   ]
  },
  {
   "cell_type": "markdown",
   "id": "3fdd2e99",
   "metadata": {},
   "source": [
    "sınıflandırma problemleri için ortaya çıkmış. sonrasında regresyon problemlerinede uyarlanmıştır. makine öğrenmesi dünyasının güçlü esnek, modellerinden birisidir. regresyon problemlerine uyarlandığında robust regresyon dünyasında kendine yer bulmuştur. robust regresyon aykırılıklara daha az duyarlı, bunlarla mücadele edebilen algoritmalara robust (dayanıklı) algoritmalar denir."
   ]
  },
  {
   "cell_type": "markdown",
   "id": "df7da09c",
   "metadata": {},
   "source": [
    "## Doğrusal SVR ve Doğrusal Olmayan SVR"
   ]
  },
  {
   "cell_type": "code",
   "execution_count": 1,
   "id": "dddbbd70",
   "metadata": {},
   "outputs": [],
   "source": [
    "import numpy as np\n",
    "import pandas as pd \n",
    "from sklearn.model_selection import train_test_split, GridSearchCV,cross_val_score\n",
    "from sklearn.metrics import mean_squared_error, r2_score\n",
    "import matplotlib.pyplot as plt\n",
    "from sklearn.preprocessing import scale \n",
    "from sklearn import model_selection\n",
    "from sklearn.tree import DecisionTreeRegressor, DecisionTreeClassifier\n",
    "from sklearn.neighbors import KNeighborsRegressor\n",
    "from sklearn.ensemble import BaggingRegressor"
   ]
  },
  {
   "cell_type": "code",
   "execution_count": 2,
   "id": "81e2aea7",
   "metadata": {},
   "outputs": [],
   "source": [
    "from warnings import filterwarnings\n",
    "filterwarnings('ignore')"
   ]
  },
  {
   "cell_type": "code",
   "execution_count": 3,
   "id": "8c2e5ba2",
   "metadata": {},
   "outputs": [],
   "source": [
    "hit = pd.read_csv(\"Hitters.csv\")\n",
    "df = hit.copy()\n",
    "df = df.dropna()\n",
    "dms = pd.get_dummies(df[['League', 'Division', 'NewLeague']])\n",
    "y = df[\"Salary\"]\n",
    "X_ = df.drop(['Salary', 'League', 'Division', 'NewLeague'], axis=1).astype('float64')\n",
    "X = pd.concat([X_, dms[['League_N', 'Division_W', 'NewLeague_N']]], axis=1)\n",
    "X_train, X_test, y_train, y_test = train_test_split(X, y, \n",
    "                                                    test_size=0.25, \n",
    "                                                    random_state=42)"
   ]
  },
  {
   "cell_type": "markdown",
   "id": "1c053374",
   "metadata": {},
   "source": [
    "## Doğrusal SVR  - Model"
   ]
  },
  {
   "cell_type": "markdown",
   "id": "f349fedc",
   "metadata": {},
   "source": [
    "iki değişkenli bir şekilde SVR'ı ele alıp daha önceki bölümlerde görmüş olduğumuz doğrusal regresyon ile arasındaki durumu değerlendireceğiz. buna yönelik olarak ana veri setimizin içerisinden test ve train seti için değişkenlerimi Hits olarak seçtim. bağımlı değişkenlerimiz zaten aynı y_train ve y_test Salary değişkenidir. "
   ]
  },
  {
   "cell_type": "code",
   "execution_count": 4,
   "id": "74efc601",
   "metadata": {},
   "outputs": [],
   "source": [
    "X_train = pd.DataFrame(X_train[\"Hits\"])\n",
    "X_test = pd.DataFrame(X_test[\"Hits\"])"
   ]
  },
  {
   "cell_type": "code",
   "execution_count": 5,
   "id": "324b9ca0",
   "metadata": {},
   "outputs": [],
   "source": [
    "from sklearn.svm import SVR"
   ]
  },
  {
   "cell_type": "code",
   "execution_count": 6,
   "id": "8c89e57e",
   "metadata": {},
   "outputs": [],
   "source": [
    "# modeli oluşturdum\n",
    "svr_model = SVR(\"linear\").fit(X_train, y_train)"
   ]
  },
  {
   "cell_type": "code",
   "execution_count": 8,
   "id": "c14a1033",
   "metadata": {},
   "outputs": [
    {
     "data": {
      "text/plain": [
       "array([403.52804878, 666.91219512, 706.66829268, 194.80853659,\n",
       "       423.40609756, 666.91219512, 150.08292683, 304.13780488,\n",
       "       507.88780488, 815.99756098])"
      ]
     },
     "execution_count": 8,
     "metadata": {},
     "output_type": "execute_result"
    }
   ],
   "source": [
    "# eğitim seti için y tahmin değerleri\n",
    "svr_pred = svr_model.predict(X_train)\n",
    "svr_pred[:10]"
   ]
  },
  {
   "cell_type": "code",
   "execution_count": 11,
   "id": "8d0161d0",
   "metadata": {},
   "outputs": [
    {
     "name": "stdout",
     "output_type": "stream",
     "text": [
      "y = -48.69756097561513 + 4.969512195122206x\n"
     ]
    }
   ],
   "source": [
    "# doğrusal SVR'ın model denklemi\n",
    "print(\"y = {0} + {1}x\".format(svr_model.intercept_[0], # const, sabit sayı\n",
    "                             svr_model.coef_[0][0])) # katsayı"
   ]
  },
  {
   "cell_type": "code",
   "execution_count": 12,
   "id": "f0348e4b",
   "metadata": {},
   "outputs": [],
   "source": [
    "# Hits değişkeninin ilk gözlemini doğrusal SVR'ın model denkleminde yerine yazdığımızda\n",
    "# tahmin edilen y değerini (403.52804878) bulalım"
   ]
  },
  {
   "cell_type": "code",
   "execution_count": 13,
   "id": "f6717867",
   "metadata": {},
   "outputs": [
    {
     "data": {
      "text/plain": [
       "183    91.0\n",
       "Name: Hits, dtype: float64"
      ]
     },
     "execution_count": 13,
     "metadata": {},
     "output_type": "execute_result"
    }
   ],
   "source": [
    "X_train[\"Hits\"][:1] # Hits değişkeninin ilk gözlemi"
   ]
  },
  {
   "cell_type": "code",
   "execution_count": 14,
   "id": "e01d2d0f",
   "metadata": {},
   "outputs": [
    {
     "data": {
      "text/plain": [
       "403.5280487805056"
      ]
     },
     "execution_count": 14,
     "metadata": {},
     "output_type": "execute_result"
    }
   ],
   "source": [
    "# bir basketbol oyuncusu geçen sene 91 adet sayı atmışsa maaşı kaç olur.\n",
    "-48.69756097561513 + 4.969512195122206 * 91.0"
   ]
  },
  {
   "cell_type": "markdown",
   "id": "3b3ea54a",
   "metadata": {},
   "source": [
    "basit, doğrusal SVR tek bir değişken var. karmaşıklık parametresi gibi benzeri durumlarla ilgilenmiyoruz."
   ]
  },
  {
   "cell_type": "code",
   "execution_count": 26,
   "id": "15c38bb3",
   "metadata": {},
   "outputs": [
    {
     "data": {
      "text/plain": [
       "1.0"
      ]
     },
     "execution_count": 26,
     "metadata": {},
     "output_type": "execute_result"
    }
   ],
   "source": [
    "# Basit, doğrusal SVR'da C, 1'dir.\n",
    "svr_model.C"
   ]
  },
  {
   "cell_type": "code",
   "execution_count": 16,
   "id": "5c8660b1",
   "metadata": {},
   "outputs": [
    {
     "data": {
      "image/png": "[encoded data removed]",
      "text/plain": [
       "<Figure size 432x288 with 1 Axes>"
      ]
     },
     "metadata": {
      "needs_background": "light"
     },
     "output_type": "display_data"
    }
   ],
   "source": [
    "# doğrusal SVR, geometrik olarak ne ifade ediyor\n",
    "plt.scatter(X_train, y_train)\n",
    "plt.plot(X_train, svr_pred, color=\"r\");"
   ]
  },
  {
   "cell_type": "markdown",
   "id": "1f9b4bd6",
   "metadata": {},
   "source": [
    "* plt.scatter(X_train, y_train): Bu satır, eğitim verilerinin dağılımını görselleştirmek için kullanılır. X_train, giriş verilerini (bağımsız değişkenleri) temsil ederken, y_train çıkış verilerini (bağımlı değişkenleri) temsil eder. Bu satır, veri noktalarını dağılım halinde grafiğe yerleştirir.\n",
    "* plt.plot(X_train, svr_pred, color=\"r\"): Bu satır, SVR modelinin öngördüğü değerleri ve gerçek çıkış değerlerini karşılaştırmak amacıyla bir çizgi grafiği çizer. X_train, giriş verilerini temsil ederken, svr_pred SVR modelinin giriş verilerine dayalı olarak tahmin ettiği çıkış değerlerini temsil eder. color=\"r\" ile çizginin rengi kırmızı olarak ayarlanmıştır."
   ]
  },
  {
   "cell_type": "code",
   "execution_count": 17,
   "id": "fa73cb5f",
   "metadata": {},
   "outputs": [
    {
     "name": "stdout",
     "output_type": "stream",
     "text": [
      "y = -8.814095480334345 + 5.172456135470686x\n"
     ]
    }
   ],
   "source": [
    "# Doğrusal regresyonu inceleyelim\n",
    "from sklearn.linear_model import LinearRegression\n",
    "# model oluşturuldu\n",
    "lm_model = LinearRegression().fit(X_train, y_train)\n",
    "# tahmini y değerleri\n",
    "lm_pred = lm_model.predict(X_train)\n",
    "# formül\n",
    "print(\"y = {0} + {1}x\".format(lm_model.intercept_, lm_model.coef_[0]))"
   ]
  },
  {
   "cell_type": "code",
   "execution_count": 18,
   "id": "cda62e7b",
   "metadata": {},
   "outputs": [
    {
     "data": {
      "text/plain": [
       "461.87941284749803"
      ]
     },
     "execution_count": 18,
     "metadata": {},
     "output_type": "execute_result"
    }
   ],
   "source": [
    "-8.814095480334345 + 5.172456135470686 * 91.0"
   ]
  },
  {
   "cell_type": "markdown",
   "id": "029afe29",
   "metadata": {},
   "source": [
    "* SVR doğrusal ve doğrusal regresyon ikiside aynı işi yapan iki farklı algoritma tek bir birim bazında ikisinden de bir tahmin sonucu beklenir.\n",
    "* doğrusal regresyon modelini verip tahminleri istedim, 461 değerini verdi.\n",
    "* basit SVR, 403 değerini verdi.\n",
    "* Bu farklılık neden gerçekleşti?"
   ]
  },
  {
   "cell_type": "code",
   "execution_count": 20,
   "id": "aa7a18a1",
   "metadata": {},
   "outputs": [
    {
     "data": {
      "image/png": "[encoded data removed]",
      "text/plain": [
       "<Figure size 432x288 with 1 Axes>"
      ]
     },
     "metadata": {
      "needs_background": "light"
     },
     "output_type": "display_data"
    }
   ],
   "source": [
    "# eğitim verilerinin dağılımını nokta bulutu şeklinde görselleştirir. \n",
    "plt.scatter(X_train, y_train, alpha=0.5, s=23) # gerçek değerler\n",
    "# alpha saydamlık, s noktaların boyutu\n",
    "plt.plot(X_train, lm_pred, \"g\") # doğrusal regresyon için: yeşil\n",
    "plt.plot(X_train, svr_pred, color=\"r\") # svr doğrusal için: kırmızı\n",
    "\n",
    "plt.xlabel(\"Atış Sayısı(Hits)\")\n",
    "plt.ylabel(\"Maaş (Salary)\");"
   ]
  },
  {
   "cell_type": "markdown",
   "id": "bc5c6602",
   "metadata": {},
   "source": [
    "Neden SVR modeli daha aşağıda, doğrusal regresyon daha yukarıda?\n",
    "\n",
    "çünkü SCR, robust(dayanıklı)'dır. en üstte görülen aykırı gözlemler ekk(en küçük kareler yöntemi)'dan dolayı lineer modeli yukarı doğru seçmektedir.\n",
    "\n",
    "bu SVR içinde bir sorundur ama buradaki bu aykırı gözlemlerin etkisi SVR'da daha düşüktür."
   ]
  },
  {
   "cell_type": "markdown",
   "id": "792e77d8",
   "metadata": {
    "jupyter": {
     "source_hidden": true
    }
   },
   "source": [
    "Bu kod parçası, veri görselleştirmesi yapmak için Python'da sık kullanılan bir kütüphane olan Matplotlib'i kullanarak yapılan işlemleri içeriyor gibi görünüyor. Bu kodun amacı, bir doğrusal regresyon modeli ve bir destek vektör regresyon (SVR) modelinin eğitim verilerine nasıl uydurulduğunu ve bunların nasıl görselleştirildiğini göstermektir.\n",
    "\n",
    "Aşağıda her bir satırın ne yaptığını açıkladım:\n",
    "\n",
    "1. `plt.scatter(X_train, y_train, alpha=0.5, s=23)`: Bu satır, eğitim verilerinin dağılımını nokta bulutu şeklinde görselleştirir. `X_train`, atış sayısı (hits) verilerini temsil ederken, `y_train`, bu atış sayılarına karşılık gelen maaş (salary) verilerini temsil eder. `alpha=0.5` parametresi noktaların saydamlığını ayarlar, `s=23` ise noktaların boyutunu belirler.\n",
    "\n",
    "2. `plt.plot(X_train, lm_pred, \"g\")`: Bu satır, doğrusal regresyon modelinin eğitim verilerine göre oluşturduğu tahminleri (`lm_pred`) yeşil renkte bir doğru şeklinde çizer. Burada `X_train`, atış sayısı verilerini temsil eder.\n",
    "\n",
    "3. `plt.plot(X_train, svr_pred, color=\"r\")`: Bu satır, destek vektör regresyon (SVR) modelinin eğitim verilerine göre yaptığı tahminleri (`svr_pred`) kırmızı renkte bir doğru şeklinde çizer. Yine `X_train`, atış sayısı verilerini temsil eder.\n",
    "\n",
    "4. `plt.xlabel(\"Atış Sayısı(Hits)\")`: Bu satır, x ekseni için etiket belirler, yani grafiğin altındaki etiket.\n",
    "\n",
    "5. `plt.ylabel(\"Maaş (Salary)\")`: Bu satır, y ekseni için etiket belirler, yani grafiğin yanındaki etiket.\n",
    "\n",
    "Bu kod parçası, atış sayısı ile maaş arasındaki ilişkiyi görselleştirerek, doğrusal regresyon ve SVR modellerinin nasıl performans gösterdiğini karşılaştırmayı amaçlamaktadır. Yeşil ve kırmızı doğruların eğimi ve konumu, her bir modelin verilere nasıl uyduğunu gösterir. Nokta bulutu dağılımı ise gerçek veri noktalarını temsil eder."
   ]
  },
  {
   "cell_type": "code",
   "execution_count": null,
   "id": "7459f991",
   "metadata": {},
   "outputs": [],
   "source": []
  },
  {
   "cell_type": "markdown",
   "id": "5b146dfc",
   "metadata": {},
   "source": [
    "## Doğrusal SVR - Tahmin"
   ]
  },
  {
   "cell_type": "code",
   "execution_count": 21,
   "id": "1f02ff34",
   "metadata": {},
   "outputs": [
    {
     "name": "stdout",
     "output_type": "stream",
     "text": [
      "y = -48.69756097561513 + 4.969512195122206x\n"
     ]
    }
   ],
   "source": [
    "# y tahmin değerlerini üreten denklem\n",
    "print(\"y = {0} + {1}x\".format(svr_model.intercept_[0], svr_model.coef_[0][0]))"
   ]
  },
  {
   "cell_type": "code",
   "execution_count": 22,
   "id": "6e153b1a",
   "metadata": {},
   "outputs": [
    {
     "data": {
      "text/plain": [
       "array([403.52804878])"
      ]
     },
     "execution_count": 22,
     "metadata": {},
     "output_type": "execute_result"
    }
   ],
   "source": [
    "svr_model.predict([[91.0]]) # 403.52804878"
   ]
  },
  {
   "cell_type": "code",
   "execution_count": 23,
   "id": "974de385",
   "metadata": {},
   "outputs": [],
   "source": [
    "# test seti için y tahmin değerleri\n",
    "y_pred = svr_model.predict(X_test)"
   ]
  },
  {
   "cell_type": "code",
   "execution_count": 24,
   "id": "b0371eab",
   "metadata": {},
   "outputs": [
    {
     "data": {
      "text/plain": [
       "459.0187960365147"
      ]
     },
     "execution_count": 24,
     "metadata": {},
     "output_type": "execute_result"
    }
   ],
   "source": [
    "# test seti hatası\n",
    "np.sqrt(mean_squared_error(y_test, y_pred))"
   ]
  },
  {
   "cell_type": "code",
   "execution_count": null,
   "id": "1965140a",
   "metadata": {},
   "outputs": [],
   "source": []
  },
  {
   "cell_type": "markdown",
   "id": "f80f5665",
   "metadata": {},
   "source": [
    "## Doğrusal SVR - Model Tuning"
   ]
  },
  {
   "cell_type": "code",
   "execution_count": 26,
   "id": "eca94d7b",
   "metadata": {},
   "outputs": [
    {
     "data": {
      "text/plain": [
       "1.0"
      ]
     },
     "execution_count": 26,
     "metadata": {},
     "output_type": "execute_result"
    }
   ],
   "source": [
    "# Basit, doğrusal SVR'da C, 1'dir.\n",
    "svr_model.C"
   ]
  },
  {
   "cell_type": "code",
   "execution_count": 27,
   "id": "21dacfa5",
   "metadata": {},
   "outputs": [
    {
     "data": {
      "text/plain": [
       "array([0.1, 0.2, 0.3, 0.4, 0.5, 0.6, 0.7, 0.8, 0.9, 1. , 1.1, 1.2, 1.3,\n",
       "       1.4, 1.5, 1.6, 1.7, 1.8, 1.9])"
      ]
     },
     "execution_count": 27,
     "metadata": {},
     "output_type": "execute_result"
    }
   ],
   "source": [
    "# burada tun etmemiz gereken parametre C, karmaşıklık parametresidir.\n",
    "svr_params = {\"C\": np.arange(0.1,2,0.1)}\n",
    "svr_params[\"C\"]"
   ]
  },
  {
   "cell_type": "code",
   "execution_count": 29,
   "id": "d4bbd29d",
   "metadata": {},
   "outputs": [],
   "source": [
    "# tun edilmiş bir model oluşturdum\n",
    "# 10 katlı bir cross validation işlemi yapılsın\n",
    "svr_cv_model = GridSearchCV(svr_model, svr_params, cv=10).fit(X_train, y_train)"
   ]
  },
  {
   "cell_type": "code",
   "execution_count": 30,
   "id": "e0c762fe",
   "metadata": {},
   "outputs": [
    {
     "data": {
      "text/plain": [
       "{'C': 0.1}"
      ]
     },
     "execution_count": 30,
     "metadata": {},
     "output_type": "execute_result"
    }
   ],
   "source": [
    "# bize önerdiği parametreye bakalım\n",
    "svr_cv_model.best_params_ # 0.1'i önermiş"
   ]
  },
  {
   "cell_type": "code",
   "execution_count": 32,
   "id": "4a3b01fa",
   "metadata": {},
   "outputs": [
    {
     "data": {
      "text/plain": [
       "C    0.1\n",
       "dtype: float64"
      ]
     },
     "execution_count": 32,
     "metadata": {},
     "output_type": "execute_result"
    }
   ],
   "source": [
    "pd.Series(svr_cv_model.best_params_)"
   ]
  },
  {
   "cell_type": "code",
   "execution_count": 33,
   "id": "129c6770",
   "metadata": {},
   "outputs": [
    {
     "data": {
      "text/plain": [
       "0.1"
      ]
     },
     "execution_count": 33,
     "metadata": {},
     "output_type": "execute_result"
    }
   ],
   "source": [
    "pd.Series(svr_cv_model.best_params_)[0]"
   ]
  },
  {
   "cell_type": "code",
   "execution_count": 36,
   "id": "a29967e3",
   "metadata": {},
   "outputs": [],
   "source": [
    "# final modeli\n",
    "svr_tuned = SVR(\"linear\",\n",
    "                C = pd.Series(svr_cv_model.best_params_)[0]).fit(X_train, y_train)"
   ]
  },
  {
   "cell_type": "code",
   "execution_count": 37,
   "id": "b58d33db",
   "metadata": {},
   "outputs": [],
   "source": [
    "# tun edilmiş model üzerinden tahmin yapalım\n",
    "y_pred = svr_tuned.predict(X_test)"
   ]
  },
  {
   "cell_type": "code",
   "execution_count": 38,
   "id": "bfbc8fdd",
   "metadata": {},
   "outputs": [
    {
     "data": {
      "text/plain": [
       "458.198966781116"
      ]
     },
     "execution_count": 38,
     "metadata": {},
     "output_type": "execute_result"
    }
   ],
   "source": [
    "# veri setimizde tek bir değişken kullandık\n",
    "# tek değişkenli olduğundaki durumun hatası\n",
    "# rmse hata\n",
    "np.sqrt(mean_squared_error(y_test, y_pred))"
   ]
  },
  {
   "cell_type": "markdown",
   "id": "b5daacd5",
   "metadata": {},
   "source": [
    "veri setini baştan çalıştıralım ve bütün değişkenleri kullanalım."
   ]
  },
  {
   "cell_type": "code",
   "execution_count": 40,
   "id": "e00b43f8",
   "metadata": {},
   "outputs": [],
   "source": [
    "hit = pd.read_csv(\"Hitters.csv\")\n",
    "df = hit.copy()\n",
    "df = df.dropna()\n",
    "dms = pd.get_dummies(df[['League', 'Division', 'NewLeague']])\n",
    "y = df[\"Salary\"]\n",
    "X_ = df.drop(['Salary', 'League', 'Division', 'NewLeague'], axis=1).astype('float64')\n",
    "X = pd.concat([X_, dms[['League_N', 'Division_W', 'NewLeague_N']]], axis=1)\n",
    "X_train, X_test, y_train, y_test = train_test_split(X, y, \n",
    "                                                    test_size=0.25, \n",
    "                                                    random_state=42)"
   ]
  },
  {
   "cell_type": "code",
   "execution_count": 41,
   "id": "6a5e0e54",
   "metadata": {},
   "outputs": [
    {
     "data": {
      "text/plain": [
       "array([0.1, 0.2, 0.3, 0.4, 0.5, 0.6, 0.7, 0.8, 0.9, 1. , 1.1, 1.2, 1.3,\n",
       "       1.4, 1.5, 1.6, 1.7, 1.8, 1.9])"
      ]
     },
     "execution_count": 41,
     "metadata": {},
     "output_type": "execute_result"
    }
   ],
   "source": [
    "# burada tun etmemiz gereken parametre C, karmaşıklık parametresidir.\n",
    "svr_params = {\"C\": np.arange(0.1,2,0.1)}\n",
    "svr_params[\"C\"]"
   ]
  },
  {
   "cell_type": "code",
   "execution_count": 42,
   "id": "64e0a4b7",
   "metadata": {},
   "outputs": [],
   "source": [
    "# tun edilmiş bir model oluşturdum\n",
    "# 10 katlı bir cross validation işlemi yapılsın\n",
    "svr_cv_model = GridSearchCV(svr_model, svr_params, cv=10).fit(X_train, y_train)"
   ]
  },
  {
   "cell_type": "code",
   "execution_count": 43,
   "id": "2f8f5b48",
   "metadata": {},
   "outputs": [
    {
     "data": {
      "text/plain": [
       "{'C': 0.4}"
      ]
     },
     "execution_count": 43,
     "metadata": {},
     "output_type": "execute_result"
    }
   ],
   "source": [
    "# bize önerdiği parametreye bakalım\n",
    "svr_cv_model.best_params_ # 0.1'i önermiş"
   ]
  },
  {
   "cell_type": "code",
   "execution_count": 47,
   "id": "3075abf0",
   "metadata": {},
   "outputs": [],
   "source": [
    "# final modeli\n",
    "svr_tuned = SVR(\"linear\",\n",
    "                C = pd.Series(svr_cv_model.best_params_)[0]).fit(X_train, y_train)"
   ]
  },
  {
   "cell_type": "code",
   "execution_count": 49,
   "id": "1262ff77",
   "metadata": {},
   "outputs": [],
   "source": [
    "# tun edilmiş model üzerinden tahmin yapalım\n",
    "y_pred = svr_tuned.predict(X_test)"
   ]
  },
  {
   "cell_type": "code",
   "execution_count": 50,
   "id": "a49797fe",
   "metadata": {},
   "outputs": [
    {
     "data": {
      "text/plain": [
       "367.538528365296"
      ]
     },
     "execution_count": 50,
     "metadata": {},
     "output_type": "execute_result"
    }
   ],
   "source": [
    "# veri setimizdeki bütün değişkenleri kullandık\n",
    "# rmse hata\n",
    "np.sqrt(mean_squared_error(y_test, y_pred))"
   ]
  },
  {
   "cell_type": "markdown",
   "id": "017f1f4e",
   "metadata": {},
   "source": [
    "* tek değişkenli: 458.198966781116\n",
    "* bütün değişkenler: 367.538528365296\n",
    "\n",
    "İlk senaryoda sadece tek bir bağımsız değişken olan \"Hits\" vardı. Bu değişkene bağlı olarak \"Salary\" (maaş) bağımlı değişkenini tahmin etmeye çalışıyorduk.\n",
    "\n",
    "şimdi ise maaşı tahmin etmek üzere daha fazla değişken ortaya koyduk. görünen o ki bağımlı değişkendeki değişkenliği diğer değişkenlerde açıklama gücüne sahipmiş. çünkü hatamız düştü. "
   ]
  },
  {
   "cell_type": "code",
   "execution_count": null,
   "id": "d1dbec85",
   "metadata": {},
   "outputs": [],
   "source": []
  },
  {
   "cell_type": "code",
   "execution_count": null,
   "id": "872dfa93",
   "metadata": {},
   "outputs": [],
   "source": []
  },
  {
   "cell_type": "markdown",
   "id": "3175c310",
   "metadata": {},
   "source": [
    "## Doğrusal Olmayan SVR"
   ]
  },
  {
   "cell_type": "markdown",
   "id": "5e6d7470",
   "metadata": {},
   "source": [
    "Doğrusal Olmayan SVR'ı lineer regresyon ile karşılaştıralım."
   ]
  },
  {
   "cell_type": "code",
   "execution_count": 51,
   "id": "311bdde4",
   "metadata": {},
   "outputs": [],
   "source": [
    "# veri seti oluşturdum\n",
    "np.random.seed(3)\n",
    "\n",
    "x_sim = np.random.uniform(2, 10, 145)\n",
    "y_sim = np.sin(x_sim) + np.random.normal(0, 0.4, 145)\n",
    "\n",
    "# aykırı gözlemler ekledim\n",
    "x_outliers = np.arange(2.5, 5, 0.5)\n",
    "y_outliers = -5*np.ones(5)\n",
    "\n",
    "x_sim_idx = np.argsort(np.concatenate([x_sim, x_outliers]))\n",
    "x_sim = np.concatenate([x_sim, x_outliers])[x_sim_idx]\n",
    "y_sim = np.concatenate([y_sim, y_outliers])[x_sim_idx]"
   ]
  },
  {
   "cell_type": "code",
   "execution_count": 52,
   "id": "5f5a949f",
   "metadata": {},
   "outputs": [],
   "source": [
    "# doğrusal regresyon modeli oluşturdum\n",
    "from sklearn.linear_model import LinearRegression\n",
    "\n",
    "ols = LinearRegression()\n",
    "ols.fit(np.sin(x_sim[:, np.newaxis]), y_sim)\n",
    "ols_pred = ols.predict(np.sin(x_sim[:, np.newaxis]))"
   ]
  },
  {
   "cell_type": "code",
   "execution_count": 53,
   "id": "95f5bc78",
   "metadata": {},
   "outputs": [],
   "source": [
    "# SVR doğrusal olmayan modeli oluşturdum\n",
    "from sklearn.svm import SVR\n",
    "eps=0.1\n",
    "svr=SVR('rbf', epsilon=eps) # rbf, SVR'ın doğrusal olmayan bir formudur.\n",
    "svr.fit(x_sim[:, np.newaxis], y_sim)\n",
    "svr_pred = svr.predict(x_sim[:, np.newaxis])"
   ]
  },
  {
   "cell_type": "code",
   "execution_count": 54,
   "id": "7a1232c6",
   "metadata": {},
   "outputs": [
    {
     "data": {
      "image/png": "[encoded data removed]",
      "text/plain": [
       "<Figure size 432x288 with 1 Axes>"
      ]
     },
     "metadata": {
      "needs_background": "light"
     },
     "output_type": "display_data"
    }
   ],
   "source": [
    "# görselleştirelim\n",
    "plt.scatter(x_sim, y_sim, alpha=0.5, s=26)\n",
    "plt_ols, = plt.plot(x_sim, ols_pred, 'g')\n",
    "plt_svr, = plt.plot(x_sim, svr_pred, color='r')\n",
    "plt.xlabel(\"Bağımsız Değişken\")\n",
    "plt.ylabel(\"Bağımlı Değişken\")\n",
    "plt.ylim(-5.2, 2.2)\n",
    "plt.legend([plt_ols, plt_svr], ['EKK', 'SVR'], loc = 4);"
   ]
  },
  {
   "cell_type": "markdown",
   "id": "dd93d8c3",
   "metadata": {},
   "source": [
    "* EKK ve SVR kullandım.\n",
    "* ikiside eğrisel bir formda (doğrusal olmayan)\n",
    "* aşağıda bulunan aykırı gözlemler EKK'yı biraz daha aşağıya götürmüş"
   ]
  },
  {
   "cell_type": "code",
   "execution_count": null,
   "id": "047292f1",
   "metadata": {},
   "outputs": [],
   "source": []
  },
  {
   "cell_type": "markdown",
   "id": "f0ab2e88",
   "metadata": {},
   "source": [
    "* burada birer tane değişken söz konusu görsel olarak idrak etmek için kullanıyoruz genelde burada çok değişkenli olacak "
   ]
  },
  {
   "cell_type": "code",
   "execution_count": null,
   "id": "b3ba7a84",
   "metadata": {},
   "outputs": [],
   "source": []
  },
  {
   "cell_type": "markdown",
   "id": "081a3392",
   "metadata": {},
   "source": [
    "## Doğrusal Olmayan SVR - Model"
   ]
  },
  {
   "cell_type": "code",
   "execution_count": 59,
   "id": "47e7c6c5",
   "metadata": {},
   "outputs": [],
   "source": [
    "hit = pd.read_csv(\"Hitters.csv\")\n",
    "df = hit.copy()\n",
    "df = df.dropna()\n",
    "dms = pd.get_dummies(df[['League', 'Division', 'NewLeague']])\n",
    "y = df[\"Salary\"]\n",
    "X_ = df.drop(['Salary', 'League', 'Division', 'NewLeague'], axis=1).astype('float64')\n",
    "X = pd.concat([X_, dms[['League_N', 'Division_W', 'NewLeague_N']]], axis=1)\n",
    "X_train, X_test, y_train, y_test = train_test_split(X, y, \n",
    "                                                    test_size=0.25, \n",
    "                                                    random_state=42)"
   ]
  },
  {
   "cell_type": "code",
   "execution_count": 6,
   "id": "08b7df47",
   "metadata": {},
   "outputs": [],
   "source": [
    "# SVR'ı doğrusal olmayan bir formda kuralım\n",
    "svr_rbf = SVR(\"rbf\").fit(X_train, y_train)"
   ]
  },
  {
   "cell_type": "code",
   "execution_count": null,
   "id": "556c555c",
   "metadata": {},
   "outputs": [],
   "source": []
  },
  {
   "cell_type": "markdown",
   "id": "0b526e87",
   "metadata": {},
   "source": [
    "## Doğrusal Olmayan SVR - Tahmin"
   ]
  },
  {
   "cell_type": "code",
   "execution_count": 7,
   "id": "27a3eec3",
   "metadata": {},
   "outputs": [
    {
     "data": {
      "text/plain": [
       "array([467.17641555, 446.40313543, 478.61634896, 407.90736132,\n",
       "       478.21333994, 417.12254646, 409.5369652 , 406.6833667 ,\n",
       "       475.87387807, 472.35514043])"
      ]
     },
     "execution_count": 7,
     "metadata": {},
     "output_type": "execute_result"
    }
   ],
   "source": [
    "# test seti için y tahmin değerleri\n",
    "y_pred = svr_rbf.predict(X_test)\n",
    "y_pred[:10]"
   ]
  },
  {
   "cell_type": "code",
   "execution_count": 8,
   "id": "cdb9b18b",
   "metadata": {},
   "outputs": [
    {
     "data": {
      "text/plain": [
       "460.0032657244849"
      ]
     },
     "execution_count": 8,
     "metadata": {},
     "output_type": "execute_result"
    }
   ],
   "source": [
    "# ilkel test hatası\n",
    "# rmse hata değeri\n",
    "np.sqrt(mean_squared_error(y_test, y_pred))"
   ]
  },
  {
   "cell_type": "code",
   "execution_count": null,
   "id": "1c983a3b",
   "metadata": {},
   "outputs": [],
   "source": []
  },
  {
   "cell_type": "markdown",
   "id": "7e8f484b",
   "metadata": {},
   "source": [
    "## Doğrusal Olmayan SVR - Tuning"
   ]
  },
  {
   "cell_type": "code",
   "execution_count": 10,
   "id": "7935756e",
   "metadata": {},
   "outputs": [
    {
     "data": {
      "text/plain": [
       "1.0"
      ]
     },
     "execution_count": 10,
     "metadata": {},
     "output_type": "execute_result"
    }
   ],
   "source": [
    "# C, karmaşıklık parametresi bizim optimize etmemiz gereken parametremiz\n",
    "svr_rbf.C"
   ]
  },
  {
   "cell_type": "code",
   "execution_count": 11,
   "id": "d715aad9",
   "metadata": {},
   "outputs": [],
   "source": [
    "svr_params = {\"C\": [0.1, 0.4, 5, 10, 20, 30, 40, 50]}"
   ]
  },
  {
   "cell_type": "code",
   "execution_count": 12,
   "id": "d616bac2",
   "metadata": {},
   "outputs": [],
   "source": [
    "# svr_rbf kullanarak svr_params ile vermiş olduğum parametre değerlerini bul \n",
    "# bu işlemi 10 katlı cross validation ile yap\n",
    "svr_cv_model = GridSearchCV(svr_rbf, svr_params, cv=10)"
   ]
  },
  {
   "cell_type": "code",
   "execution_count": 13,
   "id": "c6d99179",
   "metadata": {},
   "outputs": [
    {
     "data": {
      "text/plain": [
       "GridSearchCV(cv=10, estimator=SVR(),\n",
       "             param_grid={'C': [0.1, 0.4, 5, 10, 20, 30, 40, 50]})"
      ]
     },
     "execution_count": 13,
     "metadata": {},
     "output_type": "execute_result"
    }
   ],
   "source": [
    "svr_cv_model.fit(X_train, y_train)"
   ]
  },
  {
   "cell_type": "code",
   "execution_count": 14,
   "id": "8a140335",
   "metadata": {},
   "outputs": [
    {
     "data": {
      "text/plain": [
       "{'C': 50}"
      ]
     },
     "execution_count": 14,
     "metadata": {},
     "output_type": "execute_result"
    }
   ],
   "source": [
    "# en iyi parametreye bakalım\n",
    "svr_cv_model.best_params_"
   ]
  },
  {
   "cell_type": "code",
   "execution_count": 16,
   "id": "b4ebe42c",
   "metadata": {},
   "outputs": [
    {
     "data": {
      "text/plain": [
       "50"
      ]
     },
     "execution_count": 16,
     "metadata": {},
     "output_type": "execute_result"
    }
   ],
   "source": [
    "pd.Series(svr_cv_model.best_params_)[0]"
   ]
  },
  {
   "cell_type": "code",
   "execution_count": 17,
   "id": "1b652355",
   "metadata": {},
   "outputs": [],
   "source": [
    "# final modelimizi oluşturalım\n",
    "svr_tuned = SVR(\"rbf\", \n",
    "                C=pd.Series(svr_cv_model.best_params_)[0]).fit(X_train, y_train)"
   ]
  },
  {
   "cell_type": "code",
   "execution_count": 18,
   "id": "4ba8a613",
   "metadata": {},
   "outputs": [],
   "source": [
    "# y tahmin değerleri\n",
    "y_pred = svr_tuned.predict(X_test)"
   ]
  },
  {
   "cell_type": "code",
   "execution_count": 19,
   "id": "6dfc2649",
   "metadata": {},
   "outputs": [
    {
     "data": {
      "text/plain": [
       "428.00406888095694"
      ]
     },
     "execution_count": 19,
     "metadata": {},
     "output_type": "execute_result"
    }
   ],
   "source": [
    "np.sqrt(mean_squared_error(y_test, y_pred))"
   ]
  },
  {
   "cell_type": "markdown",
   "id": "c651e1b1",
   "metadata": {},
   "source": [
    "bu bölüme kadar hesapladığımız bütün cross validation değerlerinden çok daha büyük bir değer oldu. peki bu durumda ne düşünmemiz gerekiyor?\n",
    "\n",
    "vermiş olduğumuz parametre setiyle ilgili bir sorun olabilir çünkü içgüdüsel olarak burada doğrusal olmayan bir SVR veri setimizde herhangi bir değişiklik yok en azından knn'den kötü çıkmamasını bekleyebiliriz knn'de tun edilmiş modelin hatası 413\n",
    "\n",
    "doğrusal olmayan SVR'daki hatamız ise 428 olarak çıkmış bu çok normal bir durum olmayabilir.\n",
    "\n",
    "\"her zaman en iyi model, her zaman en doğru çalışan modeldir.\" diye bir iddaada bulunmak yanlıştır. bazı veri yapılarını ağaç yöntemleri daha iyi açıklayabilirken bazı veri yapılarını svr bazılarınıda knn açıklayabilir.\n",
    "\n",
    "her zaman en yeni algoritmanın en iyi olacağı gibi bir yanılgıya düşülmemeli."
   ]
  },
  {
   "cell_type": "code",
   "execution_count": null,
   "id": "dea2c321",
   "metadata": {},
   "outputs": [],
   "source": []
  },
  {
   "cell_type": "code",
   "execution_count": null,
   "id": "454c17b6",
   "metadata": {},
   "outputs": [],
   "source": []
  },
  {
   "cell_type": "code",
   "execution_count": null,
   "id": "fb46e946",
   "metadata": {},
   "outputs": [],
   "source": []
  },
  {
   "cell_type": "code",
   "execution_count": null,
   "id": "fdb0070d",
   "metadata": {},
   "outputs": [],
   "source": []
  },
  {
   "cell_type": "code",
   "execution_count": null,
   "id": "1f3a0517",
   "metadata": {},
   "outputs": [],
   "source": []
  },
  {
   "cell_type": "code",
   "execution_count": null,
   "id": "4b0577ac",
   "metadata": {},
   "outputs": [],
   "source": []
  },
  {
   "cell_type": "code",
   "execution_count": null,
   "id": "9da396eb",
   "metadata": {},
   "outputs": [],
   "source": []
  },
  {
   "cell_type": "code",
   "execution_count": null,
   "id": "d399d8be",
   "metadata": {},
   "outputs": [],
   "source": []
  },
  {
   "cell_type": "code",
   "execution_count": null,
   "id": "994d1692",
   "metadata": {},
   "outputs": [],
   "source": []
  }
 ],
 "metadata": {
  "kernelspec": {
   "display_name": "Python 3 (ipykernel)",
   "language": "python",
   "name": "python3"
  },
  "language_info": {
   "codemirror_mode": {
    "name": "ipython",
    "version": 3
   },
   "file_extension": ".py",
   "mimetype": "text/x-python",
   "name": "python",
   "nbconvert_exporter": "python",
   "pygments_lexer": "ipython3",
   "version": "3.9.7"
  }
 },
 "nbformat": 4,
 "nbformat_minor": 5
}
