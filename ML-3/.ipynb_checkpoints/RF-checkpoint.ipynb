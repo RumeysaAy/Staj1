{
 "cells": [
  {
   "cell_type": "markdown",
   "id": "86f91830",
   "metadata": {},
   "source": [
    "# Random Forests (RF)\n",
    "\n",
    "Temeli birden çok karar ağacının ürettiği tahminlerin bir araya getirilerek değerlendirilmesine dayanır.\n",
    "\n",
    "rastgele ormanlar"
   ]
  },
  {
   "cell_type": "code",
   "execution_count": null,
   "id": "fe220469",
   "metadata": {},
   "outputs": [],
   "source": []
  },
  {
   "cell_type": "markdown",
   "id": "245aedce",
   "metadata": {},
   "source": [
    "* Bagging ile Random Subspace yöntemlerinin birleşimi ile oluşmuştur.\n",
    "* Ağaçlar için gözlemler bootstrap rastgele örnek seçim yöntemi ile **değişkenler random subspace yöntemi ile seçilir.**\n",
    "* Karar ağacının her bir düğümünde en iyi dallara ayırıcı (bilgi kazancı) değişken tüm değişkenler arasından rastgele seçilen daha az sayıdaki değişken arasından seçilir.\n",
    "* Ağaç oluşturmada veri setinin 2/3'ü kullanılır. Dışarıda kalan veri ağaçların performans değerlendirmesi ve değişken öneminin belirlenmesi için kullanılır.\n",
    "* Her düğüm noktasında rastgele değişken seçimi yapılır. (regresyon'da p/3, sınıflama'da karekök p şeklinde değişken seçme işlemi gerçekleşmiş olur)\n",
    "* Nihai tahmin için ağaçlardan tahmin değerleri talep edilirken her bir ağacın daha önce hesaplanan hata oranları göz önüne alınarak ağaçlara ağırlık verilir."
   ]
  },
  {
   "cell_type": "code",
   "execution_count": null,
   "id": "d17e4b9f",
   "metadata": {},
   "outputs": [],
   "source": []
  },
  {
   "cell_type": "markdown",
   "id": "cdea4f8d",
   "metadata": {},
   "source": [
    "* Random Subspace, rastgele alt küme seçme işlemidir.\n",
    "\n",
    "* Bagging yöntemi elimizdeki veri setinin içerisinden yerine koymalı şekilde bootstrap aggretion işlemi gerçekleştirmişti. örneklemler çekip her birisinin üstünden model kurup bu modellerin üzerinden ortak bir sonuç ver\n",
    "\n",
    "* Random Forest'da gözlemlerdeki rassallığı değişkenlerede uygulayarak hem gözlem seçiminde hem de değişken seçiminde rassallığı sağlayarak çok başarılı bir algoritma sağlanmıştır.\n",
    "\n",
    "* değişkenler random subspace yöntemi ile seçilir: p adet değişkenin arasından p den daha küçük bir sayıyı ifade eden k adet değişken seçilip bu oluşturulmuş olan ağaçların düğüm noktalarında bir karar mekanizmasıyla değişkenler değerlendirilmiş olur.\n",
    "\n",
    "* değişkenleri rastgele seçer. her bir ağaç oluşturulduktan sonra ağaçların başarılarına göre onlara ağırlık verir. isabetli tahmin yapanlara daha fazla isabetsiz tahmin yapanlara daha az ağırlık verir"
   ]
  },
  {
   "cell_type": "code",
   "execution_count": null,
   "id": "b7a29de5",
   "metadata": {},
   "outputs": [],
   "source": []
  },
  {
   "cell_type": "code",
   "execution_count": 2,
   "id": "68d71ae6",
   "metadata": {},
   "outputs": [],
   "source": [
    "import numpy as np\n",
    "from sklearn.model_selection import train_test_split, GridSearchCV,cross_val_score\n",
    "from sklearn.metrics import mean_squared_error, r2_score\n",
    "import matplotlib.pyplot as plt\n",
    "from sklearn.preprocessing import scale \n",
    "from sklearn import model_selection\n",
    "from sklearn.tree import DecisionTreeRegressor, DecisionTreeClassifier\n",
    "from sklearn.neighbors import KNeighborsRegressor\n",
    "from sklearn.ensemble import BaggingRegressor\n",
    "\n",
    "# uyarılar gözükmesin\n",
    "from warnings import filterwarnings\n",
    "filterwarnings('ignore')\n",
    "\n",
    "# bilgilerin gözükmesi için\n",
    "from sklearn import set_config\n",
    "set_config(print_changed_only=False)"
   ]
  },
  {
   "cell_type": "code",
   "execution_count": null,
   "id": "e220bb42",
   "metadata": {},
   "outputs": [],
   "source": []
  },
  {
   "cell_type": "code",
   "execution_count": 3,
   "id": "ff381d89",
   "metadata": {},
   "outputs": [],
   "source": [
    "import pandas as pd\n",
    "hit = pd.read_csv(\"Hitters.csv\")\n",
    "df = hit.copy()\n",
    "df = df.dropna()\n",
    "dms = pd.get_dummies(df[['League', 'Division', 'NewLeague']])\n",
    "y = df[\"Salary\"]\n",
    "X_ = df.drop(['Salary', 'League', 'Division', 'NewLeague'], axis=1).astype('float64')\n",
    "X = pd.concat([X_, dms[['League_N', 'Division_W', 'NewLeague_N']]], axis=1)\n",
    "from sklearn.model_selection import train_test_split\n",
    "X_train, X_test, y_train, y_test = train_test_split(X, y, \n",
    "                                                    test_size=0.25, \n",
    "                                                    random_state=42)"
   ]
  },
  {
   "cell_type": "code",
   "execution_count": null,
   "id": "1eda5827",
   "metadata": {},
   "outputs": [],
   "source": []
  },
  {
   "cell_type": "markdown",
   "id": "d898eafc",
   "metadata": {},
   "source": [
    "# Random Forests (RF) - Model"
   ]
  },
  {
   "cell_type": "code",
   "execution_count": 4,
   "id": "3eb97114",
   "metadata": {},
   "outputs": [],
   "source": [
    "from sklearn.ensemble import RandomForestRegressor"
   ]
  },
  {
   "cell_type": "code",
   "execution_count": 5,
   "id": "4e6a455f",
   "metadata": {},
   "outputs": [],
   "source": [
    "# modeli oluşturdum\n",
    "rf_model = RandomForestRegressor(random_state = 42)"
   ]
  },
  {
   "cell_type": "code",
   "execution_count": 6,
   "id": "382c87b0",
   "metadata": {},
   "outputs": [
    {
     "data": {
      "text/plain": [
       "RandomForestRegressor(bootstrap=True, ccp_alpha=0.0, criterion='mse',\n",
       "                      max_depth=None, max_features='auto', max_leaf_nodes=None,\n",
       "                      max_samples=None, min_impurity_decrease=0.0,\n",
       "                      min_impurity_split=None, min_samples_leaf=1,\n",
       "                      min_samples_split=2, min_weight_fraction_leaf=0.0,\n",
       "                      n_estimators=100, n_jobs=None, oob_score=False,\n",
       "                      random_state=42, verbose=0, warm_start=False)"
      ]
     },
     "execution_count": 6,
     "metadata": {},
     "output_type": "execute_result"
    }
   ],
   "source": [
    "# modeli eğittim\n",
    "rf_model.fit(X_train, y_train)"
   ]
  },
  {
   "cell_type": "markdown",
   "id": "2464e925",
   "metadata": {},
   "source": [
    "* n_estimators=100 : fit edilecek ağaç sayısı yani tahminci sayısı\n",
    "* max_features='auto' : bölünme işlemlerinde göz önünde bulundurulacak olan max değişken sayısıdır.\n",
    "* max_depth=None : Random Forests için önemli olan parametrelerden birisi olabilecek her ağacın derinlik seviyesi\n",
    "* min_samples_split=2 : bir node bölünmeden önce bu düğümdeki min gözlem sayısını ifade ediyor.\n",
    "* min_samples_leaf=1 : leaf düğümdeki(node) min gözlem sayısı\n",
    "\n",
    "önemli olan 3 parametre vardır. birinicisi fit edilecek ağaç sayısı ikincisi max_features her bölünmede göze alınacak olan değişken sayısı üçüncüsü ise max_depth max derinliktir. çünkü dallanmaları en tepeden kontrol eden bir parametredir.\n",
    "\n",
    "min_samples_leaf ve min_samples_split dallanma kontrolu için kullanırız ve aşırı öğrenmenin(overfitting) önüne geçer.\n",
    "\n",
    "en genelinde bu yapıyı koruyan max_depth'dir."
   ]
  },
  {
   "cell_type": "code",
   "execution_count": null,
   "id": "ddb50fce",
   "metadata": {},
   "outputs": [],
   "source": []
  },
  {
   "cell_type": "code",
   "execution_count": null,
   "id": "08f5b85c",
   "metadata": {},
   "outputs": [],
   "source": []
  },
  {
   "cell_type": "markdown",
   "id": "74c90eed",
   "metadata": {},
   "source": [
    "# Random Forests (RF) - Tahmin"
   ]
  },
  {
   "cell_type": "code",
   "execution_count": 7,
   "id": "7dd812c6",
   "metadata": {},
   "outputs": [
    {
     "data": {
      "text/plain": [
       "array([ 738.69167,  913.51164, 1181.145  ,  139.65167,  634.60833])"
      ]
     },
     "execution_count": 7,
     "metadata": {},
     "output_type": "execute_result"
    }
   ],
   "source": [
    "# test için y tahmin değerleri\n",
    "y_pred = rf_model.predict(X_test)\n",
    "y_pred[:5]"
   ]
  },
  {
   "cell_type": "code",
   "execution_count": 8,
   "id": "68d54cf0",
   "metadata": {},
   "outputs": [
    {
     "data": {
      "text/plain": [
       "344.8191624908484"
      ]
     },
     "execution_count": 8,
     "metadata": {},
     "output_type": "execute_result"
    }
   ],
   "source": [
    "# ilkel test hatamızı 344 olarak belirledik\n",
    "np.sqrt(mean_squared_error(y_test, y_pred))"
   ]
  },
  {
   "cell_type": "code",
   "execution_count": null,
   "id": "60843c1c",
   "metadata": {},
   "outputs": [],
   "source": []
  },
  {
   "cell_type": "code",
   "execution_count": null,
   "id": "8fb9fb2f",
   "metadata": {},
   "outputs": [],
   "source": []
  },
  {
   "cell_type": "markdown",
   "id": "714444cb",
   "metadata": {},
   "source": [
    "# Random Forests (RF) - Model Tuning"
   ]
  },
  {
   "cell_type": "markdown",
   "id": "518df0fb",
   "metadata": {},
   "source": [
    "Random Forests'da 2 önemli parametre vardır. fit edilecek ağaç sayısı ve bölünmelerde kullanılacak olan değişken sayısı\n",
    "\n",
    "görece daha az önemli olsada max derinliğide burada parametre aramak için kullanmış olacağız."
   ]
  },
  {
   "cell_type": "code",
   "execution_count": 13,
   "id": "15f8c275",
   "metadata": {},
   "outputs": [],
   "source": [
    "rf_params = {\"max_depth\": list(range(1,10)), # her ağacın derinlik seviyesi\n",
    "            \"max_features\": [3,5,10,15], # bölünme işlemlerinde göz önünde bulundurulacak olan max değişken sayısıdır.\n",
    "            \"n_estimators\":[100, 200, 500, 1000, 2000]} # ağaç sayısı, tahminci sayısı"
   ]
  },
  {
   "cell_type": "markdown",
   "id": "c2ade3d4",
   "metadata": {},
   "source": [
    "random forests'da teorik olarak üzerinde bulunduğu veri setlerinde iyi çalıştığına inanılan 2 n_estimator değeri var. 500 ve 1000 değeridir."
   ]
  },
  {
   "cell_type": "code",
   "execution_count": 14,
   "id": "12579820",
   "metadata": {},
   "outputs": [],
   "source": [
    "rf_model = RandomForestRegressor(random_state = 42)"
   ]
  },
  {
   "cell_type": "code",
   "execution_count": 15,
   "id": "ec313a99",
   "metadata": {},
   "outputs": [],
   "source": [
    "rf_cv_model = GridSearchCV(rf_model,\n",
    "                           rf_params,\n",
    "                           cv = 10,\n",
    "                          n_jobs = -1)\n",
    "# bu modelin kurulması çok çok uzun süreceğinden dolayı n_jobs = -1 olduğunda aranacak parametre sayısı\n",
    "# çok olduğundan eş zamanlı yapılacak olan işlemleride devreye alır ve işlemcilerin tam performanslı \n",
    "# bir şekilde kullanılmasını sağlar. "
   ]
  },
  {
   "cell_type": "code",
   "execution_count": 16,
   "id": "2dd740d8",
   "metadata": {},
   "outputs": [
    {
     "data": {
      "text/plain": [
       "GridSearchCV(cv=10, error_score=nan,\n",
       "             estimator=RandomForestRegressor(bootstrap=True, ccp_alpha=0.0,\n",
       "                                             criterion='mse', max_depth=None,\n",
       "                                             max_features='auto',\n",
       "                                             max_leaf_nodes=None,\n",
       "                                             max_samples=None,\n",
       "                                             min_impurity_decrease=0.0,\n",
       "                                             min_impurity_split=None,\n",
       "                                             min_samples_leaf=1,\n",
       "                                             min_samples_split=2,\n",
       "                                             min_weight_fraction_leaf=0.0,\n",
       "                                             n_estimators=100, n_jobs=None,\n",
       "                                             oob_score=False, random_state=42,\n",
       "                                             verbose=0, warm_start=False),\n",
       "             n_jobs=-1,\n",
       "             param_grid={'max_depth': [1, 2, 3, 4, 5, 6, 7, 8, 9],\n",
       "                         'max_features': [3, 5, 10, 15],\n",
       "                         'n_estimators': [100, 200, 500, 1000, 2000]},\n",
       "             pre_dispatch='2*n_jobs', refit=True, return_train_score=False,\n",
       "             scoring=None, verbose=0)"
      ]
     },
     "execution_count": 16,
     "metadata": {},
     "output_type": "execute_result"
    }
   ],
   "source": [
    "rf_cv_model.fit(X_train, y_train)"
   ]
  },
  {
   "cell_type": "code",
   "execution_count": 17,
   "id": "bd18ce79",
   "metadata": {},
   "outputs": [
    {
     "data": {
      "text/plain": [
       "{'max_depth': 8, 'max_features': 3, 'n_estimators': 200}"
      ]
     },
     "execution_count": 17,
     "metadata": {},
     "output_type": "execute_result"
    }
   ],
   "source": [
    "rf_cv_model.best_params_"
   ]
  },
  {
   "cell_type": "code",
   "execution_count": 18,
   "id": "ef2fa4fd",
   "metadata": {},
   "outputs": [],
   "source": [
    "# final modelimi oluşturdum\n",
    "rf_tuned = RandomForestRegressor(max_depth=8,\n",
    "                                 max_features=3,\n",
    "                                 n_estimators=200)"
   ]
  },
  {
   "cell_type": "code",
   "execution_count": 20,
   "id": "dc392adf",
   "metadata": {},
   "outputs": [
    {
     "data": {
      "text/plain": [
       "RandomForestRegressor(bootstrap=True, ccp_alpha=0.0, criterion='mse',\n",
       "                      max_depth=8, max_features=3, max_leaf_nodes=None,\n",
       "                      max_samples=None, min_impurity_decrease=0.0,\n",
       "                      min_impurity_split=None, min_samples_leaf=1,\n",
       "                      min_samples_split=2, min_weight_fraction_leaf=0.0,\n",
       "                      n_estimators=200, n_jobs=None, oob_score=False,\n",
       "                      random_state=None, verbose=0, warm_start=False)"
      ]
     },
     "execution_count": 20,
     "metadata": {},
     "output_type": "execute_result"
    }
   ],
   "source": [
    "# final modelimi eğittim\n",
    "rf_tuned.fit(X_train, y_train)"
   ]
  },
  {
   "cell_type": "code",
   "execution_count": null,
   "id": "5c051bca",
   "metadata": {},
   "outputs": [],
   "source": []
  },
  {
   "cell_type": "code",
   "execution_count": 21,
   "id": "59854e4c",
   "metadata": {},
   "outputs": [],
   "source": [
    "# test için tahmini y değerleri\n",
    "y_pred = rf_tuned.predict(X_test)"
   ]
  },
  {
   "cell_type": "code",
   "execution_count": 22,
   "id": "94842ad7",
   "metadata": {},
   "outputs": [
    {
     "data": {
      "text/plain": [
       "334.5159950596733"
      ]
     },
     "execution_count": 22,
     "metadata": {},
     "output_type": "execute_result"
    }
   ],
   "source": [
    "# valide edilmiş test hatamız\n",
    "np.sqrt(mean_squared_error(y_test, y_pred))"
   ]
  },
  {
   "cell_type": "markdown",
   "id": "bcaa401a",
   "metadata": {},
   "source": [
    "Random Forest ile bagging arasında bir ilişki vardır. Random Forest'da göz önünde bulundurulacak değişken sayısını değişken sayısına eşitlediğimizde bagging regresyon yapılmış olur. dolayısıyla aslında bagging regresyon, Random Forest regresyon modelinin özel bir halidir."
   ]
  },
  {
   "cell_type": "code",
   "execution_count": null,
   "id": "2815d809",
   "metadata": {},
   "outputs": [],
   "source": []
  },
  {
   "cell_type": "markdown",
   "id": "92ee7783",
   "metadata": {},
   "source": [
    "değişkenlerin önem düzeylerine erişmek gibi bir ihtiyacımız olduğunu düşünelim. \n",
    "\n",
    "modelleme teknikleri anlamında model ve değişken seçme değişkenleri analitik anlamda değilde model performansını değerlendirmek için"
   ]
  },
  {
   "cell_type": "code",
   "execution_count": 23,
   "id": "a0d32106",
   "metadata": {},
   "outputs": [],
   "source": [
    "Importance = pd.DataFrame({\"Importance\": rf_tuned.feature_importances_*100},\n",
    "                         index = X_train.columns) # isimlendirmeleri aldım"
   ]
  },
  {
   "cell_type": "code",
   "execution_count": 24,
   "id": "2399a777",
   "metadata": {},
   "outputs": [
    {
     "data": {
      "text/plain": [
       "Text(0.5, 0, 'Değişken Önem Düzeyleri')"
      ]
     },
     "execution_count": 24,
     "metadata": {},
     "output_type": "execute_result"
    },
    {
     "data": {
      "image/png": "[encoded data removed]",
      "text/plain": [
       "<Figure size 432x288 with 1 Axes>"
      ]
     },
     "metadata": {
      "needs_background": "light"
     },
     "output_type": "display_data"
    }
   ],
   "source": [
    "# değişkenlerin önem düzeyini görselleştireceğiz\n",
    "Importance.sort_values(by=\"Importance\", \n",
    "                       axis=0, \n",
    "                       ascending=True).plot(kind=\"barh\", color=\"r\")\n",
    "\n",
    "plt.xlabel(\"Değişken Önem Düzeyleri\")"
   ]
  },
  {
   "cell_type": "markdown",
   "id": "c3c20453",
   "metadata": {},
   "source": [
    "doğrusal regresyon modelleri bölümünde değişkenlerin önemlerine ilişkin bilgiler alabiliyorduk. bir çoklu doğrusal regresyon modelinin çıktısında baktığımızda gördüğümüz şey değişkenler model için anlamlı mı değil mi bu değişkenlerin bağımlı değişkene olan katkılarını gözlemleyebiliyorduk\n",
    "\n",
    "bu random forest için kurduğumuz modelde değişkenlerin bağımlı değişkene etkilerine göre hatalara olan etkilerine göre anlamlılıklarını sıralanmış bir şekilde elde edebildik\n",
    "\n",
    "görece önemsiz düşünülen değişkenler çıkarılabilir."
   ]
  },
  {
   "cell_type": "code",
   "execution_count": null,
   "id": "b7f1da0a",
   "metadata": {},
   "outputs": [],
   "source": []
  },
  {
   "cell_type": "code",
   "execution_count": null,
   "id": "0d3a8caf",
   "metadata": {},
   "outputs": [],
   "source": []
  },
  {
   "cell_type": "code",
   "execution_count": null,
   "id": "4bc8922c",
   "metadata": {},
   "outputs": [],
   "source": []
  },
  {
   "cell_type": "code",
   "execution_count": null,
   "id": "ee4e0c66",
   "metadata": {},
   "outputs": [],
   "source": []
  },
  {
   "cell_type": "code",
   "execution_count": null,
   "id": "174cc20b",
   "metadata": {},
   "outputs": [],
   "source": []
  },
  {
   "cell_type": "code",
   "execution_count": null,
   "id": "966531e6",
   "metadata": {},
   "outputs": [],
   "source": []
  }
 ],
 "metadata": {
  "kernelspec": {
   "display_name": "Python 3 (ipykernel)",
   "language": "python",
   "name": "python3"
  },
  "language_info": {
   "codemirror_mode": {
    "name": "ipython",
    "version": 3
   },
   "file_extension": ".py",
   "mimetype": "text/x-python",
   "name": "python",
   "nbconvert_exporter": "python",
   "pygments_lexer": "ipython3",
   "version": "3.9.7"
  }
 },
 "nbformat": 4,
 "nbformat_minor": 5
}
