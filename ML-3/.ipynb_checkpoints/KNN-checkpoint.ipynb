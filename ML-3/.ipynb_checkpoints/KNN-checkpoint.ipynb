{
 "cells": [
  {
   "cell_type": "markdown",
   "id": "5cf1bf01",
   "metadata": {},
   "source": [
    "# K-En Yakın Komşu (KNN)\n",
    "\n",
    "* Tahminler gözlem benzerliğine göre yapılır.\n",
    "* Öklid ya da benzeri bir uzaklık hesabı ile her bir gözleme uzaklık hesaplanır.\n",
    "* En yakın K adet gözlemin y değerlerinin ortalaması alınır.\n",
    "* y tahmini değer bulunur."
   ]
  },
  {
   "cell_type": "markdown",
   "id": "24087805",
   "metadata": {},
   "source": [
    "## KNN Basamakları\n",
    "\n",
    "* Komşu sayısını belirle (K)\n",
    "* Bilinmeyen nokta ile diğer tüm noktalar ile arasındaki uzaklıkları hesapla\n",
    "* Uzaklıkları sırala ve belirlenen k sayısına göre en yakın olan k gözlemi seç\n",
    "* Sınıflandırma ise en sık sınıf, regresyon ise ortalama değeri tahmin değeri olarak ver."
   ]
  },
  {
   "cell_type": "code",
   "execution_count": null,
   "id": "2096d3dc",
   "metadata": {},
   "outputs": [],
   "source": []
  },
  {
   "cell_type": "markdown",
   "id": "eb08835a",
   "metadata": {},
   "source": [
    "parametrik olmayan bir öğrenme türüdür. büyük veri setlerinde performans olarak çok iyi olduğu söylenemez ama sınıflandırma problemleri için ortaya çıkmış daha sonra regresyon modellerine uyarlanmıştır. kullanılması uygulanması kolay olduğundan tercih edilir.\n",
    "\n",
    "Tahminler gözlem benzerliğine göre yapılır.\n",
    "gözlem birimi(bağımsız değişkenler), bağlımlı değişken değerim nedir? diye sorar. KNN'de sana en benzer olan arkadaşlarına bakacağım, der ve bu gözlem birimine en yakın olan k (3, 5...) tane gözlem birimini inceleyip kendisine en yakın olanlara göre bu gözlem biriminin bağımlı değişkenini bulmuş oluyor."
   ]
  },
  {
   "cell_type": "code",
   "execution_count": null,
   "id": "288691b0",
   "metadata": {},
   "outputs": [],
   "source": []
  },
  {
   "cell_type": "code",
   "execution_count": 1,
   "id": "63f92ed3",
   "metadata": {},
   "outputs": [],
   "source": [
    "import numpy as np\n",
    "import pandas as pd\n",
    "from sklearn.model_selection import train_test_split, ShuffleSplit, GridSearchCV, cross_val_score\n",
    "from sklearn.metrics import mean_squared_error, r2_score\n",
    "import matplotlib.pyplot as plt\n",
    "from sklearn.preprocessing import scale\n",
    "from sklearn import model_selection\n",
    "from sklearn.tree import DecisionTreeRegressor, DecisionTreeClassifier\n",
    "from sklearn.neighbors import KNeighborsRegressor\n",
    "from sklearn.ensemble import BaggingRegressor"
   ]
  },
  {
   "cell_type": "code",
   "execution_count": 16,
   "id": "d1b4d7cc",
   "metadata": {},
   "outputs": [],
   "source": [
    "# uyarıları kapatmak için\n",
    "\n",
    "from warnings import filterwarnings\n",
    "filterwarnings(\"ignore\")"
   ]
  },
  {
   "cell_type": "code",
   "execution_count": null,
   "id": "24e8b427",
   "metadata": {},
   "outputs": [],
   "source": []
  },
  {
   "cell_type": "code",
   "execution_count": null,
   "id": "d4c02f03",
   "metadata": {},
   "outputs": [],
   "source": []
  },
  {
   "cell_type": "code",
   "execution_count": 2,
   "id": "c3572e73",
   "metadata": {},
   "outputs": [],
   "source": [
    "hit = pd.read_csv(\"Hitters.csv\")\n",
    "df = hit.copy()\n",
    "df = df.dropna()\n",
    "dms = pd.get_dummies(df[['League', 'Division', 'NewLeague']])\n",
    "y = df[\"Salary\"]\n",
    "X_ = df.drop(['Salary', 'League', 'Division', 'NewLeague'], axis=1).astype('float64')\n",
    "X = pd.concat([X_, dms[['League_N', 'Division_W', 'NewLeague_N']]], axis=1)\n",
    "X_train, X_test, y_train, y_test = train_test_split(X, y, \n",
    "                                                    test_size=0.25, \n",
    "                                                    random_state=42)"
   ]
  },
  {
   "cell_type": "code",
   "execution_count": null,
   "id": "d9b9f871",
   "metadata": {},
   "outputs": [],
   "source": []
  },
  {
   "cell_type": "code",
   "execution_count": 3,
   "id": "4fa15f33",
   "metadata": {},
   "outputs": [],
   "source": [
    "from sklearn.neighbors import KNeighborsRegressor\n",
    "# knn modelini oluşturdum\n",
    "knn_model = KNeighborsRegressor().fit(X_train, y_train)"
   ]
  },
  {
   "cell_type": "code",
   "execution_count": 4,
   "id": "b21d0548",
   "metadata": {},
   "outputs": [
    {
     "data": {
      "text/plain": [
       "5"
      ]
     },
     "execution_count": 4,
     "metadata": {},
     "output_type": "execute_result"
    }
   ],
   "source": [
    "# ön tanımlı olarak komşuluk parametresi (k) değeri 5 dir.\n",
    "# model hiperparametresi olarak anlandırabileceğimiz knn'in parametresi komşuluk sayısıdır.\n",
    "knn_model.n_neighbors"
   ]
  },
  {
   "cell_type": "code",
   "execution_count": null,
   "id": "ecc5b7f3",
   "metadata": {},
   "outputs": [],
   "source": [
    "# knn, farklı k değerlerine göre farklı değerler verebilir.\n",
    "# optimize etmemiz gereklidir."
   ]
  },
  {
   "cell_type": "code",
   "execution_count": null,
   "id": "dc9400e5",
   "metadata": {},
   "outputs": [],
   "source": []
  },
  {
   "cell_type": "code",
   "execution_count": null,
   "id": "a23d4c62",
   "metadata": {},
   "outputs": [],
   "source": []
  },
  {
   "cell_type": "markdown",
   "id": "351b105b",
   "metadata": {},
   "source": [
    "# K-En Yakın Komşu (KNN) - Tahmin"
   ]
  },
  {
   "cell_type": "code",
   "execution_count": 5,
   "id": "a8178e80",
   "metadata": {},
   "outputs": [
    {
     "data": {
      "text/plain": [
       "array([ 510.3334,  808.3334,  772.5   ,  125.5   , 1005.    ,  325.5   ,\n",
       "        216.5   ,  101.5   ,  982.    ,  886.6666])"
      ]
     },
     "execution_count": 5,
     "metadata": {},
     "output_type": "execute_result"
    }
   ],
   "source": [
    "# test setine göre y tahmin değerleri\n",
    "y_pred = knn_model.predict(X_test)\n",
    "y_pred[:10]"
   ]
  },
  {
   "cell_type": "code",
   "execution_count": 6,
   "id": "175161b0",
   "metadata": {},
   "outputs": [
    {
     "data": {
      "text/plain": [
       "426.6570764525201"
      ]
     },
     "execution_count": 6,
     "metadata": {},
     "output_type": "execute_result"
    }
   ],
   "source": [
    "# rmse test hatası\n",
    "np.sqrt(mean_squared_error(y_test, y_pred))"
   ]
  },
  {
   "cell_type": "code",
   "execution_count": 7,
   "id": "1584bad4",
   "metadata": {},
   "outputs": [
    {
     "name": "stdout",
     "output_type": "stream",
     "text": [
      "k = 1 için RMSE değeri:  0.0\n",
      "k = 2 için RMSE değeri:  179.52761335480352\n",
      "k = 3 için RMSE değeri:  205.20157172291863\n",
      "k = 4 için RMSE değeri:  220.5139794876305\n",
      "k = 5 için RMSE değeri:  239.6467132541376\n",
      "k = 6 için RMSE değeri:  243.5904190007242\n",
      "k = 7 için RMSE değeri:  258.1478781634636\n",
      "k = 8 için RMSE değeri:  266.05374203349805\n",
      "k = 9 için RMSE değeri:  269.73782093553376\n",
      "k = 10 için RMSE değeri:  271.2798300436963\n"
     ]
    }
   ],
   "source": [
    "RMSE = [] \n",
    "\n",
    "for k in range(10):\n",
    "    k = k+1\n",
    "    knn_model = KNeighborsRegressor(n_neighbors = k).fit(X_train, y_train)\n",
    "    y_pred = knn_model.predict(X_train) \n",
    "    rmse = np.sqrt(mean_squared_error(y_train,y_pred)) \n",
    "    RMSE.append(rmse) \n",
    "    print(\"k =\" , k , \"için RMSE değeri: \", rmse)"
   ]
  },
  {
   "cell_type": "code",
   "execution_count": null,
   "id": "5880fd0e",
   "metadata": {},
   "outputs": [],
   "source": [
    "# k = 2 için RMSE değeri:  179.52761335480352"
   ]
  },
  {
   "cell_type": "markdown",
   "id": "8664f233",
   "metadata": {},
   "source": [
    "Cross Validation yöntemiyle farklı k değerlerine karşılık olacak şekilde nasıl bir seçim işlemi yapacağız"
   ]
  },
  {
   "cell_type": "code",
   "execution_count": null,
   "id": "2eed789d",
   "metadata": {},
   "outputs": [],
   "source": []
  },
  {
   "cell_type": "code",
   "execution_count": null,
   "id": "905dff27",
   "metadata": {},
   "outputs": [],
   "source": []
  },
  {
   "cell_type": "markdown",
   "id": "7c36e1c9",
   "metadata": {},
   "source": [
    "# K-En Yakın Komşu (KNN) - Model Tuning\n",
    "\n",
    "GridSearchCV metoduyla optimum k sayısını belirleme işlemini gerçekleştireceğiz.\n",
    "\n",
    "GridSearchCV yöntemiyle hiperparametre araması yapacağız. GridSearchCV, bir ızgara mantığıyla bir olası parametre setinin verilip tüm olası kombinasyonların denenmesi anlamına gelir. "
   ]
  },
  {
   "cell_type": "code",
   "execution_count": 10,
   "id": "df5a36ff",
   "metadata": {},
   "outputs": [],
   "source": [
    "from sklearn.model_selection import GridSearchCV"
   ]
  },
  {
   "cell_type": "code",
   "execution_count": 11,
   "id": "c10cceb4",
   "metadata": {},
   "outputs": [],
   "source": [
    "knn_params = {\"n_neighbors\": np.arange(1,30,1)}\n",
    "# 1den 30a kadar olan komşuluk (k) değerlerini modelde deneyip hangisinin daha iyi olduğunu bulacağız"
   ]
  },
  {
   "cell_type": "code",
   "execution_count": 12,
   "id": "f6c3fcb6",
   "metadata": {},
   "outputs": [
    {
     "data": {
      "text/plain": [
       "array([ 1,  2,  3,  4,  5,  6,  7,  8,  9, 10, 11, 12, 13, 14, 15, 16, 17,\n",
       "       18, 19, 20, 21, 22, 23, 24, 25, 26, 27, 28, 29])"
      ]
     },
     "execution_count": 12,
     "metadata": {},
     "output_type": "execute_result"
    }
   ],
   "source": [
    "np.arange(1,30,1)"
   ]
  },
  {
   "cell_type": "code",
   "execution_count": 13,
   "id": "c06e8352",
   "metadata": {},
   "outputs": [],
   "source": [
    "# knn model nesnesi\n",
    "knn = KNeighborsRegressor()"
   ]
  },
  {
   "cell_type": "code",
   "execution_count": 14,
   "id": "f80674e5",
   "metadata": {},
   "outputs": [],
   "source": [
    "# knn cross validation nesnesi\n",
    "knn_cv_model = GridSearchCV(knn, knn_params, cv=10)"
   ]
  },
  {
   "cell_type": "code",
   "execution_count": 15,
   "id": "37d03792",
   "metadata": {},
   "outputs": [
    {
     "data": {
      "text/plain": [
       "GridSearchCV(cv=10, estimator=KNeighborsRegressor(),\n",
       "             param_grid={'n_neighbors': array([ 1,  2,  3,  4,  5,  6,  7,  8,  9, 10, 11, 12, 13, 14, 15, 16, 17,\n",
       "       18, 19, 20, 21, 22, 23, 24, 25, 26, 27, 28, 29])})"
      ]
     },
     "execution_count": 15,
     "metadata": {},
     "output_type": "execute_result"
    }
   ],
   "source": [
    "# modeli eğittim\n",
    "knn_cv_model.fit(X_train, y_train)"
   ]
  },
  {
   "cell_type": "markdown",
   "id": "de2be153",
   "metadata": {},
   "source": [
    "model kurma işlemini gerçekleştirdim. cv yöntemine göre bize uygun olabilecek parametreleri aslında şu anda hepsini denedi ve bunun neticesinde uygun olan parametreyi bulmuş oldu."
   ]
  },
  {
   "cell_type": "code",
   "execution_count": 17,
   "id": "77569a3a",
   "metadata": {},
   "outputs": [
    {
     "data": {
      "text/plain": [
       "8"
      ]
     },
     "execution_count": 17,
     "metadata": {},
     "output_type": "execute_result"
    }
   ],
   "source": [
    "# bu en uygun parametreyi bulmak için knn_cv_model nesnesinin içerisinden\n",
    "# 8'i en uygun parametre değeri olarak bulmuş oldu\n",
    "knn_cv_model.best_params_[\"n_neighbors\"]"
   ]
  },
  {
   "cell_type": "code",
   "execution_count": null,
   "id": "340e0980",
   "metadata": {},
   "outputs": [],
   "source": []
  },
  {
   "cell_type": "code",
   "execution_count": 18,
   "id": "b03f15a8",
   "metadata": {},
   "outputs": [
    {
     "name": "stdout",
     "output_type": "stream",
     "text": [
      "k = 1 için RMSE değeri: 0.0 RMSE_CV değeri:  325.3947514706382\n",
      "k = 2 için RMSE değeri: 179.52761335480352 RMSE_CV değeri:  293.24000183333817\n",
      "k = 3 için RMSE değeri: 205.20157172291863 RMSE_CV değeri:  283.7486667487823\n",
      "k = 4 için RMSE değeri: 220.5139794876305 RMSE_CV değeri:  286.3240222024089\n",
      "k = 5 için RMSE değeri: 239.6467132541376 RMSE_CV değeri:  290.0705466132226\n",
      "k = 6 için RMSE değeri: 243.5904190007242 RMSE_CV değeri:  298.1263115575851\n",
      "k = 7 için RMSE değeri: 258.1478781634636 RMSE_CV değeri:  294.77070479194987\n",
      "k = 8 için RMSE değeri: 266.05374203349805 RMSE_CV değeri:  291.98672028891235\n",
      "k = 9 için RMSE değeri: 269.73782093553376 RMSE_CV değeri:  295.7162739573105\n",
      "k = 10 için RMSE değeri: 271.2798300436963 RMSE_CV değeri:  301.31047022701154\n"
     ]
    }
   ],
   "source": [
    "# train seti için validate edilmiş ve edilmemiş rmse hatalarını gözlemleyelim\n",
    "RMSE = []\n",
    "RMSE_CV = []\n",
    "\n",
    "for k in range(10):\n",
    "    k = k+1\n",
    "    knn_model = KNeighborsRegressor(n_neighbors = k).fit(X_train, y_train)\n",
    "    y_pred = knn_model.predict(X_train)\n",
    "    rmse = np.sqrt(mean_squared_error(y_train, y_pred))\n",
    "    rmse_cv = np.sqrt(-1*cross_val_score(knn_model,\n",
    "                                         X_train,\n",
    "                                         y_train,\n",
    "                                         cv=10,\n",
    "                                         scoring=\"neg_mean_squared_error\").mean())\n",
    "    RMSE.append(rmse)\n",
    "    RMSE_CV.append(rmse_cv)\n",
    "    print(\"k =\", k, \"için RMSE değeri:\", rmse, \"RMSE_CV değeri: \", rmse_cv)"
   ]
  },
  {
   "cell_type": "markdown",
   "id": "3bcd6ab1",
   "metadata": {},
   "source": [
    "hata kareler ortalamasının karekökü değerleri (RMSE değeri), bunlar test ve train üzerinden direk yapılan hesaplamalardır.\n",
    "\n",
    "validate edilmiş model üzerinden elde edilmiş hatalar (RMSE_CV değeri)\n",
    "\n",
    "best_params fonksiyonu RMSE değerine bakarak bir sırlama yapmadığı için böyle bir durumla karşılaşılıyor.  best_params fonksiyonu \"mean_validation_score\" değerine göre bir sıralama yapıyor. Bu nedenle RMSE değerlerine bakıldığında farklı bir sonuç çıkıyor."
   ]
  },
  {
   "cell_type": "code",
   "execution_count": null,
   "id": "81709cc7",
   "metadata": {},
   "outputs": [],
   "source": []
  },
  {
   "cell_type": "code",
   "execution_count": null,
   "id": "7caf05ce",
   "metadata": {},
   "outputs": [],
   "source": []
  },
  {
   "cell_type": "code",
   "execution_count": 17,
   "id": "1958e183",
   "metadata": {},
   "outputs": [
    {
     "data": {
      "text/plain": [
       "8"
      ]
     },
     "execution_count": 17,
     "metadata": {},
     "output_type": "execute_result"
    }
   ],
   "source": [
    "# bu en uygun parametreyi bulmak için knn_cv_model nesnesinin içerisinden\n",
    "# 8'i en uygun parametre değeri olarak bulmuş oldu\n",
    "knn_cv_model.best_params_[\"n_neighbors\"]"
   ]
  },
  {
   "cell_type": "code",
   "execution_count": 19,
   "id": "a4b93cfb",
   "metadata": {},
   "outputs": [],
   "source": [
    "# final modelimiz\n",
    "knn_tuned = KNeighborsRegressor(n_neighbors = knn_cv_model.best_params_[\"n_neighbors\"])"
   ]
  },
  {
   "cell_type": "code",
   "execution_count": 20,
   "id": "535b8eb6",
   "metadata": {},
   "outputs": [
    {
     "data": {
      "text/plain": [
       "KNeighborsRegressor(n_neighbors=8)"
      ]
     },
     "execution_count": 20,
     "metadata": {},
     "output_type": "execute_result"
    }
   ],
   "source": [
    "knn_tuned.fit(X_train, y_train) # modeli eğittik"
   ]
  },
  {
   "cell_type": "code",
   "execution_count": 21,
   "id": "ede1a3e4",
   "metadata": {},
   "outputs": [],
   "source": [
    "# test seti için y tahmini değerleri\n",
    "y_pred = knn_tuned.predict(X_test)"
   ]
  },
  {
   "cell_type": "code",
   "execution_count": 22,
   "id": "a8339d10",
   "metadata": {},
   "outputs": [
    {
     "data": {
      "text/plain": [
       "413.7094731463598"
      ]
     },
     "execution_count": 22,
     "metadata": {},
     "output_type": "execute_result"
    }
   ],
   "source": [
    "# rmse test hata\n",
    "np.sqrt(mean_squared_error(y_test, y_pred))"
   ]
  },
  {
   "cell_type": "code",
   "execution_count": null,
   "id": "bd6ec5f2",
   "metadata": {},
   "outputs": [],
   "source": []
  },
  {
   "cell_type": "code",
   "execution_count": null,
   "id": "a01b9ec8",
   "metadata": {},
   "outputs": [],
   "source": []
  }
 ],
 "metadata": {
  "kernelspec": {
   "display_name": "Python 3 (ipykernel)",
   "language": "python",
   "name": "python3"
  },
  "language_info": {
   "codemirror_mode": {
    "name": "ipython",
    "version": 3
   },
   "file_extension": ".py",
   "mimetype": "text/x-python",
   "name": "python",
   "nbconvert_exporter": "python",
   "pygments_lexer": "ipython3",
   "version": "3.9.7"
  }
 },
 "nbformat": 4,
 "nbformat_minor": 5
}
