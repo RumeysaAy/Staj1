{
 "cells": [
  {
   "cell_type": "markdown",
   "id": "b0333f4e",
   "metadata": {},
   "source": [
    "# Light GBM\n",
    "\n",
    "Light GBM, XGBoost'un eğitim süresi performansını artırmaya yönelik geliştirilen bir diğer GBM türüdür.\n",
    "\n",
    "* Daha performanslı\n",
    "* Level-wise büyüme stratejisi yerine Leaf-wise büyüme stratejisi\n",
    "* Breadth-first search (BFS) yerine depth-first search (DFS)"
   ]
  },
  {
   "cell_type": "code",
   "execution_count": null,
   "id": "4736d024",
   "metadata": {},
   "outputs": [],
   "source": []
  },
  {
   "cell_type": "markdown",
   "id": "a4988e5a",
   "metadata": {},
   "source": [
    "xgboost, Level-wise büyüme stratejisini kullanır ve Breadth-first search (BFS) yapar."
   ]
  },
  {
   "cell_type": "code",
   "execution_count": null,
   "id": "28d09ff8",
   "metadata": {},
   "outputs": [],
   "source": []
  },
  {
   "cell_type": "code",
   "execution_count": null,
   "id": "1f0aff5c",
   "metadata": {},
   "outputs": [],
   "source": []
  },
  {
   "cell_type": "markdown",
   "id": "205cc81d",
   "metadata": {},
   "source": [
    "# Light GBM - Model"
   ]
  },
  {
   "cell_type": "code",
   "execution_count": 1,
   "id": "18c33b48",
   "metadata": {},
   "outputs": [],
   "source": [
    "import numpy as np\n",
    "from sklearn.model_selection import train_test_split, GridSearchCV,cross_val_score\n",
    "from sklearn.metrics import mean_squared_error, r2_score\n",
    "import matplotlib.pyplot as plt\n",
    "from sklearn.preprocessing import scale \n",
    "from sklearn import model_selection\n",
    "from sklearn.tree import DecisionTreeRegressor, DecisionTreeClassifier\n",
    "from sklearn.neighbors import KNeighborsRegressor\n",
    "from sklearn.ensemble import BaggingRegressor\n",
    "\n",
    "# uyarılar gözükmesin\n",
    "from warnings import filterwarnings\n",
    "filterwarnings('ignore')\n",
    "\n",
    "# bilgilerin gözükmesi için\n",
    "from sklearn import set_config\n",
    "set_config(print_changed_only=False)"
   ]
  },
  {
   "cell_type": "code",
   "execution_count": 2,
   "id": "a2437471",
   "metadata": {},
   "outputs": [],
   "source": [
    "import pandas as pd\n",
    "hit = pd.read_csv(\"Hitters.csv\")\n",
    "df = hit.copy()\n",
    "df = df.dropna()\n",
    "dms = pd.get_dummies(df[['League', 'Division', 'NewLeague']])\n",
    "y = df[\"Salary\"]\n",
    "X_ = df.drop(['Salary', 'League', 'Division', 'NewLeague'], axis=1).astype('float64')\n",
    "X = pd.concat([X_, dms[['League_N', 'Division_W', 'NewLeague_N']]], axis=1)\n",
    "from sklearn.model_selection import train_test_split\n",
    "X_train, X_test, y_train, y_test = train_test_split(X, y, \n",
    "                                                    test_size=0.25, \n",
    "                                                    random_state=42)"
   ]
  },
  {
   "cell_type": "code",
   "execution_count": 3,
   "id": "e996507d",
   "metadata": {},
   "outputs": [],
   "source": [
    "# !pip install lightgbm"
   ]
  },
  {
   "cell_type": "code",
   "execution_count": 7,
   "id": "17d9bc6d",
   "metadata": {},
   "outputs": [],
   "source": [
    "# conda install -c conda-forge lightgbm"
   ]
  },
  {
   "cell_type": "code",
   "execution_count": null,
   "id": "e7766992",
   "metadata": {},
   "outputs": [],
   "source": [
    "from lightgbm import LGBMRegressor"
   ]
  },
  {
   "cell_type": "code",
   "execution_count": null,
   "id": "85e2da38",
   "metadata": {},
   "outputs": [],
   "source": [
    "lgbm = LGBMRegressor()"
   ]
  },
  {
   "cell_type": "code",
   "execution_count": null,
   "id": "e9cfc4f9",
   "metadata": {},
   "outputs": [],
   "source": [
    "lgbm_model = lgbm.fit(X_train, y_train)"
   ]
  },
  {
   "cell_type": "markdown",
   "id": "22852f4b",
   "metadata": {},
   "source": [
    "# Light GBM - Tahmin"
   ]
  },
  {
   "cell_type": "code",
   "execution_count": null,
   "id": "9e44f8c8",
   "metadata": {},
   "outputs": [],
   "source": [
    "y_pred = lgbm_model.predict(X_test,\n",
    "                            num_iteration = lgbm_model.best_iteration_)"
   ]
  },
  {
   "cell_type": "code",
   "execution_count": null,
   "id": "2819e74e",
   "metadata": {},
   "outputs": [],
   "source": [
    "np.sqrt(mean_squared_error(y_test, y_pred))"
   ]
  },
  {
   "cell_type": "code",
   "execution_count": null,
   "id": "01a917cd",
   "metadata": {},
   "outputs": [],
   "source": []
  },
  {
   "cell_type": "code",
   "execution_count": null,
   "id": "1204ec91",
   "metadata": {},
   "outputs": [],
   "source": []
  },
  {
   "cell_type": "markdown",
   "id": "ff4d4cc5",
   "metadata": {},
   "source": [
    "# Light GBM - Model Tuning"
   ]
  },
  {
   "cell_type": "code",
   "execution_count": null,
   "id": "e5d8a4a3",
   "metadata": {},
   "outputs": [],
   "source": [
    "lgbm_model"
   ]
  },
  {
   "cell_type": "code",
   "execution_count": null,
   "id": "46cf5678",
   "metadata": {},
   "outputs": [],
   "source": [
    "lbgm_grid = {\n",
    "    \"colsample_bytree\":[0.4,0.5,0.6,0.9,1],\n",
    "    \"learning_rate\":[0.01,0.1,0.5,1],\n",
    "    \"n_estimators\":[20,40,100,200,500,1000],\n",
    "    \"max_depth\":[1,2,3,4,5,6,7,8]\n",
    "}"
   ]
  },
  {
   "cell_type": "markdown",
   "id": "8caff128",
   "metadata": {},
   "source": [
    "9600 ağaç, xgboost'un 3 katı 3 dakikadan daha az bir şekilde bu işlemi tamamlarsa lightgbm daha hızlıdır diyebiliriz. lightgbm, xgboost'un 3 katından daha fazla fit işlemini 1.5 dakikada tamamladı."
   ]
  },
  {
   "cell_type": "code",
   "execution_count": null,
   "id": "5d42c1d8",
   "metadata": {},
   "outputs": [],
   "source": [
    "lgbm = LGBMRegressor()"
   ]
  },
  {
   "cell_type": "code",
   "execution_count": null,
   "id": "ce71d64d",
   "metadata": {},
   "outputs": [],
   "source": [
    "lgbm_cv_model = GridSearchCV(lgbm, lgbm_grid, cv=10, n_jobs=-1,verbose=2)"
   ]
  },
  {
   "cell_type": "code",
   "execution_count": null,
   "id": "1877ec39",
   "metadata": {},
   "outputs": [],
   "source": [
    "lgbm_cv_model.fit(X_train, y_train)"
   ]
  },
  {
   "cell_type": "code",
   "execution_count": null,
   "id": "73279462",
   "metadata": {},
   "outputs": [],
   "source": [
    "# modelin optimum parametre değerleri\n",
    "lgbm_cv_model.best_params_"
   ]
  },
  {
   "cell_type": "code",
   "execution_count": null,
   "id": "1f2f0b81",
   "metadata": {},
   "outputs": [],
   "source": [
    "# final modelimizi oluşturalım\n",
    "lgbm_tuned = LGBMRegressor(learning_rate = 0.1,\n",
    "                          max_depth = 7,\n",
    "                          n_estimators = 40,\n",
    "                          colsample_bytree = 0.6)"
   ]
  },
  {
   "cell_type": "code",
   "execution_count": null,
   "id": "ff81dce1",
   "metadata": {},
   "outputs": [],
   "source": [
    "lgbm_tuned = lgbm_tuned.fit(X_train,y_train)"
   ]
  },
  {
   "cell_type": "code",
   "execution_count": null,
   "id": "28c00255",
   "metadata": {},
   "outputs": [],
   "source": [
    "# final modeli için test hatası"
   ]
  },
  {
   "cell_type": "code",
   "execution_count": null,
   "id": "1d951187",
   "metadata": {},
   "outputs": [],
   "source": [
    "y_pred = lgbm_tuned.predict(X_test,\n",
    "                           num_iteration = lgbm_model.best_iteration)"
   ]
  },
  {
   "cell_type": "code",
   "execution_count": null,
   "id": "9cef361e",
   "metadata": {},
   "outputs": [],
   "source": [
    "np.sqrt(mean_squared_error(y_test,y_pred))"
   ]
  },
  {
   "cell_type": "markdown",
   "id": "923606ba",
   "metadata": {},
   "source": [
    "ligthGBM, XGBoost'a göre..."
   ]
  }
 ],
 "metadata": {
  "kernelspec": {
   "display_name": "Python 3 (ipykernel)",
   "language": "python",
   "name": "python3"
  },
  "language_info": {
   "codemirror_mode": {
    "name": "ipython",
    "version": 3
   },
   "file_extension": ".py",
   "mimetype": "text/x-python",
   "name": "python",
   "nbconvert_exporter": "python",
   "pygments_lexer": "ipython3",
   "version": "3.9.7"
  }
 },
 "nbformat": 4,
 "nbformat_minor": 5
}
