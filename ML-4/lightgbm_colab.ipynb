{
  "cells": [
    {
      "cell_type": "markdown",
      "id": "70b225af",
      "metadata": {
        "id": "70b225af"
      },
      "source": [
        "# Light GBM\n",
        "\n",
        "Light GBM, XGBoost'un eğitim süresi performansını arttırmaya yönelik geliştirilen bir diğer GBM türüdür. (Microsoft 2017)\n",
        "\n",
        "* Daha performanslı\n",
        "* Level-wise büyüme stratejisi yerine Leaf-wise büyüme stratejisi\n",
        "* Breadth-first search (BFS) yerine depth-first search (DFS)"
      ]
    },
    {
      "cell_type": "markdown",
      "id": "b3b79e3f",
      "metadata": {
        "id": "b3b79e3f"
      },
      "source": []
    },
    {
      "cell_type": "markdown",
      "id": "70750515",
      "metadata": {
        "id": "70750515"
      },
      "source": [
        "* veri setindeki gözlem ve değişken sayısı çok büyük bir miktarda olduğunda xgboost C++ yazılmış olsa dahi eğitim süreleri uzuyor.\n",
        "* xgboost, değişkenleri ayırmak ve farklı bölme noktalarını araştırmak, keşfetmek için \"karar ağaçlarını\" kullanıyor bu işleme level -wise ağaç büyüme stratejisi denir.\n",
        "* light gbm, \"splitleri\" kullanır.\n",
        "* xgboost, bfs ve level-wise\n",
        "* light gbm, leaf-wise ve dfs"
      ]
    },
    {
      "cell_type": "code",
      "execution_count": null,
      "id": "7c2b8741",
      "metadata": {
        "id": "7c2b8741"
      },
      "outputs": [],
      "source": []
    },
    {
      "cell_type": "code",
      "execution_count": null,
      "id": "5da12e76",
      "metadata": {
        "id": "5da12e76"
      },
      "outputs": [],
      "source": []
    },
    {
      "cell_type": "code",
      "execution_count": 2,
      "id": "fff3dc51",
      "metadata": {
        "id": "fff3dc51"
      },
      "outputs": [],
      "source": [
        "# bilgilerin gözükmesi için\n",
        "from sklearn import set_config\n",
        "set_config(print_changed_only=False)"
      ]
    },
    {
      "cell_type": "raw",
      "id": "8cb8b505",
      "metadata": {
        "id": "8cb8b505"
      },
      "source": [
        "import numpy as np\n",
        "import pandas as pd\n",
        "import statsmodels.api as sm\n",
        "import statsmodels.formula.api as smf\n",
        "import seaborn as sns\n",
        "from sklearn.preprocessing import scale\n",
        "from sklearn.model_selection import train_test_split, GridSearchCV, cross_val_score\n",
        "from sklearn.metrics import confusion_matrix, accuracy_score, classification_report\n",
        "from sklearn.metrics import roc_auc_score,roc_curve\n",
        "import statsmodels.formula.api as smf\n",
        "import matplotlib.pyplot as plt\n",
        "from sklearn.neighbors import KNeighborsClassifier\n",
        "from sklearn.discriminant_analysis import LinearDiscriminantAnalysis\n",
        "from sklearn.linear_model import LogisticRegression\n",
        "from sklearn.svm import SVC\n",
        "from sklearn.naive_bayes import GaussianNB\n",
        "from sklearn import tree\n",
        "from sklearn.ensemble import RandomForestClassifier\n",
        "from sklearn.ensemble import GradientBoostingClassifier\n",
        "from xgboost import XGBClassifier\n",
        "# from lightgbm import LGBMClassifier\n",
        "# from catboost import CatBoostClassifier"
      ]
    },
    {
      "cell_type": "code",
      "execution_count": null,
      "id": "d5ae6360",
      "metadata": {
        "id": "d5ae6360"
      },
      "outputs": [],
      "source": []
    },
    {
      "cell_type": "code",
      "execution_count": null,
      "id": "595c803b",
      "metadata": {
        "id": "595c803b"
      },
      "outputs": [],
      "source": []
    },
    {
      "cell_type": "code",
      "execution_count": null,
      "id": "99595649",
      "metadata": {
        "id": "99595649"
      },
      "outputs": [],
      "source": []
    },
    {
      "cell_type": "markdown",
      "id": "d99f2df6",
      "metadata": {
        "id": "d99f2df6"
      },
      "source": [
        "# Light GBM - Model & Tahmin"
      ]
    },
    {
      "cell_type": "code",
      "execution_count": 3,
      "id": "488d0078",
      "metadata": {
        "id": "488d0078"
      },
      "outputs": [],
      "source": [
        "import pandas as pd\n",
        "# veri setimizi import edelim\n",
        "diabetes = pd.read_csv(\"diabetes.csv\")"
      ]
    },
    {
      "cell_type": "code",
      "execution_count": 4,
      "id": "ee7d63b0",
      "metadata": {
        "id": "ee7d63b0"
      },
      "outputs": [],
      "source": [
        "df = diabetes.copy()\n",
        "df = df.dropna()\n",
        "y = df[\"Outcome\"]\n",
        "X = df.drop([\"Outcome\"], axis=1)"
      ]
    },
    {
      "cell_type": "code",
      "execution_count": 5,
      "id": "d9e4735d",
      "metadata": {
        "id": "d9e4735d"
      },
      "outputs": [],
      "source": [
        "from sklearn.model_selection import train_test_split\n",
        "\n",
        "X_train, X_test, y_train, y_test = train_test_split(X,\n",
        "                                                    y,\n",
        "                                                    test_size=0.30,\n",
        "                                                   random_state=42)"
      ]
    },
    {
      "cell_type": "code",
      "execution_count": 1,
      "id": "d0a5bb42",
      "metadata": {
        "collapsed": true,
        "jupyter": {
          "outputs_hidden": true
        },
        "colab": {
          "base_uri": "https://localhost:8080/"
        },
        "id": "d0a5bb42",
        "outputId": "fa51316d-4c2f-4e72-e464-33bd29a8b2a3"
      },
      "outputs": [
        {
          "output_type": "stream",
          "name": "stdout",
          "text": [
            "Requirement already satisfied: lightgbm in /usr/local/lib/python3.10/dist-packages (4.1.0)\n",
            "Requirement already satisfied: numpy in /usr/local/lib/python3.10/dist-packages (from lightgbm) (1.23.5)\n",
            "Requirement already satisfied: scipy in /usr/local/lib/python3.10/dist-packages (from lightgbm) (1.11.4)\n"
          ]
        }
      ],
      "source": [
        "# !pip install lightgbm"
      ]
    },
    {
      "cell_type": "code",
      "execution_count": 6,
      "id": "f51f2fb5",
      "metadata": {
        "collapsed": true,
        "jupyter": {
          "outputs_hidden": true
        },
        "id": "f51f2fb5"
      },
      "outputs": [],
      "source": [
        "from lightgbm import LGBMClassifier"
      ]
    },
    {
      "cell_type": "code",
      "execution_count": null,
      "id": "d64b50b3",
      "metadata": {
        "id": "d64b50b3"
      },
      "outputs": [],
      "source": [
        "# modeli kurdum\n",
        "lgbm_model = LGBMClassifier().fit(X_train, y_train)"
      ]
    },
    {
      "cell_type": "code",
      "execution_count": 8,
      "id": "6f1b6a64",
      "metadata": {
        "id": "6f1b6a64"
      },
      "outputs": [],
      "source": [
        "# y test tahminleri\n",
        "y_pred = lgbm_model.predict(X_test)"
      ]
    },
    {
      "cell_type": "code",
      "execution_count": 10,
      "id": "99385897",
      "metadata": {
        "colab": {
          "base_uri": "https://localhost:8080/"
        },
        "id": "99385897",
        "outputId": "3eff0504-3b25-448b-fac8-a24040948a9b"
      },
      "outputs": [
        {
          "output_type": "execute_result",
          "data": {
            "text/plain": [
              "0.7229437229437229"
            ]
          },
          "metadata": {},
          "execution_count": 10
        }
      ],
      "source": [
        "from sklearn.metrics import accuracy_score\n",
        "accuracy_score(y_test, y_pred)"
      ]
    },
    {
      "cell_type": "code",
      "execution_count": null,
      "id": "8b9c3e69",
      "metadata": {
        "id": "8b9c3e69"
      },
      "outputs": [],
      "source": []
    },
    {
      "cell_type": "markdown",
      "id": "4861ef98",
      "metadata": {
        "id": "4861ef98"
      },
      "source": [
        "# XGBoost - Model Tuning"
      ]
    },
    {
      "cell_type": "code",
      "execution_count": 11,
      "id": "f7bcc8b9",
      "metadata": {
        "id": "f7bcc8b9"
      },
      "outputs": [],
      "source": [
        "?lgbm_model"
      ]
    },
    {
      "cell_type": "code",
      "execution_count": 12,
      "id": "4b7f9c01",
      "metadata": {
        "id": "4b7f9c01"
      },
      "outputs": [],
      "source": [
        "# denenecek olan değerler\n",
        "lgbm_params = {\n",
        "    \"n_estimators\": [100, 500, 1000, 2000],\n",
        "    \"subsample\": [0.6, 0.8, 1.0],\n",
        "    \"max_depth\": [3,4,5,6],\n",
        "    \"learning_rate\": [0.1, 0.01, 0.02, 0.05],\n",
        "    \"min_child_samples\": [5, 10, 20]\n",
        "}"
      ]
    },
    {
      "cell_type": "code",
      "execution_count": 13,
      "id": "ba0f8778",
      "metadata": {
        "id": "ba0f8778"
      },
      "outputs": [],
      "source": [
        "lgbm = LGBMClassifier()"
      ]
    },
    {
      "cell_type": "code",
      "execution_count": 15,
      "id": "57eebfc9",
      "metadata": {
        "id": "57eebfc9"
      },
      "outputs": [],
      "source": [
        "from sklearn.model_selection import GridSearchCV\n",
        "lgbm_cv_model = GridSearchCV(lgbm,\n",
        "                             lgbm_params,\n",
        "                            cv=10,\n",
        "                            n_jobs=-1,\n",
        "                            verbose=2)"
      ]
    },
    {
      "cell_type": "code",
      "execution_count": null,
      "id": "bfff5331",
      "metadata": {
        "id": "bfff5331"
      },
      "outputs": [],
      "source": [
        "lgbm_cv_model.fit(X_train, y_train)"
      ]
    },
    {
      "cell_type": "code",
      "execution_count": null,
      "id": "ce138ad0",
      "metadata": {
        "id": "ce138ad0"
      },
      "outputs": [],
      "source": []
    },
    {
      "cell_type": "code",
      "execution_count": 17,
      "id": "a0dfebc8",
      "metadata": {
        "colab": {
          "base_uri": "https://localhost:8080/"
        },
        "id": "a0dfebc8",
        "outputId": "de62cfeb-e4de-4a19-c43f-c1e77924aa1b"
      },
      "outputs": [
        {
          "output_type": "execute_result",
          "data": {
            "text/plain": [
              "{'learning_rate': 0.05,\n",
              " 'max_depth': 3,\n",
              " 'min_child_samples': 20,\n",
              " 'n_estimators': 100,\n",
              " 'subsample': 0.6}"
            ]
          },
          "metadata": {},
          "execution_count": 17
        }
      ],
      "source": [
        "# optimum parametreler\n",
        "lgbm_cv_model.best_params_"
      ]
    },
    {
      "cell_type": "code",
      "execution_count": 18,
      "id": "d34a00b9",
      "metadata": {
        "id": "d34a00b9"
      },
      "outputs": [],
      "source": [
        "# final modeli nesnesi\n",
        "lgbm = LGBMClassifier(n_estimators= 100,\n",
        "                           subsample= 0.6,\n",
        "                           max_depth= 3,\n",
        "                           learning_rate= 0.05,\n",
        "                           min_child_samples= 20)"
      ]
    },
    {
      "cell_type": "code",
      "execution_count": null,
      "id": "f3379043",
      "metadata": {
        "id": "f3379043"
      },
      "outputs": [],
      "source": [
        "# final modelini kurdum\n",
        "lgbm_tuned = lgbm.fit(X_train, y_train)"
      ]
    },
    {
      "cell_type": "code",
      "execution_count": null,
      "id": "02d882da",
      "metadata": {
        "id": "02d882da"
      },
      "outputs": [],
      "source": []
    },
    {
      "cell_type": "code",
      "execution_count": 20,
      "id": "44b67f0a",
      "metadata": {
        "id": "44b67f0a"
      },
      "outputs": [],
      "source": [
        "# y test tahmin değerleri\n",
        "y_pred=lgbm_tuned.predict(X_test)"
      ]
    },
    {
      "cell_type": "code",
      "execution_count": 21,
      "id": "ba274a87",
      "metadata": {
        "colab": {
          "base_uri": "https://localhost:8080/"
        },
        "id": "ba274a87",
        "outputId": "98362103-f035-4eac-a469-c77e08528d38"
      },
      "outputs": [
        {
          "output_type": "execute_result",
          "data": {
            "text/plain": [
              "0.7489177489177489"
            ]
          },
          "metadata": {},
          "execution_count": 21
        }
      ],
      "source": [
        "# doğruluk oranı\n",
        "accuracy_score(y_test, y_pred)"
      ]
    },
    {
      "cell_type": "code",
      "execution_count": null,
      "id": "e8bdcebe",
      "metadata": {
        "id": "e8bdcebe"
      },
      "outputs": [],
      "source": []
    },
    {
      "cell_type": "markdown",
      "id": "6c89f6ec",
      "metadata": {
        "id": "6c89f6ec"
      },
      "source": [
        "bu veri seti için lightgbm'in daha hızlı, performanslı olduğu görülür. xgboost'un daha iyi bir tahmin performansı olduğu görülür."
      ]
    },
    {
      "cell_type": "code",
      "execution_count": null,
      "id": "969a22db",
      "metadata": {
        "id": "969a22db"
      },
      "outputs": [],
      "source": []
    },
    {
      "cell_type": "markdown",
      "id": "005f89c7",
      "metadata": {
        "id": "005f89c7"
      },
      "source": [
        "xgboost'dan daha hızlı olduğundan daha büyük veri setleri kullanılabilir ve daha çok değer bulunduğundan model daha başarılıdır.\n",
        "\n",
        "eşit şartlar altında xgboost çıkardığı bir parametre setinin, iki katı lgbm ile aynı sürede çıkarılabilir bu da daha fazla parametre denemesi yani daha başarılı sonuç demektir."
      ]
    },
    {
      "cell_type": "code",
      "execution_count": null,
      "id": "215b832b",
      "metadata": {
        "id": "215b832b"
      },
      "outputs": [],
      "source": []
    },
    {
      "cell_type": "code",
      "execution_count": null,
      "id": "713e8734",
      "metadata": {
        "id": "713e8734"
      },
      "outputs": [],
      "source": []
    },
    {
      "cell_type": "code",
      "execution_count": null,
      "id": "91326507",
      "metadata": {
        "id": "91326507"
      },
      "outputs": [],
      "source": []
    }
  ],
  "metadata": {
    "kernelspec": {
      "display_name": "Python 3 (ipykernel)",
      "language": "python",
      "name": "python3"
    },
    "language_info": {
      "codemirror_mode": {
        "name": "ipython",
        "version": 3
      },
      "file_extension": ".py",
      "mimetype": "text/x-python",
      "name": "python",
      "nbconvert_exporter": "python",
      "pygments_lexer": "ipython3",
      "version": "3.11.4"
    },
    "colab": {
      "provenance": []
    }
  },
  "nbformat": 4,
  "nbformat_minor": 5
}