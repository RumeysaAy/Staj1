{
 "cells": [
  {
   "cell_type": "markdown",
   "id": "70b225af",
   "metadata": {},
   "source": [
    "# Light GBM\n",
    "\n",
    "Light GBM, XGBoost'un eğitim süresi performansını arttırmaya yönelik geliştirilen bir diğer GBM türüdür. (Microsoft 2017)\n",
    "\n",
    "* Daha performanslı\n",
    "* Level-wise büyüme stratejisi yerine Leaf-wise büyüme stratejisi\n",
    "* Breadth-first search (BFS) yerine depth-first search (DFS)"
   ]
  },
  {
   "cell_type": "markdown",
   "id": "b3b79e3f",
   "metadata": {},
   "source": []
  },
  {
   "cell_type": "markdown",
   "id": "70750515",
   "metadata": {},
   "source": [
    "* veri setindeki gözlem ve değişken sayısı çok büyük bir miktarda olduğunda xgboost C++ yazılmış olsa dahi eğitim süreleri uzuyor.\n",
    "* xgboost, değişkenleri ayırmak ve farklı bölme noktalarını araştırmak, keşfetmek için \"karar ağaçlarını\" kullanıyor bu işleme level -wise ağaç büyüme stratejisi denir.\n",
    "* light gbm, \"splitleri\" kullanır.\n",
    "* xgboost, bfs ve level-wise\n",
    "* light gbm, leaf-wise ve dfs"
   ]
  },
  {
   "cell_type": "code",
   "execution_count": null,
   "id": "7c2b8741",
   "metadata": {},
   "outputs": [],
   "source": []
  },
  {
   "cell_type": "code",
   "execution_count": null,
   "id": "5da12e76",
   "metadata": {},
   "outputs": [],
   "source": []
  },
  {
   "cell_type": "code",
   "execution_count": 12,
   "id": "fff3dc51",
   "metadata": {},
   "outputs": [],
   "source": [
    "# bilgilerin gözükmesi için\n",
    "from sklearn import set_config\n",
    "set_config(print_changed_only=False)"
   ]
  },
  {
   "cell_type": "raw",
   "id": "8cb8b505",
   "metadata": {},
   "source": [
    "import numpy as np\n",
    "import pandas as pd \n",
    "import statsmodels.api as sm\n",
    "import statsmodels.formula.api as smf\n",
    "import seaborn as sns\n",
    "from sklearn.preprocessing import scale \n",
    "from sklearn.model_selection import train_test_split, GridSearchCV, cross_val_score\n",
    "from sklearn.metrics import confusion_matrix, accuracy_score, classification_report\n",
    "from sklearn.metrics import roc_auc_score,roc_curve\n",
    "import statsmodels.formula.api as smf\n",
    "import matplotlib.pyplot as plt\n",
    "from sklearn.neighbors import KNeighborsClassifier\n",
    "from sklearn.discriminant_analysis import LinearDiscriminantAnalysis\n",
    "from sklearn.linear_model import LogisticRegression\n",
    "from sklearn.svm import SVC\n",
    "from sklearn.naive_bayes import GaussianNB\n",
    "from sklearn import tree\n",
    "from sklearn.ensemble import RandomForestClassifier\n",
    "from sklearn.ensemble import GradientBoostingClassifier\n",
    "from xgboost import XGBClassifier\n",
    "# from lightgbm import LGBMClassifier\n",
    "# from catboost import CatBoostClassifier"
   ]
  },
  {
   "cell_type": "code",
   "execution_count": null,
   "id": "d5ae6360",
   "metadata": {},
   "outputs": [],
   "source": []
  },
  {
   "cell_type": "code",
   "execution_count": null,
   "id": "595c803b",
   "metadata": {},
   "outputs": [],
   "source": []
  },
  {
   "cell_type": "code",
   "execution_count": null,
   "id": "99595649",
   "metadata": {},
   "outputs": [],
   "source": []
  },
  {
   "cell_type": "markdown",
   "id": "d99f2df6",
   "metadata": {},
   "source": [
    "# Light GBM - Model & Tahmin"
   ]
  },
  {
   "cell_type": "code",
   "execution_count": 1,
   "id": "488d0078",
   "metadata": {},
   "outputs": [],
   "source": [
    "import pandas as pd\n",
    "# veri setimizi import edelim\n",
    "diabetes = pd.read_csv(\"diabetes.csv\")"
   ]
  },
  {
   "cell_type": "code",
   "execution_count": 2,
   "id": "ee7d63b0",
   "metadata": {},
   "outputs": [],
   "source": [
    "df = diabetes.copy()\n",
    "df = df.dropna()\n",
    "y = df[\"Outcome\"]\n",
    "X = df.drop([\"Outcome\"], axis=1)"
   ]
  },
  {
   "cell_type": "code",
   "execution_count": 3,
   "id": "d9e4735d",
   "metadata": {},
   "outputs": [],
   "source": [
    "from sklearn.model_selection import train_test_split\n",
    "\n",
    "X_train, X_test, y_train, y_test = train_test_split(X,\n",
    "                                                    y,\n",
    "                                                    test_size=0.30,\n",
    "                                                   random_state=42)"
   ]
  },
  {
   "cell_type": "code",
   "execution_count": null,
   "id": "d0a5bb42",
   "metadata": {
    "collapsed": true,
    "jupyter": {
     "outputs_hidden": true
    }
   },
   "outputs": [
    {
     "name": "stdout",
     "output_type": "stream",
     "text": [
      "Collecting package metadata (current_repodata.json): \\ WARNING conda.models.version:get_matcher(542): Using .* with relational operator is superfluous and deprecated and will be removed in a future version of conda. Your spec was 1.7.1.*, but conda is ignoring the .* and treating it as 1.7.1\n",
      "done\n",
      "Solving environment: - \n",
      "The environment is inconsistent, please check the package plan carefully\n",
      "The following packages are causing the inconsistency:\n",
      "\n",
      "  - defaults/noarch::babel==2.9.1=pyhd3eb1b0_0\n",
      "  - defaults/noarch::tifffile==2021.7.2=pyhd3eb1b0_2\n",
      "  - defaults/osx-64::daal4py==2021.3.0=py39h01d92e1_0\n",
      "  - defaults/osx-64::scipy==1.7.1=py39h88652d9_2\n",
      "  - defaults/osx-64::scikit-learn==0.24.2=py39hb2f4e1b_0\n",
      "  - defaults/noarch::cookiecutter==1.7.2=pyhd3eb1b0_0\n",
      "  - defaults/noarch::imageio==2.9.0=pyhd3eb1b0_0\n",
      "  - defaults/noarch::jupyterlab==2.3.1=pyhd3eb1b0_0\n",
      "  - defaults/osx-64::numba==0.54.1=py39hae1ba45_0\n",
      "  - defaults/osx-64::jupyter==1.0.0=py39hecd8cb5_7\n",
      "  - defaults/osx-64::bottleneck==1.3.2=py39he3068b8_1\n",
      "  - defaults/osx-64::mkl_random==1.2.2=py39hb2f4e1b_0\n",
      "  - defaults/noarch::conda-repo-cli==1.0.4=pyhd3eb1b0_0\n",
      "  - defaults/osx-64::patsy==0.5.2=py39hecd8cb5_0\n",
      "  - defaults/osx-64::imagecodecs==2021.8.26=py39ha952a84_0\n",
      "  - defaults/osx-64::bkcharts==0.2=py39hecd8cb5_0\n",
      "  - defaults/noarch::nbclassic==0.2.6=pyhd3eb1b0_0\n",
      "  - defaults/osx-64::matplotlib-base==3.4.3=py39h0a11d32_0\n",
      "  - defaults/osx-64::notebook==6.4.5=py39hecd8cb5_0\n",
      "  - defaults/noarch::sphinx==4.2.0=pyhd3eb1b0_1\n",
      "  - defaults/osx-64::numpy==1.20.3=py39h4b4dc7a_0\n",
      "  - defaults/noarch::numpydoc==1.1.0=pyhd3eb1b0_1\n",
      "  - defaults/osx-64::astropy==4.3.1=py39hf9932de_0\n",
      "  - defaults/osx-64::anaconda-navigator==2.3.2=py39hecd8cb5_0\n",
      "  - defaults/osx-64::pywavelets==1.1.1=py39he3068b8_4\n",
      "  - defaults/osx-64::scikit-learn-intelex==2021.3.0=py39hecd8cb5_0\n",
      "  - defaults/osx-64::conda-build==3.21.9=py39hecd8cb5_0\n",
      "  - defaults/osx-64::jupyter_server==1.18.1=py39hecd8cb5_0\n",
      "  - defaults/noarch::jupyterlab_server==1.2.0=py_0\n",
      "  - defaults/osx-64::nbconvert==6.4.4=py39hecd8cb5_0\n",
      "  - defaults/osx-64::h5py==3.2.1=py39h90fc2a2_0\n",
      "  - defaults/osx-64::anaconda-client==1.9.0=py39hecd8cb5_0\n",
      "  - defaults/osx-64::_ipyw_jlab_nb_ext_conf==0.1.0=py39hecd8cb5_0\n",
      "  - defaults/osx-64::pytables==3.6.1=py39h648f197_1\n",
      "  - defaults/osx-64::scikit-image==0.18.3=py39hae1ba45_0\n",
      "  - defaults/osx-64::conda==22.9.0=py39hecd8cb5_0\n",
      "  - defaults/osx-64::pyerfa==2.0.0=py39h9ed2024_0\n",
      "  - defaults/osx-64::spyder==5.1.5=py39hecd8cb5_1\n",
      "  - defaults/noarch::soupsieve==2.2.1=pyhd3eb1b0_0\n",
      "  - defaults/osx-64::statsmodels==0.12.2=py39h9ed2024_0\n",
      "  - defaults/osx-64::numexpr==2.7.3=py39h5873af2_1\n",
      "  - defaults/noarch::ipywidgets==7.6.5=pyhd3eb1b0_1\n",
      "  - defaults/osx-64::mkl_fft==1.3.1=py39h4ab4a9b_0\n",
      "  - defaults/noarch::conda-token==0.3.0=pyhd3eb1b0_0\n",
      "  - defaults/noarch::seaborn==0.11.2=pyhd3eb1b0_0\n",
      "  - defaults/osx-64::_anaconda_depends==2021.11=py39_0\n",
      "  - defaults/osx-64::bokeh==2.4.1=py39hecd8cb5_0\n",
      "  - defaults/noarch::dask==2021.10.0=pyhd3eb1b0_0\n",
      "  - defaults/osx-64::anaconda==custom=py39_1\n",
      "  - defaults/osx-64::pandas==1.3.4=py39h743cdd8_0\n",
      "  - defaults/osx-64::widgetsnbextension==3.5.1=py39hecd8cb5_0\n",
      "  - defaults/noarch::anaconda-project==0.10.1=pyhd3eb1b0_0\n",
      "  - defaults/osx-64::matplotlib==3.4.3=py39hecd8cb5_0\n",
      "failed with initial frozen solve. Retrying with flexible solve.\n",
      "Solving environment: done\n",
      "\n",
      "\n",
      "==> WARNING: A newer version of conda exists. <==\n",
      "  current version: 22.9.0\n",
      "  latest version: 23.7.3\n",
      "\n",
      "Please update conda by running\n",
      "\n",
      "    $ conda update -n base -c defaults conda\n",
      "\n",
      "\n",
      "Collecting package metadata (repodata.json): \\ WARNING conda.models.version:get_matcher(542): Using .* with relational operator is superfluous and deprecated and will be removed in a future version of conda. Your spec was 1.8.0.*, but conda is ignoring the .* and treating it as 1.8.0\n",
      "WARNING conda.models.version:get_matcher(542): Using .* with relational operator is superfluous and deprecated and will be removed in a future version of conda. Your spec was 1.6.0.*, but conda is ignoring the .* and treating it as 1.6.0\n",
      "WARNING conda.models.version:get_matcher(542): Using .* with relational operator is superfluous and deprecated and will be removed in a future version of conda. Your spec was 1.9.0.*, but conda is ignoring the .* and treating it as 1.9.0\n",
      "done\n",
      "Solving environment: / \n",
      "The environment is inconsistent, please check the package plan carefully\n",
      "The following packages are causing the inconsistency:\n",
      "\n",
      "  - defaults/noarch::babel==2.9.1=pyhd3eb1b0_0\n",
      "  - defaults/noarch::tifffile==2021.7.2=pyhd3eb1b0_2\n",
      "  - defaults/osx-64::daal4py==2021.3.0=py39h01d92e1_0\n",
      "  - defaults/osx-64::scipy==1.7.1=py39h88652d9_2\n",
      "  - defaults/osx-64::scikit-learn==0.24.2=py39hb2f4e1b_0\n",
      "  - defaults/noarch::cookiecutter==1.7.2=pyhd3eb1b0_0\n",
      "  - defaults/noarch::imageio==2.9.0=pyhd3eb1b0_0\n",
      "  - defaults/noarch::jupyterlab==2.3.1=pyhd3eb1b0_0\n",
      "  - defaults/osx-64::numba==0.54.1=py39hae1ba45_0\n",
      "  - defaults/osx-64::jupyter==1.0.0=py39hecd8cb5_7\n",
      "  - defaults/osx-64::bottleneck==1.3.2=py39he3068b8_1\n",
      "  - defaults/osx-64::mkl_random==1.2.2=py39hb2f4e1b_0\n",
      "  - defaults/noarch::conda-repo-cli==1.0.4=pyhd3eb1b0_0\n",
      "  - defaults/osx-64::patsy==0.5.2=py39hecd8cb5_0\n",
      "  - defaults/osx-64::imagecodecs==2021.8.26=py39ha952a84_0\n",
      "  - defaults/osx-64::bkcharts==0.2=py39hecd8cb5_0\n",
      "  - defaults/noarch::nbclassic==0.2.6=pyhd3eb1b0_0\n",
      "  - defaults/osx-64::matplotlib-base==3.4.3=py39h0a11d32_0\n",
      "  - defaults/osx-64::notebook==6.4.5=py39hecd8cb5_0\n",
      "  - defaults/noarch::sphinx==4.2.0=pyhd3eb1b0_1\n",
      "  - defaults/osx-64::numpy==1.20.3=py39h4b4dc7a_0\n",
      "  - defaults/noarch::numpydoc==1.1.0=pyhd3eb1b0_1\n",
      "  - defaults/osx-64::astropy==4.3.1=py39hf9932de_0\n",
      "  - defaults/osx-64::anaconda-navigator==2.3.2=py39hecd8cb5_0\n",
      "  - defaults/osx-64::pywavelets==1.1.1=py39he3068b8_4\n",
      "  - defaults/osx-64::scikit-learn-intelex==2021.3.0=py39hecd8cb5_0\n",
      "  - defaults/osx-64::conda-build==3.21.9=py39hecd8cb5_0\n",
      "  - defaults/osx-64::jupyter_server==1.18.1=py39hecd8cb5_0\n",
      "  - defaults/noarch::jupyterlab_server==1.2.0=py_0\n",
      "  - defaults/osx-64::nbconvert==6.4.4=py39hecd8cb5_0\n",
      "  - defaults/osx-64::h5py==3.2.1=py39h90fc2a2_0\n",
      "  - defaults/osx-64::anaconda-client==1.9.0=py39hecd8cb5_0\n",
      "  - defaults/osx-64::_ipyw_jlab_nb_ext_conf==0.1.0=py39hecd8cb5_0\n",
      "  - defaults/osx-64::pytables==3.6.1=py39h648f197_1\n",
      "  - defaults/osx-64::scikit-image==0.18.3=py39hae1ba45_0\n",
      "  - defaults/osx-64::conda==22.9.0=py39hecd8cb5_0\n",
      "  - defaults/osx-64::pyerfa==2.0.0=py39h9ed2024_0\n",
      "  - defaults/osx-64::spyder==5.1.5=py39hecd8cb5_1\n",
      "  - defaults/noarch::soupsieve==2.2.1=pyhd3eb1b0_0\n",
      "  - defaults/osx-64::statsmodels==0.12.2=py39h9ed2024_0\n",
      "  - defaults/osx-64::numexpr==2.7.3=py39h5873af2_1\n",
      "  - defaults/noarch::ipywidgets==7.6.5=pyhd3eb1b0_1\n",
      "  - defaults/osx-64::mkl_fft==1.3.1=py39h4ab4a9b_0\n",
      "  - defaults/noarch::conda-token==0.3.0=pyhd3eb1b0_0\n",
      "  - defaults/noarch::seaborn==0.11.2=pyhd3eb1b0_0\n",
      "  - defaults/osx-64::_anaconda_depends==2021.11=py39_0\n",
      "  - defaults/osx-64::bokeh==2.4.1=py39hecd8cb5_0\n",
      "  - defaults/noarch::dask==2021.10.0=pyhd3eb1b0_0\n",
      "  - defaults/osx-64::anaconda==custom=py39_1\n",
      "  - defaults/osx-64::pandas==1.3.4=py39h743cdd8_0\n",
      "  - defaults/osx-64::widgetsnbextension==3.5.1=py39hecd8cb5_0\n",
      "  - defaults/noarch::anaconda-project==0.10.1=pyhd3eb1b0_0\n",
      "  - defaults/osx-64::matplotlib==3.4.3=py39hecd8cb5_0\n",
      "done\n",
      "\n",
      "\n",
      "==> WARNING: A newer version of conda exists. <==\n",
      "  current version: 22.9.0\n",
      "  latest version: 23.7.3\n",
      "\n",
      "Please update conda by running\n",
      "\n",
      "    $ conda update -n base -c defaults conda\n",
      "\n",
      "\n",
      "\n",
      "## Package Plan ##\n",
      "\n",
      "  environment location: /opt/anaconda3\n",
      "\n",
      "  added / updated specs:\n",
      "    - lightgbm\n",
      "\n",
      "\n",
      "The following packages will be downloaded:\n",
      "\n",
      "    package                    |            build\n",
      "    ---------------------------|-----------------\n",
      "    pytz-2023.3.post1          |     pyhd8ed1ab_0         183 KB  conda-forge\n",
      "    ------------------------------------------------------------\n",
      "                                           Total:         183 KB\n",
      "\n",
      "The following NEW packages will be INSTALLED:\n",
      "\n",
      "  beautifulsoup4     conda-forge/noarch::beautifulsoup4-4.12.2-pyha770c72_0 None\n",
      "  lightgbm           conda-forge/osx-64::lightgbm-3.3.2-py39h1e675f4_0 None\n",
      "  lxml               conda-forge/osx-64::lxml-4.8.0-py39h63b48b0_3 None\n",
      "  numpy-base         pkgs/main/osx-64::numpy-base-1.20.3-py39he0bd621_0 None\n",
      "  python_abi         conda-forge/osx-64::python_abi-3.9-2_cp39 None\n",
      "  pytz               conda-forge/noarch::pytz-2023.3.post1-pyhd8ed1ab_0 None\n",
      "  requests           conda-forge/noarch::requests-2.31.0-pyhd8ed1ab_0 None\n",
      "\n",
      "The following packages will be UPDATED:\n",
      "\n",
      "  ca-certificates    pkgs/main::ca-certificates-2023.01.10~ --> conda-forge::ca-certificates-2023.7.22-h8857fd0_0 None\n",
      "  certifi            pkgs/main/osx-64::certifi-2022.12.7-p~ --> conda-forge/noarch::certifi-2023.7.22-pyhd8ed1ab_0 None\n",
      "  openssl              pkgs/main::openssl-1.1.1t-hca72f7f_0 --> conda-forge::openssl-1.1.1v-h8a1eda9_0 None\n",
      "\n",
      "\n",
      "Proceed ([y]/n)? "
     ]
    }
   ],
   "source": [
    "!conda install -c conda-forge lightgbm"
   ]
  },
  {
   "cell_type": "code",
   "execution_count": 1,
   "id": "f51f2fb5",
   "metadata": {
    "collapsed": true,
    "jupyter": {
     "outputs_hidden": true
    }
   },
   "outputs": [
    {
     "ename": "OSError",
     "evalue": "dlopen(/opt/anaconda3/lib/python3.9/site-packages/lightgbm/lib/lib_lightgbm.so, 0x0006): Library not loaded: /usr/local/opt/libomp/lib/libomp.dylib\n  Referenced from: <F47D69E4-1594-3171-ABCC-7156C3E263E1> /opt/anaconda3/lib/python3.9/site-packages/lightgbm/lib/lib_lightgbm.so\n  Reason: tried: '/usr/local/opt/libomp/lib/libomp.dylib' (no such file), '/System/Volumes/Preboot/Cryptexes/OS/usr/local/opt/libomp/lib/libomp.dylib' (no such file), '/usr/local/opt/libomp/lib/libomp.dylib' (no such file), '/usr/local/lib/libomp.dylib' (no such file), '/usr/lib/libomp.dylib' (no such file, not in dyld cache)",
     "output_type": "error",
     "traceback": [
      "\u001b[0;31m---------------------------------------------------------------------------\u001b[0m",
      "\u001b[0;31mOSError\u001b[0m                                   Traceback (most recent call last)",
      "\u001b[0;32m/var/folders/x8/nnk_zbps5d547d0lzb19x0s80000gn/T/ipykernel_14024/1113000870.py\u001b[0m in \u001b[0;36m<module>\u001b[0;34m\u001b[0m\n\u001b[0;32m----> 1\u001b[0;31m \u001b[0;32mfrom\u001b[0m \u001b[0mlightgbm\u001b[0m \u001b[0;32mimport\u001b[0m \u001b[0mLGBMClassifier\u001b[0m\u001b[0;34m\u001b[0m\u001b[0;34m\u001b[0m\u001b[0m\n\u001b[0m",
      "\u001b[0;32m/opt/anaconda3/lib/python3.9/site-packages/lightgbm/__init__.py\u001b[0m in \u001b[0;36m<module>\u001b[0;34m\u001b[0m\n\u001b[1;32m      6\u001b[0m \u001b[0;32mfrom\u001b[0m \u001b[0mpathlib\u001b[0m \u001b[0;32mimport\u001b[0m \u001b[0mPath\u001b[0m\u001b[0;34m\u001b[0m\u001b[0;34m\u001b[0m\u001b[0m\n\u001b[1;32m      7\u001b[0m \u001b[0;34m\u001b[0m\u001b[0m\n\u001b[0;32m----> 8\u001b[0;31m \u001b[0;32mfrom\u001b[0m \u001b[0;34m.\u001b[0m\u001b[0mbasic\u001b[0m \u001b[0;32mimport\u001b[0m \u001b[0mBooster\u001b[0m\u001b[0;34m,\u001b[0m \u001b[0mDataset\u001b[0m\u001b[0;34m,\u001b[0m \u001b[0mSequence\u001b[0m\u001b[0;34m,\u001b[0m \u001b[0mregister_logger\u001b[0m\u001b[0;34m\u001b[0m\u001b[0;34m\u001b[0m\u001b[0m\n\u001b[0m\u001b[1;32m      9\u001b[0m \u001b[0;32mfrom\u001b[0m \u001b[0;34m.\u001b[0m\u001b[0mcallback\u001b[0m \u001b[0;32mimport\u001b[0m \u001b[0mearly_stopping\u001b[0m\u001b[0;34m,\u001b[0m \u001b[0mlog_evaluation\u001b[0m\u001b[0;34m,\u001b[0m \u001b[0mrecord_evaluation\u001b[0m\u001b[0;34m,\u001b[0m \u001b[0mreset_parameter\u001b[0m\u001b[0;34m\u001b[0m\u001b[0;34m\u001b[0m\u001b[0m\n\u001b[1;32m     10\u001b[0m \u001b[0;32mfrom\u001b[0m \u001b[0;34m.\u001b[0m\u001b[0mengine\u001b[0m \u001b[0;32mimport\u001b[0m \u001b[0mCVBooster\u001b[0m\u001b[0;34m,\u001b[0m \u001b[0mcv\u001b[0m\u001b[0;34m,\u001b[0m \u001b[0mtrain\u001b[0m\u001b[0;34m\u001b[0m\u001b[0;34m\u001b[0m\u001b[0m\n",
      "\u001b[0;32m/opt/anaconda3/lib/python3.9/site-packages/lightgbm/basic.py\u001b[0m in \u001b[0;36m<module>\u001b[0;34m\u001b[0m\n\u001b[1;32m    219\u001b[0m     \u001b[0m_LIB\u001b[0m \u001b[0;34m=\u001b[0m \u001b[0mMock\u001b[0m\u001b[0;34m(\u001b[0m\u001b[0mctypes\u001b[0m\u001b[0;34m.\u001b[0m\u001b[0mCDLL\u001b[0m\u001b[0;34m)\u001b[0m  \u001b[0;31m# type: ignore\u001b[0m\u001b[0;34m\u001b[0m\u001b[0;34m\u001b[0m\u001b[0m\n\u001b[1;32m    220\u001b[0m \u001b[0;32melse\u001b[0m\u001b[0;34m:\u001b[0m\u001b[0;34m\u001b[0m\u001b[0;34m\u001b[0m\u001b[0m\n\u001b[0;32m--> 221\u001b[0;31m     \u001b[0m_LIB\u001b[0m \u001b[0;34m=\u001b[0m \u001b[0m_load_lib\u001b[0m\u001b[0;34m(\u001b[0m\u001b[0;34m)\u001b[0m\u001b[0;34m\u001b[0m\u001b[0;34m\u001b[0m\u001b[0m\n\u001b[0m\u001b[1;32m    222\u001b[0m \u001b[0;34m\u001b[0m\u001b[0m\n\u001b[1;32m    223\u001b[0m \u001b[0;34m\u001b[0m\u001b[0m\n",
      "\u001b[0;32m/opt/anaconda3/lib/python3.9/site-packages/lightgbm/basic.py\u001b[0m in \u001b[0;36m_load_lib\u001b[0;34m()\u001b[0m\n\u001b[1;32m    204\u001b[0m     \u001b[0;34m\"\"\"Load LightGBM library.\"\"\"\u001b[0m\u001b[0;34m\u001b[0m\u001b[0;34m\u001b[0m\u001b[0m\n\u001b[1;32m    205\u001b[0m     \u001b[0mlib_path\u001b[0m \u001b[0;34m=\u001b[0m \u001b[0mfind_lib_path\u001b[0m\u001b[0;34m(\u001b[0m\u001b[0;34m)\u001b[0m\u001b[0;34m\u001b[0m\u001b[0;34m\u001b[0m\u001b[0m\n\u001b[0;32m--> 206\u001b[0;31m     \u001b[0mlib\u001b[0m \u001b[0;34m=\u001b[0m \u001b[0mctypes\u001b[0m\u001b[0;34m.\u001b[0m\u001b[0mcdll\u001b[0m\u001b[0;34m.\u001b[0m\u001b[0mLoadLibrary\u001b[0m\u001b[0;34m(\u001b[0m\u001b[0mlib_path\u001b[0m\u001b[0;34m[\u001b[0m\u001b[0;36m0\u001b[0m\u001b[0;34m]\u001b[0m\u001b[0;34m)\u001b[0m\u001b[0;34m\u001b[0m\u001b[0;34m\u001b[0m\u001b[0m\n\u001b[0m\u001b[1;32m    207\u001b[0m     \u001b[0mlib\u001b[0m\u001b[0;34m.\u001b[0m\u001b[0mLGBM_GetLastError\u001b[0m\u001b[0;34m.\u001b[0m\u001b[0mrestype\u001b[0m \u001b[0;34m=\u001b[0m \u001b[0mctypes\u001b[0m\u001b[0;34m.\u001b[0m\u001b[0mc_char_p\u001b[0m\u001b[0;34m\u001b[0m\u001b[0;34m\u001b[0m\u001b[0m\n\u001b[1;32m    208\u001b[0m     \u001b[0mcallback\u001b[0m \u001b[0;34m=\u001b[0m \u001b[0mctypes\u001b[0m\u001b[0;34m.\u001b[0m\u001b[0mCFUNCTYPE\u001b[0m\u001b[0;34m(\u001b[0m\u001b[0;32mNone\u001b[0m\u001b[0;34m,\u001b[0m \u001b[0mctypes\u001b[0m\u001b[0;34m.\u001b[0m\u001b[0mc_char_p\u001b[0m\u001b[0;34m)\u001b[0m\u001b[0;34m\u001b[0m\u001b[0;34m\u001b[0m\u001b[0m\n",
      "\u001b[0;32m/opt/anaconda3/lib/python3.9/ctypes/__init__.py\u001b[0m in \u001b[0;36mLoadLibrary\u001b[0;34m(self, name)\u001b[0m\n\u001b[1;32m    458\u001b[0m \u001b[0;34m\u001b[0m\u001b[0m\n\u001b[1;32m    459\u001b[0m     \u001b[0;32mdef\u001b[0m \u001b[0mLoadLibrary\u001b[0m\u001b[0;34m(\u001b[0m\u001b[0mself\u001b[0m\u001b[0;34m,\u001b[0m \u001b[0mname\u001b[0m\u001b[0;34m)\u001b[0m\u001b[0;34m:\u001b[0m\u001b[0;34m\u001b[0m\u001b[0;34m\u001b[0m\u001b[0m\n\u001b[0;32m--> 460\u001b[0;31m         \u001b[0;32mreturn\u001b[0m \u001b[0mself\u001b[0m\u001b[0;34m.\u001b[0m\u001b[0m_dlltype\u001b[0m\u001b[0;34m(\u001b[0m\u001b[0mname\u001b[0m\u001b[0;34m)\u001b[0m\u001b[0;34m\u001b[0m\u001b[0;34m\u001b[0m\u001b[0m\n\u001b[0m\u001b[1;32m    461\u001b[0m \u001b[0;34m\u001b[0m\u001b[0m\n\u001b[1;32m    462\u001b[0m     \u001b[0m__class_getitem__\u001b[0m \u001b[0;34m=\u001b[0m \u001b[0mclassmethod\u001b[0m\u001b[0;34m(\u001b[0m\u001b[0m_types\u001b[0m\u001b[0;34m.\u001b[0m\u001b[0mGenericAlias\u001b[0m\u001b[0;34m)\u001b[0m\u001b[0;34m\u001b[0m\u001b[0;34m\u001b[0m\u001b[0m\n",
      "\u001b[0;32m/opt/anaconda3/lib/python3.9/ctypes/__init__.py\u001b[0m in \u001b[0;36m__init__\u001b[0;34m(self, name, mode, handle, use_errno, use_last_error, winmode)\u001b[0m\n\u001b[1;32m    380\u001b[0m \u001b[0;34m\u001b[0m\u001b[0m\n\u001b[1;32m    381\u001b[0m         \u001b[0;32mif\u001b[0m \u001b[0mhandle\u001b[0m \u001b[0;32mis\u001b[0m \u001b[0;32mNone\u001b[0m\u001b[0;34m:\u001b[0m\u001b[0;34m\u001b[0m\u001b[0;34m\u001b[0m\u001b[0m\n\u001b[0;32m--> 382\u001b[0;31m             \u001b[0mself\u001b[0m\u001b[0;34m.\u001b[0m\u001b[0m_handle\u001b[0m \u001b[0;34m=\u001b[0m \u001b[0m_dlopen\u001b[0m\u001b[0;34m(\u001b[0m\u001b[0mself\u001b[0m\u001b[0;34m.\u001b[0m\u001b[0m_name\u001b[0m\u001b[0;34m,\u001b[0m \u001b[0mmode\u001b[0m\u001b[0;34m)\u001b[0m\u001b[0;34m\u001b[0m\u001b[0;34m\u001b[0m\u001b[0m\n\u001b[0m\u001b[1;32m    383\u001b[0m         \u001b[0;32melse\u001b[0m\u001b[0;34m:\u001b[0m\u001b[0;34m\u001b[0m\u001b[0;34m\u001b[0m\u001b[0m\n\u001b[1;32m    384\u001b[0m             \u001b[0mself\u001b[0m\u001b[0;34m.\u001b[0m\u001b[0m_handle\u001b[0m \u001b[0;34m=\u001b[0m \u001b[0mhandle\u001b[0m\u001b[0;34m\u001b[0m\u001b[0;34m\u001b[0m\u001b[0m\n",
      "\u001b[0;31mOSError\u001b[0m: dlopen(/opt/anaconda3/lib/python3.9/site-packages/lightgbm/lib/lib_lightgbm.so, 0x0006): Library not loaded: /usr/local/opt/libomp/lib/libomp.dylib\n  Referenced from: <F47D69E4-1594-3171-ABCC-7156C3E263E1> /opt/anaconda3/lib/python3.9/site-packages/lightgbm/lib/lib_lightgbm.so\n  Reason: tried: '/usr/local/opt/libomp/lib/libomp.dylib' (no such file), '/System/Volumes/Preboot/Cryptexes/OS/usr/local/opt/libomp/lib/libomp.dylib' (no such file), '/usr/local/opt/libomp/lib/libomp.dylib' (no such file), '/usr/local/lib/libomp.dylib' (no such file), '/usr/lib/libomp.dylib' (no such file, not in dyld cache)"
     ]
    }
   ],
   "source": [
    "from lightgbm import LGBMClassifier"
   ]
  },
  {
   "cell_type": "code",
   "execution_count": null,
   "id": "d64b50b3",
   "metadata": {},
   "outputs": [],
   "source": [
    "# modeli kurdum\n",
    "lgbm_model = LGBMClassifier().fit(X_train, y_train)"
   ]
  },
  {
   "cell_type": "code",
   "execution_count": null,
   "id": "6f1b6a64",
   "metadata": {},
   "outputs": [],
   "source": [
    "# y test tahminleri\n",
    "y_pred = lgbm_model.predict(X_test)"
   ]
  },
  {
   "cell_type": "code",
   "execution_count": null,
   "id": "99385897",
   "metadata": {},
   "outputs": [],
   "source": [
    "accuracy_score(y_test, y_pred)"
   ]
  },
  {
   "cell_type": "code",
   "execution_count": null,
   "id": "8b9c3e69",
   "metadata": {},
   "outputs": [],
   "source": []
  },
  {
   "cell_type": "markdown",
   "id": "4861ef98",
   "metadata": {},
   "source": [
    "# XGBoost - Model Tuning"
   ]
  },
  {
   "cell_type": "code",
   "execution_count": null,
   "id": "f7bcc8b9",
   "metadata": {},
   "outputs": [],
   "source": [
    "?lgbm_model"
   ]
  },
  {
   "cell_type": "code",
   "execution_count": 13,
   "id": "4b7f9c01",
   "metadata": {},
   "outputs": [],
   "source": [
    "# denenecek olan değerler\n",
    "lgbm_params = {\n",
    "    \"n_estimators\": [100, 500, 1000, 2000],\n",
    "    \"subsample\": [0.6, 0.8, 1.0],\n",
    "    \"max_depth\": [3,4,5,6],\n",
    "    \"learning_rate\": [0.1, 0.01, 0.02, 0.05],\n",
    "    \"min_child_samples\": [5, 10, 20]\n",
    "}"
   ]
  },
  {
   "cell_type": "code",
   "execution_count": null,
   "id": "ba0f8778",
   "metadata": {},
   "outputs": [],
   "source": [
    "lgbm = LGBMClassifier()"
   ]
  },
  {
   "cell_type": "code",
   "execution_count": null,
   "id": "57eebfc9",
   "metadata": {},
   "outputs": [],
   "source": [
    "lgbm_cv_model = GridSearchCV(lgbm,\n",
    "                             lgbm_params,\n",
    "                            cv=10,\n",
    "                            n_jobs=-1,\n",
    "                            verbose=2)"
   ]
  },
  {
   "cell_type": "code",
   "execution_count": null,
   "id": "bfff5331",
   "metadata": {},
   "outputs": [],
   "source": [
    "lgbm_cv_model.fit(X_train, y_train)"
   ]
  },
  {
   "cell_type": "code",
   "execution_count": null,
   "id": "ce138ad0",
   "metadata": {},
   "outputs": [],
   "source": []
  },
  {
   "cell_type": "code",
   "execution_count": null,
   "id": "a0dfebc8",
   "metadata": {},
   "outputs": [],
   "source": [
    "# optimum parametreler\n",
    "lgbm_cv_model.best_params_"
   ]
  },
  {
   "cell_type": "code",
   "execution_count": null,
   "id": "d34a00b9",
   "metadata": {},
   "outputs": [],
   "source": [
    "# final modeli nesnesi\n",
    "lgbm = LGBMClassifier(n_estimators=,\n",
    "                           subsample=,\n",
    "                           max_depth=,\n",
    "                           learning_rate=,\n",
    "                           min_child_samples=)"
   ]
  },
  {
   "cell_type": "code",
   "execution_count": null,
   "id": "f3379043",
   "metadata": {},
   "outputs": [],
   "source": [
    "# final modelini kurdum\n",
    "lgbm_tuned = lgbm.fit(X_train, y_train)"
   ]
  },
  {
   "cell_type": "code",
   "execution_count": null,
   "id": "02d882da",
   "metadata": {},
   "outputs": [],
   "source": []
  },
  {
   "cell_type": "code",
   "execution_count": null,
   "id": "44b67f0a",
   "metadata": {},
   "outputs": [],
   "source": [
    "# y test tahmin değerleri\n",
    "y_pred=lgbm_tuned.predict(X_test)"
   ]
  },
  {
   "cell_type": "code",
   "execution_count": null,
   "id": "ba274a87",
   "metadata": {},
   "outputs": [],
   "source": [
    "# doğruluk oranı\n",
    "accuracy_score(y_test, y_pred)"
   ]
  },
  {
   "cell_type": "code",
   "execution_count": null,
   "id": "e8bdcebe",
   "metadata": {},
   "outputs": [],
   "source": []
  },
  {
   "cell_type": "markdown",
   "id": "6c89f6ec",
   "metadata": {},
   "source": [
    "bu veri seti için lightgbm'in daha hızlı, performanslı olduğu görülür. xgboost'un daha iyi bir tahmin performansı olduğu görülür."
   ]
  },
  {
   "cell_type": "code",
   "execution_count": null,
   "id": "969a22db",
   "metadata": {},
   "outputs": [],
   "source": []
  },
  {
   "cell_type": "markdown",
   "id": "005f89c7",
   "metadata": {},
   "source": [
    "xgboost'dan daha hızlı olduğundan daha büyük veri setleri kullanılabilir ve daha çok değer bulunduğundan model daha başarılıdır.\n",
    "\n",
    "eşit şartlar altında xgboost çıkardığı bir parametre setinin, iki katı lgbm ile aynı sürede çıkarılabilir bu da daha fazla parametre denemesi yani daha başarılı sonuç demektir."
   ]
  },
  {
   "cell_type": "code",
   "execution_count": null,
   "id": "215b832b",
   "metadata": {},
   "outputs": [],
   "source": []
  },
  {
   "cell_type": "code",
   "execution_count": null,
   "id": "713e8734",
   "metadata": {},
   "outputs": [],
   "source": []
  },
  {
   "cell_type": "code",
   "execution_count": null,
   "id": "91326507",
   "metadata": {},
   "outputs": [],
   "source": []
  }
 ],
 "metadata": {
  "kernelspec": {
   "display_name": "Python 3 (ipykernel)",
   "language": "python",
   "name": "python3"
  },
  "language_info": {
   "codemirror_mode": {
    "name": "ipython",
    "version": 3
   },
   "file_extension": ".py",
   "mimetype": "text/x-python",
   "name": "python",
   "nbconvert_exporter": "python",
   "pygments_lexer": "ipython3",
   "version": "3.11.4"
  }
 },
 "nbformat": 4,
 "nbformat_minor": 5
}
