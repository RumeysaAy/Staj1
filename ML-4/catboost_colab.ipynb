{
  "cells": [
    {
      "cell_type": "markdown",
      "id": "da3eeac0",
      "metadata": {
        "id": "da3eeac0"
      },
      "source": [
        "# Category Boosting (Catboost)\n",
        "\n",
        "Kategorik değişkenler ile otomatik olarak mücadele edebilen, hız, başarılı bir diğer GBM türevi. (Yandex 2017)\n",
        "\n",
        "* Kategorik değişken desteği\n",
        "* Hızlı ve ölçeklenebilir GPU desteği\n",
        "* Daha başarılı tahminler\n",
        "* Hızlı train ve hızlı tahmin\n",
        "* Rusyanın ilk açık kaynak kodlu, başarılı ML çalışması"
      ]
    },
    {
      "cell_type": "markdown",
      "id": "61ac6229",
      "metadata": {
        "id": "61ac6229"
      },
      "source": [
        "Kategorik değişken desteği: veri setimizde çok fazla değişken olduğunda ve bu değişkenlerin içerisinde kategorik değişken sayısı fazlalaştığında bölünme işlemlerinde problemler ortaya çıkar. bu kategorik değişkenlerin hem bölünme anlamında hem sınıflarının etki düzeyleri anlamında\n",
        "bir kategorik değişkenin 10 sınıfı olabilir bu 10 sınıfın etki düzeyleri aynı olmayabilir. bazı dönüşümler yaparak kategorik değişkenlerin sınıf sayısı indirgenir örneğin 2 sınıflı olması sağlanır"
      ]
    },
    {
      "cell_type": "raw",
      "id": "cf79384f",
      "metadata": {
        "id": "cf79384f"
      },
      "source": [
        "import numpy as np\n",
        "import pandas as pd\n",
        "import statsmodels.api as sm\n",
        "import statsmodels.formula.api as smf\n",
        "import seaborn as sns\n",
        "from sklearn.preprocessing import scale\n",
        "from sklearn.model_selection import train_test_split, GridSearchCV, cross_val_score\n",
        "from sklearn.metrics import confusion_matrix, accuracy_score, classification_report\n",
        "from sklearn.metrics import roc_auc_score,roc_curve\n",
        "import statsmodels.formula.api as smf\n",
        "import matplotlib.pyplot as plt\n",
        "from sklearn.neighbors import KNeighborsClassifier\n",
        "from sklearn.discriminant_analysis import LinearDiscriminantAnalysis\n",
        "from sklearn.linear_model import LogisticRegression\n",
        "from sklearn.svm import SVC\n",
        "from sklearn.naive_bayes import GaussianNB\n",
        "from sklearn import tree\n",
        "from sklearn.ensemble import RandomForestClassifier\n",
        "from sklearn.ensemble import GradientBoostingClassifier\n",
        "from xgboost import XGBClassifier\n",
        "# from lightgbm import LGBMClassifier\n",
        "# from catboost import CatBoostClassifier"
      ]
    },
    {
      "cell_type": "code",
      "execution_count": 3,
      "id": "b9e251de",
      "metadata": {
        "id": "b9e251de"
      },
      "outputs": [],
      "source": [
        "# bilgilerin gözükmesi için\n",
        "from sklearn import set_config\n",
        "set_config(print_changed_only=False)"
      ]
    },
    {
      "cell_type": "code",
      "execution_count": null,
      "id": "47af904b",
      "metadata": {
        "id": "47af904b"
      },
      "outputs": [],
      "source": []
    },
    {
      "cell_type": "code",
      "execution_count": null,
      "id": "f77bb315",
      "metadata": {
        "id": "f77bb315"
      },
      "outputs": [],
      "source": []
    },
    {
      "cell_type": "markdown",
      "id": "5e8b9246",
      "metadata": {
        "id": "5e8b9246"
      },
      "source": [
        "# CatBoost - Model & Tahmin"
      ]
    },
    {
      "cell_type": "code",
      "execution_count": 4,
      "id": "fad08f53",
      "metadata": {
        "id": "fad08f53"
      },
      "outputs": [],
      "source": [
        "import pandas as pd\n",
        "# veri setimizi import edelim\n",
        "diabetes = pd.read_csv(\"diabetes.csv\")"
      ]
    },
    {
      "cell_type": "code",
      "execution_count": 5,
      "id": "e64641b8",
      "metadata": {
        "id": "e64641b8"
      },
      "outputs": [],
      "source": [
        "df = diabetes.copy()\n",
        "df = df.dropna()\n",
        "y = df[\"Outcome\"]\n",
        "X = df.drop([\"Outcome\"], axis=1)"
      ]
    },
    {
      "cell_type": "code",
      "execution_count": 6,
      "id": "8f9c6e30",
      "metadata": {
        "id": "8f9c6e30"
      },
      "outputs": [],
      "source": [
        "from sklearn.model_selection import train_test_split\n",
        "\n",
        "X_train, X_test, y_train, y_test = train_test_split(X,\n",
        "                                                    y,\n",
        "                                                    test_size=0.30,\n",
        "                                                   random_state=42)"
      ]
    },
    {
      "cell_type": "code",
      "execution_count": null,
      "id": "cbf4aa4e",
      "metadata": {
        "id": "cbf4aa4e"
      },
      "outputs": [],
      "source": [
        "# !pip install catboost"
      ]
    },
    {
      "cell_type": "code",
      "execution_count": 2,
      "id": "8c5d8101",
      "metadata": {
        "tags": [],
        "id": "8c5d8101"
      },
      "outputs": [],
      "source": [
        "from catboost import CatBoostClassifier"
      ]
    },
    {
      "cell_type": "code",
      "execution_count": null,
      "id": "ca360f70",
      "metadata": {
        "id": "ca360f70"
      },
      "outputs": [],
      "source": [
        "cat_model = CatBoostClassifier().fit(X_train, y_train)"
      ]
    },
    {
      "cell_type": "code",
      "execution_count": 8,
      "id": "3878f13a",
      "metadata": {
        "id": "3878f13a"
      },
      "outputs": [],
      "source": [
        "y_pred = cat_model.predict(X_test)"
      ]
    },
    {
      "cell_type": "code",
      "execution_count": 10,
      "id": "23ef4eee",
      "metadata": {
        "colab": {
          "base_uri": "https://localhost:8080/"
        },
        "id": "23ef4eee",
        "outputId": "863ede28-86bb-4243-9a74-b97e867a33ae"
      },
      "outputs": [
        {
          "output_type": "execute_result",
          "data": {
            "text/plain": [
              "0.7402597402597403"
            ]
          },
          "metadata": {},
          "execution_count": 10
        }
      ],
      "source": [
        "from sklearn.metrics import accuracy_score\n",
        "accuracy_score(y_test, y_pred)"
      ]
    },
    {
      "cell_type": "code",
      "execution_count": null,
      "id": "49e40be2",
      "metadata": {
        "id": "49e40be2"
      },
      "outputs": [],
      "source": []
    },
    {
      "cell_type": "code",
      "execution_count": null,
      "id": "5f0d45e7",
      "metadata": {
        "id": "5f0d45e7"
      },
      "outputs": [],
      "source": []
    },
    {
      "cell_type": "markdown",
      "id": "aa089c73",
      "metadata": {
        "id": "aa089c73"
      },
      "source": [
        "# CatBoost - Model Tuning"
      ]
    },
    {
      "cell_type": "code",
      "execution_count": 11,
      "id": "f2ae4c29",
      "metadata": {
        "id": "f2ae4c29"
      },
      "outputs": [],
      "source": [
        "catb_params = {\n",
        "    \"iterations\": [200,500],\n",
        "    \"learning_rate\": [0.01, 0.05, 0.1],\n",
        "    \"depth\":[3,5,8]\n",
        "}"
      ]
    },
    {
      "cell_type": "code",
      "execution_count": 12,
      "id": "aee1783a",
      "metadata": {
        "id": "aee1783a"
      },
      "outputs": [],
      "source": [
        "catb = CatBoostClassifier()"
      ]
    },
    {
      "cell_type": "code",
      "execution_count": 14,
      "id": "4e360899",
      "metadata": {
        "id": "4e360899"
      },
      "outputs": [],
      "source": [
        "from sklearn.model_selection import GridSearchCV\n",
        "catb_cv_model = GridSearchCV(catb, catb_params, cv=5, n_jobs=-1, verbose=2)"
      ]
    },
    {
      "cell_type": "code",
      "execution_count": null,
      "id": "bc83849c",
      "metadata": {
        "id": "bc83849c"
      },
      "outputs": [],
      "source": [
        "catb_cv_model.fit(X_train, y_train)"
      ]
    },
    {
      "cell_type": "code",
      "execution_count": 16,
      "id": "4323f722",
      "metadata": {
        "colab": {
          "base_uri": "https://localhost:8080/"
        },
        "id": "4323f722",
        "outputId": "53841ef0-62f0-488c-9cfb-ec894b682436"
      },
      "outputs": [
        {
          "output_type": "execute_result",
          "data": {
            "text/plain": [
              "{'depth': 8, 'iterations': 200, 'learning_rate': 0.01}"
            ]
          },
          "metadata": {},
          "execution_count": 16
        }
      ],
      "source": [
        "catb_cv_model.best_params_"
      ]
    },
    {
      "cell_type": "code",
      "execution_count": null,
      "id": "caca4dd7",
      "metadata": {
        "id": "caca4dd7"
      },
      "outputs": [],
      "source": []
    },
    {
      "cell_type": "code",
      "execution_count": null,
      "id": "bb2a6541",
      "metadata": {
        "id": "bb2a6541"
      },
      "outputs": [],
      "source": [
        "# final modeli"
      ]
    },
    {
      "cell_type": "code",
      "execution_count": 21,
      "id": "e4b86acf",
      "metadata": {
        "id": "e4b86acf"
      },
      "outputs": [],
      "source": [
        "catb = CatBoostClassifier(iterations=200,\n",
        "                         learning_rate=0.01,\n",
        "                         depth=8)"
      ]
    },
    {
      "cell_type": "code",
      "execution_count": null,
      "id": "32ab952c",
      "metadata": {
        "id": "32ab952c"
      },
      "outputs": [],
      "source": [
        "catb_tuned = catb.fit(X_train, y_train)"
      ]
    },
    {
      "cell_type": "code",
      "execution_count": 23,
      "id": "17e473d9",
      "metadata": {
        "id": "17e473d9"
      },
      "outputs": [],
      "source": [
        "y_pred = catb_tuned.predict(X_test)"
      ]
    },
    {
      "cell_type": "code",
      "execution_count": 24,
      "id": "21d5346a",
      "metadata": {
        "colab": {
          "base_uri": "https://localhost:8080/"
        },
        "id": "21d5346a",
        "outputId": "c38243bf-8833-4ad8-ac16-1053d96cce39"
      },
      "outputs": [
        {
          "output_type": "execute_result",
          "data": {
            "text/plain": [
              "0.7532467532467533"
            ]
          },
          "metadata": {},
          "execution_count": 24
        }
      ],
      "source": [
        "accuracy_score(y_test, y_pred)"
      ]
    },
    {
      "cell_type": "code",
      "execution_count": null,
      "id": "a2c17a9c",
      "metadata": {
        "id": "a2c17a9c"
      },
      "outputs": [],
      "source": []
    },
    {
      "cell_type": "code",
      "execution_count": null,
      "id": "d5a89ae9",
      "metadata": {
        "id": "d5a89ae9"
      },
      "outputs": [],
      "source": []
    },
    {
      "cell_type": "code",
      "execution_count": null,
      "id": "1184d51e",
      "metadata": {
        "id": "1184d51e"
      },
      "outputs": [],
      "source": []
    },
    {
      "cell_type": "code",
      "execution_count": null,
      "id": "2c76606a",
      "metadata": {
        "id": "2c76606a"
      },
      "outputs": [],
      "source": []
    },
    {
      "cell_type": "code",
      "execution_count": null,
      "id": "e3870e6e",
      "metadata": {
        "id": "e3870e6e"
      },
      "outputs": [],
      "source": []
    }
  ],
  "metadata": {
    "kernelspec": {
      "display_name": "Python 3 (ipykernel)",
      "language": "python",
      "name": "python3"
    },
    "language_info": {
      "codemirror_mode": {
        "name": "ipython",
        "version": 3
      },
      "file_extension": ".py",
      "mimetype": "text/x-python",
      "name": "python",
      "nbconvert_exporter": "python",
      "pygments_lexer": "ipython3",
      "version": "3.11.4"
    },
    "colab": {
      "provenance": []
    }
  },
  "nbformat": 4,
  "nbformat_minor": 5
}