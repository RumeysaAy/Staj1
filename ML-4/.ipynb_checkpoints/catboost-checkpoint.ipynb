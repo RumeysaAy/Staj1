{
 "cells": [
  {
   "cell_type": "markdown",
   "id": "da3eeac0",
   "metadata": {},
   "source": [
    "# Category Boosting (Catboost)\n",
    "\n",
    "Kategorik değişkenler ile otomatik olarak mücadele edebilen, hız, başarılı bir diğer GBM türevi. (Yandex 2017)\n",
    "\n",
    "* Kategorik değişken desteği\n",
    "* Hızlı ve ölçeklenebilir GPU desteği\n",
    "* Daha başarılı tahminler\n",
    "* Hızlı train ve hızlı tahmin\n",
    "* Rusyanın ilk açık kaynak kodlu, başarılı ML çalışması"
   ]
  },
  {
   "cell_type": "markdown",
   "id": "61ac6229",
   "metadata": {},
   "source": [
    "Kategorik değişken desteği: veri setimizde çok fazla değişken olduğunda ve bu değişkenlerin içerisinde kategorik değişken sayısı fazlalaştığında bölünme işlemlerinde problemler ortaya çıkar. bu kategorik değişkenlerin hem bölünme anlamında hem sınıflarının etki düzeyleri anlamında \n",
    "bir kategorik değişkenin 10 sınıfı olabilir bu 10 sınıfın etki düzeyleri aynı olmayabilir. bazı dönüşümler yaparak kategorik değişkenlerin sınıf sayısı indirgenir örneğin 2 sınıflı olması sağlanır"
   ]
  },
  {
   "cell_type": "raw",
   "id": "cf79384f",
   "metadata": {},
   "source": [
    "import numpy as np\n",
    "import pandas as pd \n",
    "import statsmodels.api as sm\n",
    "import statsmodels.formula.api as smf\n",
    "import seaborn as sns\n",
    "from sklearn.preprocessing import scale \n",
    "from sklearn.model_selection import train_test_split, GridSearchCV, cross_val_score\n",
    "from sklearn.metrics import confusion_matrix, accuracy_score, classification_report\n",
    "from sklearn.metrics import roc_auc_score,roc_curve\n",
    "import statsmodels.formula.api as smf\n",
    "import matplotlib.pyplot as plt\n",
    "from sklearn.neighbors import KNeighborsClassifier\n",
    "from sklearn.discriminant_analysis import LinearDiscriminantAnalysis\n",
    "from sklearn.linear_model import LogisticRegression\n",
    "from sklearn.svm import SVC\n",
    "from sklearn.naive_bayes import GaussianNB\n",
    "from sklearn import tree\n",
    "from sklearn.ensemble import RandomForestClassifier\n",
    "from sklearn.ensemble import GradientBoostingClassifier\n",
    "from xgboost import XGBClassifier\n",
    "# from lightgbm import LGBMClassifier\n",
    "# from catboost import CatBoostClassifier"
   ]
  },
  {
   "cell_type": "code",
   "execution_count": 12,
   "id": "b9e251de",
   "metadata": {},
   "outputs": [],
   "source": [
    "# bilgilerin gözükmesi için\n",
    "from sklearn import set_config\n",
    "set_config(print_changed_only=False)"
   ]
  },
  {
   "cell_type": "code",
   "execution_count": null,
   "id": "47af904b",
   "metadata": {},
   "outputs": [],
   "source": []
  },
  {
   "cell_type": "code",
   "execution_count": null,
   "id": "f77bb315",
   "metadata": {},
   "outputs": [],
   "source": []
  },
  {
   "cell_type": "markdown",
   "id": "5e8b9246",
   "metadata": {},
   "source": [
    "# CatBoost - Model & Tahmin"
   ]
  },
  {
   "cell_type": "code",
   "execution_count": 1,
   "id": "fad08f53",
   "metadata": {},
   "outputs": [],
   "source": [
    "import pandas as pd\n",
    "# veri setimizi import edelim\n",
    "diabetes = pd.read_csv(\"diabetes.csv\")"
   ]
  },
  {
   "cell_type": "code",
   "execution_count": 2,
   "id": "e64641b8",
   "metadata": {},
   "outputs": [],
   "source": [
    "df = diabetes.copy()\n",
    "df = df.dropna()\n",
    "y = df[\"Outcome\"]\n",
    "X = df.drop([\"Outcome\"], axis=1)"
   ]
  },
  {
   "cell_type": "code",
   "execution_count": 3,
   "id": "8f9c6e30",
   "metadata": {},
   "outputs": [],
   "source": [
    "from sklearn.model_selection import train_test_split\n",
    "\n",
    "X_train, X_test, y_train, y_test = train_test_split(X,\n",
    "                                                    y,\n",
    "                                                    test_size=0.30,\n",
    "                                                   random_state=42)"
   ]
  },
  {
   "cell_type": "code",
   "execution_count": null,
   "id": "cbf4aa4e",
   "metadata": {},
   "outputs": [],
   "source": [
    "!pip install catboost"
   ]
  },
  {
   "cell_type": "code",
   "execution_count": 1,
   "id": "8c5d8101",
   "metadata": {
    "tags": []
   },
   "outputs": [
    {
     "ename": "ModuleNotFoundError",
     "evalue": "No module named 'catboost'",
     "output_type": "error",
     "traceback": [
      "\u001b[0;31m---------------------------------------------------------------------------\u001b[0m",
      "\u001b[0;31mModuleNotFoundError\u001b[0m                       Traceback (most recent call last)",
      "Cell \u001b[0;32mIn[1], line 1\u001b[0m\n\u001b[0;32m----> 1\u001b[0m \u001b[38;5;28;01mfrom\u001b[39;00m \u001b[38;5;21;01mcatboost\u001b[39;00m \u001b[38;5;28;01mimport\u001b[39;00m CatBoostClassifier\n",
      "\u001b[0;31mModuleNotFoundError\u001b[0m: No module named 'catboost'"
     ]
    }
   ],
   "source": [
    "from catboost import CatBoostClassifier"
   ]
  },
  {
   "cell_type": "code",
   "execution_count": null,
   "id": "ca360f70",
   "metadata": {},
   "outputs": [],
   "source": [
    "cat_model = CatBoostClassifier().fit(X_train, y_train)"
   ]
  },
  {
   "cell_type": "code",
   "execution_count": null,
   "id": "3878f13a",
   "metadata": {},
   "outputs": [],
   "source": [
    "y_pred = cat_model.predict(X_test)"
   ]
  },
  {
   "cell_type": "code",
   "execution_count": null,
   "id": "23ef4eee",
   "metadata": {},
   "outputs": [],
   "source": [
    "accuracy_score(y_test, y_pred)"
   ]
  },
  {
   "cell_type": "code",
   "execution_count": null,
   "id": "49e40be2",
   "metadata": {},
   "outputs": [],
   "source": []
  },
  {
   "cell_type": "code",
   "execution_count": null,
   "id": "5f0d45e7",
   "metadata": {},
   "outputs": [],
   "source": []
  },
  {
   "cell_type": "markdown",
   "id": "aa089c73",
   "metadata": {},
   "source": [
    "# CatBoost - Model Tuning"
   ]
  },
  {
   "cell_type": "code",
   "execution_count": null,
   "id": "f2ae4c29",
   "metadata": {},
   "outputs": [],
   "source": [
    "catb_params = {\n",
    "    \"iterations\": [200,500],\n",
    "    \"learning_rate\": [0.01, 0.05, 0.1],\n",
    "    \"depth\":[3,5,8]\n",
    "}"
   ]
  },
  {
   "cell_type": "markdown",
   "id": "a7b38e7b",
   "metadata": {},
   "source": [
    "catboost çok uzun sürer."
   ]
  },
  {
   "cell_type": "code",
   "execution_count": null,
   "id": "aee1783a",
   "metadata": {},
   "outputs": [],
   "source": [
    "catb = CatBoostClassifier()"
   ]
  },
  {
   "cell_type": "code",
   "execution_count": null,
   "id": "4e360899",
   "metadata": {},
   "outputs": [],
   "source": [
    "catb_cv_model = GridSearchCV(catb, catb_params, cv=5, n_jobs=-1, verbose=2)"
   ]
  },
  {
   "cell_type": "code",
   "execution_count": null,
   "id": "bc83849c",
   "metadata": {},
   "outputs": [],
   "source": [
    "catb_cv_model.fit(X_train, y_train)"
   ]
  },
  {
   "cell_type": "code",
   "execution_count": null,
   "id": "4323f722",
   "metadata": {},
   "outputs": [],
   "source": [
    "catb_cv_model.best_params_"
   ]
  },
  {
   "cell_type": "code",
   "execution_count": null,
   "id": "caca4dd7",
   "metadata": {},
   "outputs": [],
   "source": []
  },
  {
   "cell_type": "code",
   "execution_count": null,
   "id": "bb2a6541",
   "metadata": {},
   "outputs": [],
   "source": [
    "# final modeli"
   ]
  },
  {
   "cell_type": "code",
   "execution_count": null,
   "id": "e4b86acf",
   "metadata": {},
   "outputs": [],
   "source": [
    "catb = CatBoostClassifier(iterasyons=200,\n",
    "                         learning_rate=0.05,\n",
    "                         depth=5)"
   ]
  },
  {
   "cell_type": "code",
   "execution_count": null,
   "id": "32ab952c",
   "metadata": {},
   "outputs": [],
   "source": [
    "catb_tuned = catb.fit(X_train, y_train)"
   ]
  },
  {
   "cell_type": "code",
   "execution_count": null,
   "id": "17e473d9",
   "metadata": {},
   "outputs": [],
   "source": [
    "y_pred = catb_tuned.predict(X_test)"
   ]
  },
  {
   "cell_type": "code",
   "execution_count": null,
   "id": "21d5346a",
   "metadata": {},
   "outputs": [],
   "source": [
    "accuracy_score(y_test, y_pred)"
   ]
  },
  {
   "cell_type": "code",
   "execution_count": null,
   "id": "a2c17a9c",
   "metadata": {},
   "outputs": [],
   "source": []
  },
  {
   "cell_type": "code",
   "execution_count": null,
   "id": "d5a89ae9",
   "metadata": {},
   "outputs": [],
   "source": []
  },
  {
   "cell_type": "code",
   "execution_count": null,
   "id": "1184d51e",
   "metadata": {},
   "outputs": [],
   "source": []
  },
  {
   "cell_type": "code",
   "execution_count": null,
   "id": "2c76606a",
   "metadata": {},
   "outputs": [],
   "source": []
  },
  {
   "cell_type": "code",
   "execution_count": null,
   "id": "e3870e6e",
   "metadata": {},
   "outputs": [],
   "source": []
  }
 ],
 "metadata": {
  "kernelspec": {
   "display_name": "Python 3 (ipykernel)",
   "language": "python",
   "name": "python3"
  },
  "language_info": {
   "codemirror_mode": {
    "name": "ipython",
    "version": 3
   },
   "file_extension": ".py",
   "mimetype": "text/x-python",
   "name": "python",
   "nbconvert_exporter": "python",
   "pygments_lexer": "ipython3",
   "version": "3.11.4"
  }
 },
 "nbformat": 4,
 "nbformat_minor": 5
}
