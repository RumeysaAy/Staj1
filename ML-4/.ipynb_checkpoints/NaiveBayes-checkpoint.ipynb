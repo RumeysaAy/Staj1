{
 "cells": [
  {
   "cell_type": "markdown",
   "id": "710a5486",
   "metadata": {},
   "source": [
    "# Naive Bayes\n",
    "\n",
    "Olasılık temelli bir modelleme tekniğidir. Amaç belirli bir örneğin her bir sınıfa ait olma olasılığının koşullu olasılık temelli hesaplanmasıdır."
   ]
  },
  {
   "cell_type": "code",
   "execution_count": null,
   "id": "da559679",
   "metadata": {},
   "outputs": [],
   "source": []
  },
  {
   "cell_type": "markdown",
   "id": "a2585815",
   "metadata": {},
   "source": [
    "bayes algoritmasında optimize edilecek dışsal bir model hiperparametresi yoktur."
   ]
  },
  {
   "cell_type": "markdown",
   "id": "63469ca4",
   "metadata": {},
   "source": [
    "e-ticaret gibi çok kategorili sınıf yapılarının olduğu ve burada bazı modelleme çalışmalarına ihtiyaç duyulduğu senaryolarda Bayes iyi çalışır."
   ]
  },
  {
   "cell_type": "markdown",
   "id": "431be10a",
   "metadata": {},
   "source": [
    "ilgilenilen yanıt değişkeninin çok sınıflı olduğu senaryolarda da ve buna karşılık veri setinde kategorik değişken sayısı da sürekli değişken sayısı kadar aşağı yukarı olduğunda da kullanılır."
   ]
  },
  {
   "cell_type": "markdown",
   "id": "7b595021",
   "metadata": {},
   "source": [
    "dolayısıyla hedef - yanıt değişkeni çok sınıflıysa 10 tane değişken sınıfı varsa sınıflar arasında ayırt edicilik varsa 2 sınıfa 3 sınıfa indirgenemiyorsa buna karşılık değişkenlerde incelendiğinde kategorik değişkenlerin sayısı çok ise bayes kullanılır."
   ]
  },
  {
   "cell_type": "code",
   "execution_count": null,
   "id": "5bc89d88",
   "metadata": {},
   "outputs": [],
   "source": []
  },
  {
   "cell_type": "markdown",
   "id": "5a1e42ca",
   "metadata": {},
   "source": [
    "## Gaussian Naive Bayes - Model & Tahmin"
   ]
  },
  {
   "cell_type": "code",
   "execution_count": 12,
   "id": "6b5c458f",
   "metadata": {},
   "outputs": [],
   "source": [
    "import numpy as np\n",
    "import statsmodels.api as sm\n",
    "import statsmodels.formula.api as smf\n",
    "import seaborn as sns\n",
    "from sklearn.preprocessing import scale \n",
    "from sklearn.model_selection import train_test_split, GridSearchCV, cross_val_score\n",
    "from sklearn.metrics import confusion_matrix, accuracy_score, classification_report\n",
    "from sklearn.metrics import roc_auc_score,roc_curve\n",
    "import statsmodels.formula.api as smf\n",
    "import matplotlib.pyplot as plt\n",
    "from sklearn.neighbors import KNeighborsClassifier\n",
    "from sklearn.discriminant_analysis import LinearDiscriminantAnalysis\n",
    "from sklearn.linear_model import LogisticRegression\n",
    "from sklearn.svm import SVC\n",
    "from sklearn.naive_bayes import GaussianNB\n",
    "from sklearn import tree\n",
    "from sklearn.ensemble import RandomForestClassifier\n",
    "from sklearn.ensemble import GradientBoostingClassifier\n",
    "from xgboost import XGBClassifier\n",
    "# from lightgbm import LGBMClassifier\n",
    "# from catboost import CatBoostClassifier"
   ]
  },
  {
   "cell_type": "raw",
   "id": "142dc096",
   "metadata": {},
   "source": [
    "# uyarılar gözükmesin diye\n",
    "from warnings import filterwarnings\n",
    "filterwarnings('ignore')"
   ]
  },
  {
   "cell_type": "raw",
   "id": "d636e8e1",
   "metadata": {},
   "source": [
    "# bilgilerin gözükmesi için\n",
    "from sklearn import set_config\n",
    "set_config(print_changed_only=False)"
   ]
  },
  {
   "cell_type": "code",
   "execution_count": 13,
   "id": "893a0523",
   "metadata": {},
   "outputs": [],
   "source": [
    "import pandas as pd\n",
    "# veri setimizi import edelim\n",
    "diabetes = pd.read_csv(\"diabetes.csv\")"
   ]
  },
  {
   "cell_type": "code",
   "execution_count": 14,
   "id": "98ba30de",
   "metadata": {},
   "outputs": [],
   "source": [
    "df = diabetes.copy()\n",
    "df = df.dropna()\n",
    "y = df[\"Outcome\"]\n",
    "X = df.drop([\"Outcome\"], axis=1)"
   ]
  },
  {
   "cell_type": "code",
   "execution_count": 15,
   "id": "1dd75ad5",
   "metadata": {},
   "outputs": [],
   "source": [
    "from sklearn.model_selection import train_test_split\n",
    "\n",
    "X_train, X_test, y_train, y_test = train_test_split(X,\n",
    "                                                    y,\n",
    "                                                    test_size=0.30,\n",
    "                                                   random_state=42)"
   ]
  },
  {
   "cell_type": "code",
   "execution_count": 16,
   "id": "65262bd7",
   "metadata": {},
   "outputs": [],
   "source": [
    "from sklearn.naive_bayes import GaussianNB"
   ]
  },
  {
   "cell_type": "code",
   "execution_count": 17,
   "id": "a69d2223",
   "metadata": {},
   "outputs": [],
   "source": [
    "# modeli oluşturdum\n",
    "nb = GaussianNB()\n",
    "nb_model = nb.fit(X_train, y_train)"
   ]
  },
  {
   "cell_type": "code",
   "execution_count": 18,
   "id": "c47eb427",
   "metadata": {},
   "outputs": [
    {
     "data": {
      "text/plain": [
       "array([0, 0, 0, 0, 1, 1, 0, 0, 0, 1])"
      ]
     },
     "execution_count": 18,
     "metadata": {},
     "output_type": "execute_result"
    }
   ],
   "source": [
    "# y_test için tahmin edilen değerler\n",
    "nb_model.predict(X_test)[0:10]"
   ]
  },
  {
   "cell_type": "code",
   "execution_count": 19,
   "id": "43973a1f",
   "metadata": {},
   "outputs": [
    {
     "data": {
      "text/plain": [
       "array([[0.73815858, 0.26184142],\n",
       "       [0.94027894, 0.05972106],\n",
       "       [0.97242831, 0.02757169],\n",
       "       [0.82840069, 0.17159931],\n",
       "       [0.47153473, 0.52846527],\n",
       "       [0.47274458, 0.52725542],\n",
       "       [0.99607705, 0.00392295],\n",
       "       [0.69925055, 0.30074945],\n",
       "       [0.53838117, 0.46161883],\n",
       "       [0.25004536, 0.74995464]])"
      ]
     },
     "execution_count": 19,
     "metadata": {},
     "output_type": "execute_result"
    }
   ],
   "source": [
    "# olasılık değerlerine bakalım\n",
    "nb_model.predict_proba(X_test)[0:10]\n",
    "# 0. sütun, 0'e ait olasılıklar\n",
    "# 1. sütun ise 1'a ait olan olasılıklar"
   ]
  },
  {
   "cell_type": "code",
   "execution_count": null,
   "id": "d558764d",
   "metadata": {},
   "outputs": [],
   "source": []
  },
  {
   "cell_type": "markdown",
   "id": "5f8fd48a",
   "metadata": {},
   "source": [
    "Test hatasını hesaplayalım"
   ]
  },
  {
   "cell_type": "code",
   "execution_count": 20,
   "id": "204ae786",
   "metadata": {},
   "outputs": [
    {
     "data": {
      "text/plain": [
       "array([0, 0, 0, 0, 1, 1, 0, 0, 0, 1])"
      ]
     },
     "execution_count": 20,
     "metadata": {},
     "output_type": "execute_result"
    }
   ],
   "source": [
    "# tahmin edilen y_test değerleri\n",
    "y_pred = nb_model.predict(X_test)\n",
    "y_pred[:10]"
   ]
  },
  {
   "cell_type": "code",
   "execution_count": 21,
   "id": "f7349b4c",
   "metadata": {},
   "outputs": [
    {
     "data": {
      "text/plain": [
       "0.7445887445887446"
      ]
     },
     "execution_count": 21,
     "metadata": {},
     "output_type": "execute_result"
    }
   ],
   "source": [
    "# accuracy\n",
    "# doğruluk oranı\n",
    "accuracy_score(y_test, y_pred)"
   ]
  },
  {
   "cell_type": "markdown",
   "id": "88caa9e0",
   "metadata": {},
   "source": [
    "Doğrulanmış test skoru"
   ]
  },
  {
   "cell_type": "code",
   "execution_count": 22,
   "id": "aaec72a8",
   "metadata": {},
   "outputs": [
    {
     "data": {
      "text/plain": [
       "0.775"
      ]
     },
     "execution_count": 22,
     "metadata": {},
     "output_type": "execute_result"
    }
   ],
   "source": [
    "cross_val_score(nb_model, X_test, y_test, cv=10).mean()"
   ]
  },
  {
   "cell_type": "markdown",
   "id": "61eade40",
   "metadata": {},
   "source": [
    "lojistik regresyona (0.77) göre biraz daha iyidir."
   ]
  },
  {
   "cell_type": "markdown",
   "id": "e203d41c",
   "metadata": {},
   "source": [
    "Bir model tuning işlemi Naive Bayes için yapmak söz konusu değildir. dışsal bir hiperparametresi yok."
   ]
  },
  {
   "cell_type": "code",
   "execution_count": null,
   "id": "81a52f2a",
   "metadata": {},
   "outputs": [],
   "source": []
  },
  {
   "cell_type": "code",
   "execution_count": null,
   "id": "dd422633",
   "metadata": {},
   "outputs": [],
   "source": []
  },
  {
   "cell_type": "markdown",
   "id": "ab6a1692",
   "metadata": {},
   "source": [
    "Çapraz doğrulama (cross-validation) skoru yüksekse, bu modelin belirli bir veri kümesi üzerinde iyi performans gösterdiği anlamına gelir.\n",
    "\n",
    "Ancak başka veri kümesi veya gerçek dünya verileri üzerinde nasıl performans göstereceği hakkında kesin bir bilgi vermez."
   ]
  },
  {
   "cell_type": "code",
   "execution_count": null,
   "id": "0cf46c14",
   "metadata": {},
   "outputs": [],
   "source": []
  },
  {
   "cell_type": "code",
   "execution_count": null,
   "id": "87e4d676",
   "metadata": {},
   "outputs": [],
   "source": []
  }
 ],
 "metadata": {
  "kernelspec": {
   "display_name": "Python 3 (ipykernel)",
   "language": "python",
   "name": "python3"
  },
  "language_info": {
   "codemirror_mode": {
    "name": "ipython",
    "version": 3
   },
   "file_extension": ".py",
   "mimetype": "text/x-python",
   "name": "python",
   "nbconvert_exporter": "python",
   "pygments_lexer": "ipython3",
   "version": "3.9.7"
  }
 },
 "nbformat": 4,
 "nbformat_minor": 5
}
