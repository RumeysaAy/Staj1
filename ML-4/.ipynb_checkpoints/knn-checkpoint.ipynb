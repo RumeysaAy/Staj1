{
 "cells": [
  {
   "cell_type": "markdown",
   "id": "26e78320",
   "metadata": {},
   "source": [
    "# K - En Yakın Komşu (KNN) Algoritması\n",
    "\n",
    "Tahminlerin gözlem benzerliğine göre yapılır.\n",
    "\n",
    "KNN Basamakları\n",
    "* Komşu sayısını belirle (K)\n",
    "* Bilinmeyen nokta ile diğer tüm noktalar ile arasındaki uzaklıkları hesapla\n",
    "* Uzaklıkları sırala ve belirlenen k sayısına göre en yakın olan k gözlemi seç\n",
    "* Sınıflandırma ise en sık sınıf, regresyon ise ortalama değeri tahmin değeri olarak ver."
   ]
  },
  {
   "cell_type": "markdown",
   "id": "db4feda6",
   "metadata": {},
   "source": [
    "* Öklid ya da benzeri bir uzaklık hesabı ile yeni gözlemin her bir gözleme olan uzaklığı hesaplanır.\n",
    "* En yakın K adet gözlemin y değerlerinin en sık gözlenen frekansı tahmin edilen sınıf olur."
   ]
  },
  {
   "cell_type": "markdown",
   "id": "c0b0e86c",
   "metadata": {},
   "source": [
    "## KNN - Model & Tahmin"
   ]
  },
  {
   "cell_type": "code",
   "execution_count": 5,
   "id": "59660279",
   "metadata": {},
   "outputs": [],
   "source": [
    "# bilgilerin gözükmesi için\n",
    "from sklearn import set_config\n",
    "set_config(print_changed_only=False)"
   ]
  },
  {
   "cell_type": "code",
   "execution_count": 1,
   "id": "e0e65980",
   "metadata": {},
   "outputs": [],
   "source": [
    "import pandas as pd\n",
    "# veri setimizi import edelim\n",
    "diabetes = pd.read_csv(\"diabetes.csv\")"
   ]
  },
  {
   "cell_type": "code",
   "execution_count": 2,
   "id": "2d1d117d",
   "metadata": {},
   "outputs": [],
   "source": [
    "df = diabetes.copy()\n",
    "df = df.dropna()\n",
    "y = df[\"Outcome\"]\n",
    "X = df.drop([\"Outcome\"], axis=1)"
   ]
  },
  {
   "cell_type": "code",
   "execution_count": 3,
   "id": "9aeb8c7c",
   "metadata": {},
   "outputs": [],
   "source": [
    "from sklearn.model_selection import train_test_split\n",
    "\n",
    "X_train, X_test, y_train, y_test = train_test_split(X,\n",
    "                                                    y,\n",
    "                                                    test_size=0.30,\n",
    "                                                   random_state=42)"
   ]
  },
  {
   "cell_type": "code",
   "execution_count": 7,
   "id": "d1d713ba",
   "metadata": {},
   "outputs": [
    {
     "data": {
      "text/plain": [
       "KNeighborsClassifier(algorithm='auto', leaf_size=30, metric='minkowski',\n",
       "                     metric_params=None, n_jobs=None, n_neighbors=5, p=2,\n",
       "                     weights='uniform')"
      ]
     },
     "execution_count": 7,
     "metadata": {},
     "output_type": "execute_result"
    }
   ],
   "source": [
    "from sklearn.neighbors import KNeighborsClassifier\n",
    "\n",
    "knn = KNeighborsClassifier()\n",
    "knn_model = knn.fit(X_train, y_train)\n",
    "knn_model # n_neighbors=5 (k=5)"
   ]
  },
  {
   "cell_type": "code",
   "execution_count": 8,
   "id": "b5144201",
   "metadata": {},
   "outputs": [],
   "source": [
    "# tahmin edilen y_test değerleri\n",
    "y_pred = knn_model.predict(X_test)"
   ]
  },
  {
   "cell_type": "code",
   "execution_count": 10,
   "id": "b1e1a13a",
   "metadata": {},
   "outputs": [
    {
     "data": {
      "text/plain": [
       "0.6883116883116883"
      ]
     },
     "execution_count": 10,
     "metadata": {},
     "output_type": "execute_result"
    }
   ],
   "source": [
    "# ilkel skor\n",
    "from sklearn.metrics import accuracy_score\n",
    "accuracy_score(y_test, y_pred)"
   ]
  },
  {
   "cell_type": "code",
   "execution_count": 12,
   "id": "d3d5d0cc",
   "metadata": {},
   "outputs": [
    {
     "name": "stdout",
     "output_type": "stream",
     "text": [
      "              precision    recall  f1-score   support\n",
      "\n",
      "           0       0.77      0.75      0.76       151\n",
      "           1       0.55      0.56      0.56        80\n",
      "\n",
      "    accuracy                           0.69       231\n",
      "   macro avg       0.66      0.66      0.66       231\n",
      "weighted avg       0.69      0.69      0.69       231\n",
      "\n"
     ]
    }
   ],
   "source": [
    "# doğrulanmış değer\n",
    "from sklearn.metrics import classification_report\n",
    "print(classification_report(y_test, y_pred))"
   ]
  },
  {
   "cell_type": "code",
   "execution_count": null,
   "id": "f142e766",
   "metadata": {},
   "outputs": [],
   "source": []
  },
  {
   "cell_type": "markdown",
   "id": "62d5b879",
   "metadata": {},
   "source": [
    "## KNN - Model Tuning"
   ]
  },
  {
   "cell_type": "code",
   "execution_count": 14,
   "id": "c3f155b7",
   "metadata": {},
   "outputs": [],
   "source": [
    "import numpy as np\n",
    "from sklearn.model_selection import GridSearchCV\n",
    "# GridSearchCV yöntemiyle optimum hiperparametre değerlerini bulacağım\n",
    "knn_params = {\"n_neighbors\":np.arange(1,50)} # k komşu sayılarını oluşturdum"
   ]
  },
  {
   "cell_type": "code",
   "execution_count": 15,
   "id": "bb7adc8c",
   "metadata": {},
   "outputs": [
    {
     "data": {
      "text/plain": [
       "GridSearchCV(cv=10, error_score=nan,\n",
       "             estimator=KNeighborsClassifier(algorithm='auto', leaf_size=30,\n",
       "                                            metric='minkowski',\n",
       "                                            metric_params=None, n_jobs=None,\n",
       "                                            n_neighbors=5, p=2,\n",
       "                                            weights='uniform'),\n",
       "             n_jobs=None,\n",
       "             param_grid={'n_neighbors': array([ 1,  2,  3,  4,  5,  6,  7,  8,  9, 10, 11, 12, 13, 14, 15, 16, 17,\n",
       "       18, 19, 20, 21, 22, 23, 24, 25, 26, 27, 28, 29, 30, 31, 32, 33, 34,\n",
       "       35, 36, 37, 38, 39, 40, 41, 42, 43, 44, 45, 46, 47, 48, 49])},\n",
       "             pre_dispatch='2*n_jobs', refit=True, return_train_score=False,\n",
       "             scoring=None, verbose=0)"
      ]
     },
     "execution_count": 15,
     "metadata": {},
     "output_type": "execute_result"
    }
   ],
   "source": [
    "knn = KNeighborsClassifier() # modeli oluşturdum\n",
    "# 50 tane parametre var ve 10 katlı Cross Validation işlemi yapılacak\n",
    "knn_cv = GridSearchCV(knn, knn_params, cv=10)\n",
    "knn_cv.fit(X_train, y_train)"
   ]
  },
  {
   "cell_type": "code",
   "execution_count": 16,
   "id": "bad3ab38",
   "metadata": {},
   "outputs": [
    {
     "name": "stdout",
     "output_type": "stream",
     "text": [
      "En iyi skor: 0.748637316561845\n",
      "En iyi parametreler: {'n_neighbors': 11}\n"
     ]
    }
   ],
   "source": [
    "# 10 katlı cv yapıldı\n",
    "# en iyi skorlu cross validation değerleri nelerdir?\n",
    "print(\"En iyi skor: \" + str(knn_cv.best_score_))\n",
    "# ve best parametre değeri nedir?\n",
    "print(\"En iyi parametreler: \" + str(knn_cv.best_params_))"
   ]
  },
  {
   "cell_type": "code",
   "execution_count": null,
   "id": "c1229074",
   "metadata": {},
   "outputs": [],
   "source": [
    "# en iyi parametre ile final modeli oluşturacağım\n",
    "# bu final modeli üzerinden değerlendirme yapacağım\n",
    "# en optimum komşu sayısı 11 (model hiperparametresi)"
   ]
  },
  {
   "cell_type": "code",
   "execution_count": null,
   "id": "4098ddf9",
   "metadata": {},
   "outputs": [],
   "source": []
  },
  {
   "cell_type": "code",
   "execution_count": 18,
   "id": "87b91349",
   "metadata": {},
   "outputs": [],
   "source": [
    "# en iyi parametre ile final modeli oluşturacağım\n",
    "knn = KNeighborsClassifier(11)\n",
    "knn_tuned = knn.fit(X_train, y_train)"
   ]
  },
  {
   "cell_type": "code",
   "execution_count": 19,
   "id": "4e8f52e1",
   "metadata": {},
   "outputs": [
    {
     "data": {
      "text/plain": [
       "0.7316017316017316"
      ]
     },
     "execution_count": 19,
     "metadata": {},
     "output_type": "execute_result"
    }
   ],
   "source": [
    "# accuracy skor\n",
    "knn_tuned.score(X_test, y_test)"
   ]
  },
  {
   "cell_type": "code",
   "execution_count": 22,
   "id": "4239cde5",
   "metadata": {},
   "outputs": [],
   "source": [
    "# y tahmin değerleri\n",
    "y_pred = knn_tuned.predict(X_test)"
   ]
  },
  {
   "cell_type": "code",
   "execution_count": 23,
   "id": "fc681d6f",
   "metadata": {},
   "outputs": [
    {
     "data": {
      "text/plain": [
       "0.7316017316017316"
      ]
     },
     "execution_count": 23,
     "metadata": {},
     "output_type": "execute_result"
    }
   ],
   "source": [
    "accuracy_score(y_test, y_pred)"
   ]
  },
  {
   "cell_type": "markdown",
   "id": "4038b254",
   "metadata": {},
   "source": [
    "score fonksiyonunu kullanarak accuracy değerine daha kısa bir şekilde ulaşabiliriz."
   ]
  },
  {
   "cell_type": "code",
   "execution_count": null,
   "id": "79750f3a",
   "metadata": {},
   "outputs": [],
   "source": []
  },
  {
   "cell_type": "code",
   "execution_count": null,
   "id": "d407a065",
   "metadata": {},
   "outputs": [],
   "source": []
  },
  {
   "cell_type": "code",
   "execution_count": null,
   "id": "451d959b",
   "metadata": {},
   "outputs": [],
   "source": []
  },
  {
   "cell_type": "code",
   "execution_count": null,
   "id": "fe657611",
   "metadata": {},
   "outputs": [],
   "source": []
  }
 ],
 "metadata": {
  "kernelspec": {
   "display_name": "Python 3 (ipykernel)",
   "language": "python",
   "name": "python3"
  },
  "language_info": {
   "codemirror_mode": {
    "name": "ipython",
    "version": 3
   },
   "file_extension": ".py",
   "mimetype": "text/x-python",
   "name": "python",
   "nbconvert_exporter": "python",
   "pygments_lexer": "ipython3",
   "version": "3.9.7"
  }
 },
 "nbformat": 4,
 "nbformat_minor": 5
}
