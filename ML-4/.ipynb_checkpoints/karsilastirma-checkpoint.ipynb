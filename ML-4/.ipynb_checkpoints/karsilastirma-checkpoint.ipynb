{
 "cells": [
  {
   "cell_type": "markdown",
   "id": "07ad6087",
   "metadata": {},
   "source": [
    "# Tüm Modellerin Karşılaştırılması"
   ]
  },
  {
   "cell_type": "markdown",
   "id": "42ed5e38-41d5-49a3-a6f9-a2cb5c69a84a",
   "metadata": {},
   "source": [
    "catboost algoritması en iyi olarak gözükmektedir.\n",
    "Daha sonra ise Random Forest, XGBoost=logistic, GBM gelmektedir. ***Bu problem için, bu parametre setleri için en iyi catboost algoritması olarak gözükmektedir.***"
   ]
  },
  {
   "cell_type": "code",
   "execution_count": null,
   "id": "f6ecb7df-d111-4c89-80db-bcc6ba0789b0",
   "metadata": {},
   "outputs": [],
   "source": []
  },
  {
   "cell_type": "code",
   "execution_count": null,
   "id": "55ed1991",
   "metadata": {},
   "outputs": [],
   "source": [
    "modeller = [\n",
    "    knn_tuned,\n",
    "    loj_model,\n",
    "    svc_tuned,\n",
    "    nb_model,\n",
    "    mlpc_tuned,\n",
    "    cart_tuned,\n",
    "    rf_tuned,\n",
    "    gbm_tuned,\n",
    "    catb_tuned,\n",
    "    lgbm_tuned,\n",
    "    xgb_tuned\n",
    "]"
   ]
  },
  {
   "cell_type": "code",
   "execution_count": null,
   "id": "37dca981",
   "metadata": {},
   "outputs": [],
   "source": [
    "for model in modeller:\n",
    "    isimler=model.__class__.__name__ # modellerin isimleri alınacak\n",
    "    y_pred=model.predict(X_test) # her bir model test seti için tahmin için kullanılacak\n",
    "    dogruluk=accuracy_score(y_test, y_pred)\n",
    "    print(\"-\"*28)\n",
    "    print(isimler+\":\")\n",
    "    print(\"Accuracy: {:.4%}\".format(dogruluk))"
   ]
  },
  {
   "cell_type": "markdown",
   "id": "afdf66e4",
   "metadata": {},
   "source": [
    "bütün modellerden elde ettiğimiz sonuçlarla bir değerlendirme işlemi gerçekleştireceğiz."
   ]
  },
  {
   "cell_type": "code",
   "execution_count": null,
   "id": "99e26a96",
   "metadata": {},
   "outputs": [],
   "source": [
    "sonuc = []"
   ]
  },
  {
   "cell_type": "code",
   "execution_count": null,
   "id": "da606e7b",
   "metadata": {},
   "outputs": [],
   "source": [
    "sonuclar = pd.DataFrame(columns= [\"Modeller\",\"Accuracy\"])"
   ]
  },
  {
   "cell_type": "code",
   "execution_count": null,
   "id": "47981caf",
   "metadata": {},
   "outputs": [],
   "source": [
    "for model in modeller:\n",
    "    isimler = model.__class__.__name__\n",
    "    y_pred = model.predict(X_test)\n",
    "    dogruluk = accuracy_score(y_test, y_pred)    \n",
    "    sonuc = pd.DataFrame([[isimler, dogruluk*100]], columns= [\"Modeller\",\"Accuracy\"])\n",
    "    sonuclar = sonuclar.append(sonuc)"
   ]
  },
  {
   "cell_type": "code",
   "execution_count": null,
   "id": "aa038696",
   "metadata": {},
   "outputs": [],
   "source": [
    "sns.barplot(x= 'Accuracy', y = 'Modeller', data=sonuclar, color=\"r\")\n",
    "plt.xlabel('Accuracy %')\n",
    "plt.title('Modellerin Doğruluk Oranları');  "
   ]
  }
 ],
 "metadata": {
  "kernelspec": {
   "display_name": "Python 3 (ipykernel)",
   "language": "python",
   "name": "python3"
  },
  "language_info": {
   "codemirror_mode": {
    "name": "ipython",
    "version": 3
   },
   "file_extension": ".py",
   "mimetype": "text/x-python",
   "name": "python",
   "nbconvert_exporter": "python",
   "pygments_lexer": "ipython3",
   "version": "3.11.4"
  }
 },
 "nbformat": 4,
 "nbformat_minor": 5
}
