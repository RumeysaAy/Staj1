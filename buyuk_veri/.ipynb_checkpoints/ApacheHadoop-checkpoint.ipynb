{
 "cells": [
  {
   "cell_type": "markdown",
   "id": "28801fa2",
   "metadata": {},
   "source": [
    "# Apache Hadoop\n",
    "\n",
    "Apache Hadoop açık kaynak kodlu, güvenilir, ölçeklenebilir paralel hesaplama yazılımı projesidir."
   ]
  },
  {
   "cell_type": "code",
   "execution_count": null,
   "id": "7f9fa8b2",
   "metadata": {},
   "outputs": [],
   "source": []
  },
  {
   "cell_type": "markdown",
   "id": "59d3da79",
   "metadata": {},
   "source": [
    "Apache Hadoop büyük veri araçlarında ilk akla gelen ve bütün veri dünyasının temelini oluşturan bir frameworktür, bir yazılım çerçevesidir"
   ]
  },
  {
   "cell_type": "markdown",
   "id": "2e2b478b",
   "metadata": {},
   "source": [
    "Büyük veri bir problemdi ve çözüldü. geleneksel yöntemlerle işlenemeyen verilerin işlenebilir hale gelmesi sağlandı birden fazla bilgisayarın bir araya gelmesiyle sağlandı bu birden fazla bilgisayarın bir araya gelerek bu işi yapması durumunu ortaya koyacak olan yazılım mimarisi öncelikle Apache Hadoop'dur."
   ]
  },
  {
   "cell_type": "markdown",
   "id": "43090225",
   "metadata": {},
   "source": [
    "* Büyük veri teknolojilerinin temelini oluşturur.\n",
    "* Geleneksel yöntemler ile etkin olarak işlenmesi mümkün olmayan verilerin saklanmasına, işlenebilmesine olanak sağlamaktadır.\n",
    "* Bir bilgisayar kümesinin belirli bir işi yapmak için tek bir bilgisayar gibi birlikte hareket etmesini sağlamaktadır."
   ]
  },
  {
   "cell_type": "markdown",
   "id": "a26ea1c9",
   "metadata": {},
   "source": [
    "Apache Hadoop, ilişkisel veri tabanlarının büyük veriye farklı tür ve boyutu hızla artan verilerin saklanması ve işlenmesi ile ilgili ihtiyaçları karşılayamadığı için oluşturlmuştur"
   ]
  },
  {
   "cell_type": "code",
   "execution_count": null,
   "id": "f93de63f",
   "metadata": {},
   "outputs": [],
   "source": []
  },
  {
   "cell_type": "markdown",
   "id": "e67ffb37",
   "metadata": {},
   "source": [
    "# Apache Hadoop'un bileşenleri\n",
    "* _**Hadoop Common**_: Tüm diğer hadoop modüllerini destekleyen ortak gereksinimlerdir.\n",
    "* _**Hadoop Dağıtık Dosya Sistemi (HDFS)**_: FAT32 ve NTFS gibi yerel dosya sistemleri var bunlar gibi bir dosya sistemidir bu sistemlerden farkı büyük boyutlardaki veriyi dağıtık bir şekilde depolamaya ve kontrol etmeye olanak sağlar. \n",
    "* _**Hadoop YARN**_: kaynak yönetimi ve iş planlaması için kullanılır. kaynak yönetimi, Apache Hadoop'un daha etkili kullanılmasına olanak sağlar çünkü birden fazla makine olacak, birden fazla iş olacak bunların iş dağıtımı yönetimi ve benzeri gibi konular söz konusu  \n",
    "* _**Hadoop MapReduce**_: yazılım anlamındaki en önemli bileşendir. aynı ağdaki dağıtık bilgisayar kümeleri üzerinde büyük veri analizi, büyük veri işlemleri yapılabilmesi için geliştirilmiş bir programlama modelidir. dağıtık dosya sisteminde tutulan verileri belirli aşamalardan geçirerek işlemektir. "
   ]
  },
  {
   "cell_type": "code",
   "execution_count": null,
   "id": "1402b40f",
   "metadata": {},
   "outputs": [],
   "source": []
  },
  {
   "cell_type": "markdown",
   "id": "f1be06fa",
   "metadata": {},
   "source": [
    "# Apache Hadoop Küme Yapısı\n",
    "\n",
    "birden fazla bilgisayarın bir araya gelerek bir bilgisayar gibi hareket etmesi\n",
    "\n"
   ]
  },
  {
   "cell_type": "code",
   "execution_count": null,
   "id": "41664719",
   "metadata": {},
   "outputs": [],
   "source": []
  },
  {
   "cell_type": "markdown",
   "id": "0f427ece",
   "metadata": {},
   "source": [
    "# MapReduce Nedir?\n",
    "\n",
    "input - splitting - mapping - shuffling - reducing - merged\n",
    "\n",
    "Bilgisayar topluluğunun belirli bir amaç için birlikte hareket edebilmesini sağlayan programlama modeli/yazılımdır.\n",
    "\n",
    "MapReduce: Mapping, Shuffling, Reducing"
   ]
  },
  {
   "cell_type": "code",
   "execution_count": null,
   "id": "5daae41e",
   "metadata": {},
   "outputs": [],
   "source": []
  },
  {
   "cell_type": "markdown",
   "id": "11691c56",
   "metadata": {},
   "source": [
    "# Apache Hadoop Faydaları\n",
    "\n",
    "* Veri Saklama ve İşleme Gücü\n",
    "* Açık Kaynak\n",
    "* Hız\n",
    "* Esneklik\n",
    "* Ölçeklenebilirlik\n",
    "* Hata Toleransı"
   ]
  },
  {
   "cell_type": "code",
   "execution_count": null,
   "id": "3851f588",
   "metadata": {},
   "outputs": [],
   "source": []
  },
  {
   "cell_type": "markdown",
   "id": "c65a433c",
   "metadata": {},
   "source": [
    "# Apache Hadoop Çözüm Olarak Yeterli mi?\n",
    "\n",
    "* Disk tabanlı çalışan bir modeldir.\n",
    "* Her MapReduce görevinde diskten okuma ve diske yazma işlemi yapılır.\n",
    "* İteratif işlemler zaman alır ve kaynakları meşgul eder."
   ]
  },
  {
   "cell_type": "code",
   "execution_count": null,
   "id": "b4deed7e",
   "metadata": {},
   "outputs": [],
   "source": []
  },
  {
   "cell_type": "code",
   "execution_count": null,
   "id": "03794f66",
   "metadata": {},
   "outputs": [],
   "source": []
  }
 ],
 "metadata": {
  "kernelspec": {
   "display_name": "Python 3 (ipykernel)",
   "language": "python",
   "name": "python3"
  },
  "language_info": {
   "codemirror_mode": {
    "name": "ipython",
    "version": 3
   },
   "file_extension": ".py",
   "mimetype": "text/x-python",
   "name": "python",
   "nbconvert_exporter": "python",
   "pygments_lexer": "ipython3",
   "version": "3.11.4"
  }
 },
 "nbformat": 4,
 "nbformat_minor": 5
}
