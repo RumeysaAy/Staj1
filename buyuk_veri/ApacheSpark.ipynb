{
 "cells": [
  {
   "cell_type": "markdown",
   "id": "e4e177f8",
   "metadata": {},
   "source": [
    "# Apache Spark\n",
    "\n",
    "Apache Spark küme üzerinde hızlı ve genel amaçlı bilgi işleme sistemidir."
   ]
  },
  {
   "cell_type": "code",
   "execution_count": null,
   "id": "fc0082a9",
   "metadata": {},
   "outputs": [],
   "source": []
  },
  {
   "cell_type": "markdown",
   "id": "13847189",
   "metadata": {},
   "source": [
    "# Apache Spark Nedir?\n",
    "\n",
    "* MapReduce modelinde yer alan disk bazlı çalışma sisteminin yarattığı maliyetlerden dolayı ortaya çıkmıştır.\n",
    "* Apache Hadoop'a göre 100 kat daha hızlı çalışmaktadır.\n",
    "* Java, Scala, Python ve R ile uygulama geliştirilebilir.\n",
    "* Genelleştiricidir: Spark SQL, Spark MLlib, Spark Streaming, GraphX aynı uygulama da kullanılabilir."
   ]
  },
  {
   "cell_type": "code",
   "execution_count": null,
   "id": "bd007fb9",
   "metadata": {},
   "outputs": [],
   "source": []
  },
  {
   "cell_type": "markdown",
   "id": "abdbd408",
   "metadata": {},
   "source": [
    "# Apache Spark'ın Bileşenleri\n",
    "\n",
    "* Spark Core ve RDD's\n",
    "* Spark SQL\n",
    "* Spark MLlib\n",
    "* Spark Streaming\n",
    "* GraphX"
   ]
  },
  {
   "cell_type": "code",
   "execution_count": null,
   "id": "cb3bcd92",
   "metadata": {},
   "outputs": [],
   "source": []
  },
  {
   "cell_type": "markdown",
   "id": "e899c7d6",
   "metadata": {},
   "source": [
    "# Dayanıklı Dağıtık Data Setler\n",
    "\n"
   ]
  },
  {
   "cell_type": "code",
   "execution_count": null,
   "id": "b3afa3e7",
   "metadata": {},
   "outputs": [],
   "source": []
  },
  {
   "cell_type": "markdown",
   "id": "8a9f7101",
   "metadata": {},
   "source": [
    "# MapReduce vs RDDs"
   ]
  },
  {
   "cell_type": "code",
   "execution_count": null,
   "id": "9c23b507",
   "metadata": {},
   "outputs": [],
   "source": []
  },
  {
   "cell_type": "markdown",
   "id": "2725a765",
   "metadata": {},
   "source": []
  },
  {
   "cell_type": "code",
   "execution_count": null,
   "id": "05889f03",
   "metadata": {},
   "outputs": [],
   "source": []
  },
  {
   "cell_type": "code",
   "execution_count": null,
   "id": "3e77b480",
   "metadata": {},
   "outputs": [],
   "source": []
  },
  {
   "cell_type": "code",
   "execution_count": null,
   "id": "e7767a42",
   "metadata": {},
   "outputs": [],
   "source": []
  }
 ],
 "metadata": {
  "kernelspec": {
   "display_name": "Python 3 (ipykernel)",
   "language": "python",
   "name": "python3"
  },
  "language_info": {
   "codemirror_mode": {
    "name": "ipython",
    "version": 3
   },
   "file_extension": ".py",
   "mimetype": "text/x-python",
   "name": "python",
   "nbconvert_exporter": "python",
   "pygments_lexer": "ipython3",
   "version": "3.11.4"
  }
 },
 "nbformat": 4,
 "nbformat_minor": 5
}
