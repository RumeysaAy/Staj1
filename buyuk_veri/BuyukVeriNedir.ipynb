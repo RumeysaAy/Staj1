{
 "cells": [
  {
   "cell_type": "markdown",
   "id": "4f8ca0f9",
   "metadata": {},
   "source": [
    "# Büyük Veri Nedir?\n",
    "\n",
    "Veri işlemeye yeni bir vizyon!\n",
    "\n",
    "Geleneksel yöntemlerle işlenemeyen verilere büyük veri denir."
   ]
  },
  {
   "cell_type": "code",
   "execution_count": null,
   "id": "480de875",
   "metadata": {},
   "outputs": [],
   "source": []
  },
  {
   "cell_type": "markdown",
   "id": "c3df029b",
   "metadata": {},
   "source": [
    "çok daha büyük miktarlarda veriyi bazı kısıtları ortadan kaldırarak işleme imkanı vermiş olmasıyla ve makine öğrenmesi süreçlerinide bu büyük veriler üzerinde işletebiliyor olmamız veri analitiği dünyasına çok büyük ufuklar kazandırmıştır.\n",
    "\n",
    "2 tür algılanmaktadır.\n",
    "* **teknik olarak** büyük veri bir problemdir. yani elimizdeki verilerin geleneksel yöntemlerle işlenememeye başlamasıyla ortaya çıkan bir problemdir. yani verinin boyutunun artması ve türünün çeşitlenmesiyle veriyi tutma saklama işleme işlemlerinde zorluklar ortaya çıkmasıdır.\n",
    "* **pazarlama dünyası** tarafından algılanan şekli farklı tiplerdeki ve farklı kaynaklardaki verilerin bir araya getirelerek tanrının gözü gibi bir konumlanma ile gizemli analizlerin dünyayı kurtaracak çözümlerin yapıldığı algılandığı her şeyin en kritik noktası gibi algılanan kısım kısım"
   ]
  },
  {
   "cell_type": "code",
   "execution_count": null,
   "id": "473e1f1a",
   "metadata": {},
   "outputs": [],
   "source": []
  },
  {
   "cell_type": "markdown",
   "id": "fac7275a",
   "metadata": {},
   "source": [
    "pazarlama dünyasındaki algılanış şekliyle teknik geliştiriciler, teknik kişiler olarak bizlerin çok takılmaması gerekir çünkü bu 3 ya da 4 yıl önce büyük veri efsanesi esiyordu. bu dönem ise yapay zeka ve yapay zeka balonu da söndü\n",
    "\n",
    "bizim için ilham verici yeteneklerimizi artıran daha iyi sonuçlar elde etmemizi sağlayan biraz daha geniş bir vizyon ile veriye bakış açımızı değerlendiren bir çözümdür\n",
    "\n",
    "yıllardır büyük veriyle ilgileniyorum nolduğunu anlamadım. \n",
    "\n",
    "büyük veri gerçekten bir veri işleme teknik geliştirilmesidir. yani bir problem vardı. örneğin biz zaten içgüdüsel olarak bütün veri tiplerini ve çok büyük miktardaki veri tiplerini işlemek istediğimizde yapamıyorduk isteklerimizin yerine gelmesi yolundaki engelleri kaldıran bize daha fazla imkan sunan yeni bir vizyon kazandıran teknikler olmuş oldu"
   ]
  },
  {
   "cell_type": "code",
   "execution_count": null,
   "id": "ae6c0063",
   "metadata": {},
   "outputs": [],
   "source": []
  },
  {
   "cell_type": "markdown",
   "id": "41a66a04",
   "metadata": {},
   "source": [
    "# Bu Bir Problem ise Çözümü Nedir?\n",
    "\n",
    "Bu problemin çözümü birden fazla bilgisayarın bir araya gelerek tek bir bilgisayar gibi hareket etmesidir. Yani bir işi yapmak için birden fazla bilgisayarın tek bir bilgisayar gibi davranmasıdır."
   ]
  },
  {
   "cell_type": "code",
   "execution_count": null,
   "id": "e7e0544e",
   "metadata": {},
   "outputs": [],
   "source": []
  },
  {
   "cell_type": "markdown",
   "id": "339822c7",
   "metadata": {},
   "source": [
    "Büyük veri, çok farklı türlerdedir. metin formatında, video formatında, nümerik anlamda formatlarda olması, başka türlü formatlarda olması gibi büyük veri ortamları bize bu tür farklı tiplerdeki ve çok büyük boyutlardaki veriyi saklama üzerinde işlemler yapabilme makine öğrenmesi tekniklerini işletebilme imkanı sunmuştur. Bu problemi ortadan kaldırmak için bu sunma işlemini birden fazla bilgisayarın tek bir bilgisayar gibi davranarak sağlamıştır."
   ]
  },
  {
   "cell_type": "code",
   "execution_count": null,
   "id": "74108f9b",
   "metadata": {},
   "outputs": [],
   "source": []
  },
  {
   "cell_type": "markdown",
   "id": "4d988711",
   "metadata": {},
   "source": [
    "# Bu Problemin Çözülmesi Bize Ne Kazandırdı?\n",
    "\n",
    "Veri analitiği alanında yeni ufuklar açtı, hesaplama gücünün artmasıyla makine öğrenmesi algoritmalarının performansları arttı. Daha büyük miktar ve çeşitteki verilerin kullanılması ile veriden faydalı bilgi çıkarma süreci için çok önemli bir kaynak/araç sağlanmış oldu."
   ]
  },
  {
   "cell_type": "code",
   "execution_count": null,
   "id": "ab3c1170",
   "metadata": {},
   "outputs": [],
   "source": []
  },
  {
   "cell_type": "markdown",
   "id": "a0763532",
   "metadata": {},
   "source": [
    "birden fazla bilgisayarın tek bir bilgisayar gibi davranması, donanım ve yazlım anlamında sağlanmaktadır."
   ]
  },
  {
   "cell_type": "code",
   "execution_count": null,
   "id": "ae70e825",
   "metadata": {},
   "outputs": [],
   "source": []
  },
  {
   "cell_type": "markdown",
   "id": "a5ff5e7e",
   "metadata": {},
   "source": [
    "# Pazarlama Dünyasında Algılanışı\n",
    "\n",
    "kısmen doğrudur fakat her şeyi bilen, gören ve yapan değil\n",
    "\n",
    "Tanrının Gözü: İnsanlara çocuğunu işetirken ürün önerisi yapmamalıyız\n",
    "\n",
    "dünyayı kurtaracak çözümlerin büyük veriyle geldiğinin sanılması yanlış\n",
    "\n",
    "dünyayı kurtaracak çözümler büyük veri, yapay zeka, istatistik, programlamayla gelmeyecek, analitik bakış açısı, sorgulayabilme, kritik yapabilme, insan davranışlarıyla şekillenen verilerin arka tarafındaki yapıların algoritmalarca açıklanabilirliğini ortaya koyarak bunlar çözülmüş olacak büyük veri tek başına bir sistemdir. bu insan olmadan analitik bir bakış açısı olmadan bir değerlendirme olmadan çözülemeyecektir.\n",
    "\n",
    "bir şirket 10 farklı veri kaynağından veriyi bir araya getirdiğinde şirketin büyük problemi çözülmüş olmayacak bu büyük verinin yapısal kısmının halledilmesi ve büyük veri analitiği devresine geçilmesinin yolunun açıldığını gösterir büyük veri fiziki bir framework sunar framework daha fazla ve çeşitli veriyle çalışabilmenin imkanını sunar veriden faydalı bilgi çıkarırız\n",
    "\n",
    "büyük veri, büyük veri zenginliği ve hesaplama performansı getirmiş olacak ama günün sonunda bu imkanlarıyla bizden her zamanki gibi veriden faydalı bilgi çıkarma analitik düşünce becerilerimizi sergilememiz gerekir"
   ]
  },
  {
   "cell_type": "code",
   "execution_count": null,
   "id": "bda876b8",
   "metadata": {},
   "outputs": [],
   "source": []
  },
  {
   "cell_type": "markdown",
   "id": "efa65220",
   "metadata": {},
   "source": [
    "# Büyük Veri Bir Problemdi ve Çözüldü\n",
    "\n",
    "Bir gün elektrik ve suyun varlığını tartışmıyor olduğumuz gibi verinin büyüklüğünü ve bu veriyi işlemenin zorluklarını da tartışmıyor olacağız"
   ]
  },
  {
   "cell_type": "markdown",
   "id": "1d93fa45",
   "metadata": {},
   "source": [
    "Büyük veri büyük nimettir! Büyük veri, veri odaklı çalışanlar için çok büyük bir zenginlik, yeni keşifler için zemin ve dünyaya veri penceresinden olan bakış açımızı değiştiren bir vizyondur."
   ]
  },
  {
   "cell_type": "code",
   "execution_count": null,
   "id": "32cad6ae",
   "metadata": {},
   "outputs": [],
   "source": []
  },
  {
   "cell_type": "markdown",
   "id": "56642962",
   "metadata": {},
   "source": [
    "# Büyük Verinin Bileşenleri\n",
    "\n",
    "* Ortaya çıkan veri işleme güçlüğü verinin hacmi, çeşitliliği ve hızı ile alakalıdır.\n",
    "* Büyük veriyi ifade eden özellikler hacim, çeşitlilik ve hızdır.\n",
    "* **Çok yaygın bir yanılgı bu özelliklerin birlikte olduğunda ancak veriye büyük veri denilebileceği**\n",
    "* büyük veri araçları veriden faydalı bilgi çıkarma süreçleri için çok güçlü bir **araçtır.**"
   ]
  },
  {
   "cell_type": "code",
   "execution_count": null,
   "id": "1f89b3e9",
   "metadata": {},
   "outputs": [],
   "source": []
  },
  {
   "cell_type": "markdown",
   "id": "779a05f4",
   "metadata": {},
   "source": [
    "elimizdeki veri 1 milyar gözlem olsun ve 1 milyon değişkenden oluşsun büyüktür ve işleme güçlüğü olacaktır. bir veriye büyük veri demek için illaki  özelliklerin hepsinin olması gerekmez bunu ilişkisel veri tabanında tutamıyorsak bu büyük veridir.\n",
    "\n",
    "geleneksel yöntemlerle işlenemeyen veri MySQL gibi ilişkisel veri tabanında tutamıyorsak bu büyük veridir."
   ]
  },
  {
   "cell_type": "code",
   "execution_count": null,
   "id": "18ef650f",
   "metadata": {},
   "outputs": [],
   "source": []
  },
  {
   "cell_type": "code",
   "execution_count": null,
   "id": "7d6d73cf",
   "metadata": {},
   "outputs": [],
   "source": []
  },
  {
   "cell_type": "code",
   "execution_count": null,
   "id": "a6cd1c83",
   "metadata": {},
   "outputs": [],
   "source": []
  }
 ],
 "metadata": {
  "kernelspec": {
   "display_name": "Python 3 (ipykernel)",
   "language": "python",
   "name": "python3"
  },
  "language_info": {
   "codemirror_mode": {
    "name": "ipython",
    "version": 3
   },
   "file_extension": ".py",
   "mimetype": "text/x-python",
   "name": "python",
   "nbconvert_exporter": "python",
   "pygments_lexer": "ipython3",
   "version": "3.11.4"
  }
 },
 "nbformat": 4,
 "nbformat_minor": 5
}
