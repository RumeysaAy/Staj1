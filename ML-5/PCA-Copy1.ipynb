{
 "cells": [
  {
   "cell_type": "markdown",
   "id": "d7137e4c-236d-44f0-bce5-e67739b54654",
   "metadata": {},
   "source": [
    "# Temel Bileşen Analizi (PCA)\n",
    "\n",
    "Temel fikir, çok değişkenli verinin ana özelliklerini daha az sayıda değişken/bileşen ile temsil etmektir.\n",
    "\n",
    "Diğer bir ifade ile: küçük miktarda bir bilgi kaybını göze alıp değişken boyutunu azaltmaktır."
   ]
  },
  {
   "cell_type": "markdown",
   "id": "1926727d-41f0-404b-87c9-d514aacc4b09",
   "metadata": {},
   "source": [
    "Doğrusal regresyon ve kuzenleri bölümünde de PCA vardı. "
   ]
  },
  {
   "cell_type": "markdown",
   "id": "f330bdd6-ec76-45b5-99a1-84f8a67169c5",
   "metadata": {},
   "source": [
    "bağımsız değişkenlerin içerisindeki bilgileri indirgediği için modelleme anlamında bir nedensellik kaybı olmasından dolayı modelleme anlamında tercih edilmez. \n",
    "\n",
    "neden sonuç bağlamında bir bağlantı aranmadığında PCA kullanılır ve başarılı sonuçlar elde edilebilir. "
   ]
  },
  {
   "cell_type": "markdown",
   "id": "fcfcfff1-983c-4656-96ae-33e7e35f6a0c",
   "metadata": {},
   "source": [
    "oluşabilecek bilgi kaybı görece hata ve gürültü ile kıyaslanabilir ve küçük düzeyde olması gerekir.\n",
    "\n",
    "bilgi kaybı veri seti içerisindeki toplam değişkenliktir. bu indirgeme işlemi sonrasında bu toplam değişkenlikten çok fazla bir şey kaybetmemeye çalışırız.ana özellikleri/değişkenliği muhafaza etmeye çalışırız.\n",
    "\n",
    "veri içerisindeki varyansın büyük bir kısmı veri seti içerisindeki değişken sayısından daha az sayıda değişken ile yani bileşenle ifade edilmeye çalışılır\n",
    "\n",
    "bu oluşan bileşenler arasında korelasyon yoktur.\n",
    "\n",
    "değişken gruplarının varyanslarını ifade eden öz değerler ile veri setindeki değişkenler gruplandırılır. gruplar arasında en fazla varyansa sahip gruplar en önemli gruplardır. bunlar asal bileşenlerdir."
   ]
  },
  {
   "cell_type": "code",
   "execution_count": null,
   "id": "4189284f-bab9-4e1c-9e0d-aeafdb86b5d1",
   "metadata": {},
   "outputs": [],
   "source": []
  },
  {
   "cell_type": "code",
   "execution_count": null,
   "id": "9261722a-eadf-429f-bc9e-f86c6fa3625a",
   "metadata": {},
   "outputs": [],
   "source": []
  },
  {
   "cell_type": "code",
   "execution_count": null,
   "id": "2194f493-fb05-4f37-84aa-bc8dde9cad0b",
   "metadata": {},
   "outputs": [],
   "source": []
  },
  {
   "cell_type": "markdown",
   "id": "765b9e2a-8a72-4fa1-a6cf-2cbe571e5fd5",
   "metadata": {},
   "source": [
    "# Temel Bileşen Analizi (PCA) - Uygulama"
   ]
  },
  {
   "cell_type": "code",
   "execution_count": null,
   "id": "7b749dbb-293e-4b3d-9810-6f7c87c43b10",
   "metadata": {},
   "outputs": [],
   "source": []
  },
  {
   "cell_type": "code",
   "execution_count": 18,
   "id": "bbe8b38b-f2b5-403e-9b37-1c7524b07396",
   "metadata": {
    "tags": []
   },
   "outputs": [],
   "source": [
    "import pandas as pd"
   ]
  },
  {
   "cell_type": "code",
   "execution_count": 19,
   "id": "6d4ba81b-74e3-47d9-9382-6712c9129db1",
   "metadata": {
    "tags": []
   },
   "outputs": [],
   "source": [
    "df = pd.read_csv(\"USArrests.csv\") # verileri aldım"
   ]
  },
  {
   "cell_type": "code",
   "execution_count": 20,
   "id": "386f4c13-4a92-4ee0-9160-caea9053564f",
   "metadata": {
    "tags": []
   },
   "outputs": [],
   "source": [
    "df = df.copy()"
   ]
  },
  {
   "cell_type": "code",
   "execution_count": 21,
   "id": "336c8d77-224d-41ae-88ec-8a58b70cf4a4",
   "metadata": {
    "tags": []
   },
   "outputs": [],
   "source": [
    "df.index = df.iloc[:, 0] # 0. sütundaki değerleri indeks olarak atadım\n",
    "df = df.iloc[:, 1:5] # 0. sütunu df'den kaldırmış oldum"
   ]
  },
  {
   "cell_type": "code",
   "execution_count": 22,
   "id": "35b119fc-f92f-4ab7-9b23-10c769a9f5e6",
   "metadata": {
    "tags": []
   },
   "outputs": [
    {
     "data": {
      "text/html": [
       "<div>\n",
       "<style scoped>\n",
       "    .dataframe tbody tr th:only-of-type {\n",
       "        vertical-align: middle;\n",
       "    }\n",
       "\n",
       "    .dataframe tbody tr th {\n",
       "        vertical-align: top;\n",
       "    }\n",
       "\n",
       "    .dataframe thead th {\n",
       "        text-align: right;\n",
       "    }\n",
       "</style>\n",
       "<table border=\"1\" class=\"dataframe\">\n",
       "  <thead>\n",
       "    <tr style=\"text-align: right;\">\n",
       "      <th></th>\n",
       "      <th>Murder</th>\n",
       "      <th>Assault</th>\n",
       "      <th>UrbanPop</th>\n",
       "      <th>Rape</th>\n",
       "    </tr>\n",
       "    <tr>\n",
       "      <th>Unnamed: 0</th>\n",
       "      <th></th>\n",
       "      <th></th>\n",
       "      <th></th>\n",
       "      <th></th>\n",
       "    </tr>\n",
       "  </thead>\n",
       "  <tbody>\n",
       "    <tr>\n",
       "      <th>Alabama</th>\n",
       "      <td>13.2</td>\n",
       "      <td>236</td>\n",
       "      <td>58</td>\n",
       "      <td>21.2</td>\n",
       "    </tr>\n",
       "    <tr>\n",
       "      <th>Alaska</th>\n",
       "      <td>10.0</td>\n",
       "      <td>263</td>\n",
       "      <td>48</td>\n",
       "      <td>44.5</td>\n",
       "    </tr>\n",
       "    <tr>\n",
       "      <th>Arizona</th>\n",
       "      <td>8.1</td>\n",
       "      <td>294</td>\n",
       "      <td>80</td>\n",
       "      <td>31.0</td>\n",
       "    </tr>\n",
       "    <tr>\n",
       "      <th>Arkansas</th>\n",
       "      <td>8.8</td>\n",
       "      <td>190</td>\n",
       "      <td>50</td>\n",
       "      <td>19.5</td>\n",
       "    </tr>\n",
       "    <tr>\n",
       "      <th>California</th>\n",
       "      <td>9.0</td>\n",
       "      <td>276</td>\n",
       "      <td>91</td>\n",
       "      <td>40.6</td>\n",
       "    </tr>\n",
       "  </tbody>\n",
       "</table>\n",
       "</div>"
      ],
      "text/plain": [
       "            Murder  Assault  UrbanPop  Rape\n",
       "Unnamed: 0                                 \n",
       "Alabama       13.2      236        58  21.2\n",
       "Alaska        10.0      263        48  44.5\n",
       "Arizona        8.1      294        80  31.0\n",
       "Arkansas       8.8      190        50  19.5\n",
       "California     9.0      276        91  40.6"
      ]
     },
     "execution_count": 22,
     "metadata": {},
     "output_type": "execute_result"
    }
   ],
   "source": [
    "df.head()"
   ]
  },
  {
   "cell_type": "code",
   "execution_count": 23,
   "id": "63b89093-4cf0-4eaa-a2d9-27b2490e6942",
   "metadata": {
    "tags": []
   },
   "outputs": [],
   "source": [
    "# indeks sütun ismini sildim\n",
    "df.index.name = None "
   ]
  },
  {
   "cell_type": "code",
   "execution_count": 24,
   "id": "63e551d0-0b66-4bcc-90f0-90557caec210",
   "metadata": {
    "tags": []
   },
   "outputs": [
    {
     "data": {
      "text/html": [
       "<div>\n",
       "<style scoped>\n",
       "    .dataframe tbody tr th:only-of-type {\n",
       "        vertical-align: middle;\n",
       "    }\n",
       "\n",
       "    .dataframe tbody tr th {\n",
       "        vertical-align: top;\n",
       "    }\n",
       "\n",
       "    .dataframe thead th {\n",
       "        text-align: right;\n",
       "    }\n",
       "</style>\n",
       "<table border=\"1\" class=\"dataframe\">\n",
       "  <thead>\n",
       "    <tr style=\"text-align: right;\">\n",
       "      <th></th>\n",
       "      <th>Murder</th>\n",
       "      <th>Assault</th>\n",
       "      <th>UrbanPop</th>\n",
       "      <th>Rape</th>\n",
       "    </tr>\n",
       "  </thead>\n",
       "  <tbody>\n",
       "    <tr>\n",
       "      <th>Alabama</th>\n",
       "      <td>13.2</td>\n",
       "      <td>236</td>\n",
       "      <td>58</td>\n",
       "      <td>21.2</td>\n",
       "    </tr>\n",
       "    <tr>\n",
       "      <th>Alaska</th>\n",
       "      <td>10.0</td>\n",
       "      <td>263</td>\n",
       "      <td>48</td>\n",
       "      <td>44.5</td>\n",
       "    </tr>\n",
       "    <tr>\n",
       "      <th>Arizona</th>\n",
       "      <td>8.1</td>\n",
       "      <td>294</td>\n",
       "      <td>80</td>\n",
       "      <td>31.0</td>\n",
       "    </tr>\n",
       "    <tr>\n",
       "      <th>Arkansas</th>\n",
       "      <td>8.8</td>\n",
       "      <td>190</td>\n",
       "      <td>50</td>\n",
       "      <td>19.5</td>\n",
       "    </tr>\n",
       "    <tr>\n",
       "      <th>California</th>\n",
       "      <td>9.0</td>\n",
       "      <td>276</td>\n",
       "      <td>91</td>\n",
       "      <td>40.6</td>\n",
       "    </tr>\n",
       "  </tbody>\n",
       "</table>\n",
       "</div>"
      ],
      "text/plain": [
       "            Murder  Assault  UrbanPop  Rape\n",
       "Alabama       13.2      236        58  21.2\n",
       "Alaska        10.0      263        48  44.5\n",
       "Arizona        8.1      294        80  31.0\n",
       "Arkansas       8.8      190        50  19.5\n",
       "California     9.0      276        91  40.6"
      ]
     },
     "execution_count": 24,
     "metadata": {},
     "output_type": "execute_result"
    }
   ],
   "source": [
    "df.head()"
   ]
  },
  {
   "cell_type": "markdown",
   "id": "b8d29153-a94e-44a5-9cf4-fc3c3ee53393",
   "metadata": {},
   "source": [
    "temel bileşen analizini uygulayabilmek için önce bir değişkenleri standartlaştırma işlemi yapmak gerekmektedir."
   ]
  },
  {
   "cell_type": "code",
   "execution_count": 8,
   "id": "6def498c-279b-430f-8f26-cec7800f8b7c",
   "metadata": {
    "tags": []
   },
   "outputs": [
    {
     "data": {
      "text/plain": [
       "array([[ 1.25517927,  0.79078716, -0.52619514, -0.00345116],\n",
       "       [ 0.51301858,  1.11805959, -1.22406668,  2.50942392],\n",
       "       [ 0.07236067,  1.49381682,  1.00912225,  1.05346626],\n",
       "       [ 0.23470832,  0.23321191, -1.08449238, -0.18679398],\n",
       "       [ 0.28109336,  1.2756352 ,  1.77678094,  2.08881393]])"
      ]
     },
     "execution_count": 8,
     "metadata": {},
     "output_type": "execute_result"
    }
   ],
   "source": [
    "from sklearn.preprocessing import StandardScaler\n",
    "\n",
    "# df'i standartlaştıracağız\n",
    "df = StandardScaler().fit_transform(df)\n",
    "df[:5, 0:5]"
   ]
  },
  {
   "cell_type": "code",
   "execution_count": 9,
   "id": "9e32ac3f-c240-4406-83f2-7738df597245",
   "metadata": {},
   "outputs": [],
   "source": [
    "# veri setine PCA'i uygulayalım \n",
    "# ve bunun sonucunda 2 bileşen üzerinden bir gözlem yapmaya çalışalım"
   ]
  },
  {
   "cell_type": "code",
   "execution_count": 10,
   "id": "6fa3ebfd-5e67-40f5-99ce-1ad678d57665",
   "metadata": {
    "tags": []
   },
   "outputs": [],
   "source": [
    "from sklearn.decomposition import PCA\n",
    "\n",
    "pca = PCA(n_components = 2) # 2 bileşenli bir model nesnesi oluşturdum\n",
    "pca_fit = pca.fit_transform(df) # modeli kurdum"
   ]
  },
  {
   "cell_type": "code",
   "execution_count": 11,
   "id": "d788c9d5-7b52-41dd-8d7d-ba2ce2571750",
   "metadata": {
    "tags": []
   },
   "outputs": [
    {
     "data": {
      "text/html": [
       "<div>\n",
       "<style scoped>\n",
       "    .dataframe tbody tr th:only-of-type {\n",
       "        vertical-align: middle;\n",
       "    }\n",
       "\n",
       "    .dataframe tbody tr th {\n",
       "        vertical-align: top;\n",
       "    }\n",
       "\n",
       "    .dataframe thead th {\n",
       "        text-align: right;\n",
       "    }\n",
       "</style>\n",
       "<table border=\"1\" class=\"dataframe\">\n",
       "  <thead>\n",
       "    <tr style=\"text-align: right;\">\n",
       "      <th></th>\n",
       "      <th>birinci_bilesen</th>\n",
       "      <th>ikinci_bilesen</th>\n",
       "    </tr>\n",
       "  </thead>\n",
       "  <tbody>\n",
       "    <tr>\n",
       "      <th>0</th>\n",
       "      <td>0.985566</td>\n",
       "      <td>1.133392</td>\n",
       "    </tr>\n",
       "    <tr>\n",
       "      <th>1</th>\n",
       "      <td>1.950138</td>\n",
       "      <td>1.073213</td>\n",
       "    </tr>\n",
       "    <tr>\n",
       "      <th>2</th>\n",
       "      <td>1.763164</td>\n",
       "      <td>-0.745957</td>\n",
       "    </tr>\n",
       "    <tr>\n",
       "      <th>3</th>\n",
       "      <td>-0.141420</td>\n",
       "      <td>1.119797</td>\n",
       "    </tr>\n",
       "    <tr>\n",
       "      <th>4</th>\n",
       "      <td>2.523980</td>\n",
       "      <td>-1.542934</td>\n",
       "    </tr>\n",
       "  </tbody>\n",
       "</table>\n",
       "</div>"
      ],
      "text/plain": [
       "   birinci_bilesen  ikinci_bilesen\n",
       "0         0.985566        1.133392\n",
       "1         1.950138        1.073213\n",
       "2         1.763164       -0.745957\n",
       "3        -0.141420        1.119797\n",
       "4         2.523980       -1.542934"
      ]
     },
     "execution_count": 11,
     "metadata": {},
     "output_type": "execute_result"
    }
   ],
   "source": [
    "# bu iki bileşeni isimlendirelim\n",
    "bilesen_df = pd.DataFrame(data = pca_fit,\n",
    "                          columns = [\"birinci_bilesen\",\"ikinci_bilesen\"])\n",
    "bilesen_df.head()"
   ]
  },
  {
   "cell_type": "markdown",
   "id": "94d9a0bf-eafd-4361-a73e-e8c07e6df609",
   "metadata": {},
   "source": [
    "önceden 4 tane değişken vardı. bu 4 değişkeni 2 bileşenle temsil etmiş oluyoruz.\n",
    "\n",
    "Bu bileşenlerin gerçek veri setinin taşıdığı bilginin ne kadarını taşıdığı, ne kadarını temsil ettiği bilgisine erişmek istersek  "
   ]
  },
  {
   "cell_type": "code",
   "execution_count": 12,
   "id": "9d42d6d4-12f5-486e-94a0-feea3c283865",
   "metadata": {
    "tags": []
   },
   "outputs": [
    {
     "data": {
      "text/plain": [
       "array([0.62006039, 0.24744129])"
      ]
     },
     "execution_count": 12,
     "metadata": {},
     "output_type": "execute_result"
    }
   ],
   "source": [
    "# açıklanan varyans oranı\n",
    "pca.explained_variance_ratio_"
   ]
  },
  {
   "cell_type": "markdown",
   "id": "616e9cb4-564d-4ed3-afd4-7b10197dfce4",
   "metadata": {},
   "source": [
    "bileşelerin açıkladığı varyans değerleri:\n",
    "* birinci_bilesen'in ana veri setinin yapısındaki varyansı değişkenliği açıklama oranı 0.62'dir.\n",
    "* ikinci_bilesen'in ise bu varyansı açıklama oranı 0.24'tür.\n",
    "* ikisini topladığımızda yaklaşık olarak 0.86 gibi bir değerdir. bu da veri setinin içerisindeki değişkenliğin bu iki bileşence yaklaşık %86'sının temsil edildiği görülmektedir."
   ]
  },
  {
   "cell_type": "markdown",
   "id": "2b511704-adcd-43bb-adb1-a243da066761",
   "metadata": {},
   "source": [
    "1000 tane değişken olsun ve bu bir görüntü işleme problemi veya nümerik modelleme olsun. bu veri setinin içerisindeki bilgiyi %85-%95 temsil edecek şekilde veri seti 2 bileşene indirgenebilir."
   ]
  },
  {
   "cell_type": "code",
   "execution_count": null,
   "id": "8943ec50-3011-4409-873d-d3a4042e359a",
   "metadata": {},
   "outputs": [],
   "source": []
  },
  {
   "cell_type": "code",
   "execution_count": null,
   "id": "9c2f62e7-9f88-44cc-9482-047c36291483",
   "metadata": {},
   "outputs": [],
   "source": []
  },
  {
   "cell_type": "code",
   "execution_count": null,
   "id": "07f80ecf-b38e-454b-8de9-5f69d70d92b6",
   "metadata": {},
   "outputs": [],
   "source": []
  },
  {
   "cell_type": "code",
   "execution_count": null,
   "id": "18c88ac0-4663-42c3-a1f7-f73b6e9e4440",
   "metadata": {},
   "outputs": [],
   "source": []
  },
  {
   "cell_type": "markdown",
   "id": "9512cec4-f799-40c4-adca-33b667a9f175",
   "metadata": {},
   "source": [
    "3 bileşene indirgersek:"
   ]
  },
  {
   "cell_type": "code",
   "execution_count": 13,
   "id": "e4d18aba-ff44-4489-8138-a71db7a7c4a5",
   "metadata": {
    "tags": []
   },
   "outputs": [],
   "source": [
    "from sklearn.decomposition import PCA\n",
    "\n",
    "pca = PCA(n_components = 3) # 3 bileşenli bir model nesnesi oluşturdum\n",
    "pca_fit = pca.fit_transform(df) # modeli kurdum"
   ]
  },
  {
   "cell_type": "code",
   "execution_count": 14,
   "id": "82d7daa4-a2a8-43c2-8163-ba1d7e33af6d",
   "metadata": {
    "tags": []
   },
   "outputs": [
    {
     "data": {
      "text/html": [
       "<div>\n",
       "<style scoped>\n",
       "    .dataframe tbody tr th:only-of-type {\n",
       "        vertical-align: middle;\n",
       "    }\n",
       "\n",
       "    .dataframe tbody tr th {\n",
       "        vertical-align: top;\n",
       "    }\n",
       "\n",
       "    .dataframe thead th {\n",
       "        text-align: right;\n",
       "    }\n",
       "</style>\n",
       "<table border=\"1\" class=\"dataframe\">\n",
       "  <thead>\n",
       "    <tr style=\"text-align: right;\">\n",
       "      <th></th>\n",
       "      <th>birinci_bilesen</th>\n",
       "      <th>ikinci_bilesen</th>\n",
       "      <th>ucuncu_bilesen</th>\n",
       "    </tr>\n",
       "  </thead>\n",
       "  <tbody>\n",
       "    <tr>\n",
       "      <th>0</th>\n",
       "      <td>0.985566</td>\n",
       "      <td>1.133392</td>\n",
       "      <td>-0.444269</td>\n",
       "    </tr>\n",
       "    <tr>\n",
       "      <th>1</th>\n",
       "      <td>1.950138</td>\n",
       "      <td>1.073213</td>\n",
       "      <td>2.040003</td>\n",
       "    </tr>\n",
       "    <tr>\n",
       "      <th>2</th>\n",
       "      <td>1.763164</td>\n",
       "      <td>-0.745957</td>\n",
       "      <td>0.054781</td>\n",
       "    </tr>\n",
       "    <tr>\n",
       "      <th>3</th>\n",
       "      <td>-0.141420</td>\n",
       "      <td>1.119797</td>\n",
       "      <td>0.114574</td>\n",
       "    </tr>\n",
       "    <tr>\n",
       "      <th>4</th>\n",
       "      <td>2.523980</td>\n",
       "      <td>-1.542934</td>\n",
       "      <td>0.598557</td>\n",
       "    </tr>\n",
       "  </tbody>\n",
       "</table>\n",
       "</div>"
      ],
      "text/plain": [
       "   birinci_bilesen  ikinci_bilesen  ucuncu_bilesen\n",
       "0         0.985566        1.133392       -0.444269\n",
       "1         1.950138        1.073213        2.040003\n",
       "2         1.763164       -0.745957        0.054781\n",
       "3        -0.141420        1.119797        0.114574\n",
       "4         2.523980       -1.542934        0.598557"
      ]
     },
     "execution_count": 14,
     "metadata": {},
     "output_type": "execute_result"
    }
   ],
   "source": [
    "# bu iki bileşeni isimlendirelim\n",
    "bilesen_df = pd.DataFrame(data = pca_fit,\n",
    "                          columns = [\"birinci_bilesen\",\"ikinci_bilesen\",\"ucuncu_bilesen\"])\n",
    "bilesen_df.head()"
   ]
  },
  {
   "cell_type": "code",
   "execution_count": 15,
   "id": "7da28af6-d36d-4090-800c-6edb1108f47b",
   "metadata": {
    "tags": []
   },
   "outputs": [
    {
     "data": {
      "text/plain": [
       "array([0.62006039, 0.24744129, 0.0891408 ])"
      ]
     },
     "execution_count": 15,
     "metadata": {},
     "output_type": "execute_result"
    }
   ],
   "source": [
    "# açıklanan varyans oranı\n",
    "pca.explained_variance_ratio_"
   ]
  },
  {
   "cell_type": "markdown",
   "id": "0cad2067-bdce-4d55-b5be-612d7ccc04f6",
   "metadata": {},
   "source": [
    "varyans oranlarının düştüğü gözlemlenmektedir. dolayısıyla genelde çalışmalarda 2 bileşen, 3 bileşen mevcut değişkenliği açıklamak için yetiyor olacaktır.\n",
    "\n",
    "kabul edilebilir bir hata miktarı kelimesinin karşılık geldiği yer burasıdır. belirli bir hata miktarını göze alıp veri setinin içerisindeki karmaşık yapıları daha basitçe özetlemek temsil etmek işlemi bu şekilde gerçekleşmiş oluyor."
   ]
  },
  {
   "cell_type": "code",
   "execution_count": null,
   "id": "d03e8733-22c2-411c-b364-35ef4554db37",
   "metadata": {},
   "outputs": [],
   "source": []
  },
  {
   "cell_type": "code",
   "execution_count": 16,
   "id": "e37d5a61-7ac5-40ca-ac6b-da5a15532dd3",
   "metadata": {
    "collapsed": true,
    "jupyter": {
     "outputs_hidden": true
    },
    "tags": []
   },
   "outputs": [
    {
     "name": "stderr",
     "output_type": "stream",
     "text": [
      "/Users/rumeysaay/anaconda3/lib/python3.11/site-packages/sklearn/cluster/_kmeans.py:1416: FutureWarning: The default value of `n_init` will change from 10 to 'auto' in 1.4. Set the value of `n_init` explicitly to suppress the warning\n",
      "  super()._check_params_vs_input(X, default_n_init=10)\n"
     ]
    },
    {
     "ename": "AttributeError",
     "evalue": "'numpy.ndarray' object has no attribute 'index'",
     "output_type": "error",
     "traceback": [
      "\u001b[0;31m---------------------------------------------------------------------------\u001b[0m",
      "\u001b[0;31mAttributeError\u001b[0m                            Traceback (most recent call last)",
      "Cell \u001b[0;32mIn[16], line 5\u001b[0m\n\u001b[1;32m      3\u001b[0m k_fit \u001b[38;5;241m=\u001b[39m kmeans\u001b[38;5;241m.\u001b[39mfit(bilesen_df)\n\u001b[1;32m      4\u001b[0m kumeler \u001b[38;5;241m=\u001b[39m k_fit\u001b[38;5;241m.\u001b[39mlabels_\n\u001b[0;32m----> 5\u001b[0m pd\u001b[38;5;241m.\u001b[39mDataFrame({\u001b[38;5;124m\"\u001b[39m\u001b[38;5;124mEyaletler\u001b[39m\u001b[38;5;124m\"\u001b[39m:df\u001b[38;5;241m.\u001b[39mindex, \u001b[38;5;124m\"\u001b[39m\u001b[38;5;124mKumeler\u001b[39m\u001b[38;5;124m\"\u001b[39m:kumeler})[:\u001b[38;5;241m10\u001b[39m]\n",
      "\u001b[0;31mAttributeError\u001b[0m: 'numpy.ndarray' object has no attribute 'index'"
     ]
    }
   ],
   "source": [
    "from sklearn.cluster import KMeans\n",
    "kmeans = KMeans()\n",
    "k_fit = kmeans.fit(bilesen_df)\n",
    "kumeler = k_fit.labels_"
   ]
  },
  {
   "cell_type": "code",
   "execution_count": 25,
   "id": "a2ddb84b-f109-4aae-85a3-e430f00f331c",
   "metadata": {},
   "outputs": [
    {
     "data": {
      "text/html": [
       "<div>\n",
       "<style scoped>\n",
       "    .dataframe tbody tr th:only-of-type {\n",
       "        vertical-align: middle;\n",
       "    }\n",
       "\n",
       "    .dataframe tbody tr th {\n",
       "        vertical-align: top;\n",
       "    }\n",
       "\n",
       "    .dataframe thead th {\n",
       "        text-align: right;\n",
       "    }\n",
       "</style>\n",
       "<table border=\"1\" class=\"dataframe\">\n",
       "  <thead>\n",
       "    <tr style=\"text-align: right;\">\n",
       "      <th></th>\n",
       "      <th>Eyaletler</th>\n",
       "      <th>Kumeler</th>\n",
       "    </tr>\n",
       "  </thead>\n",
       "  <tbody>\n",
       "    <tr>\n",
       "      <th>0</th>\n",
       "      <td>Alabama</td>\n",
       "      <td>1</td>\n",
       "    </tr>\n",
       "    <tr>\n",
       "      <th>1</th>\n",
       "      <td>Alaska</td>\n",
       "      <td>7</td>\n",
       "    </tr>\n",
       "    <tr>\n",
       "      <th>2</th>\n",
       "      <td>Arizona</td>\n",
       "      <td>3</td>\n",
       "    </tr>\n",
       "    <tr>\n",
       "      <th>3</th>\n",
       "      <td>Arkansas</td>\n",
       "      <td>4</td>\n",
       "    </tr>\n",
       "    <tr>\n",
       "      <th>4</th>\n",
       "      <td>California</td>\n",
       "      <td>6</td>\n",
       "    </tr>\n",
       "    <tr>\n",
       "      <th>5</th>\n",
       "      <td>Colorado</td>\n",
       "      <td>6</td>\n",
       "    </tr>\n",
       "    <tr>\n",
       "      <th>6</th>\n",
       "      <td>Connecticut</td>\n",
       "      <td>2</td>\n",
       "    </tr>\n",
       "    <tr>\n",
       "      <th>7</th>\n",
       "      <td>Delaware</td>\n",
       "      <td>4</td>\n",
       "    </tr>\n",
       "    <tr>\n",
       "      <th>8</th>\n",
       "      <td>Florida</td>\n",
       "      <td>3</td>\n",
       "    </tr>\n",
       "    <tr>\n",
       "      <th>9</th>\n",
       "      <td>Georgia</td>\n",
       "      <td>1</td>\n",
       "    </tr>\n",
       "  </tbody>\n",
       "</table>\n",
       "</div>"
      ],
      "text/plain": [
       "     Eyaletler  Kumeler\n",
       "0      Alabama        1\n",
       "1       Alaska        7\n",
       "2      Arizona        3\n",
       "3     Arkansas        4\n",
       "4   California        6\n",
       "5     Colorado        6\n",
       "6  Connecticut        2\n",
       "7     Delaware        4\n",
       "8      Florida        3\n",
       "9      Georgia        1"
      ]
     },
     "execution_count": 25,
     "metadata": {},
     "output_type": "execute_result"
    }
   ],
   "source": [
    "pd.DataFrame({\"Eyaletler\":df.index, \"Kumeler\":kumeler})[:10]"
   ]
  },
  {
   "cell_type": "code",
   "execution_count": null,
   "id": "9a20ad93-885c-4196-a738-610211edf65b",
   "metadata": {},
   "outputs": [],
   "source": []
  },
  {
   "cell_type": "code",
   "execution_count": null,
   "id": "f88add9e-7ad7-4d0d-9c51-76157998c064",
   "metadata": {},
   "outputs": [],
   "source": []
  },
  {
   "cell_type": "markdown",
   "id": "233b180e-8fb9-4623-80a1-3e76ccf63095",
   "metadata": {},
   "source": [
    "15-20 tane değişken olsun ve açıklanan varyans oranının değişimine göre bileşen sayısını nasıl seçebileceğimizi ele alalım:"
   ]
  },
  {
   "cell_type": "code",
   "execution_count": null,
   "id": "46fe5b28-eabd-41b3-bb3d-8fb62bf6cc61",
   "metadata": {
    "tags": []
   },
   "outputs": [],
   "source": [
    "# bileşen sayısını belirtmeden bir model nesnesi oluşturdum\n",
    "pca = PCA().fit(df) # model kuruldu"
   ]
  },
  {
   "cell_type": "code",
   "execution_count": null,
   "id": "092e225b-34da-48ef-b35c-a583fbbc5b7b",
   "metadata": {
    "tags": []
   },
   "outputs": [],
   "source": [
    "import matplotlib.pyplot as plt\n",
    "import numpy as np\n",
    "# kümülatif sum fonk: cumsum\n",
    "plt.plot(np.cumsum(pca.explained_variance_ratio_));"
   ]
  },
  {
   "cell_type": "markdown",
   "id": "22c64a7a-5f65-4abb-addb-067c887d5616",
   "metadata": {},
   "source": [
    "bileşen sayısına karar vermek için bu grafik kullanılabilir. veri setinin içerisindeki değişkenliğin %94'ünü 3 bileşenle açıklayabiliyorum.\n",
    "\n",
    "0.0 da 1 tane bileşen vardır.\n",
    "\n",
    "4 değişkenli veri setini 3 bileşen ile ifade ettiğimde %94'ünü temsil etmiş oluyorum"
   ]
  },
  {
   "cell_type": "code",
   "execution_count": null,
   "id": "48fed1b4-ea6f-4c64-8409-aad590b79dfd",
   "metadata": {},
   "outputs": [],
   "source": []
  },
  {
   "cell_type": "code",
   "execution_count": null,
   "id": "f6894c23-259b-45e8-9067-773448d8973d",
   "metadata": {},
   "outputs": [],
   "source": []
  },
  {
   "cell_type": "code",
   "execution_count": null,
   "id": "670b195d-d2b7-4d45-8434-8b6bb31c177a",
   "metadata": {},
   "outputs": [],
   "source": []
  },
  {
   "cell_type": "code",
   "execution_count": null,
   "id": "7bee2797-11bb-4a36-a104-4d6a14d61523",
   "metadata": {},
   "outputs": [],
   "source": []
  },
  {
   "cell_type": "code",
   "execution_count": null,
   "id": "0bcce33f-5084-44c4-9e52-f838dea62776",
   "metadata": {},
   "outputs": [],
   "source": []
  },
  {
   "cell_type": "code",
   "execution_count": null,
   "id": "41f37a26-77dc-40cf-a016-8dca9e3e7752",
   "metadata": {},
   "outputs": [],
   "source": []
  },
  {
   "cell_type": "code",
   "execution_count": null,
   "id": "14f40f64-f562-40e2-9dff-5a381d6406f9",
   "metadata": {},
   "outputs": [],
   "source": []
  },
  {
   "cell_type": "code",
   "execution_count": null,
   "id": "e6da1115-8f63-444c-bf49-444b436caee7",
   "metadata": {},
   "outputs": [],
   "source": []
  },
  {
   "cell_type": "code",
   "execution_count": null,
   "id": "672e73f0-a124-49ca-9121-b0014674cf3f",
   "metadata": {},
   "outputs": [],
   "source": []
  }
 ],
 "metadata": {
  "kernelspec": {
   "display_name": "Python 3 (ipykernel)",
   "language": "python",
   "name": "python3"
  },
  "language_info": {
   "codemirror_mode": {
    "name": "ipython",
    "version": 3
   },
   "file_extension": ".py",
   "mimetype": "text/x-python",
   "name": "python",
   "nbconvert_exporter": "python",
   "pygments_lexer": "ipython3",
   "version": "3.11.4"
  }
 },
 "nbformat": 4,
 "nbformat_minor": 5
}
