{
 "cells": [
  {
   "cell_type": "markdown",
   "id": "0678a58d",
   "metadata": {},
   "source": [
    "# K-Means\n",
    "\n",
    "Amaç gözlemleri birbirlerine olan benzerliklerine göre kümelere ayırmaktır."
   ]
  },
  {
   "cell_type": "markdown",
   "id": "b6b10934",
   "metadata": {},
   "source": [
    "Bu aslında kümeleme yöntemlerinin genel amacıdır. şöyle ki kümeleme yöntemlerinde benzerlik matrislerini kullanarak çeşitli uzaklık hesaplamaları yaparak uzaklık metriklerini kullanarak gözlemler ya da değişkenler kümelenmeye çalışılmaktadır. "
   ]
  },
  {
   "cell_type": "markdown",
   "id": "27eee7ad-c82c-47ed-82aa-03b7dcf17e38",
   "metadata": {},
   "source": [
    "oluşturulmaya çalışılan kümelerin kendi içerisinde homojen birbirlerine göre ise heterojen olması istenir. Bu amaçlanır.\n",
    "\n",
    "öyleki ancak birbirine benzer olan gözlemler bir araya gelsin. bir arada dursun gibi bir hedef vardır. kümeleme yöntemleri hiyerarşik ve hiyerarşik olmayan kümeleme yöntemleri başlıkları altında incelenir.\n",
    "\n",
    "bu açıdan baktığımızda K-Means yöntemi bir hiyerarşik olmayan kümeleme yöntemidir. bu iki yaklaşımda da temel amacımız kümeler içi benzerliği yüksek, kümeler arası benzerliği düşük yapmaya çalışmaktır."
   ]
  },
  {
   "attachments": {
    "3f1c9cf5-eb62-4595-8265-8036dae7aed2.png": {
     "image/png": "[encoded data removed]"
    }
   },
   "cell_type": "markdown",
   "id": "9d129112-84cf-46a2-ba2d-f79d9e36f2e4",
   "metadata": {},
   "source": [
    "![k-means.png](attachment:3f1c9cf5-eb62-4595-8265-8036dae7aed2.png)"
   ]
  },
  {
   "cell_type": "markdown",
   "id": "753663ea-0168-4219-8457-e6505f85dc6e",
   "metadata": {},
   "source": [
    "K-Means uygulanmadan önce gözlem birimlerinin iki eksen üzerindeki dağılımı gösterilmiştir. Bunlara k-means uygulaması yapıldıktan sonra gözlem birimleri kendi içerisinde homojen birbirine benzer, kendileri arasında ise heterojen birbirinden biraz daha görece uzak olacak şekilde kümelere ayrılmış "
   ]
  },
  {
   "cell_type": "markdown",
   "id": "cb246b76-ff41-43ea-8cf9-2a4ce9b53cd0",
   "metadata": {},
   "source": [
    "K-Means aslında iş dünyasına bakan yönüyle gerçek hayata bakan yönüyle bir iş problemini çözme anlamında neye karşılık geldiğini düşünecek olursak burada daha çok elimizdeki gözlem birimlerini segmente etmek istediğimizde yani örneğin müşterilerimiz var bize bazı açılardan bu müşterilerin sağladığı katkılar, faydalar var. maddi anlamda ve prestij anlamında vs. işte örneğin biz iş gücümüzü bu müşterilerimizi ikiye bölüp bazılarında farklı bir şekilde hem pazarlama politikası hem ilgilenme ürün satma politikaları anlamında ilgilenmek istediğimizde bunu örneğin 50 tane müşterilerimiz olduğunda şu müşterilerimize böyle davranalım şu müşterilerimize böyle bir ürün tasarlayalım fakat müşteri sayısı arttığında gözlem birimi sayısı arttığında ve aynı zamanda bu müşterilerin değerlerini ifade eden ve göz önünde bulundurulacak olan değişken sayısı arttığında örneğin sitemizde geçirdikleri zaman, ürün satın almaları, kredi kartı harcamaları ve benzeri şekilde böyle 10'larca belki değişken olduğunda makine öğrenmesi modeli ile segmente ederiz kümelere ayırırız"
   ]
  },
  {
   "cell_type": "markdown",
   "id": "ebef1d94-b4ea-4728-976b-cda0d5384edc",
   "metadata": {},
   "source": [
    "## K-Means Adımları\n",
    "* _Adım 1_: Küme sayısı belirlenir.\n",
    "* _Adım 2_: Rastgele k merkez seçilir.\n",
    "* _Adım 3_: Her gözlem için k merkezlere uzaklıklar hesaplanır ve gözlemler kendisine en yakın k merkezine atanır.\n",
    "* _Adım 4_: Her gözlem en yakın olduğu merkeze yani kümeye atanır\n",
    "* _Adım 5_: Atama işlemlerinden sonra oluşan kümeler için tekrar merkez hesaplamaları yapılır.\n",
    "* _Adım 6_: Bu işlem belirlenen bir iterasyon adedince tekrar edilir ve küme içi hata kareler toplamlarının toplamının (total within-cluster variation) minimum olduğu durumdaki gözlemlerin kümelenme yapısı nihai kümelenme olarak seçilir."
   ]
  },
  {
   "cell_type": "markdown",
   "id": "6e3c22d7-a174-417d-acfb-c23830f0e502",
   "metadata": {},
   "source": [
    "gözlemler, kümeleme işlemi bitene kadar farklı kümelere girip çıkabilir. iyi bir k-means çıktısında kümeler içi yüksek, kümeler arası benzerlik düşük olmalıdır."
   ]
  },
  {
   "cell_type": "markdown",
   "id": "4f02c428-2317-4b84-bd78-87c5ac9c45bb",
   "metadata": {},
   "source": [
    "- rastgele merkezler oluşturulur. \n",
    "- oluşturulan bu merkezlere bütün gözlemlerin uzaklıkları hesaplanır.\n",
    "- kümelenir\n",
    "- tekrar merkezlere uzaklıkları hesaplanır.\n",
    "- kümelenir..."
   ]
  },
  {
   "cell_type": "markdown",
   "id": "75ed26f2-7466-4d71-a1b8-2475e22bcaf6",
   "metadata": {},
   "source": [
    "uzaklık metrikleri (öklid vs.) hesaplanıp uzaklıklar üzerinden kümeleme işlemleri gerçekleştirilir."
   ]
  },
  {
   "cell_type": "markdown",
   "id": "26fe486f-1102-40a2-b280-938974da8fd2",
   "metadata": {},
   "source": [
    "başlangıç noktasının seçilmesi problemi nasıl bu başlangıç noktası seçilecek problemi, k'nın  kaç olacağının belirlenmesi problemi"
   ]
  },
  {
   "cell_type": "code",
   "execution_count": null,
   "id": "84122e71-3386-437c-ad40-95ed1b010b05",
   "metadata": {},
   "outputs": [],
   "source": []
  },
  {
   "cell_type": "code",
   "execution_count": null,
   "id": "dda8e6b6-ba4e-431e-bb8f-7ea894f8b941",
   "metadata": {},
   "outputs": [],
   "source": []
  },
  {
   "cell_type": "markdown",
   "id": "9f27e44e-d019-4668-9f4f-0990a70d58c0",
   "metadata": {},
   "source": [
    "## K-Means - Segmentasyon Problemi"
   ]
  },
  {
   "cell_type": "code",
   "execution_count": 30,
   "id": "35a6b0fe-3cb3-451a-9781-d21c518e1678",
   "metadata": {
    "tags": []
   },
   "outputs": [],
   "source": [
    "# bilgilerin gözükmesi için\n",
    "from sklearn import set_config\n",
    "set_config(print_changed_only=False)"
   ]
  },
  {
   "cell_type": "code",
   "execution_count": 11,
   "id": "524f7002-9cd1-4814-931d-b40ebe35f295",
   "metadata": {
    "tags": []
   },
   "outputs": [],
   "source": [
    "# uyarıların gözükmemesi için\n",
    "from warnings import filterwarnings\n",
    "filterwarnings('ignore')"
   ]
  },
  {
   "cell_type": "code",
   "execution_count": 3,
   "id": "637e1b9e-6910-4ff6-aff8-b8ae0b58e964",
   "metadata": {
    "tags": []
   },
   "outputs": [],
   "source": [
    "import numpy as np\n",
    "import pandas as pd\n",
    "import seaborn as sns\n",
    "import matplotlib. pyplot as plt\n",
    "import scipy as sp\n",
    "from sklearn.cluster import KMeans"
   ]
  },
  {
   "cell_type": "markdown",
   "id": "5f66642d-6607-493c-9aeb-dbb6bcd680ea",
   "metadata": {},
   "source": [
    "Amerikadaki bazı eyaletleri çeşitli suç istatistiklerine göre kümelemek istiyoruz segmente etmek istiyoruz ve oluşturacak olduğumuz bu segmentlere göre bu eyaletlere bazı muamelelerde bulunacağız örneğin suçla ilgili bir yaptırım kararı, genel bir karar çıkarıp bunu eyaletlere göndereceğiz burada bu eyaletlerin meclislerinden de buna benzer kararlar yaptırımlar vs. alınmasını istiyoruz."
   ]
  },
  {
   "cell_type": "markdown",
   "id": "43ee1047-c297-4ccd-8c07-a3eed685d538",
   "metadata": {},
   "source": [
    "değişkenler verilir bu değişkenlerin etkileri göz önünde bulundurularak bu eyaletler segmente edilecek."
   ]
  },
  {
   "cell_type": "code",
   "execution_count": 4,
   "id": "4fe8169c-df3a-421f-9cd0-a4dbadc705e4",
   "metadata": {
    "tags": []
   },
   "outputs": [
    {
     "data": {
      "text/html": [
       "<div>\n",
       "<style scoped>\n",
       "    .dataframe tbody tr th:only-of-type {\n",
       "        vertical-align: middle;\n",
       "    }\n",
       "\n",
       "    .dataframe tbody tr th {\n",
       "        vertical-align: top;\n",
       "    }\n",
       "\n",
       "    .dataframe thead th {\n",
       "        text-align: right;\n",
       "    }\n",
       "</style>\n",
       "<table border=\"1\" class=\"dataframe\">\n",
       "  <thead>\n",
       "    <tr style=\"text-align: right;\">\n",
       "      <th></th>\n",
       "      <th>Unnamed: 0</th>\n",
       "      <th>Murder</th>\n",
       "      <th>Assault</th>\n",
       "      <th>UrbanPop</th>\n",
       "      <th>Rape</th>\n",
       "    </tr>\n",
       "  </thead>\n",
       "  <tbody>\n",
       "    <tr>\n",
       "      <th>0</th>\n",
       "      <td>Alabama</td>\n",
       "      <td>13.2</td>\n",
       "      <td>236</td>\n",
       "      <td>58</td>\n",
       "      <td>21.2</td>\n",
       "    </tr>\n",
       "    <tr>\n",
       "      <th>1</th>\n",
       "      <td>Alaska</td>\n",
       "      <td>10.0</td>\n",
       "      <td>263</td>\n",
       "      <td>48</td>\n",
       "      <td>44.5</td>\n",
       "    </tr>\n",
       "    <tr>\n",
       "      <th>2</th>\n",
       "      <td>Arizona</td>\n",
       "      <td>8.1</td>\n",
       "      <td>294</td>\n",
       "      <td>80</td>\n",
       "      <td>31.0</td>\n",
       "    </tr>\n",
       "    <tr>\n",
       "      <th>3</th>\n",
       "      <td>Arkansas</td>\n",
       "      <td>8.8</td>\n",
       "      <td>190</td>\n",
       "      <td>50</td>\n",
       "      <td>19.5</td>\n",
       "    </tr>\n",
       "    <tr>\n",
       "      <th>4</th>\n",
       "      <td>California</td>\n",
       "      <td>9.0</td>\n",
       "      <td>276</td>\n",
       "      <td>91</td>\n",
       "      <td>40.6</td>\n",
       "    </tr>\n",
       "    <tr>\n",
       "      <th>5</th>\n",
       "      <td>Colorado</td>\n",
       "      <td>7.9</td>\n",
       "      <td>204</td>\n",
       "      <td>78</td>\n",
       "      <td>38.7</td>\n",
       "    </tr>\n",
       "    <tr>\n",
       "      <th>6</th>\n",
       "      <td>Connecticut</td>\n",
       "      <td>3.3</td>\n",
       "      <td>110</td>\n",
       "      <td>77</td>\n",
       "      <td>11.1</td>\n",
       "    </tr>\n",
       "    <tr>\n",
       "      <th>7</th>\n",
       "      <td>Delaware</td>\n",
       "      <td>5.9</td>\n",
       "      <td>238</td>\n",
       "      <td>72</td>\n",
       "      <td>15.8</td>\n",
       "    </tr>\n",
       "    <tr>\n",
       "      <th>8</th>\n",
       "      <td>Florida</td>\n",
       "      <td>15.4</td>\n",
       "      <td>335</td>\n",
       "      <td>80</td>\n",
       "      <td>31.9</td>\n",
       "    </tr>\n",
       "    <tr>\n",
       "      <th>9</th>\n",
       "      <td>Georgia</td>\n",
       "      <td>17.4</td>\n",
       "      <td>211</td>\n",
       "      <td>60</td>\n",
       "      <td>25.8</td>\n",
       "    </tr>\n",
       "    <tr>\n",
       "      <th>10</th>\n",
       "      <td>Hawaii</td>\n",
       "      <td>5.3</td>\n",
       "      <td>46</td>\n",
       "      <td>83</td>\n",
       "      <td>20.2</td>\n",
       "    </tr>\n",
       "    <tr>\n",
       "      <th>11</th>\n",
       "      <td>Idaho</td>\n",
       "      <td>2.6</td>\n",
       "      <td>120</td>\n",
       "      <td>54</td>\n",
       "      <td>14.2</td>\n",
       "    </tr>\n",
       "    <tr>\n",
       "      <th>12</th>\n",
       "      <td>Illinois</td>\n",
       "      <td>10.4</td>\n",
       "      <td>249</td>\n",
       "      <td>83</td>\n",
       "      <td>24.0</td>\n",
       "    </tr>\n",
       "    <tr>\n",
       "      <th>13</th>\n",
       "      <td>Indiana</td>\n",
       "      <td>7.2</td>\n",
       "      <td>113</td>\n",
       "      <td>65</td>\n",
       "      <td>21.0</td>\n",
       "    </tr>\n",
       "    <tr>\n",
       "      <th>14</th>\n",
       "      <td>Iowa</td>\n",
       "      <td>2.2</td>\n",
       "      <td>56</td>\n",
       "      <td>57</td>\n",
       "      <td>11.3</td>\n",
       "    </tr>\n",
       "    <tr>\n",
       "      <th>15</th>\n",
       "      <td>Kansas</td>\n",
       "      <td>6.0</td>\n",
       "      <td>115</td>\n",
       "      <td>66</td>\n",
       "      <td>18.0</td>\n",
       "    </tr>\n",
       "    <tr>\n",
       "      <th>16</th>\n",
       "      <td>Kentucky</td>\n",
       "      <td>9.7</td>\n",
       "      <td>109</td>\n",
       "      <td>52</td>\n",
       "      <td>16.3</td>\n",
       "    </tr>\n",
       "    <tr>\n",
       "      <th>17</th>\n",
       "      <td>Louisiana</td>\n",
       "      <td>15.4</td>\n",
       "      <td>249</td>\n",
       "      <td>66</td>\n",
       "      <td>22.2</td>\n",
       "    </tr>\n",
       "    <tr>\n",
       "      <th>18</th>\n",
       "      <td>Maine</td>\n",
       "      <td>2.1</td>\n",
       "      <td>83</td>\n",
       "      <td>51</td>\n",
       "      <td>7.8</td>\n",
       "    </tr>\n",
       "    <tr>\n",
       "      <th>19</th>\n",
       "      <td>Maryland</td>\n",
       "      <td>11.3</td>\n",
       "      <td>300</td>\n",
       "      <td>67</td>\n",
       "      <td>27.8</td>\n",
       "    </tr>\n",
       "    <tr>\n",
       "      <th>20</th>\n",
       "      <td>Massachusetts</td>\n",
       "      <td>4.4</td>\n",
       "      <td>149</td>\n",
       "      <td>85</td>\n",
       "      <td>16.3</td>\n",
       "    </tr>\n",
       "    <tr>\n",
       "      <th>21</th>\n",
       "      <td>Michigan</td>\n",
       "      <td>12.1</td>\n",
       "      <td>255</td>\n",
       "      <td>74</td>\n",
       "      <td>35.1</td>\n",
       "    </tr>\n",
       "    <tr>\n",
       "      <th>22</th>\n",
       "      <td>Minnesota</td>\n",
       "      <td>2.7</td>\n",
       "      <td>72</td>\n",
       "      <td>66</td>\n",
       "      <td>14.9</td>\n",
       "    </tr>\n",
       "    <tr>\n",
       "      <th>23</th>\n",
       "      <td>Mississippi</td>\n",
       "      <td>16.1</td>\n",
       "      <td>259</td>\n",
       "      <td>44</td>\n",
       "      <td>17.1</td>\n",
       "    </tr>\n",
       "    <tr>\n",
       "      <th>24</th>\n",
       "      <td>Missouri</td>\n",
       "      <td>9.0</td>\n",
       "      <td>178</td>\n",
       "      <td>70</td>\n",
       "      <td>28.2</td>\n",
       "    </tr>\n",
       "    <tr>\n",
       "      <th>25</th>\n",
       "      <td>Montana</td>\n",
       "      <td>6.0</td>\n",
       "      <td>109</td>\n",
       "      <td>53</td>\n",
       "      <td>16.4</td>\n",
       "    </tr>\n",
       "    <tr>\n",
       "      <th>26</th>\n",
       "      <td>Nebraska</td>\n",
       "      <td>4.3</td>\n",
       "      <td>102</td>\n",
       "      <td>62</td>\n",
       "      <td>16.5</td>\n",
       "    </tr>\n",
       "    <tr>\n",
       "      <th>27</th>\n",
       "      <td>Nevada</td>\n",
       "      <td>12.2</td>\n",
       "      <td>252</td>\n",
       "      <td>81</td>\n",
       "      <td>46.0</td>\n",
       "    </tr>\n",
       "    <tr>\n",
       "      <th>28</th>\n",
       "      <td>New Hampshire</td>\n",
       "      <td>2.1</td>\n",
       "      <td>57</td>\n",
       "      <td>56</td>\n",
       "      <td>9.5</td>\n",
       "    </tr>\n",
       "    <tr>\n",
       "      <th>29</th>\n",
       "      <td>New Jersey</td>\n",
       "      <td>7.4</td>\n",
       "      <td>159</td>\n",
       "      <td>89</td>\n",
       "      <td>18.8</td>\n",
       "    </tr>\n",
       "    <tr>\n",
       "      <th>30</th>\n",
       "      <td>New Mexico</td>\n",
       "      <td>11.4</td>\n",
       "      <td>285</td>\n",
       "      <td>70</td>\n",
       "      <td>32.1</td>\n",
       "    </tr>\n",
       "    <tr>\n",
       "      <th>31</th>\n",
       "      <td>New York</td>\n",
       "      <td>11.1</td>\n",
       "      <td>254</td>\n",
       "      <td>86</td>\n",
       "      <td>26.1</td>\n",
       "    </tr>\n",
       "    <tr>\n",
       "      <th>32</th>\n",
       "      <td>North Carolina</td>\n",
       "      <td>13.0</td>\n",
       "      <td>337</td>\n",
       "      <td>45</td>\n",
       "      <td>16.1</td>\n",
       "    </tr>\n",
       "    <tr>\n",
       "      <th>33</th>\n",
       "      <td>North Dakota</td>\n",
       "      <td>0.8</td>\n",
       "      <td>45</td>\n",
       "      <td>44</td>\n",
       "      <td>7.3</td>\n",
       "    </tr>\n",
       "    <tr>\n",
       "      <th>34</th>\n",
       "      <td>Ohio</td>\n",
       "      <td>7.3</td>\n",
       "      <td>120</td>\n",
       "      <td>75</td>\n",
       "      <td>21.4</td>\n",
       "    </tr>\n",
       "    <tr>\n",
       "      <th>35</th>\n",
       "      <td>Oklahoma</td>\n",
       "      <td>6.6</td>\n",
       "      <td>151</td>\n",
       "      <td>68</td>\n",
       "      <td>20.0</td>\n",
       "    </tr>\n",
       "    <tr>\n",
       "      <th>36</th>\n",
       "      <td>Oregon</td>\n",
       "      <td>4.9</td>\n",
       "      <td>159</td>\n",
       "      <td>67</td>\n",
       "      <td>29.3</td>\n",
       "    </tr>\n",
       "    <tr>\n",
       "      <th>37</th>\n",
       "      <td>Pennsylvania</td>\n",
       "      <td>6.3</td>\n",
       "      <td>106</td>\n",
       "      <td>72</td>\n",
       "      <td>14.9</td>\n",
       "    </tr>\n",
       "    <tr>\n",
       "      <th>38</th>\n",
       "      <td>Rhode Island</td>\n",
       "      <td>3.4</td>\n",
       "      <td>174</td>\n",
       "      <td>87</td>\n",
       "      <td>8.3</td>\n",
       "    </tr>\n",
       "    <tr>\n",
       "      <th>39</th>\n",
       "      <td>South Carolina</td>\n",
       "      <td>14.4</td>\n",
       "      <td>279</td>\n",
       "      <td>48</td>\n",
       "      <td>22.5</td>\n",
       "    </tr>\n",
       "    <tr>\n",
       "      <th>40</th>\n",
       "      <td>South Dakota</td>\n",
       "      <td>3.8</td>\n",
       "      <td>86</td>\n",
       "      <td>45</td>\n",
       "      <td>12.8</td>\n",
       "    </tr>\n",
       "    <tr>\n",
       "      <th>41</th>\n",
       "      <td>Tennessee</td>\n",
       "      <td>13.2</td>\n",
       "      <td>188</td>\n",
       "      <td>59</td>\n",
       "      <td>26.9</td>\n",
       "    </tr>\n",
       "    <tr>\n",
       "      <th>42</th>\n",
       "      <td>Texas</td>\n",
       "      <td>12.7</td>\n",
       "      <td>201</td>\n",
       "      <td>80</td>\n",
       "      <td>25.5</td>\n",
       "    </tr>\n",
       "    <tr>\n",
       "      <th>43</th>\n",
       "      <td>Utah</td>\n",
       "      <td>3.2</td>\n",
       "      <td>120</td>\n",
       "      <td>80</td>\n",
       "      <td>22.9</td>\n",
       "    </tr>\n",
       "    <tr>\n",
       "      <th>44</th>\n",
       "      <td>Vermont</td>\n",
       "      <td>2.2</td>\n",
       "      <td>48</td>\n",
       "      <td>32</td>\n",
       "      <td>11.2</td>\n",
       "    </tr>\n",
       "    <tr>\n",
       "      <th>45</th>\n",
       "      <td>Virginia</td>\n",
       "      <td>8.5</td>\n",
       "      <td>156</td>\n",
       "      <td>63</td>\n",
       "      <td>20.7</td>\n",
       "    </tr>\n",
       "    <tr>\n",
       "      <th>46</th>\n",
       "      <td>Washington</td>\n",
       "      <td>4.0</td>\n",
       "      <td>145</td>\n",
       "      <td>73</td>\n",
       "      <td>26.2</td>\n",
       "    </tr>\n",
       "    <tr>\n",
       "      <th>47</th>\n",
       "      <td>West Virginia</td>\n",
       "      <td>5.7</td>\n",
       "      <td>81</td>\n",
       "      <td>39</td>\n",
       "      <td>9.3</td>\n",
       "    </tr>\n",
       "    <tr>\n",
       "      <th>48</th>\n",
       "      <td>Wisconsin</td>\n",
       "      <td>2.6</td>\n",
       "      <td>53</td>\n",
       "      <td>66</td>\n",
       "      <td>10.8</td>\n",
       "    </tr>\n",
       "    <tr>\n",
       "      <th>49</th>\n",
       "      <td>Wyoming</td>\n",
       "      <td>6.8</td>\n",
       "      <td>161</td>\n",
       "      <td>60</td>\n",
       "      <td>15.6</td>\n",
       "    </tr>\n",
       "  </tbody>\n",
       "</table>\n",
       "</div>"
      ],
      "text/plain": [
       "        Unnamed: 0  Murder  Assault  UrbanPop  Rape\n",
       "0          Alabama    13.2      236        58  21.2\n",
       "1           Alaska    10.0      263        48  44.5\n",
       "2          Arizona     8.1      294        80  31.0\n",
       "3         Arkansas     8.8      190        50  19.5\n",
       "4       California     9.0      276        91  40.6\n",
       "5         Colorado     7.9      204        78  38.7\n",
       "6      Connecticut     3.3      110        77  11.1\n",
       "7         Delaware     5.9      238        72  15.8\n",
       "8          Florida    15.4      335        80  31.9\n",
       "9          Georgia    17.4      211        60  25.8\n",
       "10          Hawaii     5.3       46        83  20.2\n",
       "11           Idaho     2.6      120        54  14.2\n",
       "12        Illinois    10.4      249        83  24.0\n",
       "13         Indiana     7.2      113        65  21.0\n",
       "14            Iowa     2.2       56        57  11.3\n",
       "15          Kansas     6.0      115        66  18.0\n",
       "16        Kentucky     9.7      109        52  16.3\n",
       "17       Louisiana    15.4      249        66  22.2\n",
       "18           Maine     2.1       83        51   7.8\n",
       "19        Maryland    11.3      300        67  27.8\n",
       "20   Massachusetts     4.4      149        85  16.3\n",
       "21        Michigan    12.1      255        74  35.1\n",
       "22       Minnesota     2.7       72        66  14.9\n",
       "23     Mississippi    16.1      259        44  17.1\n",
       "24        Missouri     9.0      178        70  28.2\n",
       "25         Montana     6.0      109        53  16.4\n",
       "26        Nebraska     4.3      102        62  16.5\n",
       "27          Nevada    12.2      252        81  46.0\n",
       "28   New Hampshire     2.1       57        56   9.5\n",
       "29      New Jersey     7.4      159        89  18.8\n",
       "30      New Mexico    11.4      285        70  32.1\n",
       "31        New York    11.1      254        86  26.1\n",
       "32  North Carolina    13.0      337        45  16.1\n",
       "33    North Dakota     0.8       45        44   7.3\n",
       "34            Ohio     7.3      120        75  21.4\n",
       "35        Oklahoma     6.6      151        68  20.0\n",
       "36          Oregon     4.9      159        67  29.3\n",
       "37    Pennsylvania     6.3      106        72  14.9\n",
       "38    Rhode Island     3.4      174        87   8.3\n",
       "39  South Carolina    14.4      279        48  22.5\n",
       "40    South Dakota     3.8       86        45  12.8\n",
       "41       Tennessee    13.2      188        59  26.9\n",
       "42           Texas    12.7      201        80  25.5\n",
       "43            Utah     3.2      120        80  22.9\n",
       "44         Vermont     2.2       48        32  11.2\n",
       "45        Virginia     8.5      156        63  20.7\n",
       "46      Washington     4.0      145        73  26.2\n",
       "47   West Virginia     5.7       81        39   9.3\n",
       "48       Wisconsin     2.6       53        66  10.8\n",
       "49         Wyoming     6.8      161        60  15.6"
      ]
     },
     "execution_count": 4,
     "metadata": {},
     "output_type": "execute_result"
    }
   ],
   "source": [
    "pd.read_csv(\"USArrests.csv\")"
   ]
  },
  {
   "cell_type": "markdown",
   "id": "f6296854-eaad-4a59-b95b-6b5d78b7cd20",
   "metadata": {},
   "source": [
    "belirli bir zaman dilimi içerisinde gerçekleşmiştir.\n",
    "* _Murder_: cinayet\n",
    "* _Assault_: saldırı, şiddet\n",
    "* _UrbanPop_: nüfus\n",
    "* _Rape_: saldırı, taciz"
   ]
  },
  {
   "cell_type": "markdown",
   "id": "d66b8547-fd40-4805-8e56-2df832145911",
   "metadata": {},
   "source": [
    "Amacımız bu metrikleri göz önünde bulundurarak eyaletleri segmente etmektir."
   ]
  },
  {
   "cell_type": "code",
   "execution_count": null,
   "id": "afae021a-3fb9-4475-a9de-549f251c9a9f",
   "metadata": {},
   "outputs": [],
   "source": []
  },
  {
   "cell_type": "code",
   "execution_count": null,
   "id": "7b36e18d-1262-4d19-96c7-877bf42d0de3",
   "metadata": {},
   "outputs": [],
   "source": []
  },
  {
   "cell_type": "code",
   "execution_count": 5,
   "id": "e82a906b-ddb9-4ed4-a727-031d183bf292",
   "metadata": {
    "tags": []
   },
   "outputs": [],
   "source": [
    "df = pd.read_csv(\"USArrests.csv\")"
   ]
  },
  {
   "cell_type": "code",
   "execution_count": 6,
   "id": "511957cb-a4f5-4905-874b-b63d1cbd1793",
   "metadata": {
    "tags": []
   },
   "outputs": [],
   "source": [
    "df = df.copy()"
   ]
  },
  {
   "cell_type": "code",
   "execution_count": 7,
   "id": "3ba9fb66-b5ba-4c08-b47a-7a3af49b6ee8",
   "metadata": {
    "tags": []
   },
   "outputs": [
    {
     "data": {
      "text/html": [
       "<div>\n",
       "<style scoped>\n",
       "    .dataframe tbody tr th:only-of-type {\n",
       "        vertical-align: middle;\n",
       "    }\n",
       "\n",
       "    .dataframe tbody tr th {\n",
       "        vertical-align: top;\n",
       "    }\n",
       "\n",
       "    .dataframe thead th {\n",
       "        text-align: right;\n",
       "    }\n",
       "</style>\n",
       "<table border=\"1\" class=\"dataframe\">\n",
       "  <thead>\n",
       "    <tr style=\"text-align: right;\">\n",
       "      <th></th>\n",
       "      <th>Unnamed: 0</th>\n",
       "      <th>Murder</th>\n",
       "      <th>Assault</th>\n",
       "      <th>UrbanPop</th>\n",
       "      <th>Rape</th>\n",
       "    </tr>\n",
       "  </thead>\n",
       "  <tbody>\n",
       "    <tr>\n",
       "      <th>0</th>\n",
       "      <td>Alabama</td>\n",
       "      <td>13.2</td>\n",
       "      <td>236</td>\n",
       "      <td>58</td>\n",
       "      <td>21.2</td>\n",
       "    </tr>\n",
       "    <tr>\n",
       "      <th>1</th>\n",
       "      <td>Alaska</td>\n",
       "      <td>10.0</td>\n",
       "      <td>263</td>\n",
       "      <td>48</td>\n",
       "      <td>44.5</td>\n",
       "    </tr>\n",
       "    <tr>\n",
       "      <th>2</th>\n",
       "      <td>Arizona</td>\n",
       "      <td>8.1</td>\n",
       "      <td>294</td>\n",
       "      <td>80</td>\n",
       "      <td>31.0</td>\n",
       "    </tr>\n",
       "    <tr>\n",
       "      <th>3</th>\n",
       "      <td>Arkansas</td>\n",
       "      <td>8.8</td>\n",
       "      <td>190</td>\n",
       "      <td>50</td>\n",
       "      <td>19.5</td>\n",
       "    </tr>\n",
       "    <tr>\n",
       "      <th>4</th>\n",
       "      <td>California</td>\n",
       "      <td>9.0</td>\n",
       "      <td>276</td>\n",
       "      <td>91</td>\n",
       "      <td>40.6</td>\n",
       "    </tr>\n",
       "  </tbody>\n",
       "</table>\n",
       "</div>"
      ],
      "text/plain": [
       "   Unnamed: 0  Murder  Assault  UrbanPop  Rape\n",
       "0     Alabama    13.2      236        58  21.2\n",
       "1      Alaska    10.0      263        48  44.5\n",
       "2     Arizona     8.1      294        80  31.0\n",
       "3    Arkansas     8.8      190        50  19.5\n",
       "4  California     9.0      276        91  40.6"
      ]
     },
     "execution_count": 7,
     "metadata": {},
     "output_type": "execute_result"
    }
   ],
   "source": [
    "df.head()"
   ]
  },
  {
   "cell_type": "markdown",
   "id": "b59a7fbf-ed37-4546-8e9c-1f44ca121720",
   "metadata": {},
   "source": [
    "Eyaletler bir değişken değildir. dolayısıyla eyaletleri gözlem birimlerinin indeksine atamalıyız. "
   ]
  },
  {
   "cell_type": "code",
   "execution_count": 12,
   "id": "b568f0c3-a8e8-4b82-ba66-e8369c8e9410",
   "metadata": {
    "tags": []
   },
   "outputs": [
    {
     "data": {
      "text/plain": [
       "RangeIndex(start=0, stop=50, step=1)"
      ]
     },
     "execution_count": 12,
     "metadata": {},
     "output_type": "execute_result"
    }
   ],
   "source": [
    "df.index"
   ]
  },
  {
   "cell_type": "code",
   "execution_count": 13,
   "id": "bf70ab7f-bc28-4742-bed6-18e356f67bc4",
   "metadata": {
    "tags": []
   },
   "outputs": [],
   "source": [
    "# indeksleri baştan tanımlıyorum\n",
    "# [tüm gözlemleri al, 0. indeksdeki değişken ]\n",
    "df.index = df.iloc[:, 0]"
   ]
  },
  {
   "cell_type": "code",
   "execution_count": 14,
   "id": "b09582af-2a24-4b3b-bd34-1ae61c6ae805",
   "metadata": {
    "tags": []
   },
   "outputs": [
    {
     "data": {
      "text/plain": [
       "Index(['Alabama', 'Alaska', 'Arizona', 'Arkansas', 'California', 'Colorado',\n",
       "       'Connecticut', 'Delaware', 'Florida', 'Georgia', 'Hawaii', 'Idaho',\n",
       "       'Illinois', 'Indiana', 'Iowa', 'Kansas', 'Kentucky', 'Louisiana',\n",
       "       'Maine', 'Maryland', 'Massachusetts', 'Michigan', 'Minnesota',\n",
       "       'Mississippi', 'Missouri', 'Montana', 'Nebraska', 'Nevada',\n",
       "       'New Hampshire', 'New Jersey', 'New Mexico', 'New York',\n",
       "       'North Carolina', 'North Dakota', 'Ohio', 'Oklahoma', 'Oregon',\n",
       "       'Pennsylvania', 'Rhode Island', 'South Carolina', 'South Dakota',\n",
       "       'Tennessee', 'Texas', 'Utah', 'Vermont', 'Virginia', 'Washington',\n",
       "       'West Virginia', 'Wisconsin', 'Wyoming'],\n",
       "      dtype='object', name='Unnamed: 0')"
      ]
     },
     "execution_count": 14,
     "metadata": {},
     "output_type": "execute_result"
    }
   ],
   "source": [
    "# indeks isimlendirme işlemi gerçekleştirildi\n",
    "# gözlem birimlerinin isimleri\n",
    "df.index"
   ]
  },
  {
   "cell_type": "code",
   "execution_count": 15,
   "id": "c9634748-27d7-467c-83ee-5eb586529c33",
   "metadata": {
    "tags": []
   },
   "outputs": [
    {
     "data": {
      "text/html": [
       "<div>\n",
       "<style scoped>\n",
       "    .dataframe tbody tr th:only-of-type {\n",
       "        vertical-align: middle;\n",
       "    }\n",
       "\n",
       "    .dataframe tbody tr th {\n",
       "        vertical-align: top;\n",
       "    }\n",
       "\n",
       "    .dataframe thead th {\n",
       "        text-align: right;\n",
       "    }\n",
       "</style>\n",
       "<table border=\"1\" class=\"dataframe\">\n",
       "  <thead>\n",
       "    <tr style=\"text-align: right;\">\n",
       "      <th></th>\n",
       "      <th>Unnamed: 0</th>\n",
       "      <th>Murder</th>\n",
       "      <th>Assault</th>\n",
       "      <th>UrbanPop</th>\n",
       "      <th>Rape</th>\n",
       "    </tr>\n",
       "    <tr>\n",
       "      <th>Unnamed: 0</th>\n",
       "      <th></th>\n",
       "      <th></th>\n",
       "      <th></th>\n",
       "      <th></th>\n",
       "      <th></th>\n",
       "    </tr>\n",
       "  </thead>\n",
       "  <tbody>\n",
       "    <tr>\n",
       "      <th>Alabama</th>\n",
       "      <td>Alabama</td>\n",
       "      <td>13.2</td>\n",
       "      <td>236</td>\n",
       "      <td>58</td>\n",
       "      <td>21.2</td>\n",
       "    </tr>\n",
       "    <tr>\n",
       "      <th>Alaska</th>\n",
       "      <td>Alaska</td>\n",
       "      <td>10.0</td>\n",
       "      <td>263</td>\n",
       "      <td>48</td>\n",
       "      <td>44.5</td>\n",
       "    </tr>\n",
       "    <tr>\n",
       "      <th>Arizona</th>\n",
       "      <td>Arizona</td>\n",
       "      <td>8.1</td>\n",
       "      <td>294</td>\n",
       "      <td>80</td>\n",
       "      <td>31.0</td>\n",
       "    </tr>\n",
       "    <tr>\n",
       "      <th>Arkansas</th>\n",
       "      <td>Arkansas</td>\n",
       "      <td>8.8</td>\n",
       "      <td>190</td>\n",
       "      <td>50</td>\n",
       "      <td>19.5</td>\n",
       "    </tr>\n",
       "    <tr>\n",
       "      <th>California</th>\n",
       "      <td>California</td>\n",
       "      <td>9.0</td>\n",
       "      <td>276</td>\n",
       "      <td>91</td>\n",
       "      <td>40.6</td>\n",
       "    </tr>\n",
       "  </tbody>\n",
       "</table>\n",
       "</div>"
      ],
      "text/plain": [
       "            Unnamed: 0  Murder  Assault  UrbanPop  Rape\n",
       "Unnamed: 0                                             \n",
       "Alabama        Alabama    13.2      236        58  21.2\n",
       "Alaska          Alaska    10.0      263        48  44.5\n",
       "Arizona        Arizona     8.1      294        80  31.0\n",
       "Arkansas      Arkansas     8.8      190        50  19.5\n",
       "California  California     9.0      276        91  40.6"
      ]
     },
     "execution_count": 15,
     "metadata": {},
     "output_type": "execute_result"
    }
   ],
   "source": [
    "df.head()"
   ]
  },
  {
   "cell_type": "code",
   "execution_count": 16,
   "id": "482efe96-32e6-4e8f-b133-47d2a9e80ba3",
   "metadata": {
    "tags": []
   },
   "outputs": [],
   "source": [
    "# değerleri eyaletler olan değişkeni artık silelim\n",
    "# 1. sütundan 5'e kadar\n",
    "df = df.iloc[:, 1:5]"
   ]
  },
  {
   "cell_type": "code",
   "execution_count": 17,
   "id": "a05fabd4-bf62-470c-8744-769b0f388185",
   "metadata": {
    "tags": []
   },
   "outputs": [
    {
     "data": {
      "text/html": [
       "<div>\n",
       "<style scoped>\n",
       "    .dataframe tbody tr th:only-of-type {\n",
       "        vertical-align: middle;\n",
       "    }\n",
       "\n",
       "    .dataframe tbody tr th {\n",
       "        vertical-align: top;\n",
       "    }\n",
       "\n",
       "    .dataframe thead th {\n",
       "        text-align: right;\n",
       "    }\n",
       "</style>\n",
       "<table border=\"1\" class=\"dataframe\">\n",
       "  <thead>\n",
       "    <tr style=\"text-align: right;\">\n",
       "      <th></th>\n",
       "      <th>Murder</th>\n",
       "      <th>Assault</th>\n",
       "      <th>UrbanPop</th>\n",
       "      <th>Rape</th>\n",
       "    </tr>\n",
       "    <tr>\n",
       "      <th>Unnamed: 0</th>\n",
       "      <th></th>\n",
       "      <th></th>\n",
       "      <th></th>\n",
       "      <th></th>\n",
       "    </tr>\n",
       "  </thead>\n",
       "  <tbody>\n",
       "    <tr>\n",
       "      <th>Alabama</th>\n",
       "      <td>13.2</td>\n",
       "      <td>236</td>\n",
       "      <td>58</td>\n",
       "      <td>21.2</td>\n",
       "    </tr>\n",
       "    <tr>\n",
       "      <th>Alaska</th>\n",
       "      <td>10.0</td>\n",
       "      <td>263</td>\n",
       "      <td>48</td>\n",
       "      <td>44.5</td>\n",
       "    </tr>\n",
       "    <tr>\n",
       "      <th>Arizona</th>\n",
       "      <td>8.1</td>\n",
       "      <td>294</td>\n",
       "      <td>80</td>\n",
       "      <td>31.0</td>\n",
       "    </tr>\n",
       "    <tr>\n",
       "      <th>Arkansas</th>\n",
       "      <td>8.8</td>\n",
       "      <td>190</td>\n",
       "      <td>50</td>\n",
       "      <td>19.5</td>\n",
       "    </tr>\n",
       "    <tr>\n",
       "      <th>California</th>\n",
       "      <td>9.0</td>\n",
       "      <td>276</td>\n",
       "      <td>91</td>\n",
       "      <td>40.6</td>\n",
       "    </tr>\n",
       "  </tbody>\n",
       "</table>\n",
       "</div>"
      ],
      "text/plain": [
       "            Murder  Assault  UrbanPop  Rape\n",
       "Unnamed: 0                                 \n",
       "Alabama       13.2      236        58  21.2\n",
       "Alaska        10.0      263        48  44.5\n",
       "Arizona        8.1      294        80  31.0\n",
       "Arkansas       8.8      190        50  19.5\n",
       "California     9.0      276        91  40.6"
      ]
     },
     "execution_count": 17,
     "metadata": {},
     "output_type": "execute_result"
    }
   ],
   "source": [
    "df.head()"
   ]
  },
  {
   "cell_type": "code",
   "execution_count": 25,
   "id": "f40a2d88-620d-404b-a2af-06508564b5ec",
   "metadata": {
    "tags": []
   },
   "outputs": [],
   "source": [
    "# indeksin ismini silelim\n",
    "df.index.name = None"
   ]
  },
  {
   "cell_type": "code",
   "execution_count": 26,
   "id": "69df75e5-86c2-41d3-bf0c-3992fe05c898",
   "metadata": {
    "tags": []
   },
   "outputs": [
    {
     "data": {
      "text/html": [
       "<div>\n",
       "<style scoped>\n",
       "    .dataframe tbody tr th:only-of-type {\n",
       "        vertical-align: middle;\n",
       "    }\n",
       "\n",
       "    .dataframe tbody tr th {\n",
       "        vertical-align: top;\n",
       "    }\n",
       "\n",
       "    .dataframe thead th {\n",
       "        text-align: right;\n",
       "    }\n",
       "</style>\n",
       "<table border=\"1\" class=\"dataframe\">\n",
       "  <thead>\n",
       "    <tr style=\"text-align: right;\">\n",
       "      <th></th>\n",
       "      <th>Murder</th>\n",
       "      <th>Assault</th>\n",
       "      <th>UrbanPop</th>\n",
       "      <th>Rape</th>\n",
       "    </tr>\n",
       "  </thead>\n",
       "  <tbody>\n",
       "    <tr>\n",
       "      <th>Alabama</th>\n",
       "      <td>13.2</td>\n",
       "      <td>236</td>\n",
       "      <td>58</td>\n",
       "      <td>21.2</td>\n",
       "    </tr>\n",
       "    <tr>\n",
       "      <th>Alaska</th>\n",
       "      <td>10.0</td>\n",
       "      <td>263</td>\n",
       "      <td>48</td>\n",
       "      <td>44.5</td>\n",
       "    </tr>\n",
       "    <tr>\n",
       "      <th>Arizona</th>\n",
       "      <td>8.1</td>\n",
       "      <td>294</td>\n",
       "      <td>80</td>\n",
       "      <td>31.0</td>\n",
       "    </tr>\n",
       "    <tr>\n",
       "      <th>Arkansas</th>\n",
       "      <td>8.8</td>\n",
       "      <td>190</td>\n",
       "      <td>50</td>\n",
       "      <td>19.5</td>\n",
       "    </tr>\n",
       "    <tr>\n",
       "      <th>California</th>\n",
       "      <td>9.0</td>\n",
       "      <td>276</td>\n",
       "      <td>91</td>\n",
       "      <td>40.6</td>\n",
       "    </tr>\n",
       "  </tbody>\n",
       "</table>\n",
       "</div>"
      ],
      "text/plain": [
       "            Murder  Assault  UrbanPop  Rape\n",
       "Alabama       13.2      236        58  21.2\n",
       "Alaska        10.0      263        48  44.5\n",
       "Arizona        8.1      294        80  31.0\n",
       "Arkansas       8.8      190        50  19.5\n",
       "California     9.0      276        91  40.6"
      ]
     },
     "execution_count": 26,
     "metadata": {},
     "output_type": "execute_result"
    }
   ],
   "source": [
    "df.head()"
   ]
  },
  {
   "cell_type": "code",
   "execution_count": 27,
   "id": "a7319d07-db64-4ef4-b9cf-9b6671f3b13e",
   "metadata": {
    "tags": []
   },
   "outputs": [
    {
     "data": {
      "text/plain": [
       "Murder      0\n",
       "Assault     0\n",
       "UrbanPop    0\n",
       "Rape        0\n",
       "dtype: int64"
      ]
     },
     "execution_count": 27,
     "metadata": {},
     "output_type": "execute_result"
    }
   ],
   "source": [
    "# eksik gözlem var mı?\n",
    "df.isnull().sum()"
   ]
  },
  {
   "cell_type": "code",
   "execution_count": 31,
   "id": "12d07831-4f03-4a81-bd61-ae41427a15ed",
   "metadata": {
    "tags": []
   },
   "outputs": [
    {
     "name": "stdout",
     "output_type": "stream",
     "text": [
      "<class 'pandas.core.frame.DataFrame'>\n",
      "Index: 50 entries, Alabama to Wyoming\n",
      "Data columns (total 4 columns):\n",
      " #   Column    Non-Null Count  Dtype  \n",
      "---  ------    --------------  -----  \n",
      " 0   Murder    50 non-null     float64\n",
      " 1   Assault   50 non-null     int64  \n",
      " 2   UrbanPop  50 non-null     int64  \n",
      " 3   Rape      50 non-null     float64\n",
      "dtypes: float64(2), int64(2)\n",
      "memory usage: 2.0+ KB\n"
     ]
    }
   ],
   "source": [
    "df.info()"
   ]
  },
  {
   "cell_type": "markdown",
   "id": "e04c95c3-01c5-41c8-91b4-9f57fd552e44",
   "metadata": {},
   "source": [
    "bütün değişkenler sürekli değişkendir. 50 tane gözlem birimi bulunmaktadır dolayısıyla 50 tane eyalet vardır. bu 50 tane eyaleti 4 tane değişken bazında segmente etmemiz gereklidir."
   ]
  },
  {
   "cell_type": "code",
   "execution_count": 32,
   "id": "e9ce10c1-6cde-4ed0-9a4b-e64ef8455160",
   "metadata": {
    "tags": []
   },
   "outputs": [
    {
     "data": {
      "text/html": [
       "<div>\n",
       "<style scoped>\n",
       "    .dataframe tbody tr th:only-of-type {\n",
       "        vertical-align: middle;\n",
       "    }\n",
       "\n",
       "    .dataframe tbody tr th {\n",
       "        vertical-align: top;\n",
       "    }\n",
       "\n",
       "    .dataframe thead th {\n",
       "        text-align: right;\n",
       "    }\n",
       "</style>\n",
       "<table border=\"1\" class=\"dataframe\">\n",
       "  <thead>\n",
       "    <tr style=\"text-align: right;\">\n",
       "      <th></th>\n",
       "      <th>count</th>\n",
       "      <th>mean</th>\n",
       "      <th>std</th>\n",
       "      <th>min</th>\n",
       "      <th>25%</th>\n",
       "      <th>50%</th>\n",
       "      <th>75%</th>\n",
       "      <th>max</th>\n",
       "    </tr>\n",
       "  </thead>\n",
       "  <tbody>\n",
       "    <tr>\n",
       "      <th>Murder</th>\n",
       "      <td>50.0</td>\n",
       "      <td>7.788</td>\n",
       "      <td>4.355510</td>\n",
       "      <td>0.8</td>\n",
       "      <td>4.075</td>\n",
       "      <td>7.25</td>\n",
       "      <td>11.250</td>\n",
       "      <td>17.4</td>\n",
       "    </tr>\n",
       "    <tr>\n",
       "      <th>Assault</th>\n",
       "      <td>50.0</td>\n",
       "      <td>170.760</td>\n",
       "      <td>83.337661</td>\n",
       "      <td>45.0</td>\n",
       "      <td>109.000</td>\n",
       "      <td>159.00</td>\n",
       "      <td>249.000</td>\n",
       "      <td>337.0</td>\n",
       "    </tr>\n",
       "    <tr>\n",
       "      <th>UrbanPop</th>\n",
       "      <td>50.0</td>\n",
       "      <td>65.540</td>\n",
       "      <td>14.474763</td>\n",
       "      <td>32.0</td>\n",
       "      <td>54.500</td>\n",
       "      <td>66.00</td>\n",
       "      <td>77.750</td>\n",
       "      <td>91.0</td>\n",
       "    </tr>\n",
       "    <tr>\n",
       "      <th>Rape</th>\n",
       "      <td>50.0</td>\n",
       "      <td>21.232</td>\n",
       "      <td>9.366385</td>\n",
       "      <td>7.3</td>\n",
       "      <td>15.075</td>\n",
       "      <td>20.10</td>\n",
       "      <td>26.175</td>\n",
       "      <td>46.0</td>\n",
       "    </tr>\n",
       "  </tbody>\n",
       "</table>\n",
       "</div>"
      ],
      "text/plain": [
       "          count     mean        std   min      25%     50%      75%    max\n",
       "Murder     50.0    7.788   4.355510   0.8    4.075    7.25   11.250   17.4\n",
       "Assault    50.0  170.760  83.337661  45.0  109.000  159.00  249.000  337.0\n",
       "UrbanPop   50.0   65.540  14.474763  32.0   54.500   66.00   77.750   91.0\n",
       "Rape       50.0   21.232   9.366385   7.3   15.075   20.10   26.175   46.0"
      ]
     },
     "execution_count": 32,
     "metadata": {},
     "output_type": "execute_result"
    }
   ],
   "source": [
    "# 50 eyalete ilişkin 4 değişkenin betimsel istatistikleri\n",
    "df.describe().T"
   ]
  },
  {
   "cell_type": "markdown",
   "id": "59604ff0-9509-472d-998e-453faec46e7c",
   "metadata": {},
   "source": [
    "ortalama gerçekleşen cinayete baktığımızda diğer suçlara nazaran en az gerçekleşen suç olduğu görülür.\n",
    "\n",
    "cinayet sayısı, ortalama gerçekleşen cinayetin üzerinde olan eyaletler segmantasyon çalışmasında bilgi verebilir.\n",
    "\n",
    "cinayet sayısı 11(%75)'in üzerinde olan eyaletlere özel bir muamele yapılabilir."
   ]
  },
  {
   "cell_type": "code",
   "execution_count": 33,
   "id": "954db2e7-121e-411a-91d8-57205a6dadd6",
   "metadata": {
    "tags": []
   },
   "outputs": [
    {
     "data": {
      "image/png": "[encoded data removed]",
      "text/plain": [
       "<Figure size 1000x1000 with 4 Axes>"
      ]
     },
     "metadata": {},
     "output_type": "display_data"
    }
   ],
   "source": [
    "# histogram grafiği ile görselleştirelim\n",
    "df.hist(figsize = (10,10)); # y, eyalet sayısı"
   ]
  },
  {
   "cell_type": "code",
   "execution_count": null,
   "id": "abf9a4e9-0130-45b3-b25b-0c607cd18bb8",
   "metadata": {},
   "outputs": [],
   "source": []
  },
  {
   "cell_type": "code",
   "execution_count": null,
   "id": "088f8d82-8e88-4405-b9ca-1551509a5b93",
   "metadata": {},
   "outputs": [],
   "source": []
  },
  {
   "cell_type": "code",
   "execution_count": null,
   "id": "67fcca6a-3f22-485e-a898-3498014f87e0",
   "metadata": {},
   "outputs": [],
   "source": []
  },
  {
   "cell_type": "markdown",
   "id": "3e58065f-20d5-4e76-8fbf-970537044023",
   "metadata": {},
   "source": [
    "## K-Means - Model ve Görselleştirme"
   ]
  },
  {
   "cell_type": "code",
   "execution_count": 34,
   "id": "c593d3a2-e792-4209-b727-ad442bb3156b",
   "metadata": {
    "tags": []
   },
   "outputs": [],
   "source": [
    "from sklearn.cluster import KMeans\n",
    "# 4 kümeli olsun\n",
    "kmeans = KMeans(n_clusters = 4) # model nesnesi oluşturuldu"
   ]
  },
  {
   "cell_type": "code",
   "execution_count": 35,
   "id": "a7440b26-de90-436d-9d39-e720583e85c8",
   "metadata": {
    "tags": []
   },
   "outputs": [
    {
     "name": "stdout",
     "output_type": "stream",
     "text": [
      "KMeans(n_clusters=4)\n"
     ]
    }
   ],
   "source": [
    "print(kmeans)"
   ]
  },
  {
   "cell_type": "code",
   "execution_count": 36,
   "id": "206097ae-28a6-42fb-870e-d5c1fc32571e",
   "metadata": {
    "collapsed": true,
    "jupyter": {
     "outputs_hidden": true
    },
    "tags": []
   },
   "outputs": [
    {
     "data": {
      "text/plain": [
       "\u001b[0;31mType:\u001b[0m        KMeans\n",
       "\u001b[0;31mString form:\u001b[0m KMeans(n_clusters=4)\n",
       "\u001b[0;31mFile:\u001b[0m        ~/anaconda3/lib/python3.11/site-packages/sklearn/cluster/_kmeans.py\n",
       "\u001b[0;31mDocstring:\u001b[0m  \n",
       "K-Means clustering.\n",
       "\n",
       "Read more in the :ref:`User Guide <k_means>`.\n",
       "\n",
       "Parameters\n",
       "----------\n",
       "\n",
       "n_clusters : int, default=8\n",
       "    The number of clusters to form as well as the number of\n",
       "    centroids to generate.\n",
       "\n",
       "init : {'k-means++', 'random'}, callable or array-like of shape             (n_clusters, n_features), default='k-means++'\n",
       "    Method for initialization:\n",
       "\n",
       "    'k-means++' : selects initial cluster centroids using sampling based on\n",
       "    an empirical probability distribution of the points' contribution to the\n",
       "    overall inertia. This technique speeds up convergence. The algorithm\n",
       "    implemented is \"greedy k-means++\". It differs from the vanilla k-means++\n",
       "    by making several trials at each sampling step and choosing the best centroid\n",
       "    among them.\n",
       "\n",
       "    'random': choose `n_clusters` observations (rows) at random from data\n",
       "    for the initial centroids.\n",
       "\n",
       "    If an array is passed, it should be of shape (n_clusters, n_features)\n",
       "    and gives the initial centers.\n",
       "\n",
       "    If a callable is passed, it should take arguments X, n_clusters and a\n",
       "    random state and return an initialization.\n",
       "\n",
       "n_init : 'auto' or int, default=10\n",
       "    Number of times the k-means algorithm is run with different centroid\n",
       "    seeds. The final results is the best output of `n_init` consecutive runs\n",
       "    in terms of inertia. Several runs are recommended for sparse\n",
       "    high-dimensional problems (see :ref:`kmeans_sparse_high_dim`).\n",
       "\n",
       "    When `n_init='auto'`, the number of runs depends on the value of init:\n",
       "    10 if using `init='random'` or `init` is a callable;\n",
       "    1 if using `init='k-means++'` or `init` is an array-like.\n",
       "\n",
       "    .. versionadded:: 1.2\n",
       "       Added 'auto' option for `n_init`.\n",
       "\n",
       "    .. versionchanged:: 1.4\n",
       "       Default value for `n_init` will change from 10 to `'auto'` in version 1.4.\n",
       "\n",
       "max_iter : int, default=300\n",
       "    Maximum number of iterations of the k-means algorithm for a\n",
       "    single run.\n",
       "\n",
       "tol : float, default=1e-4\n",
       "    Relative tolerance with regards to Frobenius norm of the difference\n",
       "    in the cluster centers of two consecutive iterations to declare\n",
       "    convergence.\n",
       "\n",
       "verbose : int, default=0\n",
       "    Verbosity mode.\n",
       "\n",
       "random_state : int, RandomState instance or None, default=None\n",
       "    Determines random number generation for centroid initialization. Use\n",
       "    an int to make the randomness deterministic.\n",
       "    See :term:`Glossary <random_state>`.\n",
       "\n",
       "copy_x : bool, default=True\n",
       "    When pre-computing distances it is more numerically accurate to center\n",
       "    the data first. If copy_x is True (default), then the original data is\n",
       "    not modified. If False, the original data is modified, and put back\n",
       "    before the function returns, but small numerical differences may be\n",
       "    introduced by subtracting and then adding the data mean. Note that if\n",
       "    the original data is not C-contiguous, a copy will be made even if\n",
       "    copy_x is False. If the original data is sparse, but not in CSR format,\n",
       "    a copy will be made even if copy_x is False.\n",
       "\n",
       "algorithm : {\"lloyd\", \"elkan\", \"auto\", \"full\"}, default=\"lloyd\"\n",
       "    K-means algorithm to use. The classical EM-style algorithm is `\"lloyd\"`.\n",
       "    The `\"elkan\"` variation can be more efficient on some datasets with\n",
       "    well-defined clusters, by using the triangle inequality. However it's\n",
       "    more memory intensive due to the allocation of an extra array of shape\n",
       "    `(n_samples, n_clusters)`.\n",
       "\n",
       "    `\"auto\"` and `\"full\"` are deprecated and they will be removed in\n",
       "    Scikit-Learn 1.3. They are both aliases for `\"lloyd\"`.\n",
       "\n",
       "    .. versionchanged:: 0.18\n",
       "        Added Elkan algorithm\n",
       "\n",
       "    .. versionchanged:: 1.1\n",
       "        Renamed \"full\" to \"lloyd\", and deprecated \"auto\" and \"full\".\n",
       "        Changed \"auto\" to use \"lloyd\" instead of \"elkan\".\n",
       "\n",
       "Attributes\n",
       "----------\n",
       "cluster_centers_ : ndarray of shape (n_clusters, n_features)\n",
       "    Coordinates of cluster centers. If the algorithm stops before fully\n",
       "    converging (see ``tol`` and ``max_iter``), these will not be\n",
       "    consistent with ``labels_``.\n",
       "\n",
       "labels_ : ndarray of shape (n_samples,)\n",
       "    Labels of each point\n",
       "\n",
       "inertia_ : float\n",
       "    Sum of squared distances of samples to their closest cluster center,\n",
       "    weighted by the sample weights if provided.\n",
       "\n",
       "n_iter_ : int\n",
       "    Number of iterations run.\n",
       "\n",
       "n_features_in_ : int\n",
       "    Number of features seen during :term:`fit`.\n",
       "\n",
       "    .. versionadded:: 0.24\n",
       "\n",
       "feature_names_in_ : ndarray of shape (`n_features_in_`,)\n",
       "    Names of features seen during :term:`fit`. Defined only when `X`\n",
       "    has feature names that are all strings.\n",
       "\n",
       "    .. versionadded:: 1.0\n",
       "\n",
       "See Also\n",
       "--------\n",
       "MiniBatchKMeans : Alternative online implementation that does incremental\n",
       "    updates of the centers positions using mini-batches.\n",
       "    For large scale learning (say n_samples > 10k) MiniBatchKMeans is\n",
       "    probably much faster than the default batch implementation.\n",
       "\n",
       "Notes\n",
       "-----\n",
       "The k-means problem is solved using either Lloyd's or Elkan's algorithm.\n",
       "\n",
       "The average complexity is given by O(k n T), where n is the number of\n",
       "samples and T is the number of iteration.\n",
       "\n",
       "The worst case complexity is given by O(n^(k+2/p)) with\n",
       "n = n_samples, p = n_features.\n",
       "Refer to :doi:`\"How slow is the k-means method?\" D. Arthur and S. Vassilvitskii -\n",
       "SoCG2006.<10.1145/1137856.1137880>` for more details.\n",
       "\n",
       "In practice, the k-means algorithm is very fast (one of the fastest\n",
       "clustering algorithms available), but it falls in local minima. That's why\n",
       "it can be useful to restart it several times.\n",
       "\n",
       "If the algorithm stops before fully converging (because of ``tol`` or\n",
       "``max_iter``), ``labels_`` and ``cluster_centers_`` will not be consistent,\n",
       "i.e. the ``cluster_centers_`` will not be the means of the points in each\n",
       "cluster. Also, the estimator will reassign ``labels_`` after the last\n",
       "iteration to make ``labels_`` consistent with ``predict`` on the training\n",
       "set.\n",
       "\n",
       "Examples\n",
       "--------\n",
       "\n",
       ">>> from sklearn.cluster import KMeans\n",
       ">>> import numpy as np\n",
       ">>> X = np.array([[1, 2], [1, 4], [1, 0],\n",
       "...               [10, 2], [10, 4], [10, 0]])\n",
       ">>> kmeans = KMeans(n_clusters=2, random_state=0, n_init=\"auto\").fit(X)\n",
       ">>> kmeans.labels_\n",
       "array([1, 1, 1, 0, 0, 0], dtype=int32)\n",
       ">>> kmeans.predict([[0, 0], [12, 3]])\n",
       "array([1, 0], dtype=int32)\n",
       ">>> kmeans.cluster_centers_\n",
       "array([[10.,  2.],\n",
       "       [ 1.,  2.]])"
      ]
     },
     "metadata": {},
     "output_type": "display_data"
    }
   ],
   "source": [
    "?kmeans"
   ]
  },
  {
   "cell_type": "markdown",
   "id": "a9024a6f-6391-4183-8430-241d677782df",
   "metadata": {},
   "source": [
    "_n_init_: merkez sayısıdır yani kmeans'in kaç defa merkezlere göre tekrar tekrar  fit edileceğini, oluşturulacağını ifade eder"
   ]
  },
  {
   "cell_type": "code",
   "execution_count": 37,
   "id": "a156c27e-a9d0-4e82-bb51-abbed39201b4",
   "metadata": {
    "tags": []
   },
   "outputs": [],
   "source": [
    "# model oluşturuldu\n",
    "k_fit = kmeans.fit(df)"
   ]
  },
  {
   "cell_type": "code",
   "execution_count": 40,
   "id": "9f0655b9-6a91-4286-b4e4-8e6478d3a12f",
   "metadata": {
    "tags": []
   },
   "outputs": [
    {
     "data": {
      "text/plain": [
       "4"
      ]
     },
     "execution_count": 40,
     "metadata": {},
     "output_type": "execute_result"
    }
   ],
   "source": [
    "# modelin küme sayısına erişebiliriz\n",
    "k_fit.n_clusters"
   ]
  },
  {
   "cell_type": "code",
   "execution_count": 42,
   "id": "e2b39c20-cc70-4806-a99f-8ce3ddcb9d1d",
   "metadata": {
    "tags": []
   },
   "outputs": [
    {
     "data": {
      "text/plain": [
       "array([[  5.59      , 112.4       ,  65.6       ,  17.27      ],\n",
       "       [ 11.8125    , 272.5625    ,  68.3125    ,  28.375     ],\n",
       "       [  8.21428571, 173.28571429,  70.64285714,  22.84285714],\n",
       "       [  2.95      ,  62.7       ,  53.9       ,  11.51      ]])"
      ]
     },
     "execution_count": 42,
     "metadata": {},
     "output_type": "execute_result"
    }
   ],
   "source": [
    "# gözlem birimleri kümelere girip çıkıyorlar ve merkezler değişiyor\n",
    "# bu kümelerin belirlenen nihai merkezlerine erişelim\n",
    "k_fit.cluster_centers_"
   ]
  },
  {
   "cell_type": "markdown",
   "id": "2152749c-c74a-4407-8038-a07a72f55558",
   "metadata": {},
   "source": [
    "4 kümeli olduğundan:\n",
    "* 1. kümenin merkezi: [  5.59      , 112.4       ,  65.6       ,  17.27      ]\n",
    "* ...\n",
    "\n",
    "4 değişken olduğundan 4 değişkendeki merkezi değerler uzaklık hesaplarına göre bu şekilde belirlenmiştir. "
   ]
  },
  {
   "cell_type": "code",
   "execution_count": 43,
   "id": "3900c8f3-3465-493c-abf4-e1a00b9bb9d7",
   "metadata": {
    "tags": []
   },
   "outputs": [
    {
     "data": {
      "text/plain": [
       "array([1, 1, 1, 2, 1, 2, 0, 1, 1, 2, 3, 0, 1, 0, 3, 0, 0, 1, 3, 1, 2, 1,\n",
       "       3, 1, 2, 0, 0, 1, 3, 2, 1, 1, 1, 3, 0, 2, 2, 0, 2, 1, 3, 2, 2, 0,\n",
       "       3, 2, 2, 3, 3, 2], dtype=int32)"
      ]
     },
     "execution_count": 43,
     "metadata": {},
     "output_type": "execute_result"
    }
   ],
   "source": [
    "# her bir gözlem biriminin/ eyaletin, hangi sınıfta olduğu bilgisi:\n",
    "k_fit.labels_"
   ]
  },
  {
   "cell_type": "code",
   "execution_count": null,
   "id": "6ea236e7-2a3b-4b75-95b7-1d33d4bd45f2",
   "metadata": {},
   "outputs": [],
   "source": []
  },
  {
   "cell_type": "code",
   "execution_count": null,
   "id": "958f8677-5cc0-4c8f-a580-6c1a082b91fc",
   "metadata": {},
   "outputs": [],
   "source": []
  },
  {
   "cell_type": "markdown",
   "id": "e9b85e0c-fe42-47a0-97b2-0a9721325c9c",
   "metadata": {},
   "source": [
    "## kümeleri görselleştirelim"
   ]
  },
  {
   "cell_type": "markdown",
   "id": "c6d8e300-9c8d-43a5-8df2-ab44b375c9fb",
   "metadata": {},
   "source": [
    "2 küme üzerinden görselleştirme yapalım"
   ]
  },
  {
   "cell_type": "code",
   "execution_count": 53,
   "id": "dd600c00-51d5-471d-b099-f04772f06010",
   "metadata": {
    "tags": []
   },
   "outputs": [],
   "source": [
    "kmeans_2 = KMeans(n_clusters = 2)"
   ]
  },
  {
   "cell_type": "code",
   "execution_count": 54,
   "id": "6b03b526-a762-4223-b475-5c71bf0e4e85",
   "metadata": {
    "tags": []
   },
   "outputs": [],
   "source": [
    "k_fit2 = kmeans_2.fit(df)"
   ]
  },
  {
   "cell_type": "code",
   "execution_count": 55,
   "id": "639ee43a-d05e-4319-948f-68b5cb105deb",
   "metadata": {
    "tags": []
   },
   "outputs": [
    {
     "data": {
      "text/plain": [
       "array([0, 0, 0, 0, 0, 0, 1, 0, 0, 0, 1, 1, 0, 1, 1, 1, 1, 0, 1, 0, 1, 0,\n",
       "       1, 0, 1, 1, 1, 0, 1, 1, 0, 0, 0, 1, 1, 1, 1, 1, 1, 0, 1, 0, 0, 1,\n",
       "       1, 1, 1, 1, 1, 1], dtype=int32)"
      ]
     },
     "execution_count": 55,
     "metadata": {},
     "output_type": "execute_result"
    }
   ],
   "source": [
    "# her bir gözlem biriminin/ eyaletin, hangi sınıfta olduğu bilgisi:\n",
    "kumeler2 = k_fit2.labels_\n",
    "kumeler2"
   ]
  },
  {
   "cell_type": "code",
   "execution_count": 56,
   "id": "72896063-ff79-4ca4-a316-3563cd17b4d1",
   "metadata": {
    "tags": []
   },
   "outputs": [
    {
     "data": {
      "text/plain": [
       "array([[ 11.85714286, 255.        ,  67.61904762,  28.11428571],\n",
       "       [  4.84137931, 109.75862069,  64.03448276,  16.24827586]])"
      ]
     },
     "execution_count": 56,
     "metadata": {},
     "output_type": "execute_result"
    }
   ],
   "source": [
    "# bu kümelerin belirlenen nihai merkezlerine erişelim\n",
    "merkezler2 = k_fit2.cluster_centers_\n",
    "merkezler2"
   ]
  },
  {
   "cell_type": "code",
   "execution_count": 60,
   "id": "07d35dac-6b24-43a7-80f7-719b7111231a",
   "metadata": {
    "tags": []
   },
   "outputs": [
    {
     "data": {
      "text/plain": [
       "array([11.85714286,  4.84137931])"
      ]
     },
     "execution_count": 60,
     "metadata": {},
     "output_type": "execute_result"
    }
   ],
   "source": [
    "merkezler2[:,0] # her 2 küme için 0. değişkenin merkez noktaları"
   ]
  },
  {
   "cell_type": "code",
   "execution_count": 58,
   "id": "53340896-cff0-4458-8703-e2df87112b8b",
   "metadata": {
    "tags": []
   },
   "outputs": [
    {
     "data": {
      "image/png": "[encoded data removed]",
      "text/plain": [
       "<Figure size 640x480 with 1 Axes>"
      ]
     },
     "metadata": {},
     "output_type": "display_data"
    }
   ],
   "source": [
    "# 0 ve 1. değişkendeki tüm değerler/satırlar\n",
    "plt.scatter(df.iloc[:,0],\n",
    "            df.iloc[:,1],\n",
    "            c = kumeler2, s = 50, cmap = \"viridis\");\n",
    "\n",
    "# merkezleri işaretleyelim\n",
    "plt.scatter(merkezler2[:,0],\n",
    "            merkezler2[:,1],\n",
    "            c=\"red\", s=200, alpha=0.5);"
   ]
  },
  {
   "cell_type": "markdown",
   "id": "46ddaaaf-e29e-4eae-8b26-e08b07b37991",
   "metadata": {},
   "source": [
    "2 boyutta görselleştirme yapmak için 2 tane değişken seçtim. "
   ]
  },
  {
   "cell_type": "code",
   "execution_count": null,
   "id": "f074ca0d-0f70-4e8d-bb5d-09203f4208cc",
   "metadata": {},
   "outputs": [],
   "source": []
  },
  {
   "cell_type": "markdown",
   "id": "16533cc1-01be-4e17-800c-2f32a86eec93",
   "metadata": {},
   "source": [
    "### Bu kümeleri 3 boyutta görselleştirelim"
   ]
  },
  {
   "cell_type": "code",
   "execution_count": 76,
   "id": "14a7d091-804f-486d-8af2-a8df6c5e7573",
   "metadata": {
    "tags": []
   },
   "outputs": [],
   "source": [
    "# 3 kümeli\n",
    "kmeans_3 = KMeans(n_clusters = 3)"
   ]
  },
  {
   "cell_type": "code",
   "execution_count": 77,
   "id": "c866943e-7147-4b67-ad58-3b360ccecf5f",
   "metadata": {
    "tags": []
   },
   "outputs": [],
   "source": [
    "k_fit3 = kmeans_3.fit(df)"
   ]
  },
  {
   "cell_type": "code",
   "execution_count": 78,
   "id": "02603c54-dedb-4a46-9958-bf60b110b912",
   "metadata": {
    "tags": []
   },
   "outputs": [
    {
     "data": {
      "text/plain": [
       "array([1, 1, 1, 2, 1, 2, 0, 1, 1, 2, 0, 0, 1, 0, 0, 0, 0, 1, 0, 1, 2, 1,\n",
       "       0, 1, 2, 0, 0, 1, 0, 2, 1, 1, 1, 0, 0, 2, 2, 0, 2, 1, 0, 2, 2, 0,\n",
       "       0, 2, 2, 0, 0, 2], dtype=int32)"
      ]
     },
     "execution_count": 78,
     "metadata": {},
     "output_type": "execute_result"
    }
   ],
   "source": [
    "# her bir gözlem biriminin/ eyaletin, hangi sınıfta olduğu bilgisi:\n",
    "kumeler3 = k_fit3.labels_\n",
    "kumeler3"
   ]
  },
  {
   "cell_type": "code",
   "execution_count": 79,
   "id": "e589f5a2-d364-4a60-9cfb-e50bbc1737b1",
   "metadata": {
    "tags": []
   },
   "outputs": [
    {
     "data": {
      "text/plain": [
       "array([[  4.27      ,  87.55      ,  59.75      ,  14.39      ],\n",
       "       [ 11.8125    , 272.5625    ,  68.3125    ,  28.375     ],\n",
       "       [  8.21428571, 173.28571429,  70.64285714,  22.84285714]])"
      ]
     },
     "execution_count": 79,
     "metadata": {},
     "output_type": "execute_result"
    }
   ],
   "source": [
    "# bu kümelerin belirlenen nihai merkezlerine erişelim\n",
    "merkezler3 = k_fit3.cluster_centers_\n",
    "merkezler3"
   ]
  },
  {
   "cell_type": "code",
   "execution_count": 80,
   "id": "32b6af7c-606d-4fa0-9749-e7eab15b5e6b",
   "metadata": {
    "tags": []
   },
   "outputs": [
    {
     "data": {
      "text/plain": [
       "array([ 4.27      , 11.8125    ,  8.21428571])"
      ]
     },
     "execution_count": 80,
     "metadata": {},
     "output_type": "execute_result"
    }
   ],
   "source": [
    "merkezler3[:,0] # her 3 küme için 0. değişkenin merkez noktaları"
   ]
  },
  {
   "cell_type": "code",
   "execution_count": 74,
   "id": "7415f6d0-4005-481d-93f9-21e747a872e5",
   "metadata": {
    "tags": []
   },
   "outputs": [],
   "source": [
    "import mpl_toolkits"
   ]
  },
  {
   "cell_type": "code",
   "execution_count": 75,
   "id": "92499664-8d44-4666-a503-6ac96f726cb0",
   "metadata": {
    "tags": []
   },
   "outputs": [],
   "source": [
    "from mpl_toolkits.mplot3d import Axes3D"
   ]
  },
  {
   "cell_type": "code",
   "execution_count": 86,
   "id": "ebd97340-4a3b-412b-bc5f-5ad995e4ad88",
   "metadata": {
    "tags": []
   },
   "outputs": [
    {
     "data": {
      "text/plain": [
       "<Figure size 1600x900 with 0 Axes>"
      ]
     },
     "metadata": {},
     "output_type": "display_data"
    }
   ],
   "source": [
    "# 3 boyutlu bir scatter oluşturalım\n",
    "plt.rcParams[\"figure.figsize\"] = (16, 9)\n",
    "fig = plt.figure()\n",
    "ax = Axes3D(fig)\n",
    "ax.scatter(df.iloc[:, 0], df.iloc[:, 1], df.iloc[:, 2]);"
   ]
  },
  {
   "cell_type": "code",
   "execution_count": 87,
   "id": "76443eff-9ca6-4b92-af7b-d50d01b92c8c",
   "metadata": {
    "tags": []
   },
   "outputs": [
    {
     "data": {
      "text/plain": [
       "<Figure size 1600x900 with 0 Axes>"
      ]
     },
     "metadata": {},
     "output_type": "display_data"
    }
   ],
   "source": [
    "fig = plt.figure()\n",
    "ax = Axes3D(fig)\n",
    "ax.scatter(df.iloc[:, 0], df.iloc[:, 1], df.iloc[:, 2], c=kumeler3)\n",
    "ax.scatter(merkezler3[:, 0], merkezler3[:, 1], merkezler3[:, 2],\n",
    "          marker='*',\n",
    "          c='#050505',\n",
    "          s=1000);"
   ]
  },
  {
   "cell_type": "code",
   "execution_count": 88,
   "id": "b99dc34f-e4af-4009-8abd-4c978b783006",
   "metadata": {
    "tags": []
   },
   "outputs": [
    {
     "data": {
      "image/png": "[encoded data removed]",
      "text/plain": [
       "<Figure size 1600x900 with 1 Axes>"
      ]
     },
     "metadata": {},
     "output_type": "display_data"
    }
   ],
   "source": [
    "fig = plt.figure(figsize = (16,9))\n",
    "ax = plt.axes(projection=\"3d\")\n",
    "ax.scatter(df.iloc[:, 0], df.iloc[:, 1], df.iloc[:, 2], c=kumeler3)\n",
    "ax.scatter(merkezler3[:, 0], merkezler3[:, 1], merkezler3[:, 2],\n",
    "           marker='*',\n",
    "           c='#050505',\n",
    "           s=1000);"
   ]
  },
  {
   "cell_type": "code",
   "execution_count": null,
   "id": "94582939-f696-4b24-810f-fea86d32ec95",
   "metadata": {},
   "outputs": [],
   "source": []
  },
  {
   "cell_type": "code",
   "execution_count": null,
   "id": "3b51c23b-1d8f-41c9-88ec-e786432b5ba3",
   "metadata": {},
   "outputs": [],
   "source": []
  },
  {
   "cell_type": "code",
   "execution_count": null,
   "id": "8f16f1d9-96ce-49dd-b2c1-ca69ef33df18",
   "metadata": {},
   "outputs": [],
   "source": []
  },
  {
   "cell_type": "markdown",
   "id": "e2486b69-3d1f-4b74-8802-cd8f05bcba19",
   "metadata": {},
   "source": [
    "### Kümeler ve Gözlem Birimleri"
   ]
  },
  {
   "cell_type": "markdown",
   "id": "70782759-330c-4232-b93a-c15a03d80822",
   "metadata": {},
   "source": [
    "Hangi eyaletin hangi kümeye ait olduğu bilgisini veri setine bir değişken olarak ekleyebilir miyiz?"
   ]
  },
  {
   "cell_type": "code",
   "execution_count": 89,
   "id": "705ceb02-a614-41d9-8f12-c9a3a7f88de1",
   "metadata": {
    "tags": []
   },
   "outputs": [],
   "source": [
    "# 3 kümeli\n",
    "kmeans_3 = KMeans(n_clusters = 3)"
   ]
  },
  {
   "cell_type": "code",
   "execution_count": 90,
   "id": "dfb79091-966f-4126-9f71-a80ec1196e24",
   "metadata": {
    "tags": []
   },
   "outputs": [],
   "source": [
    "k_fit3 = kmeans_3.fit(df)"
   ]
  },
  {
   "cell_type": "code",
   "execution_count": 91,
   "id": "be0f5856-eac5-4669-b19c-40890bb8b757",
   "metadata": {
    "tags": []
   },
   "outputs": [
    {
     "data": {
      "text/plain": [
       "array([2, 2, 2, 0, 2, 0, 1, 2, 2, 0, 1, 1, 2, 1, 1, 1, 1, 2, 1, 2, 0, 2,\n",
       "       1, 2, 0, 1, 1, 2, 1, 0, 2, 2, 2, 1, 1, 0, 0, 1, 0, 2, 1, 0, 0, 1,\n",
       "       1, 0, 0, 1, 1, 0], dtype=int32)"
      ]
     },
     "execution_count": 91,
     "metadata": {},
     "output_type": "execute_result"
    }
   ],
   "source": [
    "# her bir gözlem biriminin/ eyaletin, hangi sınıfta olduğu bilgisi:\n",
    "kumeler3 = k_fit3.labels_\n",
    "kumeler3"
   ]
  },
  {
   "cell_type": "code",
   "execution_count": 93,
   "id": "2ab8c151-8982-43ec-857d-af2a69c077e0",
   "metadata": {
    "tags": []
   },
   "outputs": [
    {
     "data": {
      "text/html": [
       "<div>\n",
       "<style scoped>\n",
       "    .dataframe tbody tr th:only-of-type {\n",
       "        vertical-align: middle;\n",
       "    }\n",
       "\n",
       "    .dataframe tbody tr th {\n",
       "        vertical-align: top;\n",
       "    }\n",
       "\n",
       "    .dataframe thead th {\n",
       "        text-align: right;\n",
       "    }\n",
       "</style>\n",
       "<table border=\"1\" class=\"dataframe\">\n",
       "  <thead>\n",
       "    <tr style=\"text-align: right;\">\n",
       "      <th></th>\n",
       "      <th>Eyaletler</th>\n",
       "      <th>Kümeler</th>\n",
       "    </tr>\n",
       "  </thead>\n",
       "  <tbody>\n",
       "    <tr>\n",
       "      <th>0</th>\n",
       "      <td>Alabama</td>\n",
       "      <td>2</td>\n",
       "    </tr>\n",
       "    <tr>\n",
       "      <th>1</th>\n",
       "      <td>Alaska</td>\n",
       "      <td>2</td>\n",
       "    </tr>\n",
       "    <tr>\n",
       "      <th>2</th>\n",
       "      <td>Arizona</td>\n",
       "      <td>2</td>\n",
       "    </tr>\n",
       "    <tr>\n",
       "      <th>3</th>\n",
       "      <td>Arkansas</td>\n",
       "      <td>0</td>\n",
       "    </tr>\n",
       "    <tr>\n",
       "      <th>4</th>\n",
       "      <td>California</td>\n",
       "      <td>2</td>\n",
       "    </tr>\n",
       "    <tr>\n",
       "      <th>5</th>\n",
       "      <td>Colorado</td>\n",
       "      <td>0</td>\n",
       "    </tr>\n",
       "    <tr>\n",
       "      <th>6</th>\n",
       "      <td>Connecticut</td>\n",
       "      <td>1</td>\n",
       "    </tr>\n",
       "    <tr>\n",
       "      <th>7</th>\n",
       "      <td>Delaware</td>\n",
       "      <td>2</td>\n",
       "    </tr>\n",
       "    <tr>\n",
       "      <th>8</th>\n",
       "      <td>Florida</td>\n",
       "      <td>2</td>\n",
       "    </tr>\n",
       "    <tr>\n",
       "      <th>9</th>\n",
       "      <td>Georgia</td>\n",
       "      <td>0</td>\n",
       "    </tr>\n",
       "  </tbody>\n",
       "</table>\n",
       "</div>"
      ],
      "text/plain": [
       "     Eyaletler  Kümeler\n",
       "0      Alabama        2\n",
       "1       Alaska        2\n",
       "2      Arizona        2\n",
       "3     Arkansas        0\n",
       "4   California        2\n",
       "5     Colorado        0\n",
       "6  Connecticut        1\n",
       "7     Delaware        2\n",
       "8      Florida        2\n",
       "9      Georgia        0"
      ]
     },
     "execution_count": 93,
     "metadata": {},
     "output_type": "execute_result"
    }
   ],
   "source": [
    "# küme numaralarını ve bu numaraların hangi eyaletlere ait olduğu bilgisini vermek\n",
    "pd.DataFrame({\"Eyaletler\":df.index,\n",
    "              \"Kümeler\": kumeler3})[:10]\n",
    "# hangi eyaletin hangi küme numarasına ait olduğu görülür"
   ]
  },
  {
   "cell_type": "code",
   "execution_count": 96,
   "id": "dfcf1681-f92f-4020-8da2-a17ab59f9825",
   "metadata": {
    "tags": []
   },
   "outputs": [],
   "source": [
    "# veri setine ekleyelim\n",
    "df[\"kume_no\"] = kumeler3"
   ]
  },
  {
   "cell_type": "code",
   "execution_count": 97,
   "id": "3305df0d-a8f2-430c-b812-98620910bf1f",
   "metadata": {
    "tags": []
   },
   "outputs": [
    {
     "data": {
      "text/html": [
       "<div>\n",
       "<style scoped>\n",
       "    .dataframe tbody tr th:only-of-type {\n",
       "        vertical-align: middle;\n",
       "    }\n",
       "\n",
       "    .dataframe tbody tr th {\n",
       "        vertical-align: top;\n",
       "    }\n",
       "\n",
       "    .dataframe thead th {\n",
       "        text-align: right;\n",
       "    }\n",
       "</style>\n",
       "<table border=\"1\" class=\"dataframe\">\n",
       "  <thead>\n",
       "    <tr style=\"text-align: right;\">\n",
       "      <th></th>\n",
       "      <th>Murder</th>\n",
       "      <th>Assault</th>\n",
       "      <th>UrbanPop</th>\n",
       "      <th>Rape</th>\n",
       "      <th>kume_no</th>\n",
       "    </tr>\n",
       "  </thead>\n",
       "  <tbody>\n",
       "    <tr>\n",
       "      <th>Alabama</th>\n",
       "      <td>13.2</td>\n",
       "      <td>236</td>\n",
       "      <td>58</td>\n",
       "      <td>21.2</td>\n",
       "      <td>2</td>\n",
       "    </tr>\n",
       "    <tr>\n",
       "      <th>Alaska</th>\n",
       "      <td>10.0</td>\n",
       "      <td>263</td>\n",
       "      <td>48</td>\n",
       "      <td>44.5</td>\n",
       "      <td>2</td>\n",
       "    </tr>\n",
       "    <tr>\n",
       "      <th>Arizona</th>\n",
       "      <td>8.1</td>\n",
       "      <td>294</td>\n",
       "      <td>80</td>\n",
       "      <td>31.0</td>\n",
       "      <td>2</td>\n",
       "    </tr>\n",
       "    <tr>\n",
       "      <th>Arkansas</th>\n",
       "      <td>8.8</td>\n",
       "      <td>190</td>\n",
       "      <td>50</td>\n",
       "      <td>19.5</td>\n",
       "      <td>0</td>\n",
       "    </tr>\n",
       "    <tr>\n",
       "      <th>California</th>\n",
       "      <td>9.0</td>\n",
       "      <td>276</td>\n",
       "      <td>91</td>\n",
       "      <td>40.6</td>\n",
       "      <td>2</td>\n",
       "    </tr>\n",
       "  </tbody>\n",
       "</table>\n",
       "</div>"
      ],
      "text/plain": [
       "            Murder  Assault  UrbanPop  Rape  kume_no\n",
       "Alabama       13.2      236        58  21.2        2\n",
       "Alaska        10.0      263        48  44.5        2\n",
       "Arizona        8.1      294        80  31.0        2\n",
       "Arkansas       8.8      190        50  19.5        0\n",
       "California     9.0      276        91  40.6        2"
      ]
     },
     "execution_count": 97,
     "metadata": {},
     "output_type": "execute_result"
    }
   ],
   "source": [
    "df.head()"
   ]
  },
  {
   "cell_type": "code",
   "execution_count": 99,
   "id": "9073177b-c496-4ec3-bf1c-649797e9a516",
   "metadata": {
    "tags": []
   },
   "outputs": [],
   "source": [
    "# küme numaralarını 1'den başlatmak için\n",
    "df[\"kume_no\"] = df[\"kume_no\"] + 1"
   ]
  },
  {
   "cell_type": "code",
   "execution_count": 101,
   "id": "942acd9c-9dd0-43e6-8c26-5180459d647c",
   "metadata": {
    "tags": []
   },
   "outputs": [
    {
     "data": {
      "text/html": [
       "<div>\n",
       "<style scoped>\n",
       "    .dataframe tbody tr th:only-of-type {\n",
       "        vertical-align: middle;\n",
       "    }\n",
       "\n",
       "    .dataframe tbody tr th {\n",
       "        vertical-align: top;\n",
       "    }\n",
       "\n",
       "    .dataframe thead th {\n",
       "        text-align: right;\n",
       "    }\n",
       "</style>\n",
       "<table border=\"1\" class=\"dataframe\">\n",
       "  <thead>\n",
       "    <tr style=\"text-align: right;\">\n",
       "      <th></th>\n",
       "      <th>Murder</th>\n",
       "      <th>Assault</th>\n",
       "      <th>UrbanPop</th>\n",
       "      <th>Rape</th>\n",
       "      <th>kume_no</th>\n",
       "    </tr>\n",
       "  </thead>\n",
       "  <tbody>\n",
       "    <tr>\n",
       "      <th>Alabama</th>\n",
       "      <td>13.2</td>\n",
       "      <td>236</td>\n",
       "      <td>58</td>\n",
       "      <td>21.2</td>\n",
       "      <td>3</td>\n",
       "    </tr>\n",
       "    <tr>\n",
       "      <th>Alaska</th>\n",
       "      <td>10.0</td>\n",
       "      <td>263</td>\n",
       "      <td>48</td>\n",
       "      <td>44.5</td>\n",
       "      <td>3</td>\n",
       "    </tr>\n",
       "    <tr>\n",
       "      <th>Arizona</th>\n",
       "      <td>8.1</td>\n",
       "      <td>294</td>\n",
       "      <td>80</td>\n",
       "      <td>31.0</td>\n",
       "      <td>3</td>\n",
       "    </tr>\n",
       "    <tr>\n",
       "      <th>Arkansas</th>\n",
       "      <td>8.8</td>\n",
       "      <td>190</td>\n",
       "      <td>50</td>\n",
       "      <td>19.5</td>\n",
       "      <td>1</td>\n",
       "    </tr>\n",
       "    <tr>\n",
       "      <th>California</th>\n",
       "      <td>9.0</td>\n",
       "      <td>276</td>\n",
       "      <td>91</td>\n",
       "      <td>40.6</td>\n",
       "      <td>3</td>\n",
       "    </tr>\n",
       "  </tbody>\n",
       "</table>\n",
       "</div>"
      ],
      "text/plain": [
       "            Murder  Assault  UrbanPop  Rape  kume_no\n",
       "Alabama       13.2      236        58  21.2        3\n",
       "Alaska        10.0      263        48  44.5        3\n",
       "Arizona        8.1      294        80  31.0        3\n",
       "Arkansas       8.8      190        50  19.5        1\n",
       "California     9.0      276        91  40.6        3"
      ]
     },
     "execution_count": 101,
     "metadata": {},
     "output_type": "execute_result"
    }
   ],
   "source": [
    "df.head()"
   ]
  },
  {
   "cell_type": "code",
   "execution_count": null,
   "id": "04393b66-8e28-4bbf-8dc2-9df98cd7ad6b",
   "metadata": {},
   "outputs": [],
   "source": []
  },
  {
   "cell_type": "markdown",
   "id": "69bf8889-12cb-4912-bc52-38cd13d4424f",
   "metadata": {},
   "source": [
    "öyle bir k değeri belirlenmeliki veri setinin içerisindeki kümelenme değişimini min hata ile olsun. min hata ise kümeler içi hataların hesaplanmasından sonra bütün kümelerin hatasının toplanmasıdır."
   ]
  },
  {
   "cell_type": "code",
   "execution_count": null,
   "id": "b79b72dc-3719-4c52-a00e-fa0962f3d25d",
   "metadata": {},
   "outputs": [],
   "source": []
  },
  {
   "cell_type": "code",
   "execution_count": null,
   "id": "dae4cdef-c2d8-491e-b557-fa791a1cd053",
   "metadata": {},
   "outputs": [],
   "source": []
  },
  {
   "cell_type": "code",
   "execution_count": null,
   "id": "d09e385c-9b37-438f-bc58-a4d3a2f355da",
   "metadata": {},
   "outputs": [],
   "source": []
  },
  {
   "cell_type": "code",
   "execution_count": null,
   "id": "22116436-af20-4c26-8668-ede2af0623c4",
   "metadata": {},
   "outputs": [],
   "source": []
  },
  {
   "cell_type": "markdown",
   "id": "6f2ca0ac-7460-487d-9180-5f9b77c6aa4d",
   "metadata": {},
   "source": [
    "## K-Means - Elbow ile Optimum Küme Sayısının Belirlenmesi"
   ]
  },
  {
   "cell_type": "markdown",
   "id": "8d4240a6-0da1-40fc-a745-8e879ab64dc4",
   "metadata": {},
   "source": [
    "kümeler içi benzerliğin yüksek, kümeler arası düşük olması önemlidir. dolayısıyla bu durumun matemetiksel olarak ortaya konması gerekmekte çünkü ancak bu şekilde k küme sayısının kaç olduğuna karar verebilelim. bunun matematiksel olarak ortaya konmasının yolu ise her bir gözlem biriminin içinde bulunduğu kümenin merkezine olan uzaklıklarının ve bunun sonucunda genel olarak bütün kümelerin merkezleriyle ilgili bu hesaplamanın yapılıp toplanması ile elde edilir. her kümenin içerisindeki her bir elemanın merkezine olan uzaklılarının hesaplanması ve bu değerlerin toplandığında hata/uzaklık kareler toplamını (uzaklıkların karelerinin alınıp toplanması) ifade eder. her bir kümenin kendi ukt'nı alacağız bunun hepsini topladığımızda bize bir belirli bir küme sayısındaki hatayı verecek. örneğin 3, 5 vs. küme için bu hesaplamalar yapılacak ve optimum küme sayısı bulunacak. bunun için Elbow yöntemini kullanacağız"
   ]
  },
  {
   "cell_type": "code",
   "execution_count": 115,
   "id": "f316a2d7-5b4c-4740-82f7-557804ce517a",
   "metadata": {
    "tags": []
   },
   "outputs": [],
   "source": [
    "# !pip install yellowbrick"
   ]
  },
  {
   "cell_type": "code",
   "execution_count": 104,
   "id": "7e208819-f669-4fde-8244-9bb41247fa3a",
   "metadata": {
    "tags": []
   },
   "outputs": [],
   "source": [
    "# görselleştirme için gerekli\n",
    "from yellowbrick.cluster import KElbowVisualizer"
   ]
  },
  {
   "cell_type": "code",
   "execution_count": 109,
   "id": "e6362c9c-6ae6-407e-b848-cb58596d3179",
   "metadata": {
    "tags": []
   },
   "outputs": [],
   "source": [
    "# model nesnesini oluşturdum\n",
    "kmeans = KMeans()"
   ]
  },
  {
   "cell_type": "code",
   "execution_count": 116,
   "id": "de389937-5a6c-4f14-a245-843d798afd85",
   "metadata": {
    "tags": []
   },
   "outputs": [
    {
     "data": {
      "image/png": "[encoded data removed]",
      "text/plain": [
       "<Figure size 800x550 with 2 Axes>"
      ]
     },
     "metadata": {},
     "output_type": "display_data"
    }
   ],
   "source": [
    "# 2'den 20'ye kadar olan bir küme sayılarını dene\n",
    "visualizer = KElbowVisualizer(kmeans, k=(2, 50))\n",
    "# ve elde ettiğin sonuçları görselleştir\n",
    "visualizer.fit(df)\n",
    "visualizer.poof();"
   ]
  },
  {
   "cell_type": "markdown",
   "id": "7e764d77-8437-4c08-a1aa-ce08977fd914",
   "metadata": {},
   "source": [
    "* _fit time_: fit etme süresini gösterir.\n",
    "* _distortion score_: hesaplamış olduğu her bir k küme sayısına karşılık elde ettiği skorları ifade ediyor. düşük olması iyi olması anlamına gelir.\n",
    "* mavi: k değeri değiştikçe küme sayısının düşmesi gözlenmiş. gözlem sayısı kadar küme sayısı(k) olduğunda k'nın 0 olması gerekir. çünkü küme olmaz küme sayısı 50 olduğunda gözlem sayısına eşit olduğunda küme falan ortada kalmaz dolayısıyla sıfıra yaklaşır\n",
    "* heterojenlik sıfıra yaklaşır?"
   ]
  },
  {
   "cell_type": "markdown",
   "id": "d3746013-528b-49d7-8cba-868bd65a64a2",
   "metadata": {},
   "source": [
    "bu grafiği yorumlarsak \n",
    "* k means ve hiyerarşik kümeleme yöntemleri gibi yöntemleri kullanırken mutlaka ve mutlaka iş bilgisini göz önünde bulundurarak segmentasyon yapmak gerekir.\n",
    "* eğer segmentasyon odaklı bir kümeleme analizi yapıyorsak segmentasyon amaçlı yapmıyorda olabiliriz amacımız grup segmente etmek, şirket segmente etmek, müşteri segmente etmek, birey segmente etmek ise bu durumda segment anlamını iyi düşünmek lazım 20 segmentli bir segment zaten segment olmayabilir dolayısıyla segment dediğimiz şey genelde 2-5 tane segment olur ya da temelde bir ana kırılım olur örneğin kredi kartı kullananlar ve kullanmayanlar\n",
    "* kredi kartı kullananlar içerisinden 3, 5 segment çıkabilir.\n",
    "* dolayısıyla segmentasyon dediğimiz şey odağımızı para veya iş gücü/emek kaynaklı bölmeye yarar (gold müşteri, premium müşteri vs.)\n",
    "* k-means'i böyle mekanik bir problem için değilde tamamen iş bilgisi segmentasyon birey kurum üzerinde bir amaç için kullanıyorsak bu durumda elbow yöntemi veya buradaki hata metriklerinin bize sunduğu şey aslında bir `karar destek noktasıdır`."
   ]
  },
  {
   "cell_type": "markdown",
   "id": "3a10abf2-ea3c-42b6-8144-64eec0431846",
   "metadata": {},
   "source": [
    "* segment sayısı hataya bakılarak verilmez. iş bilgisine bakılarak verilir.\n",
    "* birey, kurum ve benzeri durumlarda 10 segment genelde gerekmez belki tepeden bir, iki ana kırılım yapıp o ana kırılımların altında belki kırılımlar yapmak gerekir. kredi kartı kullananlar ve kullanmayanlar olarak ikiye ayrılıp kullanmayanları ve kullananları ayrı ayrı 5 segmente ayırırsak 10 segment oluşur\n",
    "* mavide ilk 4 noktaya baktığımızda 2, 3, 4 ve 5 segment olması durumları verilmiştir. bunlar aslında grupların içerisindeki benzerlik skorunu ifade ediyor\n",
    "* 2 ve 3'e baktığımızda 3'de küme içi homojenlik daha fazladır. 4, 5 küme içi heterojenlik azalır homojen bir yapı oluşur\n",
    "* 4 ile 5e bakıldığında bir fark olmadığı görülür. bir segment ile bir iş yükü daha çıkarmak saçma olduğundan 4 seçildi"
   ]
  },
  {
   "cell_type": "code",
   "execution_count": null,
   "id": "60de35bf-8044-4756-95cb-54138ebdfaf5",
   "metadata": {},
   "outputs": [],
   "source": []
  },
  {
   "cell_type": "code",
   "execution_count": 117,
   "id": "73a382f2-390e-4330-9954-583b583a8234",
   "metadata": {
    "tags": []
   },
   "outputs": [],
   "source": [
    "# k yani küme sayısı 4 seçildi\n",
    "# final modelinı oluşturdum\n",
    "kmeans = KMeans(n_clusters=4)\n",
    "k_fit = kmeans.fit(df)"
   ]
  },
  {
   "cell_type": "code",
   "execution_count": 118,
   "id": "b3d76d7a-4f56-4a3e-8478-d73d4c8b65a2",
   "metadata": {
    "tags": []
   },
   "outputs": [],
   "source": [
    "kumeler = k_fit.labels_"
   ]
  },
  {
   "cell_type": "code",
   "execution_count": 119,
   "id": "ad263c9d-6d84-4809-b4ee-dd74bcf35d88",
   "metadata": {
    "tags": []
   },
   "outputs": [
    {
     "data": {
      "text/html": [
       "<div>\n",
       "<style scoped>\n",
       "    .dataframe tbody tr th:only-of-type {\n",
       "        vertical-align: middle;\n",
       "    }\n",
       "\n",
       "    .dataframe tbody tr th {\n",
       "        vertical-align: top;\n",
       "    }\n",
       "\n",
       "    .dataframe thead th {\n",
       "        text-align: right;\n",
       "    }\n",
       "</style>\n",
       "<table border=\"1\" class=\"dataframe\">\n",
       "  <thead>\n",
       "    <tr style=\"text-align: right;\">\n",
       "      <th></th>\n",
       "      <th>Eyaletler</th>\n",
       "      <th>Kumeler</th>\n",
       "    </tr>\n",
       "  </thead>\n",
       "  <tbody>\n",
       "    <tr>\n",
       "      <th>0</th>\n",
       "      <td>Alabama</td>\n",
       "      <td>1</td>\n",
       "    </tr>\n",
       "    <tr>\n",
       "      <th>1</th>\n",
       "      <td>Alaska</td>\n",
       "      <td>1</td>\n",
       "    </tr>\n",
       "    <tr>\n",
       "      <th>2</th>\n",
       "      <td>Arizona</td>\n",
       "      <td>1</td>\n",
       "    </tr>\n",
       "    <tr>\n",
       "      <th>3</th>\n",
       "      <td>Arkansas</td>\n",
       "      <td>2</td>\n",
       "    </tr>\n",
       "    <tr>\n",
       "      <th>4</th>\n",
       "      <td>California</td>\n",
       "      <td>1</td>\n",
       "    </tr>\n",
       "    <tr>\n",
       "      <th>5</th>\n",
       "      <td>Colorado</td>\n",
       "      <td>2</td>\n",
       "    </tr>\n",
       "    <tr>\n",
       "      <th>6</th>\n",
       "      <td>Connecticut</td>\n",
       "      <td>0</td>\n",
       "    </tr>\n",
       "    <tr>\n",
       "      <th>7</th>\n",
       "      <td>Delaware</td>\n",
       "      <td>1</td>\n",
       "    </tr>\n",
       "    <tr>\n",
       "      <th>8</th>\n",
       "      <td>Florida</td>\n",
       "      <td>1</td>\n",
       "    </tr>\n",
       "    <tr>\n",
       "      <th>9</th>\n",
       "      <td>Georgia</td>\n",
       "      <td>2</td>\n",
       "    </tr>\n",
       "  </tbody>\n",
       "</table>\n",
       "</div>"
      ],
      "text/plain": [
       "     Eyaletler  Kumeler\n",
       "0      Alabama        1\n",
       "1       Alaska        1\n",
       "2      Arizona        1\n",
       "3     Arkansas        2\n",
       "4   California        1\n",
       "5     Colorado        2\n",
       "6  Connecticut        0\n",
       "7     Delaware        1\n",
       "8      Florida        1\n",
       "9      Georgia        2"
      ]
     },
     "execution_count": 119,
     "metadata": {},
     "output_type": "execute_result"
    }
   ],
   "source": [
    "pd.DataFrame({\"Eyaletler\":df.index, \"Kumeler\":kumeler})[:10]"
   ]
  },
  {
   "cell_type": "code",
   "execution_count": null,
   "id": "dac440a8-2ee6-4d08-97ec-6ea4c91c5226",
   "metadata": {},
   "outputs": [],
   "source": []
  },
  {
   "cell_type": "code",
   "execution_count": null,
   "id": "6738ed55-082a-4152-93b8-489bbcc6c472",
   "metadata": {},
   "outputs": [],
   "source": []
  },
  {
   "cell_type": "code",
   "execution_count": null,
   "id": "0d05ca4b-dddc-4bf8-be4a-86bae593c574",
   "metadata": {},
   "outputs": [],
   "source": []
  },
  {
   "cell_type": "code",
   "execution_count": null,
   "id": "20c04348-4009-4927-aeff-998de30b1690",
   "metadata": {},
   "outputs": [],
   "source": []
  },
  {
   "cell_type": "code",
   "execution_count": null,
   "id": "5fcdb7d8-5bb8-4eeb-836e-d04b9966b0fb",
   "metadata": {},
   "outputs": [],
   "source": []
  },
  {
   "cell_type": "code",
   "execution_count": null,
   "id": "36f084f5-9cf2-4673-8ff3-6e2591bd077a",
   "metadata": {},
   "outputs": [],
   "source": []
  },
  {
   "cell_type": "code",
   "execution_count": null,
   "id": "938973d6-ca9b-4341-9d5a-9d790391d8ab",
   "metadata": {},
   "outputs": [],
   "source": []
  }
 ],
 "metadata": {
  "kernelspec": {
   "display_name": "Python 3 (ipykernel)",
   "language": "python",
   "name": "python3"
  },
  "language_info": {
   "codemirror_mode": {
    "name": "ipython",
    "version": 3
   },
   "file_extension": ".py",
   "mimetype": "text/x-python",
   "name": "python",
   "nbconvert_exporter": "python",
   "pygments_lexer": "ipython3",
   "version": "3.11.4"
  }
 },
 "nbformat": 4,
 "nbformat_minor": 5
}
