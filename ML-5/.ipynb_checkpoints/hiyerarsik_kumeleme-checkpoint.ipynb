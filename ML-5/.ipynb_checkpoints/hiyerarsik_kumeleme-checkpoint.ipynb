{
 "cells": [
  {
   "cell_type": "markdown",
   "id": "f16302b3-ccfe-4402-9c92-bad53c996e89",
   "metadata": {},
   "source": [
    "# Hiyerarşik Kümeleme\n",
    "\n",
    "Amaç gözlemleri birbirlerine olan benzerliklerine göre alt kümelere ayırmaktır.\n",
    "\n",
    "Amaç bağımlı değişkeni olmayan gözlem birimlerini birbirlerine benzeterek bu benzetmeyi uzaklık metrikleri ile yaparak alt kümelere ayırmak, gruplara ayırmak şeklinde gerçekleşmiş olacak bu gözlemler daha fazla alt sayıda kümeye ayrılmak istendiğinde hiyerarşik yöntemler kullanılır.\n",
    "\n",
    "hiyerarşik kümelenme söz konusudur. "
   ]
  },
  {
   "attachments": {
    "e79e33dd-7ece-4753-a7b5-2667c5e14bb8.webp": {
     "image/webp": "[encoded data removed]"
    }
   },
   "cell_type": "markdown",
   "id": "59218115-70de-483b-bb21-3fb42fac1684",
   "metadata": {},
   "source": [
    "## Dendrogram\n",
    "\n",
    "![hi.webp](attachment:e79e33dd-7ece-4753-a7b5-2667c5e14bb8.webp)"
   ]
  },
  {
   "cell_type": "markdown",
   "id": "9fa98982-ef03-4bb1-ad9d-16cd4aff0a6a",
   "metadata": {},
   "source": [
    "hiyerarşik kümeleme temel olarak 2'ye ayrılmaktadır:\n",
    "* **Divisive(Bölümleyici)**: tüm gözlemler bir aradadır daha sonra 2'ye ayrılır birbirine daha az benzeyenler ayrılır ve bu şekilde devam eder\n",
    "* **Agglomerative(Birleştirici)**: gözlemler birbirine benzerliklerine göre kümelenir. "
   ]
  },
  {
   "cell_type": "markdown",
   "id": "de7928ea-9785-4ff9-aeaf-e9a2993fc651",
   "metadata": {},
   "source": [
    "## Hiyerarşik Kümeleme ile Hiyerarşik Olmayan Kümeleme Arasındaki Fark\n",
    "\n",
    "* Hiyerarşik kümelemede küme sayısına dendrogram sonuçlarına bakılarak karar verilir.\n",
    "* Hiyerarşik olmayan yöntemlerde ise küme sayısı uygulama yapılmadan önce belirlenir.\n",
    "* Hiyerarşik kümeleme yöntemlerinde veri seti gözlemler ya da değişkenler bazında kümeleme işlemine sokulabilirken \n",
    "* Hiyerarşik olmayan yöntemlerde ise sadece gözlemlerin kümelenmesi mümkündür"
   ]
  },
  {
   "cell_type": "markdown",
   "id": "a09d8b50-cf44-479e-a916-12ef27943565",
   "metadata": {},
   "source": [
    "değişkenlerin kümelenmesi olayı sadece hiyerarşik kümeleme yöntemi için geçerlidir. ekseni dönderdiğimizde gözlem birimleri sanki değişkenlermiş gibi kabul edip değişkenleride gözlemlermiş gibi kabul ederiz."
   ]
  },
  {
   "cell_type": "markdown",
   "id": "820e7b4b-875b-4ef9-853f-6acff3f330df",
   "metadata": {},
   "source": [
    "## Birleştirici Kümeleme (Agglomerative)\n",
    "\n",
    "Başlangıçta gözlem sayısı kadar küme vardır.\n",
    "\n",
    "* **Adım 1**: Veri setinde birbirine en yakın olan iki gözlem bulunur.\n",
    "* **Adım 2**: Bu iki nokta bir araya getirilerek yeni bir gözlem oluşturulur. Yani artık veri seti ilk birleşimdeki gözlemlerden oluşmaktadır.\n",
    "* **Adım 3**: Aynı işlem tekrarlanarak kadar yukarı doğru çıkılır. Yani iki kümenin birleşiminden oluşan bu yeni kümeler aynı şekilde birbirlerine benzerliklerine göre tekrar birleştirilir. Bu işlem tüm gözlemler tek bir kümede toplanana kadar bu işlemler tekrar edilir.\n",
    "\n",
    "Birbirine yakın noktalar uzaklık ölçüleri kullanarak belirlenir. Öklit uzaklığı, manhattan uzaklığı, korelasyon vs."
   ]
  },
  {
   "cell_type": "markdown",
   "id": "8a8a00c5-5117-4301-8c88-059c94e3c158",
   "metadata": {},
   "source": [
    "## Bölümleyici Kümeleme (Divisive)\n",
    "\n",
    "Başlangıçta 1 tane küme vardır, o da tüm veri setidir.\n",
    "\n",
    "* **Adım 1**: Tüm gözlemlerin bir arada olduğu küme iki alt kümeye ayrılır.\n",
    "* **Adım 2**: Oluşan yeni kümeler birbirlerine benzemeyen alt kümelere bölünür.\n",
    "* **Adım 3**: Aynı işlem gözlem sayısı kadar küme elde edilinceye kadar edilir."
   ]
  },
  {
   "cell_type": "code",
   "execution_count": null,
   "id": "c1b408f7-a3d4-4d80-9833-e00fbfeb4d35",
   "metadata": {},
   "outputs": [],
   "source": []
  },
  {
   "cell_type": "markdown",
   "id": "e14da3de-4346-4342-9aac-9ff1c564214b",
   "metadata": {},
   "source": [
    "## Hiyerarşik vs Hiyerarşik Olmayan vs Karar Ağaçları\n",
    "\n",
    "* Hiyerarşik yöntemlerde küme sayısına dendrogram sonuçlarına bakılarak karar verilirken, hiyerarşik olmayan yöntemlerde küme sayısı uygulama yapılmadan önce belirlenir.\n",
    "* Hiyerarşik kümeleme yöntemlerinde veri seti gözlemler ya da değişkenler bazında kümeleme işlemine sokulabilirken hiyerarşik olmayan yöntemlerde sadece gözlemlerin kümelenmesi mümkündür.\n",
    "* Karar ağaçlarından farkı; karar ağaçlarında ayırma işlemi hedef değişkene göre yapılırken burada bağımlı değişken olmadığı için gözlemler bağımsız değişkenler üzerinden yapılan uzaklık hesaplarına göre kümelere ayrılır."
   ]
  },
  {
   "cell_type": "code",
   "execution_count": null,
   "id": "381afab7-ee1c-49e5-b0d7-2f0743a63edc",
   "metadata": {},
   "outputs": [],
   "source": []
  },
  {
   "cell_type": "markdown",
   "id": "fc0486cb-9300-4895-acf7-64b3ad16a6de",
   "metadata": {},
   "source": [
    "# Hiyerarşik Kümeleme - Uygulama 1\n",
    "\n",
    "Gözlem birimlerini kümelere ayırma işlemi"
   ]
  },
  {
   "cell_type": "code",
   "execution_count": 1,
   "id": "c1dc86ee-e409-426c-a6f1-c6d63a5f24ec",
   "metadata": {
    "tags": []
   },
   "outputs": [],
   "source": [
    "import pandas as pd"
   ]
  },
  {
   "cell_type": "code",
   "execution_count": 2,
   "id": "91a5d3e6-a310-4a1a-bc57-4dc8980fa5d6",
   "metadata": {
    "tags": []
   },
   "outputs": [],
   "source": [
    "df = pd.read_csv(\"USArrests.csv\") # verileri aldım"
   ]
  },
  {
   "cell_type": "code",
   "execution_count": 3,
   "id": "8d202249-b1ad-44b0-86cc-069f247d1655",
   "metadata": {
    "tags": []
   },
   "outputs": [],
   "source": [
    "df = df.copy()"
   ]
  },
  {
   "cell_type": "code",
   "execution_count": 4,
   "id": "a4c69a53-9aa7-4eeb-9e65-5056df2faf3b",
   "metadata": {
    "tags": []
   },
   "outputs": [],
   "source": [
    "df.index = df.iloc[:, 0] # 0. sütundaki değerleri indeks olarak atadım\n",
    "df = df.iloc[:, 1:5] # 0. sütunu df'den kaldırmış oldum"
   ]
  },
  {
   "cell_type": "code",
   "execution_count": 5,
   "id": "d8dc20a4-0ead-402b-acf2-7ed2c030ec73",
   "metadata": {
    "tags": []
   },
   "outputs": [
    {
     "data": {
      "text/html": [
       "<div>\n",
       "<style scoped>\n",
       "    .dataframe tbody tr th:only-of-type {\n",
       "        vertical-align: middle;\n",
       "    }\n",
       "\n",
       "    .dataframe tbody tr th {\n",
       "        vertical-align: top;\n",
       "    }\n",
       "\n",
       "    .dataframe thead th {\n",
       "        text-align: right;\n",
       "    }\n",
       "</style>\n",
       "<table border=\"1\" class=\"dataframe\">\n",
       "  <thead>\n",
       "    <tr style=\"text-align: right;\">\n",
       "      <th></th>\n",
       "      <th>Murder</th>\n",
       "      <th>Assault</th>\n",
       "      <th>UrbanPop</th>\n",
       "      <th>Rape</th>\n",
       "    </tr>\n",
       "    <tr>\n",
       "      <th>Unnamed: 0</th>\n",
       "      <th></th>\n",
       "      <th></th>\n",
       "      <th></th>\n",
       "      <th></th>\n",
       "    </tr>\n",
       "  </thead>\n",
       "  <tbody>\n",
       "    <tr>\n",
       "      <th>Alabama</th>\n",
       "      <td>13.2</td>\n",
       "      <td>236</td>\n",
       "      <td>58</td>\n",
       "      <td>21.2</td>\n",
       "    </tr>\n",
       "    <tr>\n",
       "      <th>Alaska</th>\n",
       "      <td>10.0</td>\n",
       "      <td>263</td>\n",
       "      <td>48</td>\n",
       "      <td>44.5</td>\n",
       "    </tr>\n",
       "    <tr>\n",
       "      <th>Arizona</th>\n",
       "      <td>8.1</td>\n",
       "      <td>294</td>\n",
       "      <td>80</td>\n",
       "      <td>31.0</td>\n",
       "    </tr>\n",
       "    <tr>\n",
       "      <th>Arkansas</th>\n",
       "      <td>8.8</td>\n",
       "      <td>190</td>\n",
       "      <td>50</td>\n",
       "      <td>19.5</td>\n",
       "    </tr>\n",
       "    <tr>\n",
       "      <th>California</th>\n",
       "      <td>9.0</td>\n",
       "      <td>276</td>\n",
       "      <td>91</td>\n",
       "      <td>40.6</td>\n",
       "    </tr>\n",
       "  </tbody>\n",
       "</table>\n",
       "</div>"
      ],
      "text/plain": [
       "            Murder  Assault  UrbanPop  Rape\n",
       "Unnamed: 0                                 \n",
       "Alabama       13.2      236        58  21.2\n",
       "Alaska        10.0      263        48  44.5\n",
       "Arizona        8.1      294        80  31.0\n",
       "Arkansas       8.8      190        50  19.5\n",
       "California     9.0      276        91  40.6"
      ]
     },
     "execution_count": 5,
     "metadata": {},
     "output_type": "execute_result"
    }
   ],
   "source": [
    "df.head()"
   ]
  },
  {
   "cell_type": "code",
   "execution_count": 6,
   "id": "21970dce-4443-4182-808a-f9e83e748af6",
   "metadata": {
    "tags": []
   },
   "outputs": [],
   "source": [
    "# indeks sütun ismini sildim\n",
    "df.index.name = None "
   ]
  },
  {
   "cell_type": "code",
   "execution_count": 7,
   "id": "a0c10d76-2526-4de0-92fe-dd606c88cb43",
   "metadata": {
    "tags": []
   },
   "outputs": [
    {
     "data": {
      "text/html": [
       "<div>\n",
       "<style scoped>\n",
       "    .dataframe tbody tr th:only-of-type {\n",
       "        vertical-align: middle;\n",
       "    }\n",
       "\n",
       "    .dataframe tbody tr th {\n",
       "        vertical-align: top;\n",
       "    }\n",
       "\n",
       "    .dataframe thead th {\n",
       "        text-align: right;\n",
       "    }\n",
       "</style>\n",
       "<table border=\"1\" class=\"dataframe\">\n",
       "  <thead>\n",
       "    <tr style=\"text-align: right;\">\n",
       "      <th></th>\n",
       "      <th>Murder</th>\n",
       "      <th>Assault</th>\n",
       "      <th>UrbanPop</th>\n",
       "      <th>Rape</th>\n",
       "    </tr>\n",
       "  </thead>\n",
       "  <tbody>\n",
       "    <tr>\n",
       "      <th>Alabama</th>\n",
       "      <td>13.2</td>\n",
       "      <td>236</td>\n",
       "      <td>58</td>\n",
       "      <td>21.2</td>\n",
       "    </tr>\n",
       "    <tr>\n",
       "      <th>Alaska</th>\n",
       "      <td>10.0</td>\n",
       "      <td>263</td>\n",
       "      <td>48</td>\n",
       "      <td>44.5</td>\n",
       "    </tr>\n",
       "    <tr>\n",
       "      <th>Arizona</th>\n",
       "      <td>8.1</td>\n",
       "      <td>294</td>\n",
       "      <td>80</td>\n",
       "      <td>31.0</td>\n",
       "    </tr>\n",
       "    <tr>\n",
       "      <th>Arkansas</th>\n",
       "      <td>8.8</td>\n",
       "      <td>190</td>\n",
       "      <td>50</td>\n",
       "      <td>19.5</td>\n",
       "    </tr>\n",
       "    <tr>\n",
       "      <th>California</th>\n",
       "      <td>9.0</td>\n",
       "      <td>276</td>\n",
       "      <td>91</td>\n",
       "      <td>40.6</td>\n",
       "    </tr>\n",
       "  </tbody>\n",
       "</table>\n",
       "</div>"
      ],
      "text/plain": [
       "            Murder  Assault  UrbanPop  Rape\n",
       "Alabama       13.2      236        58  21.2\n",
       "Alaska        10.0      263        48  44.5\n",
       "Arizona        8.1      294        80  31.0\n",
       "Arkansas       8.8      190        50  19.5\n",
       "California     9.0      276        91  40.6"
      ]
     },
     "execution_count": 7,
     "metadata": {},
     "output_type": "execute_result"
    }
   ],
   "source": [
    "df.head()"
   ]
  },
  {
   "cell_type": "markdown",
   "id": "10e34d1f-8c03-4daa-a926-e59a6aeba4fb",
   "metadata": {},
   "source": [
    "Amacımız eyaletleri belirli suç istatistiklerine ve nüfus ile ilgili bir değişkene karşılık belirli kümelere/segmentlere ayırmak olacak\n",
    "\n",
    "bunu bu sefer hiyerarşik olmayan bir yöntem olan k-means değilde hiyerarşik bir yöntem olan hiyerarşik kümeleme yöntemiyle ele alacağız\n",
    "\n",
    "birleştirici ve bölümleyici bazı alt teknikler vardı"
   ]
  },
  {
   "cell_type": "code",
   "execution_count": 8,
   "id": "ba5c61c7-41e8-447a-9ff5-fe14551e43a7",
   "metadata": {
    "tags": []
   },
   "outputs": [],
   "source": [
    "from scipy.cluster.hierarchy import linkage\n",
    "\n",
    "# bu yöntemi uygulayabilmek için bazı fonksiyonları çağırdım\n",
    "# birleştirici metotlar:\n",
    "hc_complete = linkage(df, \"complete\")\n",
    "hc_average = linkage(df, \"average\")\n",
    "hc_single = linkage(df, \"single\")"
   ]
  },
  {
   "cell_type": "code",
   "execution_count": 9,
   "id": "e385dcf6-0af7-42e6-ad16-93193a8a793b",
   "metadata": {
    "tags": []
   },
   "outputs": [],
   "source": [
    "# bu metotların nasıl sonuçlar ortaya çıkardığına bakacağız"
   ]
  },
  {
   "cell_type": "code",
   "execution_count": 11,
   "id": "53c19b77-c491-4abc-8190-f2c640d4c355",
   "metadata": {
    "tags": []
   },
   "outputs": [
    {
     "data": {
      "image/png": "[encoded data removed]",
      "text/plain": [
       "<Figure size 1500x1000 with 1 Axes>"
      ]
     },
     "metadata": {},
     "output_type": "display_data"
    }
   ],
   "source": [
    "from scipy.cluster.hierarchy import dendrogram\n",
    "import matplotlib.pyplot as plt\n",
    "\n",
    "# grafik ayarlamaları\n",
    "plt.figure(figsize=(15, 10))\n",
    "plt.title(\"Hiyerarşik Kümeleme - Dendogram\")\n",
    "plt.xlabel(\"Indexler\")\n",
    "plt.ylabel(\"Uzaklık\")\n",
    "\n",
    "# dendrogram oluşturma işlemi\n",
    "dendrogram(\n",
    "    hc_complete,\n",
    "    leaf_font_size=10\n",
    ");"
   ]
  },
  {
   "cell_type": "markdown",
   "id": "009adf87-7225-40c7-b459-fe5015b0c4ce",
   "metadata": {},
   "source": [
    "400-500 tane gözlem birimi olduğunda, bunlara yapacağımız segment/kümeleme işlemini gözlemlemek ve buradan kararlara varabilmek işlemini K-Means'e göre daha güzel bir şekilde veriyor, hiyerarşik kümeleme.\n",
    "\n",
    "turuncu ve yeşil, 2 farklı kümedir. (2 segment)\n",
    "\n",
    "biraz daha detaylandırılıp 3 segmentli de yapabiliriz."
   ]
  },
  {
   "cell_type": "code",
   "execution_count": null,
   "id": "818193f3-63f3-4f12-9644-f2102728dace",
   "metadata": {},
   "outputs": [],
   "source": []
  },
  {
   "cell_type": "code",
   "execution_count": null,
   "id": "dba6ae08-6460-4e5f-8adf-db406b911d8d",
   "metadata": {},
   "outputs": [],
   "source": []
  },
  {
   "cell_type": "code",
   "execution_count": null,
   "id": "7740520d-86d1-4932-8590-7a771bb1f111",
   "metadata": {},
   "outputs": [],
   "source": []
  },
  {
   "cell_type": "code",
   "execution_count": 13,
   "id": "860321a4-33fe-4d4a-a4de-8e550058220c",
   "metadata": {
    "tags": []
   },
   "outputs": [
    {
     "data": {
      "image/png": "[encoded data removed]",
      "text/plain": [
       "<Figure size 1500x1000 with 1 Axes>"
      ]
     },
     "metadata": {},
     "output_type": "display_data"
    }
   ],
   "source": [
    "from scipy.cluster.hierarchy import dendrogram\n",
    "import matplotlib.pyplot as plt\n",
    "\n",
    "# grafik ayarlamaları\n",
    "plt.figure(figsize=(15, 10))\n",
    "plt.title(\"Hiyerarşik Kümeleme - Dendogram\")\n",
    "plt.xlabel(\"Indexler\")\n",
    "plt.ylabel(\"Uzaklık\")\n",
    "\n",
    "# dendrogram oluşturma işlemi\n",
    "dendrogram(\n",
    "    hc_complete,\n",
    "    # En çok 12 tane kümeye ayırması için:\n",
    "    truncate_mode = \"lastp\",\n",
    "    p=12,\n",
    "    show_contracted = True\n",
    ");"
   ]
  },
  {
   "cell_type": "markdown",
   "id": "d8fbd3b7-f6b4-474f-a84c-d0645e749066",
   "metadata": {},
   "source": [
    "12 tane küme gösterilmiştir ve bu kümelerin altında kaç tane eleman bulunduğunu göstermiştir. (3): 3 eleman var."
   ]
  },
  {
   "cell_type": "code",
   "execution_count": null,
   "id": "ccb1f26d-4ece-4eab-b4af-9409df57f7ee",
   "metadata": {},
   "outputs": [],
   "source": []
  },
  {
   "cell_type": "code",
   "execution_count": null,
   "id": "5e9d4b1b-43ab-432e-b537-877789b1b9b3",
   "metadata": {},
   "outputs": [],
   "source": []
  },
  {
   "cell_type": "code",
   "execution_count": null,
   "id": "4940ce29-3fda-4158-93cc-cf77d6575a56",
   "metadata": {},
   "outputs": [],
   "source": []
  },
  {
   "cell_type": "code",
   "execution_count": 14,
   "id": "f17412b3-6e17-4ab0-b90d-a985fb3a0aeb",
   "metadata": {
    "tags": []
   },
   "outputs": [
    {
     "data": {
      "image/png": "[encoded data removed]",
      "text/plain": [
       "<Figure size 1500x1000 with 1 Axes>"
      ]
     },
     "metadata": {},
     "output_type": "display_data"
    }
   ],
   "source": [
    "from scipy.cluster.hierarchy import dendrogram\n",
    "import matplotlib.pyplot as plt\n",
    "\n",
    "# grafik ayarlamaları\n",
    "plt.figure(figsize=(15, 10))\n",
    "plt.title(\"Hiyerarşik Kümeleme - Dendogram\")\n",
    "plt.xlabel(\"Indexler\")\n",
    "plt.ylabel(\"Uzaklık\")\n",
    "\n",
    "# dendrogram oluşturma işlemi\n",
    "dendrogram(\n",
    "    hc_complete,\n",
    "    # En çok 4 tane kümeye ayırması için:\n",
    "    truncate_mode = \"lastp\",\n",
    "    p=4,\n",
    "    show_contracted = True\n",
    ");"
   ]
  },
  {
   "cell_type": "code",
   "execution_count": null,
   "id": "82f971c5-8e89-4d55-bd30-0a9dfd377227",
   "metadata": {},
   "outputs": [],
   "source": []
  },
  {
   "cell_type": "code",
   "execution_count": null,
   "id": "102483d7-07a5-48e6-b78e-3262ef728dd0",
   "metadata": {},
   "outputs": [],
   "source": []
  },
  {
   "cell_type": "code",
   "execution_count": null,
   "id": "60720fd5-44c2-4e79-b505-f0af42aaa14b",
   "metadata": {},
   "outputs": [],
   "source": []
  },
  {
   "cell_type": "code",
   "execution_count": null,
   "id": "57cc4337-e4de-49e0-b06f-821a468e1b69",
   "metadata": {},
   "outputs": [],
   "source": []
  },
  {
   "cell_type": "markdown",
   "id": "e2c37c83-38f4-4d09-8d44-1a924cd26c70",
   "metadata": {},
   "source": [
    "# Hiyerarşik Kümeleme - Uygulama 2\n",
    "\n",
    "## Optimum Küme Sayısı"
   ]
  },
  {
   "cell_type": "code",
   "execution_count": 18,
   "id": "5e376e38-54a0-4f99-ac66-31e8d8125bfe",
   "metadata": {
    "tags": []
   },
   "outputs": [
    {
     "data": {
      "image/png": "[encoded data removed]",
      "text/plain": [
       "<Figure size 1500x1000 with 1 Axes>"
      ]
     },
     "metadata": {},
     "output_type": "display_data"
    }
   ],
   "source": [
    "from scipy.cluster.hierarchy import dendrogram\n",
    "import matplotlib.pyplot as plt\n",
    "\n",
    "# grafik ayarlamaları\n",
    "plt.figure(figsize=(15, 10))\n",
    "plt.title(\"Hiyerarşik Kümeleme - Dendogram\")\n",
    "plt.xlabel(\"Indexler\")\n",
    "plt.ylabel(\"Uzaklık\")\n",
    "\n",
    "# dendrogram oluşturma işlemi\n",
    "dendrogram(\n",
    "    hc_complete,\n",
    "    leaf_font_size=11\n",
    ");"
   ]
  },
  {
   "cell_type": "markdown",
   "id": "ed9e75b2-9a67-4e4e-aabe-0432279adcb0",
   "metadata": {},
   "source": [
    "küme yapısını, nümerik bir yöntem yerine, iş bilgisine uygun bir şekilde belirlemeliyiz. bu problemi 4 kümeye ayırabiliriz. yeşilleri 2 kümeye, turuncuları 2 kümeye ayırabiliriz."
   ]
  },
  {
   "cell_type": "code",
   "execution_count": 19,
   "id": "c93e9cca-3766-4ec0-bf17-23d70335a304",
   "metadata": {
    "tags": []
   },
   "outputs": [],
   "source": [
    "from sklearn.cluster import AgglomerativeClustering"
   ]
  },
  {
   "cell_type": "code",
   "execution_count": 20,
   "id": "8ed13e96-ae87-4fb7-a922-616339f4bad1",
   "metadata": {
    "tags": []
   },
   "outputs": [],
   "source": [
    "# küme sayısını 4 yapalım\n",
    "# birleştirici(Agglomerative) kümeleme işlemi gerçekleştireceğiz\n",
    "# affinity: uzaklık metriği olarak euclidean\n",
    "# linkage: metod olarak ward\n",
    "cluster = AgglomerativeClustering(n_clusters = 4,\n",
    "                                  affinity = \"euclidean\",\n",
    "                                 linkage = \"ward\")"
   ]
  },
  {
   "cell_type": "code",
   "execution_count": 21,
   "id": "da8ce6e9-f134-4dd0-b0a7-40c82fe6e5f1",
   "metadata": {
    "tags": []
   },
   "outputs": [
    {
     "name": "stderr",
     "output_type": "stream",
     "text": [
      "/Users/rumeysaay/anaconda3/lib/python3.11/site-packages/sklearn/cluster/_agglomerative.py:1005: FutureWarning: Attribute `affinity` was deprecated in version 1.2 and will be removed in 1.4. Use `metric` instead\n",
      "  warnings.warn(\n"
     ]
    },
    {
     "data": {
      "text/plain": [
       "array([0, 0, 0, 2, 0, 2, 3, 0, 0, 2, 1, 3, 0, 3, 1, 3, 3, 0, 1, 0, 2, 0,\n",
       "       1, 0, 2, 3, 3, 0, 1, 2, 0, 0, 0, 1, 3, 2, 2, 3, 2, 0, 1, 2, 2, 3,\n",
       "       1, 2, 2, 1, 1, 2])"
      ]
     },
     "execution_count": 21,
     "metadata": {},
     "output_type": "execute_result"
    }
   ],
   "source": [
    "cluster.fit_predict(df)"
   ]
  },
  {
   "cell_type": "markdown",
   "id": "9bae9d61-2944-4e51-b8a7-bfdbce799a3d",
   "metadata": {},
   "source": [
    "her bir gözlem biriminin ait olduğu etiketleri ifade eder."
   ]
  },
  {
   "cell_type": "code",
   "execution_count": 22,
   "id": "14e91423-c165-431f-9731-79f9a2069cad",
   "metadata": {
    "tags": []
   },
   "outputs": [
    {
     "name": "stderr",
     "output_type": "stream",
     "text": [
      "/Users/rumeysaay/anaconda3/lib/python3.11/site-packages/sklearn/cluster/_agglomerative.py:1005: FutureWarning: Attribute `affinity` was deprecated in version 1.2 and will be removed in 1.4. Use `metric` instead\n",
      "  warnings.warn(\n"
     ]
    },
    {
     "data": {
      "text/html": [
       "<div>\n",
       "<style scoped>\n",
       "    .dataframe tbody tr th:only-of-type {\n",
       "        vertical-align: middle;\n",
       "    }\n",
       "\n",
       "    .dataframe tbody tr th {\n",
       "        vertical-align: top;\n",
       "    }\n",
       "\n",
       "    .dataframe thead th {\n",
       "        text-align: right;\n",
       "    }\n",
       "</style>\n",
       "<table border=\"1\" class=\"dataframe\">\n",
       "  <thead>\n",
       "    <tr style=\"text-align: right;\">\n",
       "      <th></th>\n",
       "      <th>Eyaletler</th>\n",
       "      <th>Kumeler</th>\n",
       "    </tr>\n",
       "  </thead>\n",
       "  <tbody>\n",
       "    <tr>\n",
       "      <th>0</th>\n",
       "      <td>Alabama</td>\n",
       "      <td>0</td>\n",
       "    </tr>\n",
       "    <tr>\n",
       "      <th>1</th>\n",
       "      <td>Alaska</td>\n",
       "      <td>0</td>\n",
       "    </tr>\n",
       "    <tr>\n",
       "      <th>2</th>\n",
       "      <td>Arizona</td>\n",
       "      <td>0</td>\n",
       "    </tr>\n",
       "    <tr>\n",
       "      <th>3</th>\n",
       "      <td>Arkansas</td>\n",
       "      <td>2</td>\n",
       "    </tr>\n",
       "    <tr>\n",
       "      <th>4</th>\n",
       "      <td>California</td>\n",
       "      <td>0</td>\n",
       "    </tr>\n",
       "    <tr>\n",
       "      <th>5</th>\n",
       "      <td>Colorado</td>\n",
       "      <td>2</td>\n",
       "    </tr>\n",
       "    <tr>\n",
       "      <th>6</th>\n",
       "      <td>Connecticut</td>\n",
       "      <td>3</td>\n",
       "    </tr>\n",
       "    <tr>\n",
       "      <th>7</th>\n",
       "      <td>Delaware</td>\n",
       "      <td>0</td>\n",
       "    </tr>\n",
       "    <tr>\n",
       "      <th>8</th>\n",
       "      <td>Florida</td>\n",
       "      <td>0</td>\n",
       "    </tr>\n",
       "    <tr>\n",
       "      <th>9</th>\n",
       "      <td>Georgia</td>\n",
       "      <td>2</td>\n",
       "    </tr>\n",
       "  </tbody>\n",
       "</table>\n",
       "</div>"
      ],
      "text/plain": [
       "     Eyaletler  Kumeler\n",
       "0      Alabama        0\n",
       "1       Alaska        0\n",
       "2      Arizona        0\n",
       "3     Arkansas        2\n",
       "4   California        0\n",
       "5     Colorado        2\n",
       "6  Connecticut        3\n",
       "7     Delaware        0\n",
       "8      Florida        0\n",
       "9      Georgia        2"
      ]
     },
     "execution_count": 22,
     "metadata": {},
     "output_type": "execute_result"
    }
   ],
   "source": [
    "pd.DataFrame({\"Eyaletler\": df.index, \"Kumeler\": cluster.fit_predict(df)})[:10]"
   ]
  },
  {
   "cell_type": "code",
   "execution_count": 23,
   "id": "fa6f8635-df95-4dd6-b3d8-648e9c669ba4",
   "metadata": {
    "tags": []
   },
   "outputs": [
    {
     "name": "stderr",
     "output_type": "stream",
     "text": [
      "/Users/rumeysaay/anaconda3/lib/python3.11/site-packages/sklearn/cluster/_agglomerative.py:1005: FutureWarning: Attribute `affinity` was deprecated in version 1.2 and will be removed in 1.4. Use `metric` instead\n",
      "  warnings.warn(\n"
     ]
    }
   ],
   "source": [
    "df[\"kume_no\"] = cluster.fit_predict(df)"
   ]
  },
  {
   "cell_type": "code",
   "execution_count": 24,
   "id": "d0758ef8-7a94-4395-9fbf-88d9fd8420d8",
   "metadata": {
    "tags": []
   },
   "outputs": [
    {
     "data": {
      "text/html": [
       "<div>\n",
       "<style scoped>\n",
       "    .dataframe tbody tr th:only-of-type {\n",
       "        vertical-align: middle;\n",
       "    }\n",
       "\n",
       "    .dataframe tbody tr th {\n",
       "        vertical-align: top;\n",
       "    }\n",
       "\n",
       "    .dataframe thead th {\n",
       "        text-align: right;\n",
       "    }\n",
       "</style>\n",
       "<table border=\"1\" class=\"dataframe\">\n",
       "  <thead>\n",
       "    <tr style=\"text-align: right;\">\n",
       "      <th></th>\n",
       "      <th>Murder</th>\n",
       "      <th>Assault</th>\n",
       "      <th>UrbanPop</th>\n",
       "      <th>Rape</th>\n",
       "      <th>kume_no</th>\n",
       "    </tr>\n",
       "  </thead>\n",
       "  <tbody>\n",
       "    <tr>\n",
       "      <th>Alabama</th>\n",
       "      <td>13.2</td>\n",
       "      <td>236</td>\n",
       "      <td>58</td>\n",
       "      <td>21.2</td>\n",
       "      <td>0</td>\n",
       "    </tr>\n",
       "    <tr>\n",
       "      <th>Alaska</th>\n",
       "      <td>10.0</td>\n",
       "      <td>263</td>\n",
       "      <td>48</td>\n",
       "      <td>44.5</td>\n",
       "      <td>0</td>\n",
       "    </tr>\n",
       "    <tr>\n",
       "      <th>Arizona</th>\n",
       "      <td>8.1</td>\n",
       "      <td>294</td>\n",
       "      <td>80</td>\n",
       "      <td>31.0</td>\n",
       "      <td>0</td>\n",
       "    </tr>\n",
       "    <tr>\n",
       "      <th>Arkansas</th>\n",
       "      <td>8.8</td>\n",
       "      <td>190</td>\n",
       "      <td>50</td>\n",
       "      <td>19.5</td>\n",
       "      <td>2</td>\n",
       "    </tr>\n",
       "    <tr>\n",
       "      <th>California</th>\n",
       "      <td>9.0</td>\n",
       "      <td>276</td>\n",
       "      <td>91</td>\n",
       "      <td>40.6</td>\n",
       "      <td>0</td>\n",
       "    </tr>\n",
       "  </tbody>\n",
       "</table>\n",
       "</div>"
      ],
      "text/plain": [
       "            Murder  Assault  UrbanPop  Rape  kume_no\n",
       "Alabama       13.2      236        58  21.2        0\n",
       "Alaska        10.0      263        48  44.5        0\n",
       "Arizona        8.1      294        80  31.0        0\n",
       "Arkansas       8.8      190        50  19.5        2\n",
       "California     9.0      276        91  40.6        0"
      ]
     },
     "execution_count": 24,
     "metadata": {},
     "output_type": "execute_result"
    }
   ],
   "source": [
    "df.head()"
   ]
  },
  {
   "cell_type": "code",
   "execution_count": null,
   "id": "4b141bb2-330b-4cf5-bcf1-ee16e0062b56",
   "metadata": {},
   "outputs": [],
   "source": []
  },
  {
   "cell_type": "code",
   "execution_count": null,
   "id": "be8e6a77-80bb-4ca9-9226-21fd2c47d109",
   "metadata": {},
   "outputs": [],
   "source": []
  },
  {
   "cell_type": "code",
   "execution_count": null,
   "id": "56ce8ea7-8f31-410d-a4ab-b8ffc60d7bd6",
   "metadata": {},
   "outputs": [],
   "source": []
  },
  {
   "cell_type": "code",
   "execution_count": null,
   "id": "8ccd5b5b-4fb5-46fc-b8fd-87cbc6069392",
   "metadata": {},
   "outputs": [],
   "source": []
  },
  {
   "cell_type": "code",
   "execution_count": null,
   "id": "abdd0fd7-ca5d-4e6a-8708-a35f81b5c0fc",
   "metadata": {},
   "outputs": [],
   "source": []
  },
  {
   "cell_type": "code",
   "execution_count": null,
   "id": "a3dd5a2e-eb8e-4e11-983c-e5f976195ef9",
   "metadata": {},
   "outputs": [],
   "source": []
  }
 ],
 "metadata": {
  "kernelspec": {
   "display_name": "Python 3 (ipykernel)",
   "language": "python",
   "name": "python3"
  },
  "language_info": {
   "codemirror_mode": {
    "name": "ipython",
    "version": 3
   },
   "file_extension": ".py",
   "mimetype": "text/x-python",
   "name": "python",
   "nbconvert_exporter": "python",
   "pygments_lexer": "ipython3",
   "version": "3.11.4"
  }
 },
 "nbformat": 4,
 "nbformat_minor": 5
}
