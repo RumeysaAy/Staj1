{
 "cells": [
  {
   "cell_type": "markdown",
   "id": "d80c7a2f",
   "metadata": {},
   "source": [
    "# Eleman İşlemleri"
   ]
  },
  {
   "cell_type": "code",
   "execution_count": 2,
   "id": "adaed16c",
   "metadata": {},
   "outputs": [],
   "source": [
    "import numpy as np\n",
    "import pandas as pd"
   ]
  },
  {
   "cell_type": "code",
   "execution_count": 3,
   "id": "1c322fa0",
   "metadata": {},
   "outputs": [
    {
     "data": {
      "text/plain": [
       "array([41, 92, 83, 74,  6])"
      ]
     },
     "execution_count": 3,
     "metadata": {},
     "output_type": "execute_result"
    }
   ],
   "source": [
    "a=np.array([41,92,83,74,6])\n",
    "a"
   ]
  },
  {
   "cell_type": "code",
   "execution_count": 4,
   "id": "041fc6a0",
   "metadata": {},
   "outputs": [
    {
     "data": {
      "text/plain": [
       "0    41\n",
       "1    92\n",
       "2    83\n",
       "3    74\n",
       "4     6\n",
       "dtype: int64"
      ]
     },
     "execution_count": 4,
     "metadata": {},
     "output_type": "execute_result"
    }
   ],
   "source": [
    "seri=pd.Series(a)\n",
    "seri"
   ]
  },
  {
   "cell_type": "code",
   "execution_count": 5,
   "id": "be82ae39",
   "metadata": {},
   "outputs": [
    {
     "data": {
      "text/plain": [
       "83"
      ]
     },
     "execution_count": 5,
     "metadata": {},
     "output_type": "execute_result"
    }
   ],
   "source": [
    "seri[2]"
   ]
  },
  {
   "cell_type": "code",
   "execution_count": 6,
   "id": "b52fdad2",
   "metadata": {},
   "outputs": [
    {
     "data": {
      "text/plain": [
       "0    41\n",
       "1    92\n",
       "2    83\n",
       "dtype: int64"
      ]
     },
     "execution_count": 6,
     "metadata": {},
     "output_type": "execute_result"
    }
   ],
   "source": [
    "seri[0:3]"
   ]
  },
  {
   "cell_type": "code",
   "execution_count": 7,
   "id": "a1edb0f7",
   "metadata": {},
   "outputs": [
    {
     "data": {
      "text/plain": [
       "reg     121\n",
       "loj     200\n",
       "cart    150\n",
       "rf       99\n",
       "dtype: int64"
      ]
     },
     "execution_count": 7,
     "metadata": {},
     "output_type": "execute_result"
    }
   ],
   "source": [
    "seri=pd.Series([121,200,150,99], index=[\"reg\",\"loj\",\"cart\",\"rf\"])\n",
    "seri"
   ]
  },
  {
   "cell_type": "code",
   "execution_count": 8,
   "id": "98d8cb10",
   "metadata": {},
   "outputs": [
    {
     "data": {
      "text/plain": [
       "Index(['reg', 'loj', 'cart', 'rf'], dtype='object')"
      ]
     },
     "execution_count": 8,
     "metadata": {},
     "output_type": "execute_result"
    }
   ],
   "source": [
    "# sadece indexlere erişmek için\n",
    "seri.index"
   ]
  },
  {
   "cell_type": "code",
   "execution_count": 12,
   "id": "1144ae5d",
   "metadata": {},
   "outputs": [
    {
     "data": {
      "text/plain": [
       "<bound method Series.keys of reg     121\n",
       "loj     200\n",
       "cart    150\n",
       "rf       99\n",
       "dtype: int64>"
      ]
     },
     "execution_count": 12,
     "metadata": {},
     "output_type": "execute_result"
    }
   ],
   "source": [
    "seri.keys"
   ]
  },
  {
   "cell_type": "code",
   "execution_count": 11,
   "id": "5e4345f7",
   "metadata": {},
   "outputs": [
    {
     "data": {
      "text/plain": [
       "Index(['reg', 'loj', 'cart', 'rf'], dtype='object')"
      ]
     },
     "execution_count": 11,
     "metadata": {},
     "output_type": "execute_result"
    }
   ],
   "source": [
    "seri.keys()"
   ]
  },
  {
   "cell_type": "code",
   "execution_count": 10,
   "id": "b0156c6c",
   "metadata": {},
   "outputs": [
    {
     "data": {
      "text/plain": [
       "[('reg', 121), ('loj', 200), ('cart', 150), ('rf', 99)]"
      ]
     },
     "execution_count": 10,
     "metadata": {},
     "output_type": "execute_result"
    }
   ],
   "source": [
    "list(seri.items())"
   ]
  },
  {
   "cell_type": "code",
   "execution_count": 13,
   "id": "6f880750",
   "metadata": {},
   "outputs": [
    {
     "data": {
      "text/plain": [
       "array([121, 200, 150,  99])"
      ]
     },
     "execution_count": 13,
     "metadata": {},
     "output_type": "execute_result"
    }
   ],
   "source": [
    "seri.values"
   ]
  },
  {
   "cell_type": "markdown",
   "id": "b85486fe",
   "metadata": {},
   "source": [
    "### Eleman Sorgulama"
   ]
  },
  {
   "cell_type": "code",
   "execution_count": 14,
   "id": "b8957249",
   "metadata": {},
   "outputs": [
    {
     "data": {
      "text/plain": [
       "True"
      ]
     },
     "execution_count": 14,
     "metadata": {},
     "output_type": "execute_result"
    }
   ],
   "source": [
    "\"reg\" in seri"
   ]
  },
  {
   "cell_type": "code",
   "execution_count": 15,
   "id": "0809ff66",
   "metadata": {},
   "outputs": [
    {
     "data": {
      "text/plain": [
       "False"
      ]
     },
     "execution_count": 15,
     "metadata": {},
     "output_type": "execute_result"
    }
   ],
   "source": [
    "\"a\" in seri"
   ]
  },
  {
   "cell_type": "code",
   "execution_count": 16,
   "id": "20ea679a",
   "metadata": {},
   "outputs": [
    {
     "data": {
      "text/plain": [
       "False"
      ]
     },
     "execution_count": 16,
     "metadata": {},
     "output_type": "execute_result"
    }
   ],
   "source": [
    "200 in seri"
   ]
  },
  {
   "cell_type": "code",
   "execution_count": 17,
   "id": "9b4cc5f7",
   "metadata": {},
   "outputs": [
    {
     "data": {
      "text/plain": [
       "121"
      ]
     },
     "execution_count": 17,
     "metadata": {},
     "output_type": "execute_result"
    }
   ],
   "source": [
    "seri[\"reg\"]"
   ]
  },
  {
   "cell_type": "markdown",
   "id": "fec29347",
   "metadata": {},
   "source": [
    "### Fancy Eleman"
   ]
  },
  {
   "cell_type": "code",
   "execution_count": 18,
   "id": "f58d9b6e",
   "metadata": {},
   "outputs": [
    {
     "data": {
      "text/plain": [
       "rf      99\n",
       "reg    121\n",
       "dtype: int64"
      ]
     },
     "execution_count": 18,
     "metadata": {},
     "output_type": "execute_result"
    }
   ],
   "source": [
    "seri[[\"rf\",\"reg\"]]"
   ]
  },
  {
   "cell_type": "code",
   "execution_count": 19,
   "id": "077cfa2d",
   "metadata": {},
   "outputs": [],
   "source": [
    "seri[\"reg\"]=445"
   ]
  },
  {
   "cell_type": "code",
   "execution_count": 21,
   "id": "fae5b232",
   "metadata": {},
   "outputs": [
    {
     "data": {
      "text/plain": [
       "reg     445\n",
       "loj     200\n",
       "cart    150\n",
       "rf       99\n",
       "dtype: int64"
      ]
     },
     "execution_count": 21,
     "metadata": {},
     "output_type": "execute_result"
    }
   ],
   "source": [
    "seri"
   ]
  },
  {
   "cell_type": "code",
   "execution_count": 22,
   "id": "334d99b2",
   "metadata": {},
   "outputs": [
    {
     "data": {
      "text/plain": [
       "loj     200\n",
       "cart    150\n",
       "rf       99\n",
       "dtype: int64"
      ]
     },
     "execution_count": 22,
     "metadata": {},
     "output_type": "execute_result"
    }
   ],
   "source": [
    "seri[\"loj\":\"rf\"] # rf dahil"
   ]
  },
  {
   "cell_type": "code",
   "execution_count": null,
   "id": "c1dbd705",
   "metadata": {},
   "outputs": [],
   "source": []
  },
  {
   "cell_type": "code",
   "execution_count": null,
   "id": "eb5420f3",
   "metadata": {},
   "outputs": [],
   "source": []
  },
  {
   "cell_type": "code",
   "execution_count": null,
   "id": "03b04e9b",
   "metadata": {},
   "outputs": [],
   "source": []
  }
 ],
 "metadata": {
  "kernelspec": {
   "display_name": "Python 3 (ipykernel)",
   "language": "python",
   "name": "python3"
  },
  "language_info": {
   "codemirror_mode": {
    "name": "ipython",
    "version": 3
   },
   "file_extension": ".py",
   "mimetype": "text/x-python",
   "name": "python",
   "nbconvert_exporter": "python",
   "pygments_lexer": "ipython3",
   "version": "3.9.7"
  }
 },
 "nbformat": 4,
 "nbformat_minor": 5
}
