{
 "cells": [
  {
   "cell_type": "markdown",
   "id": "1dcdb04c",
   "metadata": {},
   "source": [
    "# Pandas"
   ]
  },
  {
   "cell_type": "markdown",
   "id": "147340cd",
   "metadata": {},
   "source": [
    "- veri bilimi ve yapay zeka\n",
    "- Panel Data: pandas temelinde ekonometrik ve finansal çalışmalar için doğmuştur. panel-veri, zaman-seri\n",
    "- panel-veri: kesit-veri ve zaman-seri verisinin bir arada bulunduğu veri tipidir. bu durumda klasik veri tutma yaklaşımları yerine zaman indexini daha fazla önemseyen bir veri tutma söz konusudur. bu ihtiyaçlarla Pandas ortaya çıkmıştır.\n",
    "- NumPy'ın özelliklerini kullanan ve bunları genişleten bir kütüphanedir.\n",
    "- NumPy'dan farklı olarak bize yapısal veri setleriyle daha esnek bir şekilde çalışma imkanı sağlar.\n",
    "- NumPy, sabitlenmiş tip(fix type); Pandas, DataFrame'i içerisinde ise daha farklı veri tiplerindeki verilerle de çalışabiliriz. kategorik ve sürekli değişkenlerle bir arada çalışabiliriz.\n",
    "- Veri manipülasyonu ve veri analizi için yazılmış açık kaynak kodlu bir Python kütüphanesidir.\n",
    "- finans, istatistik, zaman serileri, veri görselleştirme, veriyle iç içe olmak demek\n",
    "- Pandas'ın teknik anlamda, yapısal anlamda ifade ettiği şey ise : R DataFrame yapısını Python dünyasına taşımış ve DataFrame'ler üzerinde hızlı ve etkili çalışabilme imkanı sağlamıştır.\n",
    "- DataFrame: Veri çerçevesi\n",
    "- Birçok farklı veri tipini okuma ve yazma imkanı sağlar."
   ]
  },
  {
   "cell_type": "markdown",
   "id": "d6dd2e01",
   "metadata": {},
   "source": [
    "# Pandas Serisi Oluşturmak"
   ]
  },
  {
   "cell_type": "code",
   "execution_count": 5,
   "id": "5781ef9e",
   "metadata": {},
   "outputs": [],
   "source": [
    "import pandas as pd"
   ]
  },
  {
   "cell_type": "code",
   "execution_count": 6,
   "id": "b02fbced",
   "metadata": {},
   "outputs": [
    {
     "data": {
      "text/plain": [
       "0     1\n",
       "1    33\n",
       "2     3\n",
       "3     4\n",
       "4     3\n",
       "5     0\n",
       "6    71\n",
       "7    87\n",
       "dtype: int64"
      ]
     },
     "execution_count": 6,
     "metadata": {},
     "output_type": "execute_result"
    }
   ],
   "source": [
    "seri=pd.Series([1,33,3,4,3,0,71,87])\n",
    "seri"
   ]
  },
  {
   "cell_type": "code",
   "execution_count": 7,
   "id": "59904124",
   "metadata": {},
   "outputs": [
    {
     "data": {
      "text/plain": [
       "pandas.core.series.Series"
      ]
     },
     "execution_count": 7,
     "metadata": {},
     "output_type": "execute_result"
    }
   ],
   "source": [
    "type(seri)"
   ]
  },
  {
   "cell_type": "code",
   "execution_count": 9,
   "id": "f33b1abc",
   "metadata": {},
   "outputs": [
    {
     "data": {
      "text/plain": [
       "[RangeIndex(start=0, stop=8, step=1)]"
      ]
     },
     "execution_count": 9,
     "metadata": {},
     "output_type": "execute_result"
    }
   ],
   "source": [
    "# serinin index bilgilerine erişmek için\n",
    "seri.axes # 0dan başlayıp 8(dahil değil)e kadar gitmiş, 1'er 1'er artmış"
   ]
  },
  {
   "cell_type": "code",
   "execution_count": 10,
   "id": "820a46dc",
   "metadata": {},
   "outputs": [
    {
     "data": {
      "text/plain": [
       "dtype('int64')"
      ]
     },
     "execution_count": 10,
     "metadata": {},
     "output_type": "execute_result"
    }
   ],
   "source": [
    "# serinin içerisindeki değerlerin tipleriyle ilgili bilgi almak için\n",
    "seri.dtype"
   ]
  },
  {
   "cell_type": "code",
   "execution_count": 11,
   "id": "cc57a988",
   "metadata": {},
   "outputs": [
    {
     "data": {
      "text/plain": [
       "8"
      ]
     },
     "execution_count": 11,
     "metadata": {},
     "output_type": "execute_result"
    }
   ],
   "source": [
    "seri.size # içerisindeki toplam eleman sayısı"
   ]
  },
  {
   "cell_type": "code",
   "execution_count": 12,
   "id": "e9316b5f",
   "metadata": {},
   "outputs": [
    {
     "data": {
      "text/plain": [
       "1"
      ]
     },
     "execution_count": 12,
     "metadata": {},
     "output_type": "execute_result"
    }
   ],
   "source": [
    "seri.ndim # boyutunu veriyor"
   ]
  },
  {
   "cell_type": "code",
   "execution_count": 13,
   "id": "9acc09e6",
   "metadata": {},
   "outputs": [
    {
     "data": {
      "text/plain": [
       "array([ 1, 33,  3,  4,  3,  0, 71, 87])"
      ]
     },
     "execution_count": 13,
     "metadata": {},
     "output_type": "execute_result"
    }
   ],
   "source": [
    "# içerisindeki değerlere erişmek için\n",
    "seri.values"
   ]
  },
  {
   "cell_type": "code",
   "execution_count": 14,
   "id": "721214a9",
   "metadata": {},
   "outputs": [
    {
     "data": {
      "text/plain": [
       "0     1\n",
       "1    33\n",
       "2     3\n",
       "3     4\n",
       "4     3\n",
       "dtype: int64"
      ]
     },
     "execution_count": 14,
     "metadata": {},
     "output_type": "execute_result"
    }
   ],
   "source": [
    "# ilk 5 gözleme erişmek için\n",
    "seri.head()"
   ]
  },
  {
   "cell_type": "code",
   "execution_count": 16,
   "id": "3a037d97",
   "metadata": {},
   "outputs": [
    {
     "data": {
      "text/plain": [
       "0     1\n",
       "1    33\n",
       "2     3\n",
       "dtype: int64"
      ]
     },
     "execution_count": 16,
     "metadata": {},
     "output_type": "execute_result"
    }
   ],
   "source": [
    "# ilk 3 gözleme erişmek için\n",
    "seri.head(3)"
   ]
  },
  {
   "cell_type": "code",
   "execution_count": 17,
   "id": "f378951c",
   "metadata": {},
   "outputs": [
    {
     "data": {
      "text/plain": [
       "3     4\n",
       "4     3\n",
       "5     0\n",
       "6    71\n",
       "7    87\n",
       "dtype: int64"
      ]
     },
     "execution_count": 17,
     "metadata": {},
     "output_type": "execute_result"
    }
   ],
   "source": [
    "# son 5 gözleme erişmek için\n",
    "seri.tail()"
   ]
  },
  {
   "cell_type": "code",
   "execution_count": 18,
   "id": "04ecb9d6",
   "metadata": {},
   "outputs": [
    {
     "data": {
      "text/plain": [
       "5     0\n",
       "6    71\n",
       "7    87\n",
       "dtype: int64"
      ]
     },
     "execution_count": 18,
     "metadata": {},
     "output_type": "execute_result"
    }
   ],
   "source": [
    "# son 3 gözleme erişmek için\n",
    "seri.tail(3)"
   ]
  },
  {
   "cell_type": "markdown",
   "id": "b01478ea",
   "metadata": {},
   "source": [
    "### İndex İsimlendirmesi"
   ]
  },
  {
   "cell_type": "code",
   "execution_count": 19,
   "id": "e755e142",
   "metadata": {},
   "outputs": [
    {
     "data": {
      "text/plain": [
       "0    67\n",
       "1     1\n",
       "2    92\n",
       "3    49\n",
       "4    57\n",
       "5     3\n",
       "dtype: int64"
      ]
     },
     "execution_count": 19,
     "metadata": {},
     "output_type": "execute_result"
    }
   ],
   "source": [
    "pd.Series([67,1,92,49,57,3])"
   ]
  },
  {
   "cell_type": "code",
   "execution_count": 21,
   "id": "def7c50b",
   "metadata": {},
   "outputs": [
    {
     "data": {
      "text/plain": [
       "1     67\n",
       "3      1\n",
       "5     92\n",
       "7     49\n",
       "9     57\n",
       "11     3\n",
       "dtype: int64"
      ]
     },
     "execution_count": 21,
     "metadata": {},
     "output_type": "execute_result"
    }
   ],
   "source": [
    "pd.Series([67,1,92,49,57,3], index=[1,3,5,7,9,11])"
   ]
  },
  {
   "cell_type": "code",
   "execution_count": 23,
   "id": "fe12d36e",
   "metadata": {},
   "outputs": [
    {
     "data": {
      "text/plain": [
       "a    67\n",
       "b     1\n",
       "c    92\n",
       "d    49\n",
       "e    57\n",
       "f     3\n",
       "dtype: int64"
      ]
     },
     "execution_count": 23,
     "metadata": {},
     "output_type": "execute_result"
    }
   ],
   "source": [
    "w=pd.Series([67,1,92,49,57,3], index=[\"a\",\"b\",\"c\",\"d\",\"e\",\"f\"])\n",
    "w"
   ]
  },
  {
   "cell_type": "code",
   "execution_count": 24,
   "id": "80748850",
   "metadata": {},
   "outputs": [
    {
     "data": {
      "text/plain": [
       "67"
      ]
     },
     "execution_count": 24,
     "metadata": {},
     "output_type": "execute_result"
    }
   ],
   "source": [
    "w[\"a\"]"
   ]
  },
  {
   "cell_type": "code",
   "execution_count": 25,
   "id": "8b9cf65c",
   "metadata": {},
   "outputs": [
    {
     "data": {
      "text/plain": [
       "3"
      ]
     },
     "execution_count": 25,
     "metadata": {},
     "output_type": "execute_result"
    }
   ],
   "source": [
    "w[\"f\"]"
   ]
  },
  {
   "cell_type": "code",
   "execution_count": 26,
   "id": "e2068ac5",
   "metadata": {},
   "outputs": [
    {
     "data": {
      "text/plain": [
       "a    67\n",
       "b     1\n",
       "c    92\n",
       "d    49\n",
       "dtype: int64"
      ]
     },
     "execution_count": 26,
     "metadata": {},
     "output_type": "execute_result"
    }
   ],
   "source": [
    "w[\"a\":\"d\"]"
   ]
  },
  {
   "cell_type": "code",
   "execution_count": null,
   "id": "f5b76214",
   "metadata": {},
   "outputs": [],
   "source": []
  },
  {
   "cell_type": "markdown",
   "id": "6b14e137",
   "metadata": {},
   "source": [
    "### Sözlük üzerinden seri oluşturmak"
   ]
  },
  {
   "cell_type": "code",
   "execution_count": 29,
   "id": "4325b90c",
   "metadata": {},
   "outputs": [],
   "source": [
    "sozluk={\"reg\":10,\"log\":11,\"cart\":12}"
   ]
  },
  {
   "cell_type": "code",
   "execution_count": 30,
   "id": "2306e5ce",
   "metadata": {},
   "outputs": [
    {
     "data": {
      "text/plain": [
       "reg     10\n",
       "log     11\n",
       "cart    12\n",
       "dtype: int64"
      ]
     },
     "execution_count": 30,
     "metadata": {},
     "output_type": "execute_result"
    }
   ],
   "source": [
    "q=pd.Series(sozluk)\n",
    "q # q, Pandas serisidir fakat sözlük üzerinden oluşturulmuştur."
   ]
  },
  {
   "cell_type": "markdown",
   "id": "83eddc22",
   "metadata": {},
   "source": [
    "### İki seriyi birleştirerek bir seri oluşturalım"
   ]
  },
  {
   "cell_type": "code",
   "execution_count": 31,
   "id": "e4412f7e",
   "metadata": {},
   "outputs": [
    {
     "data": {
      "text/plain": [
       "a       67\n",
       "b        1\n",
       "c       92\n",
       "d       49\n",
       "e       57\n",
       "f        3\n",
       "reg     10\n",
       "log     11\n",
       "cart    12\n",
       "dtype: int64"
      ]
     },
     "execution_count": 31,
     "metadata": {},
     "output_type": "execute_result"
    }
   ],
   "source": [
    "# concat fonksiyonu dataframe'lere uygulandığı için parametre olarak liste vermeliyiz\n",
    "pd.concat([w,q]) # index, değer"
   ]
  },
  {
   "cell_type": "markdown",
   "id": "7103ec69",
   "metadata": {},
   "source": [
    "- serileri tek bir array gibi düşünmeliyiz. o yüzden alt alta birleştirebiliriz fakat yan yana birleştiremeyiz."
   ]
  },
  {
   "cell_type": "code",
   "execution_count": null,
   "id": "731dcd19",
   "metadata": {},
   "outputs": [],
   "source": []
  },
  {
   "cell_type": "code",
   "execution_count": null,
   "id": "d95c32f7",
   "metadata": {},
   "outputs": [],
   "source": []
  },
  {
   "cell_type": "code",
   "execution_count": null,
   "id": "844abc7a",
   "metadata": {},
   "outputs": [],
   "source": []
  },
  {
   "cell_type": "code",
   "execution_count": null,
   "id": "3d788623",
   "metadata": {},
   "outputs": [],
   "source": []
  },
  {
   "cell_type": "code",
   "execution_count": null,
   "id": "41868647",
   "metadata": {},
   "outputs": [],
   "source": []
  },
  {
   "cell_type": "code",
   "execution_count": null,
   "id": "a9ac4ca7",
   "metadata": {},
   "outputs": [],
   "source": []
  },
  {
   "cell_type": "code",
   "execution_count": null,
   "id": "9cd053ab",
   "metadata": {},
   "outputs": [],
   "source": []
  },
  {
   "cell_type": "code",
   "execution_count": null,
   "id": "73a5d0ac",
   "metadata": {},
   "outputs": [],
   "source": []
  },
  {
   "cell_type": "code",
   "execution_count": null,
   "id": "f2af15cc",
   "metadata": {},
   "outputs": [],
   "source": []
  },
  {
   "cell_type": "code",
   "execution_count": null,
   "id": "ca443169",
   "metadata": {},
   "outputs": [],
   "source": []
  },
  {
   "cell_type": "code",
   "execution_count": null,
   "id": "e1bbfae3",
   "metadata": {},
   "outputs": [],
   "source": []
  }
 ],
 "metadata": {
  "kernelspec": {
   "display_name": "Python 3 (ipykernel)",
   "language": "python",
   "name": "python3"
  },
  "language_info": {
   "codemirror_mode": {
    "name": "ipython",
    "version": 3
   },
   "file_extension": ".py",
   "mimetype": "text/x-python",
   "name": "python",
   "nbconvert_exporter": "python",
   "pygments_lexer": "ipython3",
   "version": "3.9.7"
  }
 },
 "nbformat": 4,
 "nbformat_minor": 5
}
