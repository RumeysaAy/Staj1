{
 "cells": [
  {
   "cell_type": "markdown",
   "id": "c929fff4",
   "metadata": {},
   "source": [
    "# Slicing ile Elemanlara Erişmek (Array Alt Kümesine Erişmek)"
   ]
  },
  {
   "cell_type": "code",
   "execution_count": 1,
   "id": "7527a156",
   "metadata": {},
   "outputs": [],
   "source": [
    "import numpy as np"
   ]
  },
  {
   "cell_type": "code",
   "execution_count": 2,
   "id": "a0243a43",
   "metadata": {},
   "outputs": [],
   "source": [
    "a=np.random.randint(10,size=(5,5))"
   ]
  },
  {
   "cell_type": "code",
   "execution_count": 3,
   "id": "fa22e861",
   "metadata": {},
   "outputs": [
    {
     "data": {
      "text/plain": [
       "array([[9, 4, 3, 4, 3],\n",
       "       [3, 2, 1, 5, 5],\n",
       "       [7, 1, 5, 7, 1],\n",
       "       [0, 6, 7, 3, 7],\n",
       "       [9, 3, 6, 8, 3]])"
      ]
     },
     "execution_count": 3,
     "metadata": {},
     "output_type": "execute_result"
    }
   ],
   "source": [
    "a"
   ]
  },
  {
   "cell_type": "code",
   "execution_count": 4,
   "id": "7a648354",
   "metadata": {},
   "outputs": [
    {
     "data": {
      "text/plain": [
       "array([[9, 4],\n",
       "       [3, 2],\n",
       "       [7, 1]])"
      ]
     },
     "execution_count": 4,
     "metadata": {},
     "output_type": "execute_result"
    }
   ],
   "source": [
    "alt_a = a[0:3,0:2]\n",
    "alt_a"
   ]
  },
  {
   "cell_type": "code",
   "execution_count": 5,
   "id": "e4b61c6a",
   "metadata": {},
   "outputs": [],
   "source": [
    "alt_a[0,0]=99999\n",
    "alt_a[1,1]=777"
   ]
  },
  {
   "cell_type": "code",
   "execution_count": 6,
   "id": "cb703540",
   "metadata": {},
   "outputs": [
    {
     "data": {
      "text/plain": [
       "array([[99999,     4],\n",
       "       [    3,   777],\n",
       "       [    7,     1]])"
      ]
     },
     "execution_count": 6,
     "metadata": {},
     "output_type": "execute_result"
    }
   ],
   "source": [
    "alt_a"
   ]
  },
  {
   "cell_type": "code",
   "execution_count": 7,
   "id": "ee33bcc0",
   "metadata": {},
   "outputs": [
    {
     "data": {
      "text/plain": [
       "array([[99999,     4,     3,     4,     3],\n",
       "       [    3,   777,     1,     5,     5],\n",
       "       [    7,     1,     5,     7,     1],\n",
       "       [    0,     6,     7,     3,     7],\n",
       "       [    9,     3,     6,     8,     3]])"
      ]
     },
     "execution_count": 7,
     "metadata": {},
     "output_type": "execute_result"
    }
   ],
   "source": [
    "a"
   ]
  },
  {
   "cell_type": "markdown",
   "id": "1b5c32de",
   "metadata": {},
   "source": [
    "- alt küme içerisinde yaptığımız değişikliğin ana array içerisinde değişikliğe neden olmaması için"
   ]
  },
  {
   "cell_type": "code",
   "execution_count": 8,
   "id": "898846f1",
   "metadata": {},
   "outputs": [
    {
     "data": {
      "text/plain": [
       "array([[1, 7, 4, 3, 8],\n",
       "       [1, 2, 8, 2, 1],\n",
       "       [2, 1, 2, 1, 8],\n",
       "       [1, 0, 8, 7, 1],\n",
       "       [7, 3, 6, 3, 6]])"
      ]
     },
     "execution_count": 8,
     "metadata": {},
     "output_type": "execute_result"
    }
   ],
   "source": [
    "m=np.random.randint(10, size=(5,5))\n",
    "m"
   ]
  },
  {
   "cell_type": "markdown",
   "id": "07391785",
   "metadata": {},
   "source": [
    "- copy() metodunu array'in sonuna bağladığımızda seçmiş olduğu alt kümeyi, ana array'den bağımsızlaştırıyor."
   ]
  },
  {
   "cell_type": "code",
   "execution_count": 9,
   "id": "9537b6b1",
   "metadata": {},
   "outputs": [
    {
     "data": {
      "text/plain": [
       "array([[1, 7],\n",
       "       [1, 2],\n",
       "       [2, 1]])"
      ]
     },
     "execution_count": 9,
     "metadata": {},
     "output_type": "execute_result"
    }
   ],
   "source": [
    "alt_b=m[0:3,0:2].copy()\n",
    "alt_b"
   ]
  },
  {
   "cell_type": "code",
   "execution_count": 10,
   "id": "c65153bd",
   "metadata": {},
   "outputs": [],
   "source": [
    "alt_b[0,0]=9999"
   ]
  },
  {
   "cell_type": "markdown",
   "id": "4d2aae39",
   "metadata": {},
   "source": [
    "- oluşturduğumuz ilk array'in yapısında hiçbir bozukluk meydana gelmedi. fakat seçmiş olduğumuz alt küme üzerinde değişiklik yapmış olduk."
   ]
  },
  {
   "cell_type": "code",
   "execution_count": 11,
   "id": "b9b2c318",
   "metadata": {},
   "outputs": [
    {
     "data": {
      "text/plain": [
       "array([[9999,    7],\n",
       "       [   1,    2],\n",
       "       [   2,    1]])"
      ]
     },
     "execution_count": 11,
     "metadata": {},
     "output_type": "execute_result"
    }
   ],
   "source": [
    "alt_b"
   ]
  },
  {
   "cell_type": "code",
   "execution_count": 12,
   "id": "790c85c4",
   "metadata": {},
   "outputs": [
    {
     "data": {
      "text/plain": [
       "array([[29997,    21],\n",
       "       [    3,     6],\n",
       "       [    6,     3]])"
      ]
     },
     "execution_count": 12,
     "metadata": {},
     "output_type": "execute_result"
    }
   ],
   "source": [
    "alt_b*3"
   ]
  },
  {
   "cell_type": "code",
   "execution_count": 13,
   "id": "3e5be5a5",
   "metadata": {},
   "outputs": [
    {
     "data": {
      "text/plain": [
       "array([[9999,    7],\n",
       "       [   1,    2],\n",
       "       [   2,    1]])"
      ]
     },
     "execution_count": 13,
     "metadata": {},
     "output_type": "execute_result"
    }
   ],
   "source": [
    "alt_b"
   ]
  },
  {
   "cell_type": "code",
   "execution_count": 14,
   "id": "19a3e346",
   "metadata": {},
   "outputs": [
    {
     "data": {
      "text/plain": [
       "array([[1, 7, 4, 3, 8],\n",
       "       [1, 2, 8, 2, 1],\n",
       "       [2, 1, 2, 1, 8],\n",
       "       [1, 0, 8, 7, 1],\n",
       "       [7, 3, 6, 3, 6]])"
      ]
     },
     "execution_count": 14,
     "metadata": {},
     "output_type": "execute_result"
    }
   ],
   "source": [
    "m"
   ]
  },
  {
   "cell_type": "code",
   "execution_count": null,
   "id": "9b368232",
   "metadata": {},
   "outputs": [],
   "source": []
  },
  {
   "cell_type": "code",
   "execution_count": 15,
   "id": "0800fcd8",
   "metadata": {},
   "outputs": [
    {
     "data": {
      "text/plain": [
       "array([[9, 1, 5, 2, 3],\n",
       "       [6, 3, 9, 0, 6],\n",
       "       [1, 0, 6, 8, 9]])"
      ]
     },
     "execution_count": 15,
     "metadata": {},
     "output_type": "execute_result"
    }
   ],
   "source": [
    "m=np.random.randint(10,size=(3,5))\n",
    "m"
   ]
  },
  {
   "cell_type": "code",
   "execution_count": 16,
   "id": "afef8957",
   "metadata": {},
   "outputs": [
    {
     "data": {
      "text/plain": [
       "array([[9, 1, 5, 2, 3]])"
      ]
     },
     "execution_count": 16,
     "metadata": {},
     "output_type": "execute_result"
    }
   ],
   "source": [
    "m[0:1]"
   ]
  },
  {
   "cell_type": "code",
   "execution_count": 17,
   "id": "640827af",
   "metadata": {},
   "outputs": [
    {
     "data": {
      "text/plain": [
       "(1, 5)"
      ]
     },
     "execution_count": 17,
     "metadata": {},
     "output_type": "execute_result"
    }
   ],
   "source": [
    "m[0:1].shape"
   ]
  },
  {
   "cell_type": "code",
   "execution_count": 18,
   "id": "b989f21a",
   "metadata": {},
   "outputs": [
    {
     "data": {
      "text/plain": [
       "2"
      ]
     },
     "execution_count": 18,
     "metadata": {},
     "output_type": "execute_result"
    }
   ],
   "source": [
    "m[0:1].ndim"
   ]
  },
  {
   "cell_type": "code",
   "execution_count": 19,
   "id": "6384d9c4",
   "metadata": {},
   "outputs": [
    {
     "data": {
      "text/plain": [
       "array([5, 9, 6])"
      ]
     },
     "execution_count": 19,
     "metadata": {},
     "output_type": "execute_result"
    }
   ],
   "source": [
    "m[:,2]"
   ]
  },
  {
   "cell_type": "code",
   "execution_count": 20,
   "id": "628e3be0",
   "metadata": {},
   "outputs": [
    {
     "data": {
      "text/plain": [
       "array([[9, 1, 5],\n",
       "       [6, 3, 9]])"
      ]
     },
     "execution_count": 20,
     "metadata": {},
     "output_type": "execute_result"
    }
   ],
   "source": [
    "m[:2,:3]"
   ]
  },
  {
   "cell_type": "code",
   "execution_count": 21,
   "id": "2c8007d1",
   "metadata": {},
   "outputs": [
    {
     "data": {
      "text/plain": [
       "[array([6, 3, 9, 0, 6]), array([1, 0, 6, 8, 9])]"
      ]
     },
     "execution_count": 21,
     "metadata": {},
     "output_type": "execute_result"
    }
   ],
   "source": [
    "[m[1],m[2]]"
   ]
  },
  {
   "cell_type": "code",
   "execution_count": null,
   "id": "7f080302",
   "metadata": {},
   "outputs": [],
   "source": []
  },
  {
   "cell_type": "code",
   "execution_count": 22,
   "id": "c0745a78",
   "metadata": {},
   "outputs": [],
   "source": [
    "v=np.array([0,3,6,9,12,15,18,21,24,27])"
   ]
  },
  {
   "cell_type": "code",
   "execution_count": 23,
   "id": "e0e671a6",
   "metadata": {},
   "outputs": [
    {
     "data": {
      "text/plain": [
       "array([3, 6, 9])"
      ]
     },
     "execution_count": 23,
     "metadata": {},
     "output_type": "execute_result"
    }
   ],
   "source": [
    "v[[1,2,3]]"
   ]
  },
  {
   "cell_type": "code",
   "execution_count": null,
   "id": "151134f5",
   "metadata": {},
   "outputs": [],
   "source": []
  },
  {
   "cell_type": "code",
   "execution_count": 25,
   "id": "8db95e4c",
   "metadata": {},
   "outputs": [
    {
     "data": {
      "text/plain": [
       "array([[9, 1, 5, 2, 3],\n",
       "       [6, 3, 9, 0, 6],\n",
       "       [1, 0, 6, 8, 9]])"
      ]
     },
     "execution_count": 25,
     "metadata": {},
     "output_type": "execute_result"
    }
   ],
   "source": [
    "m"
   ]
  },
  {
   "cell_type": "code",
   "execution_count": 24,
   "id": "f02dba89",
   "metadata": {},
   "outputs": [
    {
     "data": {
      "text/plain": [
       "array([[6, 3, 9, 0, 6],\n",
       "       [1, 0, 6, 8, 9]])"
      ]
     },
     "execution_count": 24,
     "metadata": {},
     "output_type": "execute_result"
    }
   ],
   "source": [
    "m[[1,2]]"
   ]
  },
  {
   "cell_type": "code",
   "execution_count": 26,
   "id": "8b0a3e1f",
   "metadata": {},
   "outputs": [
    {
     "data": {
      "text/plain": [
       "array([1, 5])"
      ]
     },
     "execution_count": 26,
     "metadata": {},
     "output_type": "execute_result"
    }
   ],
   "source": [
    "m[0,[1,2]] # 0. satırın 1 ve 2. indexdeki değerleri"
   ]
  },
  {
   "cell_type": "code",
   "execution_count": 27,
   "id": "8a6572ea",
   "metadata": {},
   "outputs": [
    {
     "data": {
      "text/plain": [
       "array([[1, 5],\n",
       "       [3, 9],\n",
       "       [0, 6]])"
      ]
     },
     "execution_count": 27,
     "metadata": {},
     "output_type": "execute_result"
    }
   ],
   "source": [
    "m[0:,[1,2]]"
   ]
  },
  {
   "cell_type": "code",
   "execution_count": null,
   "id": "5a689db2",
   "metadata": {},
   "outputs": [],
   "source": []
  },
  {
   "cell_type": "code",
   "execution_count": null,
   "id": "a865d788",
   "metadata": {},
   "outputs": [],
   "source": []
  },
  {
   "cell_type": "code",
   "execution_count": null,
   "id": "4a1b6d6a",
   "metadata": {},
   "outputs": [],
   "source": []
  }
 ],
 "metadata": {
  "kernelspec": {
   "display_name": "Python 3 (ipykernel)",
   "language": "python",
   "name": "python3"
  },
  "language_info": {
   "codemirror_mode": {
    "name": "ipython",
    "version": 3
   },
   "file_extension": ".py",
   "mimetype": "text/x-python",
   "name": "python",
   "nbconvert_exporter": "python",
   "pygments_lexer": "ipython3",
   "version": "3.11.4"
  }
 },
 "nbformat": 4,
 "nbformat_minor": 5
}
