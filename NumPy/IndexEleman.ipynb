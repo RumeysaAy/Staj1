{
 "cells": [
  {
   "cell_type": "markdown",
   "id": "e0f602d3",
   "metadata": {},
   "source": [
    "# Index ile Elemanlara Erişmek"
   ]
  },
  {
   "cell_type": "code",
   "execution_count": 1,
   "id": "c42a0c44",
   "metadata": {},
   "outputs": [],
   "source": [
    "import numpy as np"
   ]
  },
  {
   "cell_type": "code",
   "execution_count": null,
   "id": "bd7e2326",
   "metadata": {},
   "outputs": [],
   "source": []
  },
  {
   "cell_type": "code",
   "execution_count": 6,
   "id": "226de83e",
   "metadata": {},
   "outputs": [
    {
     "data": {
      "text/plain": [
       "array([[[3, 7],\n",
       "        [9, 3],\n",
       "        [1, 7]],\n",
       "\n",
       "       [[0, 0],\n",
       "        [9, 9],\n",
       "        [1, 5]],\n",
       "\n",
       "       [[9, 2],\n",
       "        [1, 4],\n",
       "        [3, 9]]])"
      ]
     },
     "execution_count": 6,
     "metadata": {},
     "output_type": "execute_result"
    }
   ],
   "source": [
    "# 3 satırlı, 2 sütun\n",
    "b=np.random.randint(10,size=(3,3,2))\n",
    "b"
   ]
  },
  {
   "cell_type": "code",
   "execution_count": 4,
   "id": "6bf7d293",
   "metadata": {},
   "outputs": [
    {
     "data": {
      "text/plain": [
       "(3, 3, 2)"
      ]
     },
     "execution_count": 4,
     "metadata": {},
     "output_type": "execute_result"
    }
   ],
   "source": [
    "b.shape"
   ]
  },
  {
   "cell_type": "code",
   "execution_count": 5,
   "id": "11101e98",
   "metadata": {},
   "outputs": [
    {
     "data": {
      "text/plain": [
       "3"
      ]
     },
     "execution_count": 5,
     "metadata": {},
     "output_type": "execute_result"
    }
   ],
   "source": [
    "b.ndim"
   ]
  },
  {
   "cell_type": "code",
   "execution_count": 7,
   "id": "fb72fe0f",
   "metadata": {},
   "outputs": [
    {
     "data": {
      "text/plain": [
       "18"
      ]
     },
     "execution_count": 7,
     "metadata": {},
     "output_type": "execute_result"
    }
   ],
   "source": [
    "b.size"
   ]
  },
  {
   "cell_type": "code",
   "execution_count": null,
   "id": "1986703f",
   "metadata": {},
   "outputs": [],
   "source": []
  },
  {
   "cell_type": "markdown",
   "id": "9dbb637f",
   "metadata": {},
   "source": [
    "### Tek Boyutlu"
   ]
  },
  {
   "cell_type": "code",
   "execution_count": 2,
   "id": "5446a541",
   "metadata": {},
   "outputs": [
    {
     "data": {
      "text/plain": [
       "array([0, 2, 0, 9, 4, 1, 0, 1, 4, 9])"
      ]
     },
     "execution_count": 2,
     "metadata": {},
     "output_type": "execute_result"
    }
   ],
   "source": [
    "a=np.random.randint(10,size=10)\n",
    "a"
   ]
  },
  {
   "cell_type": "code",
   "execution_count": 8,
   "id": "d673dcb5",
   "metadata": {},
   "outputs": [
    {
     "data": {
      "text/plain": [
       "0"
      ]
     },
     "execution_count": 8,
     "metadata": {},
     "output_type": "execute_result"
    }
   ],
   "source": [
    "a[0]"
   ]
  },
  {
   "cell_type": "code",
   "execution_count": 9,
   "id": "6c554253",
   "metadata": {},
   "outputs": [
    {
     "data": {
      "text/plain": [
       "9"
      ]
     },
     "execution_count": 9,
     "metadata": {},
     "output_type": "execute_result"
    }
   ],
   "source": [
    "a[-1]"
   ]
  },
  {
   "cell_type": "code",
   "execution_count": 10,
   "id": "f4d28ad4",
   "metadata": {},
   "outputs": [],
   "source": [
    "a[0]=7"
   ]
  },
  {
   "cell_type": "code",
   "execution_count": 11,
   "id": "0487c028",
   "metadata": {},
   "outputs": [
    {
     "data": {
      "text/plain": [
       "array([7, 2, 0, 9, 4, 1, 0, 1, 4, 9])"
      ]
     },
     "execution_count": 11,
     "metadata": {},
     "output_type": "execute_result"
    }
   ],
   "source": [
    "a"
   ]
  },
  {
   "cell_type": "markdown",
   "id": "42ad8dad",
   "metadata": {},
   "source": [
    "### İki Boyutlu"
   ]
  },
  {
   "cell_type": "code",
   "execution_count": 22,
   "id": "69b57489",
   "metadata": {},
   "outputs": [
    {
     "data": {
      "text/plain": [
       "array([[[7, 9, 7, 0],\n",
       "        [9, 3, 9, 3],\n",
       "        [0, 4, 5, 5]],\n",
       "\n",
       "       [[1, 1, 9, 2],\n",
       "        [5, 1, 9, 9],\n",
       "        [9, 6, 4, 3]]])"
      ]
     },
     "execution_count": 22,
     "metadata": {},
     "output_type": "execute_result"
    }
   ],
   "source": [
    "t=np.random.randint(10, size=(2,3,4))\n",
    "m"
   ]
  },
  {
   "cell_type": "code",
   "execution_count": 17,
   "id": "f56eef89",
   "metadata": {},
   "outputs": [
    {
     "data": {
      "text/plain": [
       "array([[5, 1, 6, 9],\n",
       "       [7, 0, 7, 5],\n",
       "       [3, 1, 5, 6]])"
      ]
     },
     "execution_count": 17,
     "metadata": {},
     "output_type": "execute_result"
    }
   ],
   "source": [
    "t[0]"
   ]
  },
  {
   "cell_type": "code",
   "execution_count": 18,
   "id": "265c9db6",
   "metadata": {},
   "outputs": [
    {
     "data": {
      "text/plain": [
       "array([[4, 7, 6, 9],\n",
       "       [4, 3, 4, 4],\n",
       "       [8, 9, 8, 0]])"
      ]
     },
     "execution_count": 18,
     "metadata": {},
     "output_type": "execute_result"
    }
   ],
   "source": [
    "t[1]"
   ]
  },
  {
   "cell_type": "code",
   "execution_count": 19,
   "id": "0cbc3cef",
   "metadata": {},
   "outputs": [],
   "source": [
    "e1,e2=np.random.randint(10, size=(2,3,4))"
   ]
  },
  {
   "cell_type": "code",
   "execution_count": 20,
   "id": "76679354",
   "metadata": {},
   "outputs": [
    {
     "data": {
      "text/plain": [
       "array([[6, 5, 2, 9],\n",
       "       [1, 8, 4, 9],\n",
       "       [8, 2, 1, 1]])"
      ]
     },
     "execution_count": 20,
     "metadata": {},
     "output_type": "execute_result"
    }
   ],
   "source": [
    "e1"
   ]
  },
  {
   "cell_type": "code",
   "execution_count": 21,
   "id": "6ccf3a7e",
   "metadata": {},
   "outputs": [
    {
     "data": {
      "text/plain": [
       "array([[1, 9, 6, 1],\n",
       "       [1, 4, 4, 3],\n",
       "       [2, 2, 8, 2]])"
      ]
     },
     "execution_count": 21,
     "metadata": {},
     "output_type": "execute_result"
    }
   ],
   "source": [
    "e2"
   ]
  },
  {
   "cell_type": "code",
   "execution_count": null,
   "id": "54c4548a",
   "metadata": {},
   "outputs": [],
   "source": []
  },
  {
   "cell_type": "code",
   "execution_count": 23,
   "id": "af0f4655",
   "metadata": {},
   "outputs": [],
   "source": [
    "m=np.random.randint(10,size=(3,4))"
   ]
  },
  {
   "cell_type": "code",
   "execution_count": 24,
   "id": "fd166235",
   "metadata": {},
   "outputs": [
    {
     "data": {
      "text/plain": [
       "array([[4, 1, 8, 0],\n",
       "       [3, 8, 0, 4],\n",
       "       [7, 5, 8, 3]])"
      ]
     },
     "execution_count": 24,
     "metadata": {},
     "output_type": "execute_result"
    }
   ],
   "source": [
    "m"
   ]
  },
  {
   "cell_type": "code",
   "execution_count": 25,
   "id": "0f7f581e",
   "metadata": {},
   "outputs": [
    {
     "data": {
      "text/plain": [
       "4"
      ]
     },
     "execution_count": 25,
     "metadata": {},
     "output_type": "execute_result"
    }
   ],
   "source": [
    "m[0,0] # 0. satır, 0. sütun"
   ]
  },
  {
   "cell_type": "code",
   "execution_count": 26,
   "id": "58daa544",
   "metadata": {},
   "outputs": [
    {
     "data": {
      "text/plain": [
       "1"
      ]
     },
     "execution_count": 26,
     "metadata": {},
     "output_type": "execute_result"
    }
   ],
   "source": [
    "m[0,1] # 0. satır, 1.sütun"
   ]
  },
  {
   "cell_type": "code",
   "execution_count": 27,
   "id": "60c549a6",
   "metadata": {},
   "outputs": [
    {
     "data": {
      "text/plain": [
       "8"
      ]
     },
     "execution_count": 27,
     "metadata": {},
     "output_type": "execute_result"
    }
   ],
   "source": [
    "m[1,1]"
   ]
  },
  {
   "cell_type": "code",
   "execution_count": 28,
   "id": "9b1665c4",
   "metadata": {},
   "outputs": [],
   "source": [
    "m[2,3]=56"
   ]
  },
  {
   "cell_type": "code",
   "execution_count": 29,
   "id": "63872d65",
   "metadata": {},
   "outputs": [
    {
     "data": {
      "text/plain": [
       "array([[ 4,  1,  8,  0],\n",
       "       [ 3,  8,  0,  4],\n",
       "       [ 7,  5,  8, 56]])"
      ]
     },
     "execution_count": 29,
     "metadata": {},
     "output_type": "execute_result"
    }
   ],
   "source": [
    "m"
   ]
  },
  {
   "cell_type": "code",
   "execution_count": 30,
   "id": "d7b3ba46",
   "metadata": {},
   "outputs": [],
   "source": [
    "# sabit tipli olduğundan float bir değer eklediğimizde\n",
    "m[0,2]=9.5"
   ]
  },
  {
   "cell_type": "code",
   "execution_count": 31,
   "id": "005fb70f",
   "metadata": {},
   "outputs": [
    {
     "data": {
      "text/plain": [
       "array([[ 4,  1,  9,  0],\n",
       "       [ 3,  8,  0,  4],\n",
       "       [ 7,  5,  8, 56]])"
      ]
     },
     "execution_count": 31,
     "metadata": {},
     "output_type": "execute_result"
    }
   ],
   "source": [
    "m # 9.5 olan float sayıyı int'e çevirdi: 9"
   ]
  },
  {
   "cell_type": "markdown",
   "id": "f5d78df5",
   "metadata": {},
   "source": [
    "oluşturma esnasında içerisinde sadece 1 tane ondalıklı değer varsa bütün array'in tipini ondalıklı olarak görür. fakat var olan bir array'e dışarıdan array dışı farklı bir tip ile ekleme yapmaya çalıştığımızda var olan tipini korur"
   ]
  },
  {
   "cell_type": "code",
   "execution_count": null,
   "id": "533c3924",
   "metadata": {},
   "outputs": [],
   "source": []
  },
  {
   "cell_type": "code",
   "execution_count": null,
   "id": "179dc502",
   "metadata": {},
   "outputs": [],
   "source": []
  },
  {
   "cell_type": "code",
   "execution_count": null,
   "id": "912044f1",
   "metadata": {},
   "outputs": [],
   "source": []
  },
  {
   "cell_type": "code",
   "execution_count": null,
   "id": "8bbe3c5d",
   "metadata": {},
   "outputs": [],
   "source": []
  },
  {
   "cell_type": "code",
   "execution_count": null,
   "id": "60c1f08e",
   "metadata": {},
   "outputs": [],
   "source": []
  },
  {
   "cell_type": "code",
   "execution_count": null,
   "id": "c8a6e77f",
   "metadata": {},
   "outputs": [],
   "source": []
  },
  {
   "cell_type": "code",
   "execution_count": null,
   "id": "9eb0bbd0",
   "metadata": {},
   "outputs": [],
   "source": []
  },
  {
   "cell_type": "code",
   "execution_count": null,
   "id": "d352f803",
   "metadata": {},
   "outputs": [],
   "source": []
  },
  {
   "cell_type": "code",
   "execution_count": null,
   "id": "622dae71",
   "metadata": {},
   "outputs": [],
   "source": []
  },
  {
   "cell_type": "code",
   "execution_count": null,
   "id": "03b61ea1",
   "metadata": {},
   "outputs": [],
   "source": []
  }
 ],
 "metadata": {
  "kernelspec": {
   "display_name": "Python 3 (ipykernel)",
   "language": "python",
   "name": "python3"
  },
  "language_info": {
   "codemirror_mode": {
    "name": "ipython",
    "version": 3
   },
   "file_extension": ".py",
   "mimetype": "text/x-python",
   "name": "python",
   "nbconvert_exporter": "python",
   "pygments_lexer": "ipython3",
   "version": "3.11.4"
  }
 },
 "nbformat": 4,
 "nbformat_minor": 5
}
