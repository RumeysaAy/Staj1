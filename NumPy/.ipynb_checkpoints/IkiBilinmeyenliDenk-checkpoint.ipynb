{
 "cells": [
  {
   "cell_type": "markdown",
   "id": "44e61ba7",
   "metadata": {},
   "source": [
    "# NumPy ile İki Bilinmeyenli Denklem Çözümü"
   ]
  },
  {
   "cell_type": "code",
   "execution_count": 1,
   "id": "5fafaf80",
   "metadata": {},
   "outputs": [],
   "source": [
    "import numpy as np"
   ]
  },
  {
   "cell_type": "markdown",
   "id": "6a5415db",
   "metadata": {},
   "source": [
    "- 5*x0+x1=12\n",
    "- x0+3*x1=10"
   ]
  },
  {
   "cell_type": "code",
   "execution_count": 5,
   "id": "b77f26ae",
   "metadata": {},
   "outputs": [
    {
     "data": {
      "text/plain": [
       "array([[5, 1],\n",
       "       [1, 3]])"
      ]
     },
     "execution_count": 5,
     "metadata": {},
     "output_type": "execute_result"
    }
   ],
   "source": [
    "# bilinmeyen ifadelerin katsayıları\n",
    "katsayilar=np.array([[5,1],[1,3]])\n",
    "katsayilar"
   ]
  },
  {
   "cell_type": "code",
   "execution_count": 6,
   "id": "9415d3c7",
   "metadata": {},
   "outputs": [
    {
     "data": {
      "text/plain": [
       "array([12, 10])"
      ]
     },
     "execution_count": 6,
     "metadata": {},
     "output_type": "execute_result"
    }
   ],
   "source": [
    "# bunun sonucunda oluşan değerler\n",
    "sonuclar=np.array([12,10])\n",
    "sonuclar"
   ]
  },
  {
   "cell_type": "code",
   "execution_count": 7,
   "id": "8bcc78c0",
   "metadata": {},
   "outputs": [
    {
     "data": {
      "text/plain": [
       "array([1.85714286, 2.71428571])"
      ]
     },
     "execution_count": 7,
     "metadata": {},
     "output_type": "execute_result"
    }
   ],
   "source": [
    "# NumPy kütüphanesinin içerisinden lineer cebir işlemleri için özelleştirilmiş\n",
    "# alt paket içerisinden solve isimli fonksiyonu  çağırdık\n",
    "cozum=np.linalg.solve(katsayilar,sonuclar)\n",
    "cozum # x0 ve x1"
   ]
  },
  {
   "cell_type": "code",
   "execution_count": null,
   "id": "6883779f",
   "metadata": {},
   "outputs": [],
   "source": []
  },
  {
   "cell_type": "code",
   "execution_count": null,
   "id": "e85038b2",
   "metadata": {},
   "outputs": [],
   "source": []
  },
  {
   "cell_type": "code",
   "execution_count": null,
   "id": "254596d1",
   "metadata": {},
   "outputs": [],
   "source": []
  },
  {
   "cell_type": "code",
   "execution_count": null,
   "id": "92494a6d",
   "metadata": {},
   "outputs": [],
   "source": []
  }
 ],
 "metadata": {
  "kernelspec": {
   "display_name": "Python 3 (ipykernel)",
   "language": "python",
   "name": "python3"
  },
  "language_info": {
   "codemirror_mode": {
    "name": "ipython",
    "version": 3
   },
   "file_extension": ".py",
   "mimetype": "text/x-python",
   "name": "python",
   "nbconvert_exporter": "python",
   "pygments_lexer": "ipython3",
   "version": "3.9.7"
  }
 },
 "nbformat": 4,
 "nbformat_minor": 5
}
