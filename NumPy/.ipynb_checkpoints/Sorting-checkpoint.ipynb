{
 "cells": [
  {
   "cell_type": "markdown",
   "id": "e20fc9c1",
   "metadata": {},
   "source": [
    "# Sıralama"
   ]
  },
  {
   "cell_type": "code",
   "execution_count": 7,
   "id": "d5b53fbc",
   "metadata": {},
   "outputs": [],
   "source": [
    "import numpy as np"
   ]
  },
  {
   "cell_type": "markdown",
   "id": "bf328237",
   "metadata": {},
   "source": [
    "### Tek Boyutlu"
   ]
  },
  {
   "cell_type": "code",
   "execution_count": 8,
   "id": "845c59a9",
   "metadata": {},
   "outputs": [],
   "source": [
    "v= np.array([9,5,6,3,5,7,1,2])"
   ]
  },
  {
   "cell_type": "code",
   "execution_count": 9,
   "id": "89e34054",
   "metadata": {},
   "outputs": [
    {
     "data": {
      "text/plain": [
       "array([1, 2, 3, 5, 5, 6, 7, 9])"
      ]
     },
     "execution_count": 9,
     "metadata": {},
     "output_type": "execute_result"
    }
   ],
   "source": [
    "np.sort(v)"
   ]
  },
  {
   "cell_type": "code",
   "execution_count": 10,
   "id": "8374ea30",
   "metadata": {},
   "outputs": [
    {
     "data": {
      "text/plain": [
       "array([9, 5, 6, 3, 5, 7, 1, 2])"
      ]
     },
     "execution_count": 10,
     "metadata": {},
     "output_type": "execute_result"
    }
   ],
   "source": [
    "v # veri setinin orijinal yapısı bozulmadı"
   ]
  },
  {
   "cell_type": "code",
   "execution_count": 11,
   "id": "a6261090",
   "metadata": {},
   "outputs": [],
   "source": [
    "v.sort()"
   ]
  },
  {
   "cell_type": "code",
   "execution_count": 12,
   "id": "e5f52fd5",
   "metadata": {},
   "outputs": [
    {
     "data": {
      "text/plain": [
       "array([1, 2, 3, 5, 5, 6, 7, 9])"
      ]
     },
     "execution_count": 12,
     "metadata": {},
     "output_type": "execute_result"
    }
   ],
   "source": [
    "v"
   ]
  },
  {
   "cell_type": "markdown",
   "id": "78fe2ffa",
   "metadata": {},
   "source": [
    "### İki Boyutlu"
   ]
  },
  {
   "cell_type": "code",
   "execution_count": 15,
   "id": "467c90ca",
   "metadata": {},
   "outputs": [
    {
     "data": {
      "text/plain": [
       "array([[18.92916613, 29.54623022,  8.06101794],\n",
       "       [20.9431291 , 13.45008407, 17.09209637],\n",
       "       [13.68511126, 14.94311014, 17.29709607]])"
      ]
     },
     "execution_count": 15,
     "metadata": {},
     "output_type": "execute_result"
    }
   ],
   "source": [
    "# ort:20, standart sapma:5,(satır,sütun)\n",
    "m=np.random.normal(20,5,(3,3))\n",
    "m"
   ]
  },
  {
   "cell_type": "code",
   "execution_count": 16,
   "id": "b264860a",
   "metadata": {},
   "outputs": [
    {
     "data": {
      "text/plain": [
       "array([[13.68511126, 13.45008407,  8.06101794],\n",
       "       [18.92916613, 14.94311014, 17.09209637],\n",
       "       [20.9431291 , 29.54623022, 17.29709607]])"
      ]
     },
     "execution_count": 16,
     "metadata": {},
     "output_type": "execute_result"
    }
   ],
   "source": [
    "# her bir sütunu kendi içerisinde sıralar: axis=0\n",
    "np.sort(m, axis=0)"
   ]
  },
  {
   "cell_type": "code",
   "execution_count": 17,
   "id": "0cf60413",
   "metadata": {},
   "outputs": [
    {
     "data": {
      "text/plain": [
       "array([[ 8.06101794, 18.92916613, 29.54623022],\n",
       "       [13.45008407, 17.09209637, 20.9431291 ],\n",
       "       [13.68511126, 14.94311014, 17.29709607]])"
      ]
     },
     "execution_count": 17,
     "metadata": {},
     "output_type": "execute_result"
    }
   ],
   "source": [
    "# her bir satırı kendi içerisinde sıralar: axis=1\n",
    "np.sort(m, axis=1)"
   ]
  },
  {
   "cell_type": "code",
   "execution_count": null,
   "id": "299b3463",
   "metadata": {},
   "outputs": [],
   "source": []
  },
  {
   "cell_type": "code",
   "execution_count": null,
   "id": "1a77d8ad",
   "metadata": {},
   "outputs": [],
   "source": []
  },
  {
   "cell_type": "code",
   "execution_count": null,
   "id": "72f49fd3",
   "metadata": {},
   "outputs": [],
   "source": []
  }
 ],
 "metadata": {
  "kernelspec": {
   "display_name": "Python 3 (ipykernel)",
   "language": "python",
   "name": "python3"
  },
  "language_info": {
   "codemirror_mode": {
    "name": "ipython",
    "version": 3
   },
   "file_extension": ".py",
   "mimetype": "text/x-python",
   "name": "python",
   "nbconvert_exporter": "python",
   "pygments_lexer": "ipython3",
   "version": "3.9.7"
  }
 },
 "nbformat": 4,
 "nbformat_minor": 5
}
