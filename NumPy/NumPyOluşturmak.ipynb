{
 "cells": [
  {
   "cell_type": "markdown",
   "id": "d86fd1ed",
   "metadata": {},
   "source": [
    "# Sıfırdan Array Oluşturma"
   ]
  },
  {
   "cell_type": "code",
   "execution_count": 1,
   "id": "cd564bf7",
   "metadata": {},
   "outputs": [],
   "source": [
    "import numpy as np"
   ]
  },
  {
   "cell_type": "code",
   "execution_count": 2,
   "id": "24d2d61a",
   "metadata": {},
   "outputs": [
    {
     "data": {
      "text/plain": [
       "array([0., 0., 0., 0., 0., 0., 0., 0., 0., 0.])"
      ]
     },
     "execution_count": 2,
     "metadata": {},
     "output_type": "execute_result"
    }
   ],
   "source": [
    "np.zeros(10)"
   ]
  },
  {
   "cell_type": "code",
   "execution_count": 3,
   "id": "c4ed764b",
   "metadata": {},
   "outputs": [
    {
     "data": {
      "text/plain": [
       "array([0, 0, 0, 0, 0, 0, 0, 0, 0, 0])"
      ]
     },
     "execution_count": 3,
     "metadata": {},
     "output_type": "execute_result"
    }
   ],
   "source": [
    "np.zeros(10, dtype=int)"
   ]
  },
  {
   "cell_type": "code",
   "execution_count": 4,
   "id": "cf1c3854",
   "metadata": {},
   "outputs": [
    {
     "data": {
      "text/plain": [
       "array([[1., 1., 1., 1., 1.],\n",
       "       [1., 1., 1., 1., 1.],\n",
       "       [1., 1., 1., 1., 1.]])"
      ]
     },
     "execution_count": 4,
     "metadata": {},
     "output_type": "execute_result"
    }
   ],
   "source": [
    "np.ones((3,5)) # 3 satır, 5 sütun"
   ]
  },
  {
   "cell_type": "code",
   "execution_count": 5,
   "id": "026bc2fb",
   "metadata": {},
   "outputs": [
    {
     "data": {
      "text/plain": [
       "array([[1, 1, 1, 1, 1],\n",
       "       [1, 1, 1, 1, 1],\n",
       "       [1, 1, 1, 1, 1]])"
      ]
     },
     "execution_count": 5,
     "metadata": {},
     "output_type": "execute_result"
    }
   ],
   "source": [
    "np.ones((3,5), dtype=int)"
   ]
  },
  {
   "cell_type": "code",
   "execution_count": 6,
   "id": "861a6e38",
   "metadata": {},
   "outputs": [
    {
     "data": {
      "text/plain": [
       "array([[3, 3, 3, 3, 3],\n",
       "       [3, 3, 3, 3, 3],\n",
       "       [3, 3, 3, 3, 3]])"
      ]
     },
     "execution_count": 6,
     "metadata": {},
     "output_type": "execute_result"
    }
   ],
   "source": [
    "np.full((3,5), 3)"
   ]
  },
  {
   "cell_type": "code",
   "execution_count": 7,
   "id": "1d683dd1",
   "metadata": {},
   "outputs": [
    {
     "data": {
      "text/plain": [
       "array([3, 3, 3, 3, 3])"
      ]
     },
     "execution_count": 7,
     "metadata": {},
     "output_type": "execute_result"
    }
   ],
   "source": [
    "np.full(5, 3)"
   ]
  },
  {
   "cell_type": "code",
   "execution_count": 8,
   "id": "c5e07609",
   "metadata": {},
   "outputs": [
    {
     "data": {
      "text/plain": [
       "array([ 0,  3,  6,  9, 12, 15, 18, 21, 24, 27])"
      ]
     },
     "execution_count": 8,
     "metadata": {},
     "output_type": "execute_result"
    }
   ],
   "source": [
    "# 0'dan 30'a kadar (30 dahil değil) 3'er 3'er artacak şekilde doğrusal bir dizi oluşturduk\n",
    "np.arange(0,30,3)"
   ]
  },
  {
   "cell_type": "code",
   "execution_count": 9,
   "id": "13d1f7f2",
   "metadata": {},
   "outputs": [
    {
     "data": {
      "text/plain": [
       "numpy.ndarray"
      ]
     },
     "execution_count": 9,
     "metadata": {},
     "output_type": "execute_result"
    }
   ],
   "source": [
    "type(np.arange(0,30,3))"
   ]
  },
  {
   "cell_type": "code",
   "execution_count": 10,
   "id": "c10f4275",
   "metadata": {},
   "outputs": [
    {
     "data": {
      "text/plain": [
       "array([0.        , 0.11111111, 0.22222222, 0.33333333, 0.44444444,\n",
       "       0.55555556, 0.66666667, 0.77777778, 0.88888889, 1.        ])"
      ]
     },
     "execution_count": 10,
     "metadata": {},
     "output_type": "execute_result"
    }
   ],
   "source": [
    "# 0 ile 1 arasında 10 tane değer oluştur\n",
    "np.linspace(0,1,10)"
   ]
  },
  {
   "cell_type": "code",
   "execution_count": 11,
   "id": "e1c0baf4",
   "metadata": {},
   "outputs": [
    {
     "data": {
      "text/plain": [
       "array([[ 9.51668171, 11.22745464, 10.08783349,  7.53074101],\n",
       "       [ 7.33806572,  7.74476118, 11.72813934, 13.88245585],\n",
       "       [14.65663092,  4.83838101, 11.58130793, 16.50334837]])"
      ]
     },
     "execution_count": 11,
     "metadata": {},
     "output_type": "execute_result"
    }
   ],
   "source": [
    "# oluşturmak istediğim sayılar belirli bir dağılım yapısına uygun olsun\n",
    "# istatistik teorisindeki normal dağılıma uygun olsun\n",
    "# verdiğimiz standart sapmaya ve ortalamaya bağlı olarak veriler üretilsin\n",
    "\n",
    "# ortalama 10, standart sapma 4, satır 3, sütun 4\n",
    "np.random.normal(10,4,(3,4))\n",
    "# 2 boyutlu array, matris"
   ]
  },
  {
   "cell_type": "code",
   "execution_count": 12,
   "id": "a813cc8f",
   "metadata": {},
   "outputs": [
    {
     "data": {
      "text/plain": [
       "array([ 5.36659305, 13.86971492,  2.65947933,  8.65471107, 13.67611035])"
      ]
     },
     "execution_count": 12,
     "metadata": {},
     "output_type": "execute_result"
    }
   ],
   "source": [
    "np.random.normal(10,4,5)"
   ]
  },
  {
   "cell_type": "code",
   "execution_count": 13,
   "id": "f5cbffae",
   "metadata": {},
   "outputs": [],
   "source": [
    "# tek boyutlu array'in karşılığı vektördür\n",
    "# iki boyutlu array'in karşılığı matristir"
   ]
  },
  {
   "cell_type": "code",
   "execution_count": 14,
   "id": "660388d9",
   "metadata": {},
   "outputs": [
    {
     "data": {
      "text/plain": [
       "array([[3, 0, 6],\n",
       "       [8, 5, 0],\n",
       "       [2, 6, 8]])"
      ]
     },
     "execution_count": 14,
     "metadata": {},
     "output_type": "execute_result"
    }
   ],
   "source": [
    "# int değerlerden rastgele oluşturalım.\n",
    "np.random.randint(0,10,(3,3)) # 10 dahil değildir"
   ]
  },
  {
   "cell_type": "code",
   "execution_count": null,
   "id": "51f06f07",
   "metadata": {},
   "outputs": [],
   "source": []
  },
  {
   "cell_type": "code",
   "execution_count": 15,
   "id": "c854b62a",
   "metadata": {},
   "outputs": [
    {
     "data": {
      "text/plain": [
       "array([[[8, 0],\n",
       "        [9, 4]],\n",
       "\n",
       "       [[4, 6],\n",
       "        [2, 2]],\n",
       "\n",
       "       [[3, 3],\n",
       "        [0, 1]]])"
      ]
     },
     "execution_count": 15,
     "metadata": {},
     "output_type": "execute_result"
    }
   ],
   "source": [
    "np.random.randint(10,size=(3,2,2))"
   ]
  },
  {
   "cell_type": "code",
   "execution_count": 16,
   "id": "036e2bce",
   "metadata": {},
   "outputs": [
    {
     "data": {
      "text/plain": [
       "array([[[7, 4],\n",
       "        [9, 8],\n",
       "        [7, 1]],\n",
       "\n",
       "       [[5, 0],\n",
       "        [5, 5],\n",
       "        [2, 9]],\n",
       "\n",
       "       [[1, 4],\n",
       "        [2, 7],\n",
       "        [8, 4]]])"
      ]
     },
     "execution_count": 16,
     "metadata": {},
     "output_type": "execute_result"
    }
   ],
   "source": [
    "# 3 satırlı, 2 sütun\n",
    "np.random.randint(10,size=(3,3,2))"
   ]
  },
  {
   "cell_type": "code",
   "execution_count": 17,
   "id": "57c17050",
   "metadata": {},
   "outputs": [
    {
     "data": {
      "text/plain": [
       "3"
      ]
     },
     "execution_count": 17,
     "metadata": {},
     "output_type": "execute_result"
    }
   ],
   "source": [
    "np.random.randint(10,size=(3,2,2)).ndim"
   ]
  },
  {
   "cell_type": "code",
   "execution_count": null,
   "id": "54b4e8ed",
   "metadata": {},
   "outputs": [],
   "source": []
  },
  {
   "cell_type": "code",
   "execution_count": null,
   "id": "885c3744",
   "metadata": {},
   "outputs": [],
   "source": []
  }
 ],
 "metadata": {
  "kernelspec": {
   "display_name": "Python 3 (ipykernel)",
   "language": "python",
   "name": "python3"
  },
  "language_info": {
   "codemirror_mode": {
    "name": "ipython",
    "version": 3
   },
   "file_extension": ".py",
   "mimetype": "text/x-python",
   "name": "python",
   "nbconvert_exporter": "python",
   "pygments_lexer": "ipython3",
   "version": "3.11.4"
  }
 },
 "nbformat": 4,
 "nbformat_minor": 5
}
