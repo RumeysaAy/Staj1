{
 "cells": [
  {
   "cell_type": "markdown",
   "id": "038641fe",
   "metadata": {},
   "source": [
    "# Neden NumPy?"
   ]
  },
  {
   "cell_type": "code",
   "execution_count": 1,
   "id": "1b20e930",
   "metadata": {},
   "outputs": [
    {
     "name": "stdout",
     "output_type": "stream",
     "text": [
      "[2, 6, 12, 20]\n"
     ]
    }
   ],
   "source": [
    "liste1=[1,2,3,4]\n",
    "liste2=[2,3,4,5]\n",
    "carpma=[]\n",
    "\n",
    "for i in range(0, len(liste1)):\n",
    "    carpma.append(liste1[i]*liste2[i])\n",
    "    \n",
    "print(carpma)"
   ]
  },
  {
   "cell_type": "code",
   "execution_count": 2,
   "id": "c7932b62",
   "metadata": {},
   "outputs": [
    {
     "name": "stdout",
     "output_type": "stream",
     "text": [
      "[ 2  6 12 20]\n"
     ]
    }
   ],
   "source": [
    "import numpy as np\n",
    "\n",
    "# np kütüphanesinin içerisindeki array fonksiyonunu çağırdık. \n",
    "# bu fonksiyon np.array'i oluşturmaya yarar. \n",
    "# np.array, np'nin içerisindeki bir veri tipidir.\n",
    "\n",
    "a=np.array([1,2,3,4]) # liste üzerinden np.array'i oluşturduk\n",
    "b=np.array([2,3,4,5]) \n",
    "\n",
    "print(a*b)\n",
    "\n",
    "# daha az çabayla daha büyük işlemler yapabilme olanağı sağlar.\n",
    "# yer tutma maliyetlerini azaltır."
   ]
  },
  {
   "cell_type": "code",
   "execution_count": 3,
   "id": "71132143",
   "metadata": {},
   "outputs": [
    {
     "data": {
      "text/plain": [
       "array([ 5, 10, 15])"
      ]
     },
     "execution_count": 3,
     "metadata": {},
     "output_type": "execute_result"
    }
   ],
   "source": [
    "5*np.array([1,2,3])"
   ]
  },
  {
   "cell_type": "code",
   "execution_count": null,
   "id": "b1b97e2f",
   "metadata": {},
   "outputs": [],
   "source": []
  }
 ],
 "metadata": {
  "kernelspec": {
   "display_name": "Python 3 (ipykernel)",
   "language": "python",
   "name": "python3"
  },
  "language_info": {
   "codemirror_mode": {
    "name": "ipython",
    "version": 3
   },
   "file_extension": ".py",
   "mimetype": "text/x-python",
   "name": "python",
   "nbconvert_exporter": "python",
   "pygments_lexer": "ipython3",
   "version": "3.11.4"
  }
 },
 "nbformat": 4,
 "nbformat_minor": 5
}
