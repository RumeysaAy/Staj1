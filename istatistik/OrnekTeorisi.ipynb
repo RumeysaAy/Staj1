{
 "cells": [
  {
   "cell_type": "markdown",
   "id": "d6e18fb6",
   "metadata": {},
   "source": [
    "### _**İstatistik, veri biliminin \"bilim\" makine öğrenmesinin \"öğrenme\" kısmıdır.**_"
   ]
  },
  {
   "cell_type": "markdown",
   "id": "17fdfac8",
   "metadata": {},
   "source": [
    "- bilimde karar almak, hipotezler kurmak, testler yapmak gibi süreçler söz konusudur. bunu bilimsel anlamda yapan istatistiktir, hipotez testleridir. dolayısıyla veri bilimi, bir bilim olduğundan ve veriye dayalı karar almak ile ilgilendiğinden istatistik bu noktada kaçınılmazdır.\n",
    "\n",
    "- öğrenme ise istatistik teorisi elindeki örnek olaylardan genelleme yapmaya çalışmaktır. makine öğrenmesinde amacımız elimizdeki verilerin içerisindeki yapıları öğrenmektir. bunlar üzerinden genellenebilirlik amacıyla modeller oluşturmaktır."
   ]
  },
  {
   "cell_type": "markdown",
   "id": "bff9e0b1",
   "metadata": {},
   "source": [
    "## Örneklemin Önemi\n",
    "- Daha iyisi, daha fazlası değildir!\n",
    "- örneklem istatistik teorisinin ve makine öğrenmesinin çok hassas bir yerinde durmaktadır.\n",
    "- yapacağımız çalışmaların yansız olması gerekmektedir.\n",
    "- verinin miktarının artması teorik olarak daha iyidir. daha fazla bilgi sağlayacaktır.\n",
    "- fakat her zaman verinin daha büyük miktarda olması daha doğru daha iyi sonuçlar alabileceğimiz anlamına modelleme açısından gelmez.\n",
    "- dolayısıyla bizim için önemli olan daha iyi olmasıdır."
   ]
  },
  {
   "cell_type": "markdown",
   "id": "8f7db5c3",
   "metadata": {},
   "source": [
    "## Örneklem Nedir?\n",
    "- bir ana kitle içerisinden, bir popülasyon içerisinden bu popülasyonu temsil ettiği düşünülen bir alt küme seçme işlemidir.\n",
    "- belirli kurallara göre yapılır, yansız olmalıdır.\n",
    "- örneklem olasılıksal ve olasılıksal olmayacak şekilde seçilir.\n",
    "- örneklemi biz rastgele yani olasılıklı olarak seçeceğiz."
   ]
  },
  {
   "cell_type": "markdown",
   "id": "308c23dc",
   "metadata": {},
   "source": [
    "## Örneklem Dağılımı\n",
    "- bir popülasyon içerisinden birden fazla örneklem çektiğimizde ve bunların dağılımıyla ilgilendiğimizde bu durumda örneklem dağılımı konusuyla ilgileniyoruz."
   ]
  },
  {
   "cell_type": "markdown",
   "id": "542bdb9b",
   "metadata": {},
   "source": [
    "## Merkezi Limit Teoremi:\n",
    "- Bağımsız ve aynı dağılıma sahip rassal değişkenlerin toplamı ya da aritmetik ortalaması yaklaşık olarak normal dağılmaktadır.\n",
    "- bir popülasyona odaklanıp onun üzerinden çıkarım yapmak üzere örneklemlerle ilgilendiğimizde bu konu bize yardımcı olacaktır."
   ]
  },
  {
   "cell_type": "code",
   "execution_count": null,
   "id": "b8c9b7f4",
   "metadata": {},
   "outputs": [],
   "source": []
  },
  {
   "cell_type": "markdown",
   "id": "8279cef4",
   "metadata": {},
   "source": [
    "# Uygulama"
   ]
  },
  {
   "cell_type": "markdown",
   "id": "0dbe8f05",
   "metadata": {},
   "source": [
    "bir ilçedeki kişilerin yaşlarına ilişkin bir çıkarımda bulunmak istiyoruz. bu ilçedeki kişilerin yaş ortalamasını merak ediyoruz.\n",
    "bu ilçede 10,000 kişi yaşıyor. bunun içerisinden 100 kişilik bir örneklem çekip, bu 100 kişinin yaş ortalamasını inceleyip bu ilçeyle ilgili yaş ortalamasının ne olacağını tahmin edelim"
   ]
  },
  {
   "cell_type": "code",
   "execution_count": 1,
   "id": "090c6f38",
   "metadata": {},
   "outputs": [],
   "source": [
    "import numpy as np"
   ]
  },
  {
   "cell_type": "code",
   "execution_count": 2,
   "id": "41d3e54b",
   "metadata": {},
   "outputs": [
    {
     "data": {
      "text/plain": [
       "array([14, 75, 27, 46, 72, 41, 75, 31,  9, 54])"
      ]
     },
     "execution_count": 2,
     "metadata": {},
     "output_type": "execute_result"
    }
   ],
   "source": [
    "populasyon=np.random.randint(0,80,10000)\n",
    "populasyon[0:10] # 10. index dahil değil"
   ]
  },
  {
   "cell_type": "markdown",
   "id": "f481d227",
   "metadata": {},
   "source": [
    "### Örneklem Çekimi\n",
    "- seed: ML ve örneklemde önemli bir kavramdır. bu yapılacak olan işlemlerin her tekrar edildiğinde aynı sonuçları getirmesini garanti altına alır.\n",
    "- bir örneklem çekme işlemini gerçekleştirdiğimde bir yapıya göre örnek çekecek daha sonra bir daha çekmek istediğimde yine aynı yapıya göre çeker.\n",
    "- ama eğer random.seed'i kullanmazsam her fonksiyonu tekrar çalıştırdığımızda farklı örneklemler çekmiş olacak"
   ]
  },
  {
   "cell_type": "code",
   "execution_count": 3,
   "id": "700e8a17",
   "metadata": {},
   "outputs": [
    {
     "data": {
      "text/plain": [
       "array([77, 58, 12, 47, 23, 65, 30, 75, 51, 54])"
      ]
     },
     "execution_count": 3,
     "metadata": {},
     "output_type": "execute_result"
    }
   ],
   "source": [
    "# örneklem çekimi\n",
    "# içerisine herhangi bir sayı yazabiliriz.\n",
    "np.random.seed(115)\n",
    "# populasyon'un içerisinden rastgele 100 tane örnek çek.\n",
    "orneklem=np.random.choice(a=populasyon, size=100)\n",
    "orneklem[0:10]"
   ]
  },
  {
   "cell_type": "code",
   "execution_count": 4,
   "id": "2dee9248",
   "metadata": {},
   "outputs": [
    {
     "data": {
      "text/plain": [
       "40.48"
      ]
     },
     "execution_count": 4,
     "metadata": {},
     "output_type": "execute_result"
    }
   ],
   "source": [
    "# örneklem ortalama\n",
    "orneklem.mean()\n",
    "# rastgele seçilen örneklemin ortalaması popülasyonun ortalamasına yakın çıkmış\n",
    "# iyi bir örneklem"
   ]
  },
  {
   "cell_type": "code",
   "execution_count": 5,
   "id": "e5fc0321",
   "metadata": {},
   "outputs": [
    {
     "data": {
      "text/plain": [
       "39.2204"
      ]
     },
     "execution_count": 5,
     "metadata": {},
     "output_type": "execute_result"
    }
   ],
   "source": [
    "# popülasyon ortalama\n",
    "populasyon.mean()"
   ]
  },
  {
   "cell_type": "markdown",
   "id": "28cb2723",
   "metadata": {},
   "source": [
    "### Örneklem Dağılımı\n",
    "- 100 tane gözlem birimi var.\n",
    "- peki ya farklı bir 100'lükte nolur?"
   ]
  },
  {
   "cell_type": "code",
   "execution_count": 6,
   "id": "72337037",
   "metadata": {},
   "outputs": [],
   "source": [
    "# farklı farklı 100'lük çekelim\n",
    "np.random.seed(10)\n",
    "orneklem1=np.random.choice(a=populasyon, size=100)\n",
    "orneklem2=np.random.choice(a=populasyon, size=100)\n",
    "orneklem3=np.random.choice(a=populasyon, size=100)\n",
    "orneklem4=np.random.choice(a=populasyon, size=100)\n",
    "orneklem5=np.random.choice(a=populasyon, size=100)\n",
    "orneklem6=np.random.choice(a=populasyon, size=100)\n",
    "orneklem7=np.random.choice(a=populasyon, size=100)\n",
    "orneklem8=np.random.choice(a=populasyon, size=100)\n",
    "orneklem9=np.random.choice(a=populasyon, size=100)\n",
    "orneklem10=np.random.choice(a=populasyon, size=100)"
   ]
  },
  {
   "cell_type": "code",
   "execution_count": 7,
   "id": "746b762d",
   "metadata": {},
   "outputs": [
    {
     "data": {
      "text/plain": [
       "38.980000000000004"
      ]
     },
     "execution_count": 7,
     "metadata": {},
     "output_type": "execute_result"
    }
   ],
   "source": [
    "# her örneklemin ortalamasını alıp, hepsini toplayıp ortalamasını alalım.\n",
    "( orneklem1.mean()+orneklem2.mean()+orneklem3.mean()+orneklem4.mean()\n",
    "+orneklem5.mean()+orneklem6.mean()+orneklem7.mean()+orneklem8.mean()+\n",
    "orneklem9.mean()+orneklem10.mean() )/10"
   ]
  },
  {
   "cell_type": "markdown",
   "id": "11a1f984",
   "metadata": {},
   "source": [
    "örneklemlerin ortalaması, orneklem.mean() ve populasyon.mean() birbirlerine yakın, aralarında fark çok azdır. fakat örneklemlerin ortalamasının normal şartlar altında daha fazla populasyon.mean() 'a daha yakın olması beklenir. buradaki senaryomuzda yine oldukça yakın çıkmaktadır. fakat çekmiş olduğumuz tek örneklemin (orneklem.mean()) değeri populasyon.mean() 'a yakın çıkmaktadır. burada gözlemlediğimiz şey birbirinden farklı olarak çekmiş olduğumuz örneklemleri incelediğimizde bazılarının yakın bazılarının uzak olduğunu gözlemleriz."
   ]
  },
  {
   "cell_type": "code",
   "execution_count": 8,
   "id": "afda4411",
   "metadata": {},
   "outputs": [
    {
     "data": {
      "text/plain": [
       "38.21"
      ]
     },
     "execution_count": 8,
     "metadata": {},
     "output_type": "execute_result"
    }
   ],
   "source": [
    "orneklem1.mean()"
   ]
  },
  {
   "cell_type": "code",
   "execution_count": 9,
   "id": "360d4f9e",
   "metadata": {},
   "outputs": [
    {
     "data": {
      "text/plain": [
       "38.34"
      ]
     },
     "execution_count": 9,
     "metadata": {},
     "output_type": "execute_result"
    }
   ],
   "source": [
    "orneklem2.mean()"
   ]
  },
  {
   "cell_type": "code",
   "execution_count": 10,
   "id": "e5b8dacb",
   "metadata": {},
   "outputs": [
    {
     "data": {
      "text/plain": [
       "38.25"
      ]
     },
     "execution_count": 10,
     "metadata": {},
     "output_type": "execute_result"
    }
   ],
   "source": [
    "orneklem3.mean()"
   ]
  },
  {
   "cell_type": "code",
   "execution_count": 11,
   "id": "63ae13e4",
   "metadata": {},
   "outputs": [
    {
     "data": {
      "text/plain": [
       "39.71"
      ]
     },
     "execution_count": 11,
     "metadata": {},
     "output_type": "execute_result"
    }
   ],
   "source": [
    "orneklem4.mean()"
   ]
  },
  {
   "cell_type": "markdown",
   "id": "b71dfa9c",
   "metadata": {},
   "source": [
    "her bir rastgele çekilen örneklemin değeri farklıdır. bunların ortalamasını alırsak teorik olarak merkezi limit teoremi aracılığıyla popülasyon(ana kitle) ortalamasına yakınlaşırız."
   ]
  },
  {
   "cell_type": "code",
   "execution_count": null,
   "id": "8e611bba",
   "metadata": {},
   "outputs": [],
   "source": []
  },
  {
   "cell_type": "code",
   "execution_count": null,
   "id": "74536714",
   "metadata": {},
   "outputs": [],
   "source": []
  },
  {
   "cell_type": "code",
   "execution_count": null,
   "id": "645099f7",
   "metadata": {},
   "outputs": [],
   "source": []
  },
  {
   "cell_type": "code",
   "execution_count": null,
   "id": "0478a394",
   "metadata": {},
   "outputs": [],
   "source": []
  },
  {
   "cell_type": "code",
   "execution_count": null,
   "id": "639a5367",
   "metadata": {},
   "outputs": [],
   "source": []
  }
 ],
 "metadata": {
  "kernelspec": {
   "display_name": "Python 3 (ipykernel)",
   "language": "python",
   "name": "python3"
  },
  "language_info": {
   "codemirror_mode": {
    "name": "ipython",
    "version": 3
   },
   "file_extension": ".py",
   "mimetype": "text/x-python",
   "name": "python",
   "nbconvert_exporter": "python",
   "pygments_lexer": "ipython3",
   "version": "3.11.4"
  }
 },
 "nbformat": 4,
 "nbformat_minor": 5
}
