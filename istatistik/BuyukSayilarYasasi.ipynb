{
 "cells": [
  {
   "cell_type": "markdown",
   "id": "addb31b5",
   "metadata": {},
   "source": [
    "# Büyük Sayılar Yasası\n",
    "\n",
    "Bir rassal değişkenin uzun vadeli kararlılığını tanımlayan olasılık teoremidir."
   ]
  },
  {
   "cell_type": "markdown",
   "id": "6bd184cb",
   "metadata": {},
   "source": [
    "Örneklem teorisinde 10 bin kişilik bir anakütle içerisinden 100 kişilik bir alt küme seçtik ve ortalaması hesaplandı. Bu ortalama neredeyse anakütlenin ortalamasıyla aynı çıkmıştı."
   ]
  },
  {
   "cell_type": "markdown",
   "id": "c2c05283",
   "metadata": {},
   "source": [
    "Yazı-tura deneyinde ya yazı gelecek ya da tura; bunu herkes bilir ve yazı ya da tura gelme olasılığı %50'dir. Bir parayı 5 kez atalım, 1 kez yazı ve 4 kez tura gelsin. Yazı için 1/5=0.2 hesaplanır; burada olasılığın %50 olmadığı görülür."
   ]
  },
  {
   "cell_type": "markdown",
   "id": "4e97e555",
   "metadata": {},
   "source": [
    "Olasılık teorisi ve rastgele değişkenler kavramını anlamak için çok güzel bir nokta, hepimiz kavramsal olarak olasılık dendiğinde yazı-tura deneyinde yazı ya da tura gelme olasılığının %50 olduğunu biliyoruz. Ancak yukarıdaki örnekte yazı için 0.2 olduğunu gördük. İşte büyük sayılar yasası, bir rassal değişkenin uzun vadeli kararlılığını tanımlayan bir olasılık teoremidir.\n",
    "\n",
    "Yani örneğin, bir yazı-tura attığımızda bu yazı-tura atma işleminin sonucunda ortaya çıkan değerlere bir deneyin sonucunda ortaya çıkan değerler denir. Bir deneyin sonucuna göre değerleri alan değişken, rastgele değişken olarak adlandırılır. Dolayısıyla, yazı-tura deneyi bir rastgele değişkendir."
   ]
  },
  {
   "cell_type": "markdown",
   "id": "9c04b5b1",
   "metadata": {},
   "source": [
    "Bu parayı 5 defa atmak yerine 10, 20, 30, 40, 50 defa atacak şekilde bu deneyi devam ettirseydik ve daha fazla sayıda atsaydık görmüş olacaktık ki yazı ve tura gelmesi olasılığı birbirine yaklaşacaktı."
   ]
  },
  {
   "cell_type": "code",
   "execution_count": 1,
   "id": "d2e27d62",
   "metadata": {},
   "outputs": [],
   "source": [
    "import numpy as np"
   ]
  },
  {
   "cell_type": "code",
   "execution_count": 2,
   "id": "36213a06",
   "metadata": {},
   "outputs": [],
   "source": [
    "# RandomState: random işlemlerini sabitlemek için yani her defasında yapılacak\n",
    "# işlemleri sabitlemek için kullandık\n",
    "rng=np.random.RandomState(123)"
   ]
  },
  {
   "cell_type": "markdown",
   "id": "6d74e4ea",
   "metadata": {},
   "source": [
    "Yazı-tura atma işleminin sonucunda öngördüğümüz olasılık değeri %50 idi. Fakat bunu denediğimizde ise %50 olmadığını gördük. Bu %50 aslında büyük sayılar yasasıyla açıklanan bir teorik kavramdır."
   ]
  },
  {
   "cell_type": "code",
   "execution_count": 3,
   "id": "4fa99231",
   "metadata": {},
   "outputs": [
    {
     "name": "stdout",
     "output_type": "stream",
     "text": [
      "Atış Sayısı: 2 --- Yazı Olasılığı: 50.00\n",
      "Atış Sayısı: 4 --- Yazı Olasılığı: 0.00\n",
      "Atış Sayısı: 8 --- Yazı Olasılığı: 62.50\n",
      "Atış Sayısı: 16 --- Yazı Olasılığı: 43.75\n",
      "Atış Sayısı: 32 --- Yazı Olasılığı: 46.88\n",
      "Atış Sayısı: 64 --- Yazı Olasılığı: 56.25\n",
      "Atış Sayısı: 128 --- Yazı Olasılığı: 50.78\n",
      "Atış Sayısı: 256 --- Yazı Olasılığı: 52.73\n",
      "Atış Sayısı: 512 --- Yazı Olasılığı: 52.93\n",
      "Atış Sayısı: 1024 --- Yazı Olasılığı: 50.20\n",
      "Atış Sayısı: 2048 --- Yazı Olasılığı: 48.58\n",
      "Atış Sayısı: 4096 --- Yazı Olasılığı: 49.49\n",
      "Atış Sayısı: 8192 --- Yazı Olasılığı: 49.58\n",
      "Atış Sayısı: 16384 --- Yazı Olasılığı: 49.96\n",
      "Atış Sayısı: 32768 --- Yazı Olasılığı: 50.00\n",
      "Atış Sayısı: 65536 --- Yazı Olasılığı: 49.68\n",
      "Atış Sayısı: 131072 --- Yazı Olasılığı: 49.97\n",
      "Atış Sayısı: 262144 --- Yazı Olasılığı: 50.13\n",
      "Atış Sayısı: 524288 --- Yazı Olasılığı: 50.01\n",
      "Atış Sayısı: 1048576 --- Yazı Olasılığı: 50.09\n"
     ]
    }
   ],
   "source": [
    "for i in np.arange(1,21): # 1, 2, 3... 20\n",
    "    deney_sayisi=2**i\n",
    "    # Rastgele 0 veya 1 üreterek bir dizi oluşturuyoruz. Bu dizinin uzunluğu, deney_sayisi kadar olacaktır.\n",
    "    yazi_turalar=rng.randint(0,2,size=deney_sayisi)\n",
    "    # yazi_turalar dizisindeki 1 sayılarının yüzde kaçını oluşturduğunu hesaplayarak, yani \"yazı\" gelme olasılığını buluyoruz.\n",
    "    yazi_olasiliklari=np.mean(yazi_turalar)\n",
    "    # .2f : noktadan sonra iki basamaklı olsun\n",
    "    # % : (yazi_olasiliklari * 100)\n",
    "    print(\"Atış Sayısı:\",deney_sayisi,\"---\",\"Yazı Olasılığı: %.2f\" % (yazi_olasiliklari * 100))"
   ]
  },
  {
   "cell_type": "markdown",
   "id": "8251b6a6",
   "metadata": {},
   "source": [
    "2 -> 1 defasında yazı, 1 defasında tura\n",
    "4 -> 4 defa tura gelmiş\n",
    "...\n",
    "Gittikçe yazı-tura olasılığının birbirine yaklaştığı görülür.\n",
    "Bu, bir rassal değişkenin uzun vadeli kararlılığını tanımlayan büyük sayılar yasasıyla açıklanmıştır. Yani deney sayısı arttıkça ilgili olaya ilişkin ortaya konması gereken olasılıksal ifadeler kendini açığa çıkarmak durumundadır.\n",
    "\n",
    "Deney sayısı arttıkça beklenen olay tanımlanmış ve ortaya olasılıksal olarak çıkmış oluyor. Bu, bir rassal değişkenin uzun vadeli kararlılığını tanımlamış oluyor."
   ]
  },
  {
   "cell_type": "code",
   "execution_count": 4,
   "id": "319ca455",
   "metadata": {},
   "outputs": [
    {
     "data": {
      "text/plain": [
       "array([1, 1, 1, 1, 0])"
      ]
     },
     "execution_count": 4,
     "metadata": {},
     "output_type": "execute_result"
    }
   ],
   "source": [
    "rng.randint(0,2,size=5) # 5 deney gerçekleşti. 1 tura, 4 yazı"
   ]
  },
  {
   "cell_type": "code",
   "execution_count": null,
   "id": "23a55282",
   "metadata": {},
   "outputs": [],
   "source": []
  },
  {
   "cell_type": "code",
   "execution_count": null,
   "id": "72e4304b",
   "metadata": {},
   "outputs": [],
   "source": []
  },
  {
   "cell_type": "code",
   "execution_count": null,
   "id": "7bf6deef",
   "metadata": {},
   "outputs": [],
   "source": []
  },
  {
   "cell_type": "code",
   "execution_count": null,
   "id": "bf3b28f2",
   "metadata": {},
   "outputs": [],
   "source": []
  }
 ],
 "metadata": {
  "kernelspec": {
   "display_name": "Python 3 (ipykernel)",
   "language": "python",
   "name": "python3"
  },
  "language_info": {
   "codemirror_mode": {
    "name": "ipython",
    "version": 3
   },
   "file_extension": ".py",
   "mimetype": "text/x-python",
   "name": "python",
   "nbconvert_exporter": "python",
   "pygments_lexer": "ipython3",
   "version": "3.9.7"
  }
 },
 "nbformat": 4,
 "nbformat_minor": 5
}
