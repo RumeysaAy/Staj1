{
 "cells": [
  {
   "cell_type": "markdown",
   "id": "cf394212",
   "metadata": {},
   "source": [
    "# p-value"
   ]
  },
  {
   "cell_type": "markdown",
   "id": "96283d00",
   "metadata": {},
   "source": [
    "Hipotez testlerinin sonuçlarını değerlendirmek üzere programlar tarafından p-value değeri verilir. Bu değer üzerinden kolayca yorum yapabiliriz.\n",
    "\n",
    "Eğer p-value < 0.05 ise, ilgili H0 hipotezini reddettiğimize sonuç varırız. p-value < α\n",
    "\n",
    "eğer p-value değeri, varsayılan kabul edilebilir hata miktarımız olan alfa(α=0.05) yani 0.05'ten küçükse, bu durumda H0 hipotezini reddediyoruz.\n",
    "\n",
    "varsayılan kabul edilebilir hata miktarımız olan α, istatistikte ön tanımlı olarak kullanılan, kullanacak olduğumuz bütün fonksiyonlarda ön tanımlı olarak kabul edilen bir değerdir. (α=0.05)\n",
    "\n",
    "Çalışmamızın sonucunda program tarafından verilen p-value değeri 0.05'ten küçükse, H0 hipotezini reddederiz.\n",
    "\n",
    "Bu kestirme, kolay bir yoldur; ancak p-value değeri her zaman 0.05'ten küçük olduğunda H0 hipotezini reddetmek istemeyebiliriz. Örneğin, dağılıma uygunluk testlerini yaptığımızda H0, \"örnek dağılımı ile teorik dağılım arasında fark yoktur\" der ve böyle bir durumda H0'ı reddetmek istemeyiz. Bu nedenle, p-value değeri 0.05'ten küçük olsa bile H0'ı reddedmeyiz.\n",
    "\n",
    "----\n",
    "\n",
    "fakat genellikle dağılıma uygunluk testleri incelediğimizde yani elimizdeki örnek dağılımın dağılımıyla, teorik dağılımın dağılımı birbirine eşittir şeklinde kullanılan hipotezlerde hipotezi reddedmek istemeyiz. çünkü kullanmak üzere bazı testlerin gerektirdiği normallik varsayımı gibi varsayımları farklı bir şekilde test ederiz. önemli olan kurulan hipotezin ne olduğunu iyi anlamak\n",
    "\n",
    "\n",
    "\n",
    "Dağılım testlerinde H0 reddedilmek istenilmez. çünkü H0 \"örnek dağılımı ile teorik dağılım arasında fark yoktur\" der.\n",
    "\n",
    "----\n",
    "bazı hipotez testi sonuçlarını hesaplanan test istatistiği ve tablo değeri üzerinden değerlendirmek yerine direkt p-value değerine bakarak yorumlayabiliriz.\n",
    "\n",
    "önceki bölümde hipotezler testler hatalar ve bunlarla ilgili bazı şeylerden bahsetmiştik bu pratik dünyada kullanacak olduğumuz uygulamalar programlar ve bazı testler sonucunda bize kolaylık sağlamak için kullanılan bir bir değer var p-value değeridir.\n",
    "\n",
    "hipotez kuracağız, testler elde edeceğiz. bunları karşılaştıracağız bunun üzerine yorumlar yapacağız. bir çok peşpeşe gelen işlem yapacağız. fakat burada bizim için bir kestirme yol var. yani örneğin tek ortalama veya iki ortalamaya ilgili python programlamayla veya R programlamayla bir test yaptığımızda ve bu testin sonucunda bir değer olacak fakat çok kabaca ilgili hipotezi yorumlamak adına bizim için sadece p-value değeri yeterli olabilir"
   ]
  },
  {
   "cell_type": "code",
   "execution_count": null,
   "id": "86757680",
   "metadata": {},
   "outputs": [],
   "source": []
  }
 ],
 "metadata": {
  "kernelspec": {
   "display_name": "Python 3 (ipykernel)",
   "language": "python",
   "name": "python3"
  },
  "language_info": {
   "codemirror_mode": {
    "name": "ipython",
    "version": 3
   },
   "file_extension": ".py",
   "mimetype": "text/x-python",
   "name": "python",
   "nbconvert_exporter": "python",
   "pygments_lexer": "ipython3",
   "version": "3.9.7"
  }
 },
 "nbformat": 4,
 "nbformat_minor": 5
}
