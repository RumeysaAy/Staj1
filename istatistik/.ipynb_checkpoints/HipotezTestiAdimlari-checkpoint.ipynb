{
 "cells": [
  {
   "cell_type": "markdown",
   "id": "7477851a",
   "metadata": {},
   "source": [
    "# Hipotez Testi Adımları"
   ]
  },
  {
   "cell_type": "markdown",
   "id": "72c93a52",
   "metadata": {},
   "source": [
    "**Adım 1**: Hipotezlerin kurulması ve yönlerinin belirlenmesi\n",
    "- H1 ve H0 hipotezlerinin kurulması. Örneğin H0: μ = 50, H1: μ ≠ 50\n",
    "\n",
    "**Adım 2**: Anlamlılık düzeyinin ve tablo değerinin belirlenmesi\n",
    "- Anlamlılık düzeyi ve tablo değeri olarak ifade edilen α (alfa)'dır. Genellikle α'yı 0.05 olarak kabul ederiz. Alfa, anlamlılık düzeyine karşılık gelen tablo değerini belirlerken Z tablosu veya T tablosu gibi kaynaklardan bulabiliriz.\n",
    "\n",
    "**Adım 3**: Test istatistiğinin belirlenmesi ve hesaplanması\n",
    "- Test istatistiği, kullanılan hipotez testine göre değişir. Örneğin tek örneklem ortalama testi veya iki örneklem ortalama testi için farklı test istatistikleri kullanılır. Bu adımda test istatistiği hesaplanır ve elde edilir.\n",
    "\n",
    "**Adım 4**: Hesaplanan test istatistiği ile alfa'ya karşılık gelen tablo değerinin karşılaştırılması.\n",
    "- Hesaplanan test istatistiği (Zh) ile alfa'ya karşılık gelen tablo değeri (Zt) karşılaştırılır. Eğer Test İstatistiği (Zh) > Tablo Değeri (Zt) ise H0 hipotezi reddedilir.\n",
    "\n",
    "**Adım 5**: Yorum\n",
    "- Elde edilen sonuçlar yorumlanır.\n",
    "\n",
    "Özetle,\n",
    "- Hipotezler kurulur, α belirlenir ve buna karşılık gelen tablo değeri bulunur. Ardından test istatistiği hesaplanır. Bu test istatistiği ile α'ya karşılık gelen tablo değeri karşılaştırılarak H0 hipotezi reddedilip edilmeyeceği belirlenir.\n",
    "\n",
    "- Alternatif olarak, bu basamakları geçerek p-value değeri ile sonuçları yorumlamak da mümkündür."
   ]
  },
  {
   "cell_type": "markdown",
   "id": "83f07303",
   "metadata": {},
   "source": [
    "----\n",
    "\n",
    "**Adım 1**: Hipotezlerin kurulması ve yönlerinin belirlenmesi\n",
    "- H1 ve H0 hipotezlerinin kurulması. Örneğin H0: μ = 50, H1: μ ≠ 50\n",
    "\n",
    "**Adım 2**: Anlamlılık düzeyinin ve tablo değerinin belirlenmesi\n",
    "- Anlamlılık düzeyi ve tablo değeri olarak ifade edilen α(alfa)'dır. α'yı genelde 0.05 olarak kabul ederiz. alfa anlamlılık düzeyine karşılık gelen tablo değerinde eğer Z ile çalışıyorsak Z tablosundan, T ile çalışıyorsak T tablosundan... bakarak bulmuş olacağız.\n",
    "\n",
    "**Adım 3**: Test istatistiğinin belirlenmesi ve test istatistiğinin hesaplanması\n",
    "- Eğer örneğin tek örneklem ortalama testi yapıyorsak başka bir test istatistiği, iki örneklem ortalama testi yapıyorsak farklı bir test istatistiği yani odaklanmış olduğumuz hipotez testine göre kullanacak olduğumuz test istatistikleri farklılaşacaktır. \n",
    "yani elimizde bir tablo değeri olacak 2. adımdan gelen bir de 3. adımdaki test istatistiği neticesinde test istatistiği değeri olacak. işte bu iki değeri karşılaştırmış olacağız. bunu 4. adımda yapacağız.\n",
    "\n",
    "**Adım 4**: Hesaplanan test istatistiği ile alfa'ya karşılık gelen tablo değerinin karşılaştırılması.\n",
    "- Test İstatistiği (Zh) > Tablo Değeri (Zt) ise H0 Red\n",
    "\n",
    "**Adım 5**: Yorum\n",
    "- Sonuçları yorumlarız.\n",
    "\n",
    "\n",
    "Özetle\n",
    "- hipotezlerimizi kurduk. anlamlılık düzeyimiz olan α(alfa)'yı belirledik buna karşılık gelen tablo değerini bulduk sonrasında test istatistiğini hesaplandı. bu test istatistiği ile α(alfa)'ya gelen tablo değeri karşılaştırılarak H0 hipotezinin reddedilip edilmeyeceği karar verilir.\n",
    "\n",
    "\n",
    "- Bu basamaklar yerine p-value değerine bakılarak bu tabloların değerlerini yorumlayabiliriz."
   ]
  },
  {
   "cell_type": "code",
   "execution_count": null,
   "id": "b5beabd1",
   "metadata": {},
   "outputs": [],
   "source": []
  }
 ],
 "metadata": {
  "kernelspec": {
   "display_name": "Python 3 (ipykernel)",
   "language": "python",
   "name": "python3"
  },
  "language_info": {
   "codemirror_mode": {
    "name": "ipython",
    "version": 3
   },
   "file_extension": ".py",
   "mimetype": "text/x-python",
   "name": "python",
   "nbconvert_exporter": "python",
   "pygments_lexer": "ipython3",
   "version": "3.9.7"
  }
 },
 "nbformat": 4,
 "nbformat_minor": 5
}
