{
 "cells": [
  {
   "cell_type": "markdown",
   "id": "b2531cb7",
   "metadata": {},
   "source": [
    "# Betimsel İstatistikler\n",
    "- Ortalama\n",
    "- Medyan\n",
    "- Mod\n",
    "- Kartiller\n",
    "- Değişim Aralığı\n",
    "- Standart Sapma\n",
    "- Kovaryans\n",
    "- Korelasyon"
   ]
  },
  {
   "cell_type": "markdown",
   "id": "fcae160e",
   "metadata": {},
   "source": [
    "## Kovaryans\n",
    "İki değişken arasındaki ilişkinin, değişkenlik ölçüsüdür.\n",
    "\n",
    "**cov(X,Y)=E[ (X- E[X] )(Y- E[Y] ) ]**"
   ]
  },
  {
   "cell_type": "markdown",
   "id": "f984fda4",
   "metadata": {},
   "source": [
    "varyans, ortalama etrafındaki dağılımın ölçüsüydü. standat sapmanın karesi alındığında varyans elde ediliyordu."
   ]
  },
  {
   "cell_type": "markdown",
   "id": "0032d567",
   "metadata": {},
   "source": [
    "kovaryans ise İki değişken arasındaki ilişkinin, değişkenlik ölçüsüdür. iki rastgele değişkenin kendi ortalamalarından olan sapmanın çarpımlarının beklenen değeridir. böylece iki değişkenin birlikte ortaya çıkardığı değişim incelenmiş olur. yani elimizde iki değişkenin arasındaki ilişkiye ilişkin değişkenlik anlamında bir bilgiye ihtiyaç olduğunda buna erişmek istediğinizde kovaryans kullanılır."
   ]
  },
  {
   "cell_type": "markdown",
   "id": "820b8957",
   "metadata": {},
   "source": [
    "Kovaryans (covariance), istatistikte iki değişken arasındaki ilişkinin değişkenlik ölçüsünü ifade eden bir kavramdır. Kovaryans, iki değişkenin birlikte nasıl değiştiğini gösterir. Eğer iki değişken birlikte artıyor veya birlikte azalıyorsa kovaryans pozitif olur, eğer bir değişken artarken diğeri azalıyorsa kovaryans negatif olur.\n",
    "\n",
    "Kovaryans, şu formülle hesaplanır:\n",
    "\n",
    "cov(X, Y) = E[(X - E[X])(Y - E[Y])]\n",
    "\n",
    "Burada:\n",
    "- X ve Y, iki değişkenin değerleri,\n",
    "- E[X] ve E[Y], sırasıyla X ve Y değişkenlerinin beklenen değerleri (ortalama),\n",
    "- E[ ] ise bir değişkenin beklenen değerini ifade eder.\n",
    "\n",
    "Eğer kovaryans pozitif bir değer alıyorsa, bu X ve Y değişkenleri arasında doğrusal bir ilişkinin olduğunu ve birlikte arttıklarını gösterir. Eğer kovaryans negatif bir değer alıyorsa, değişkenler birlikte azalıyor ve ters yönlü bir ilişki olduğunu gösterir. Kovaryansın mutlak değeri ne kadar büyükse, o kadar güçlü bir ilişki olduğu söylenir.\n",
    "\n",
    "Ancak, kovaryansın bir dezavantajı vardır. Değişkenlerin birimlerine bağlı olarak, kovaryansın büyüklüğü değişebilir. Bu nedenle, değişkenlerin birimlerinden bağımsız bir ölçü kullanmak için korelasyon katsayısı (korelasyon) kullanılır. Korelasyon katsayısı, kovaryansı değişkenlerin standart sapmalarına bölerek, değişkenler arasındaki ilişkiyi standartlaştırır. Bu nedenle korelasyon katsayısı, değişkenlerin ilişkisinin gücünü daha iyi ifade eder."
   ]
  },
  {
   "cell_type": "markdown",
   "id": "c2cf40bb",
   "metadata": {},
   "source": [
    "## Korelasyon\n",
    "İki değişken arasındaki ilişkiyi, ilişkinin anlamlı olup olmadığını, ilişkinin şiddetini ve yönünü ifade eden istatistiksel bir tekniktir."
   ]
  },
  {
   "cell_type": "markdown",
   "id": "d36666a0",
   "metadata": {},
   "source": [
    "### Kovaryans ile Korelasyon Arasındaki Fark\n",
    "Korelasyon, iki değişken arasındaki ilişki ile ilgileniyor. Kovaryans ise iki değişken arasındaki ilişkinin değişkenliği ile ilgileniyor."
   ]
  },
  {
   "cell_type": "markdown",
   "id": "03d79045",
   "metadata": {},
   "source": [
    "Korelasyon katsayısı, kovaryansın değerini -1 ile +1 arasına sıkıştırır ve değişkenler arasındaki ilişkinin gücünü ve yönünü belirtir. Pozitif korelasyon, değişkenler arasında doğru bir ilişki olduğunu, negatif korelasyon ise ters yönlü bir ilişki olduğunu ifade eder. 0 korelasyon ise değişkenler arasında bir ilişki olmadığını gösterir."
   ]
  },
  {
   "cell_type": "markdown",
   "id": "8eb5184a",
   "metadata": {},
   "source": [
    "Korelasyon, iki değişken arasındaki ilişkiyi istatistiksel olarak ölçen bir tekniktir. Korelasyon, ilişkinin anlamlı olup olmadığını, ilişkinin şiddetini ve yönünü belirlemeye yardımcı olur.\n",
    "\n",
    "Korelasyon katsayısı, genellikle Pearson korelasyon katsayısı olarak adlandırılan bir ölçümle ifade edilir. Pearson korelasyon katsayısı, iki sürekli değişken arasındaki ilişkiyi ölçer ve değeri -1 ile +1 arasında değişir.\n",
    "\n",
    "-1 ile +1 arasındaki değerler şu şekilde yorumlanır:\n",
    "- +1, mükemmel pozitif korelasyonu temsil eder, yani değişkenler arasında tamamen doğru bir ilişki vardır ve bir değişken arttığında diğer değişken de artar.\n",
    "- 0, ilişki olmadığını veya çok zayıf bir ilişki olduğunu ifade eder. Değişkenler arasında doğrusal bir ilişki yoktur.\n",
    "- -1, mükemmel negatif korelasyonu temsil eder, yani değişkenler arasında tamamen ters yönlü bir ilişki vardır ve bir değişken artarken diğeri azalır.\n",
    "\n",
    "Pearson korelasyon katsayısı, ilişkinin şiddetini ve yönünü gösterirken, aynı zamanda ilişkinin anlamlı olup olmadığını belirlemek için de kullanılır. İlişki anlamlı olduğunda, değişkenler arasında gerçek bir ilişki olduğu kabul edilir ve istatistiksel olarak anlamlı bir sonuç elde edilir.\n",
    "\n",
    "Korelasyon, istatistiksel analizlerde ve bilimsel araştırmalarda sıkça kullanılan bir yöntemdir ve iki değişken arasındaki ilişki hakkında önemli bilgiler sağlar. Ancak, unutulmamalıdır ki korelasyon, nedensellik ilişkisini ifade etmez; yani iki değişken arasındaki ilişki, birbirini nedenselleştirmez. Bu nedenle, korelasyon analizleri yalnızca ilişkiyi ifade eder ve ilişkinin nedenini açıklamaz."
   ]
  },
  {
   "cell_type": "code",
   "execution_count": null,
   "id": "e4d5c31c",
   "metadata": {},
   "outputs": [],
   "source": []
  },
  {
   "cell_type": "markdown",
   "id": "2bf311b7",
   "metadata": {},
   "source": [
    "# Uygulama"
   ]
  },
  {
   "cell_type": "code",
   "execution_count": 2,
   "id": "f47b1cb3",
   "metadata": {},
   "outputs": [],
   "source": [
    "import numpy as np"
   ]
  },
  {
   "cell_type": "code",
   "execution_count": 3,
   "id": "dc2f7dbb",
   "metadata": {},
   "outputs": [
    {
     "data": {
      "text/plain": [
       "array([79, 63,  0, 40, 33, 21, 39,  1, 70, 47])"
      ]
     },
     "execution_count": 3,
     "metadata": {},
     "output_type": "execute_result"
    }
   ],
   "source": [
    "populasyon=np.random.randint(0,80,10000)\n",
    "populasyon[0:10]"
   ]
  },
  {
   "cell_type": "code",
   "execution_count": 4,
   "id": "27523b2d",
   "metadata": {},
   "outputs": [
    {
     "data": {
      "text/plain": [
       "array([68, 63, 19, 45, 17, 17, 55,  3, 16,  0])"
      ]
     },
     "execution_count": 4,
     "metadata": {},
     "output_type": "execute_result"
    }
   ],
   "source": [
    "np.random.seed(155)\n",
    "orneklem=np.random.choice(populasyon, size=100)\n",
    "orneklem[0:10]"
   ]
  },
  {
   "cell_type": "markdown",
   "id": "fef3d42d",
   "metadata": {},
   "source": [
    "np.random.seed() fonksiyonu, aynı seed değeri ile çağrıldığında her zaman aynı rastgele sayıları üretir. Farklı bir seed değeri kullanırsanız, farklı rastgele sayılar elde edersiniz."
   ]
  },
  {
   "cell_type": "code",
   "execution_count": 5,
   "id": "4254ed7e",
   "metadata": {},
   "outputs": [
    {
     "data": {
      "text/plain": [
       "39.27"
      ]
     },
     "execution_count": 5,
     "metadata": {},
     "output_type": "execute_result"
    }
   ],
   "source": [
    "orneklem.mean()"
   ]
  },
  {
   "cell_type": "code",
   "execution_count": 6,
   "id": "a9528822",
   "metadata": {},
   "outputs": [
    {
     "data": {
      "text/plain": [
       "39.6702"
      ]
     },
     "execution_count": 6,
     "metadata": {},
     "output_type": "execute_result"
    }
   ],
   "source": [
    "populasyon.mean()"
   ]
  },
  {
   "cell_type": "code",
   "execution_count": 7,
   "id": "1f9bc0c3",
   "metadata": {},
   "outputs": [],
   "source": [
    "# farklı farklı 100'lük çekelim\n",
    "np.random.seed(10)\n",
    "orneklem1=np.random.choice(populasyon, size=100)\n",
    "orneklem2=np.random.choice(populasyon, size=100)\n",
    "orneklem3=np.random.choice(populasyon, size=100)\n",
    "orneklem4=np.random.choice(populasyon, size=100)\n",
    "orneklem5=np.random.choice(populasyon, size=100)\n",
    "orneklem6=np.random.choice(populasyon, size=100)\n",
    "orneklem7=np.random.choice(populasyon, size=100)\n",
    "orneklem8=np.random.choice(populasyon, size=100)\n",
    "orneklem9=np.random.choice(populasyon, size=100)\n",
    "orneklem10=np.random.choice(populasyon, size=100)"
   ]
  },
  {
   "cell_type": "code",
   "execution_count": 8,
   "id": "c5111e13",
   "metadata": {},
   "outputs": [
    {
     "data": {
      "text/plain": [
       "40.186"
      ]
     },
     "execution_count": 8,
     "metadata": {},
     "output_type": "execute_result"
    }
   ],
   "source": [
    "( orneklem1.mean()+orneklem2.mean()+orneklem3.mean()+orneklem4.mean()\n",
    "+orneklem5.mean()+orneklem6.mean()+orneklem7.mean()+orneklem8.mean()+\n",
    "orneklem9.mean()+orneklem10.mean() )/10"
   ]
  },
  {
   "cell_type": "code",
   "execution_count": 9,
   "id": "e9289fd1",
   "metadata": {},
   "outputs": [
    {
     "data": {
      "text/plain": [
       "40.09"
      ]
     },
     "execution_count": 9,
     "metadata": {},
     "output_type": "execute_result"
    }
   ],
   "source": [
    "orneklem1.mean()"
   ]
  },
  {
   "cell_type": "code",
   "execution_count": 13,
   "id": "b6ed73fb",
   "metadata": {},
   "outputs": [
    {
     "data": {
      "text/plain": [
       "40.84"
      ]
     },
     "execution_count": 13,
     "metadata": {},
     "output_type": "execute_result"
    }
   ],
   "source": [
    "orneklem2.mean()"
   ]
  },
  {
   "cell_type": "code",
   "execution_count": 14,
   "id": "4393ba1a",
   "metadata": {},
   "outputs": [
    {
     "data": {
      "text/plain": [
       "39.94"
      ]
     },
     "execution_count": 14,
     "metadata": {},
     "output_type": "execute_result"
    }
   ],
   "source": [
    "orneklem3.mean()"
   ]
  },
  {
   "cell_type": "code",
   "execution_count": 15,
   "id": "240861ca",
   "metadata": {},
   "outputs": [
    {
     "data": {
      "text/plain": [
       "36.79"
      ]
     },
     "execution_count": 15,
     "metadata": {},
     "output_type": "execute_result"
    }
   ],
   "source": [
    "orneklem4.mean()"
   ]
  },
  {
   "cell_type": "markdown",
   "id": "a82f9f46",
   "metadata": {},
   "source": [
    "## Betimsel İstatistikler"
   ]
  },
  {
   "cell_type": "code",
   "execution_count": 16,
   "id": "215574e9",
   "metadata": {},
   "outputs": [],
   "source": [
    "import seaborn as sns"
   ]
  },
  {
   "cell_type": "code",
   "execution_count": 17,
   "id": "2b675f90",
   "metadata": {},
   "outputs": [],
   "source": [
    "tips=sns.load_dataset(\"tips\")"
   ]
  },
  {
   "cell_type": "code",
   "execution_count": 18,
   "id": "24ad5770",
   "metadata": {},
   "outputs": [
    {
     "data": {
      "text/html": [
       "<div>\n",
       "<style scoped>\n",
       "    .dataframe tbody tr th:only-of-type {\n",
       "        vertical-align: middle;\n",
       "    }\n",
       "\n",
       "    .dataframe tbody tr th {\n",
       "        vertical-align: top;\n",
       "    }\n",
       "\n",
       "    .dataframe thead th {\n",
       "        text-align: right;\n",
       "    }\n",
       "</style>\n",
       "<table border=\"1\" class=\"dataframe\">\n",
       "  <thead>\n",
       "    <tr style=\"text-align: right;\">\n",
       "      <th></th>\n",
       "      <th>total_bill</th>\n",
       "      <th>tip</th>\n",
       "      <th>sex</th>\n",
       "      <th>smoker</th>\n",
       "      <th>day</th>\n",
       "      <th>time</th>\n",
       "      <th>size</th>\n",
       "    </tr>\n",
       "  </thead>\n",
       "  <tbody>\n",
       "    <tr>\n",
       "      <th>0</th>\n",
       "      <td>16.99</td>\n",
       "      <td>1.01</td>\n",
       "      <td>Female</td>\n",
       "      <td>No</td>\n",
       "      <td>Sun</td>\n",
       "      <td>Dinner</td>\n",
       "      <td>2</td>\n",
       "    </tr>\n",
       "    <tr>\n",
       "      <th>1</th>\n",
       "      <td>10.34</td>\n",
       "      <td>1.66</td>\n",
       "      <td>Male</td>\n",
       "      <td>No</td>\n",
       "      <td>Sun</td>\n",
       "      <td>Dinner</td>\n",
       "      <td>3</td>\n",
       "    </tr>\n",
       "    <tr>\n",
       "      <th>2</th>\n",
       "      <td>21.01</td>\n",
       "      <td>3.50</td>\n",
       "      <td>Male</td>\n",
       "      <td>No</td>\n",
       "      <td>Sun</td>\n",
       "      <td>Dinner</td>\n",
       "      <td>3</td>\n",
       "    </tr>\n",
       "    <tr>\n",
       "      <th>3</th>\n",
       "      <td>23.68</td>\n",
       "      <td>3.31</td>\n",
       "      <td>Male</td>\n",
       "      <td>No</td>\n",
       "      <td>Sun</td>\n",
       "      <td>Dinner</td>\n",
       "      <td>2</td>\n",
       "    </tr>\n",
       "    <tr>\n",
       "      <th>4</th>\n",
       "      <td>24.59</td>\n",
       "      <td>3.61</td>\n",
       "      <td>Female</td>\n",
       "      <td>No</td>\n",
       "      <td>Sun</td>\n",
       "      <td>Dinner</td>\n",
       "      <td>4</td>\n",
       "    </tr>\n",
       "  </tbody>\n",
       "</table>\n",
       "</div>"
      ],
      "text/plain": [
       "   total_bill   tip     sex smoker  day    time  size\n",
       "0       16.99  1.01  Female     No  Sun  Dinner     2\n",
       "1       10.34  1.66    Male     No  Sun  Dinner     3\n",
       "2       21.01  3.50    Male     No  Sun  Dinner     3\n",
       "3       23.68  3.31    Male     No  Sun  Dinner     2\n",
       "4       24.59  3.61  Female     No  Sun  Dinner     4"
      ]
     },
     "execution_count": 18,
     "metadata": {},
     "output_type": "execute_result"
    }
   ],
   "source": [
    "df=tips.copy()\n",
    "df.head()"
   ]
  },
  {
   "cell_type": "code",
   "execution_count": 19,
   "id": "69d81183",
   "metadata": {},
   "outputs": [
    {
     "data": {
      "text/html": [
       "<div>\n",
       "<style scoped>\n",
       "    .dataframe tbody tr th:only-of-type {\n",
       "        vertical-align: middle;\n",
       "    }\n",
       "\n",
       "    .dataframe tbody tr th {\n",
       "        vertical-align: top;\n",
       "    }\n",
       "\n",
       "    .dataframe thead th {\n",
       "        text-align: right;\n",
       "    }\n",
       "</style>\n",
       "<table border=\"1\" class=\"dataframe\">\n",
       "  <thead>\n",
       "    <tr style=\"text-align: right;\">\n",
       "      <th></th>\n",
       "      <th>count</th>\n",
       "      <th>mean</th>\n",
       "      <th>std</th>\n",
       "      <th>min</th>\n",
       "      <th>25%</th>\n",
       "      <th>50%</th>\n",
       "      <th>75%</th>\n",
       "      <th>max</th>\n",
       "    </tr>\n",
       "  </thead>\n",
       "  <tbody>\n",
       "    <tr>\n",
       "      <th>total_bill</th>\n",
       "      <td>244.0</td>\n",
       "      <td>19.785943</td>\n",
       "      <td>8.902412</td>\n",
       "      <td>3.07</td>\n",
       "      <td>13.3475</td>\n",
       "      <td>17.795</td>\n",
       "      <td>24.1275</td>\n",
       "      <td>50.81</td>\n",
       "    </tr>\n",
       "    <tr>\n",
       "      <th>tip</th>\n",
       "      <td>244.0</td>\n",
       "      <td>2.998279</td>\n",
       "      <td>1.383638</td>\n",
       "      <td>1.00</td>\n",
       "      <td>2.0000</td>\n",
       "      <td>2.900</td>\n",
       "      <td>3.5625</td>\n",
       "      <td>10.00</td>\n",
       "    </tr>\n",
       "    <tr>\n",
       "      <th>size</th>\n",
       "      <td>244.0</td>\n",
       "      <td>2.569672</td>\n",
       "      <td>0.951100</td>\n",
       "      <td>1.00</td>\n",
       "      <td>2.0000</td>\n",
       "      <td>2.000</td>\n",
       "      <td>3.0000</td>\n",
       "      <td>6.00</td>\n",
       "    </tr>\n",
       "  </tbody>\n",
       "</table>\n",
       "</div>"
      ],
      "text/plain": [
       "            count       mean       std   min      25%     50%      75%    max\n",
       "total_bill  244.0  19.785943  8.902412  3.07  13.3475  17.795  24.1275  50.81\n",
       "tip         244.0   2.998279  1.383638  1.00   2.0000   2.900   3.5625  10.00\n",
       "size        244.0   2.569672  0.951100  1.00   2.0000   2.000   3.0000   6.00"
      ]
     },
     "execution_count": 19,
     "metadata": {},
     "output_type": "execute_result"
    }
   ],
   "source": [
    "df.describe().T"
   ]
  },
  {
   "cell_type": "code",
   "execution_count": 22,
   "id": "7a38d137",
   "metadata": {},
   "outputs": [],
   "source": [
    "# !pip install researchpy\n",
    "import researchpy as rp"
   ]
  },
  {
   "cell_type": "code",
   "execution_count": 23,
   "id": "f563142a",
   "metadata": {},
   "outputs": [
    {
     "name": "stdout",
     "output_type": "stream",
     "text": [
      "\n",
      "\n"
     ]
    },
    {
     "data": {
      "text/html": [
       "<div>\n",
       "<style scoped>\n",
       "    .dataframe tbody tr th:only-of-type {\n",
       "        vertical-align: middle;\n",
       "    }\n",
       "\n",
       "    .dataframe tbody tr th {\n",
       "        vertical-align: top;\n",
       "    }\n",
       "\n",
       "    .dataframe thead th {\n",
       "        text-align: right;\n",
       "    }\n",
       "</style>\n",
       "<table border=\"1\" class=\"dataframe\">\n",
       "  <thead>\n",
       "    <tr style=\"text-align: right;\">\n",
       "      <th></th>\n",
       "      <th>Variable</th>\n",
       "      <th>N</th>\n",
       "      <th>Mean</th>\n",
       "      <th>SD</th>\n",
       "      <th>SE</th>\n",
       "      <th>95% Conf.</th>\n",
       "      <th>Interval</th>\n",
       "    </tr>\n",
       "  </thead>\n",
       "  <tbody>\n",
       "    <tr>\n",
       "      <th>0</th>\n",
       "      <td>total_bill</td>\n",
       "      <td>244.0</td>\n",
       "      <td>19.7859</td>\n",
       "      <td>8.9024</td>\n",
       "      <td>0.5699</td>\n",
       "      <td>18.6633</td>\n",
       "      <td>20.9086</td>\n",
       "    </tr>\n",
       "    <tr>\n",
       "      <th>1</th>\n",
       "      <td>tip</td>\n",
       "      <td>244.0</td>\n",
       "      <td>2.9983</td>\n",
       "      <td>1.3836</td>\n",
       "      <td>0.0886</td>\n",
       "      <td>2.8238</td>\n",
       "      <td>3.1728</td>\n",
       "    </tr>\n",
       "    <tr>\n",
       "      <th>2</th>\n",
       "      <td>size</td>\n",
       "      <td>244.0</td>\n",
       "      <td>2.5697</td>\n",
       "      <td>0.9511</td>\n",
       "      <td>0.0609</td>\n",
       "      <td>2.4497</td>\n",
       "      <td>2.6896</td>\n",
       "    </tr>\n",
       "  </tbody>\n",
       "</table>\n",
       "</div>"
      ],
      "text/plain": [
       "     Variable      N     Mean      SD      SE  95% Conf.  Interval\n",
       "0  total_bill  244.0  19.7859  8.9024  0.5699    18.6633   20.9086\n",
       "1         tip  244.0   2.9983  1.3836  0.0886     2.8238    3.1728\n",
       "2        size  244.0   2.5697  0.9511  0.0609     2.4497    2.6896"
      ]
     },
     "execution_count": 23,
     "metadata": {},
     "output_type": "execute_result"
    }
   ],
   "source": [
    "# sayısal, sürekli değişkenler için summary_cont fonksiyonu kullanılır\n",
    "rp.summary_cont(df[[ \"total_bill\",\"tip\",\"size\" ]])"
   ]
  },
  {
   "cell_type": "markdown",
   "id": "cd6b518b",
   "metadata": {},
   "source": [
    "değişkenler, gözlem sayıları, ortalama, standart sapma, standart hatası, güven aralıkları"
   ]
  },
  {
   "cell_type": "code",
   "execution_count": 24,
   "id": "f151daf3",
   "metadata": {},
   "outputs": [
    {
     "data": {
      "text/html": [
       "<div>\n",
       "<style scoped>\n",
       "    .dataframe tbody tr th:only-of-type {\n",
       "        vertical-align: middle;\n",
       "    }\n",
       "\n",
       "    .dataframe tbody tr th {\n",
       "        vertical-align: top;\n",
       "    }\n",
       "\n",
       "    .dataframe thead th {\n",
       "        text-align: right;\n",
       "    }\n",
       "</style>\n",
       "<table border=\"1\" class=\"dataframe\">\n",
       "  <thead>\n",
       "    <tr style=\"text-align: right;\">\n",
       "      <th></th>\n",
       "      <th>Variable</th>\n",
       "      <th>Outcome</th>\n",
       "      <th>Count</th>\n",
       "      <th>Percent</th>\n",
       "    </tr>\n",
       "  </thead>\n",
       "  <tbody>\n",
       "    <tr>\n",
       "      <th>0</th>\n",
       "      <td>sex</td>\n",
       "      <td>Male</td>\n",
       "      <td>157</td>\n",
       "      <td>64.34</td>\n",
       "    </tr>\n",
       "    <tr>\n",
       "      <th>1</th>\n",
       "      <td></td>\n",
       "      <td>Female</td>\n",
       "      <td>87</td>\n",
       "      <td>35.66</td>\n",
       "    </tr>\n",
       "    <tr>\n",
       "      <th>2</th>\n",
       "      <td>smoker</td>\n",
       "      <td>No</td>\n",
       "      <td>151</td>\n",
       "      <td>61.89</td>\n",
       "    </tr>\n",
       "    <tr>\n",
       "      <th>3</th>\n",
       "      <td></td>\n",
       "      <td>Yes</td>\n",
       "      <td>93</td>\n",
       "      <td>38.11</td>\n",
       "    </tr>\n",
       "    <tr>\n",
       "      <th>4</th>\n",
       "      <td>day</td>\n",
       "      <td>Sat</td>\n",
       "      <td>87</td>\n",
       "      <td>35.66</td>\n",
       "    </tr>\n",
       "    <tr>\n",
       "      <th>5</th>\n",
       "      <td></td>\n",
       "      <td>Sun</td>\n",
       "      <td>76</td>\n",
       "      <td>31.15</td>\n",
       "    </tr>\n",
       "    <tr>\n",
       "      <th>6</th>\n",
       "      <td></td>\n",
       "      <td>Thur</td>\n",
       "      <td>62</td>\n",
       "      <td>25.41</td>\n",
       "    </tr>\n",
       "    <tr>\n",
       "      <th>7</th>\n",
       "      <td></td>\n",
       "      <td>Fri</td>\n",
       "      <td>19</td>\n",
       "      <td>7.79</td>\n",
       "    </tr>\n",
       "  </tbody>\n",
       "</table>\n",
       "</div>"
      ],
      "text/plain": [
       "  Variable Outcome  Count  Percent\n",
       "0      sex    Male    157    64.34\n",
       "1           Female     87    35.66\n",
       "2   smoker      No    151    61.89\n",
       "3              Yes     93    38.11\n",
       "4      day     Sat     87    35.66\n",
       "5              Sun     76    31.15\n",
       "6             Thur     62    25.41\n",
       "7              Fri     19     7.79"
      ]
     },
     "execution_count": 24,
     "metadata": {},
     "output_type": "execute_result"
    }
   ],
   "source": [
    "# kategorik değişkenler için summary_cat fonksiyonu kullanılır\n",
    "rp.summary_cat(df[[ \"sex\",\"smoker\",\"day\" ]])\n",
    "# sınıf frekansları, yüzdelik"
   ]
  },
  {
   "cell_type": "markdown",
   "id": "7cd07c89",
   "metadata": {},
   "source": [
    "## Kovaryans ve Korelasyon"
   ]
  },
  {
   "cell_type": "code",
   "execution_count": 25,
   "id": "b98e287e",
   "metadata": {},
   "outputs": [
    {
     "data": {
      "text/html": [
       "<div>\n",
       "<style scoped>\n",
       "    .dataframe tbody tr th:only-of-type {\n",
       "        vertical-align: middle;\n",
       "    }\n",
       "\n",
       "    .dataframe tbody tr th {\n",
       "        vertical-align: top;\n",
       "    }\n",
       "\n",
       "    .dataframe thead th {\n",
       "        text-align: right;\n",
       "    }\n",
       "</style>\n",
       "<table border=\"1\" class=\"dataframe\">\n",
       "  <thead>\n",
       "    <tr style=\"text-align: right;\">\n",
       "      <th></th>\n",
       "      <th>tip</th>\n",
       "      <th>total_bill</th>\n",
       "    </tr>\n",
       "  </thead>\n",
       "  <tbody>\n",
       "    <tr>\n",
       "      <th>tip</th>\n",
       "      <td>1.914455</td>\n",
       "      <td>8.323502</td>\n",
       "    </tr>\n",
       "    <tr>\n",
       "      <th>total_bill</th>\n",
       "      <td>8.323502</td>\n",
       "      <td>79.252939</td>\n",
       "    </tr>\n",
       "  </tbody>\n",
       "</table>\n",
       "</div>"
      ],
      "text/plain": [
       "                 tip  total_bill\n",
       "tip         1.914455    8.323502\n",
       "total_bill  8.323502   79.252939"
      ]
     },
     "execution_count": 25,
     "metadata": {},
     "output_type": "execute_result"
    }
   ],
   "source": [
    "# Kovaryans\n",
    "df[[\"tip\",\"total_bill\"]].cov()"
   ]
  },
  {
   "cell_type": "markdown",
   "id": "8aa9c3ae",
   "metadata": {},
   "source": [
    "kovaryans, değişkenlerin ilişkilerine ilişkin değişkenlik ölçüsü verir. tip ile toplam hesap arasında ilişki tanımlanmış. bu varyans gibi değerlendirilmesi gereken ama iki değişkenin arasındaki değişimi ifade eder "
   ]
  },
  {
   "cell_type": "code",
   "execution_count": null,
   "id": "90a4f6e8",
   "metadata": {},
   "outputs": [],
   "source": []
  },
  {
   "cell_type": "code",
   "execution_count": null,
   "id": "4b8b419d",
   "metadata": {},
   "outputs": [],
   "source": []
  },
  {
   "cell_type": "code",
   "execution_count": null,
   "id": "253e6153",
   "metadata": {},
   "outputs": [],
   "source": []
  },
  {
   "cell_type": "code",
   "execution_count": null,
   "id": "c8f7496b",
   "metadata": {},
   "outputs": [],
   "source": []
  },
  {
   "cell_type": "code",
   "execution_count": null,
   "id": "5875e793",
   "metadata": {},
   "outputs": [],
   "source": []
  }
 ],
 "metadata": {
  "kernelspec": {
   "display_name": "Python 3 (ipykernel)",
   "language": "python",
   "name": "python3"
  },
  "language_info": {
   "codemirror_mode": {
    "name": "ipython",
    "version": 3
   },
   "file_extension": ".py",
   "mimetype": "text/x-python",
   "name": "python",
   "nbconvert_exporter": "python",
   "pygments_lexer": "ipython3",
   "version": "3.9.7"
  }
 },
 "nbformat": 4,
 "nbformat_minor": 5
}
