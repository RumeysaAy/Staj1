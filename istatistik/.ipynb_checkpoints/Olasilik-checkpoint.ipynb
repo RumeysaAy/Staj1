{
 "cells": [
  {
   "cell_type": "markdown",
   "id": "4c5d677f",
   "metadata": {},
   "source": [
    "# Olasılığa Giriş ve Olasılık Dağılımları"
   ]
  },
  {
   "cell_type": "markdown",
   "id": "e3b068d8",
   "metadata": {},
   "source": [
    "## Olasılık Nedir?\n",
    "\n",
    "veri bilimi alanında belirsizlik ile ilgili yorumlar yapabilmek için en sık başvurduğumuz tekniklerden birisidir. \n",
    "çıkarımsal istatistik kapsamında veri bilimi için istatistik kapsamında bazı olasıklıklarla bazı belirsizliklerin belirsizlik durumunu indirgemekle bunları sayılarla ifade etmekle ilgilendiğimizde olasılıkla uğraşırız\n",
    "\n",
    "Olayların olabilirliğinin sayısal ifadesidir.\n",
    "\n",
    "bir olayın meydana gelebilmesi için uygun durum sayısının o konuda oluşabilecek tüm elverişli durum sayısına oranıdır."
   ]
  },
  {
   "cell_type": "markdown",
   "id": "3bb43d0a",
   "metadata": {},
   "source": [
    "## Rassal Değişkenler ve Olasılık Dağılımları\n",
    "\n",
    "Değerlerini bir deneyin sonuçlarından alan değişkene **rassal değişken** denir.\n",
    "\n",
    "Bazı olasılık dağılımlarını kullanarak bazı olaylara ilişkin olasılıklar hesaplamak istediğinizde bu durumda rassal değişkenleri kullanırız.\n",
    "\n",
    "örneğin bir yazı tura deneyinde parayı attığımızda ya yazı ya da tura gelebilir. bu bir deney olduğundan olası sonuçları belirlidir. yazı ya da tura işte bu şekilde değerlerini bir deneyin sonuçlarından alan değişkene rassal değişken denir. bu yazı tura için değişken kesikli bir rassal değişkendir.\n",
    "\n",
    "Maaş ve kazanç, sürekli rassal değişkenlere örnek olarak verilebilirler. bunlar içinde ayrı dağılımlar olacak."
   ]
  },
  {
   "cell_type": "markdown",
   "id": "61d4b408",
   "metadata": {},
   "source": [
    "### Dağılım Nedir?\n",
    "Evrende bazı olaylar gerçekleşir. Bu olayların veya durumların sayısal karşılıklarının ortaya çıkardığı yapıya dağılım denir.\n",
    "\n",
    "### Olasılık Dağılımı Nedir?\n",
    "Bir rassal olaya ait değerler ve bu değerlerin gerçekleşme olasılıklarının bir arada ifade edilmesine olasılık dağılımı nedir.\n",
    "\n",
    "### Olasılık Fonksiyonu Nedir?\n",
    "bir değişkenin herhangi bir değeri alması olasılığını hesaplamaya yarıyan fonksiyondur."
   ]
  },
  {
   "cell_type": "markdown",
   "id": "af603aef",
   "metadata": {},
   "source": [
    "**Özetle**\n",
    "- Dağılım, olayların sayısal karşılığıdır. \n",
    "- Olasılık dağılımı, olayların sayısal karşılığının gerçekleşme olasılıklarıyla birlikte sunulmasıdır.\n",
    "- birlikte sunulan olasılık ifadeleri için bir olasılık hesabı yapmak istediğimizde bu durumda fonksiyona ihtiyacımız var. olasılık hesaplamaya yarıyan fonksiyon, olasılık fonksiyonudur."
   ]
  },
  {
   "cell_type": "markdown",
   "id": "4472b7af",
   "metadata": {},
   "source": [
    "### Kesikli ve Sürekli Olasılık Dağılımları\n",
    "\n",
    "Elimizdeki değişkenin tipine göre hesaplama yapmak üzere kullanacak olduğumuz fonksiyonlar değişecektir, dağılımlar değişecektir.\n",
    "\n",
    "- _**Kesikli Olasılık Dağılımları**_\n",
    "  - Bernoulli\n",
    "  - Binom\n",
    "  - Poisson\n",
    "  \n",
    "  \n",
    "- _**Sürekli Olasılık Dağılımları**_\n",
    "  - Normal Dağılım\n",
    "  - Üniform Dağılım\n",
    "  - Üstel Dağılım"
   ]
  },
  {
   "cell_type": "code",
   "execution_count": null,
   "id": "b1e707fb",
   "metadata": {},
   "outputs": [],
   "source": []
  }
 ],
 "metadata": {
  "kernelspec": {
   "display_name": "Python 3 (ipykernel)",
   "language": "python",
   "name": "python3"
  },
  "language_info": {
   "codemirror_mode": {
    "name": "ipython",
    "version": 3
   },
   "file_extension": ".py",
   "mimetype": "text/x-python",
   "name": "python",
   "nbconvert_exporter": "python",
   "pygments_lexer": "ipython3",
   "version": "3.9.7"
  }
 },
 "nbformat": 4,
 "nbformat_minor": 5
}
