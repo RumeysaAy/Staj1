{
 "cells": [
  {
   "cell_type": "markdown",
   "id": "e3190722",
   "metadata": {},
   "source": [
    "# Güven Aralığı\n",
    "\n",
    "- Anakütle parametresinin tahmini değerini kapsayabilecek iki sayıdan oluşan bir aralık bulunmasıdır.\n",
    "- Anakütle parametresinin yerine, örnek istatistiğinin iki sayı tarafından bir aralıkça ifade edilmesi olarak düşünebiliriz.\n",
    "- güven aralığı, ölçümün hassasiyetinin bir göstergesidir.\n",
    "- ayrıca yapmış olduğumuz tahminlerin ne kadar güvenilir olduğuyla ilgili bir değer bize sunar."
   ]
  },
  {
   "cell_type": "markdown",
   "id": "8f3a116a",
   "metadata": {},
   "source": [
    "## Örnek\n",
    "\n",
    "**Web sitesinde geçirilen sürenin güven aralığı nedir?**\n",
    "\n",
    "- Ortalama: 180 saniye\n",
    "- Standart Sapma: 40 saniye\n",
    "- 165,170, 175,180,185, 190,200\n",
    "- istatistiksel olarak %95 güvenirlik ile web sitemizde geçirilen ortalama süre 172 ile 188 saniye arasındadır.\n",
    "- gerçekleştirilecek olan 100 denemeden 95'inde ortalama bu aralıktadır. yani 172 ile 188 arasındadır."
   ]
  },
  {
   "cell_type": "markdown",
   "id": "ae0ae453",
   "metadata": {},
   "source": [
    "### Güven Aralığı Nasıl Hesaplanır?\n",
    "\n",
    "Adım 1: n(gözlem sayısı), ortalama ve standart sapmayı bul\n",
    "\n",
    "n=100, ortalama=180, standart sapma=40\n",
    "\n",
    "\n",
    "Adım 2: Güven aralığına karar ver: 95 mi 99 mu?\n",
    "\n",
    "180 etrafındaki güven sınırları geniş mi olacak? dar mı olacak?\n",
    "\n",
    "kabul gören standart %95'tir\n",
    "\n",
    "Z tablo değerini hesapla(1,96-2,57)\n",
    "\n",
    "%95'lik güven sınırının tablo değeri: 1,96\n",
    "\n",
    "\n",
    "Adım 3: Yukarıdaki değerleri kullanarak güven aralığını hesapla\n",
    "\n",
    "ortalama (+ veya -) z *(standart sapma/karekök içerisinde n)\n",
    "\n",
    "180-1,96*40/karekök(100) ve 180+1,96*40/karekök(100)\n",
    "\n",
    "sonuç: istatistiksel olarak %95 güvenirlik ile web sitemizde geçirilen ortalama süre 172 ile 188 saniye arasındadır."
   ]
  },
  {
   "cell_type": "code",
   "execution_count": null,
   "id": "6f53cb27",
   "metadata": {},
   "outputs": [],
   "source": []
  },
  {
   "cell_type": "markdown",
   "id": "f8756b4b",
   "metadata": {},
   "source": [
    "# İş Uygulaması: Fiyat Stratejisi Karar Destek Sistemi"
   ]
  },
  {
   "cell_type": "markdown",
   "id": "5d12bf78",
   "metadata": {},
   "source": [
    "- **Problem:** CEO fiyat belirleme konusunda _bilimsel bir dayanak ve esneklik_ istiyor.\n",
    "\n",
    "- **Detaylar:**\n",
    "    - Satıcı, alıcı ve bir ürün var.\n",
    "    - Alıcılara ürüne ne kadar ücret öderdiniz diye soruluyor\n",
    "    - Optimum fiyat bilimsel ve esnek olarak bulunmak isteniyor\n",
    "    - Alıcıların bu ürüne ödemeyi göze aldıkları fiyatlar kaydedilir. ama önemli nokta alıcılar birbirlerinin ürüne teklif etmiş oldukları fiyatları göremiyor.\n",
    "\n",
    "\n",
    "- Bu problemin çözümü insanların ödemeyi göze aldığı tüm fiyatların ortalamasını alırsak yanıt buluruz. güven aralığı ise esneklik(en düşük fiyat - en yüksek fiyat) sağlar ve bilimseldir. 100 denemeden 95'inde yapılacak olan teklifler bu aralıkta olacaktır. vereceğiniz kararları bu değerlere göre alırsanız istatistiksel %5 yanılma payınız var. "
   ]
  },
  {
   "cell_type": "code",
   "execution_count": 10,
   "id": "cde66219",
   "metadata": {},
   "outputs": [],
   "source": [
    "import numpy as np"
   ]
  },
  {
   "cell_type": "code",
   "execution_count": 11,
   "id": "71502466",
   "metadata": {},
   "outputs": [
    {
     "data": {
      "text/plain": [
       "array([ 25,  67,  63, 107,  31,  70,  25,  37,  97,  65])"
      ]
     },
     "execution_count": 11,
     "metadata": {},
     "output_type": "execute_result"
    }
   ],
   "source": [
    "# insanların ödemeyi göze aldıkları fiyatlar\n",
    "fiyatlar=np.random.randint(10,110,size=1000)\n",
    "fiyatlar[0:10]"
   ]
  },
  {
   "cell_type": "code",
   "execution_count": 12,
   "id": "b64a2ff5",
   "metadata": {},
   "outputs": [
    {
     "data": {
      "text/plain": [
       "59.811"
      ]
     },
     "execution_count": 12,
     "metadata": {},
     "output_type": "execute_result"
    }
   ],
   "source": [
    "fiyatlar.mean()"
   ]
  },
  {
   "cell_type": "code",
   "execution_count": 13,
   "id": "4c4d2b76",
   "metadata": {},
   "outputs": [],
   "source": [
    "import statsmodels.stats.api as sms"
   ]
  },
  {
   "cell_type": "code",
   "execution_count": 14,
   "id": "5ec6e561",
   "metadata": {},
   "outputs": [
    {
     "data": {
      "text/plain": [
       "(58.028076139087815, 61.593923860912184)"
      ]
     },
     "execution_count": 14,
     "metadata": {},
     "output_type": "execute_result"
    }
   ],
   "source": [
    "# güven aralığı\n",
    "sms.DescrStatsW(fiyatlar).tconfint_mean()"
   ]
  },
  {
   "cell_type": "markdown",
   "id": "7c6d40e0",
   "metadata": {},
   "source": [
    "çıkaracak olduğumuz ürünü satın almak üzere kullanıcıların ödemeyi göze aldığı ücret istatistiksel olarak %95 güvenirlilik ile 58-61 arasındadır. kullanıcıların ancak %5'i bu ürüne ödemek üzere 58-61 aralığının dışında bir bedel ön görmektedir."
   ]
  },
  {
   "cell_type": "code",
   "execution_count": null,
   "id": "fc59b65b",
   "metadata": {},
   "outputs": [],
   "source": []
  },
  {
   "cell_type": "code",
   "execution_count": null,
   "id": "148fd4b6",
   "metadata": {},
   "outputs": [],
   "source": []
  },
  {
   "cell_type": "code",
   "execution_count": null,
   "id": "7f112a43",
   "metadata": {},
   "outputs": [],
   "source": []
  },
  {
   "cell_type": "code",
   "execution_count": null,
   "id": "8fa62fd8",
   "metadata": {},
   "outputs": [],
   "source": []
  }
 ],
 "metadata": {
  "kernelspec": {
   "display_name": "Python 3 (ipykernel)",
   "language": "python",
   "name": "python3"
  },
  "language_info": {
   "codemirror_mode": {
    "name": "ipython",
    "version": 3
   },
   "file_extension": ".py",
   "mimetype": "text/x-python",
   "name": "python",
   "nbconvert_exporter": "python",
   "pygments_lexer": "ipython3",
   "version": "3.9.7"
  }
 },
 "nbformat": 4,
 "nbformat_minor": 5
}
